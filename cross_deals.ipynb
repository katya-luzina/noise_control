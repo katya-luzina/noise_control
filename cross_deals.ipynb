{
 "cells": [
  {
   "cell_type": "markdown",
   "metadata": {},
   "source": [
    "# (1.0) Установка пакетов"
   ]
  },
  {
   "cell_type": "code",
   "execution_count": 1,
   "metadata": {},
   "outputs": [],
   "source": [
    "import numpy as np\n",
    "import pandas as pd\n",
    "from sklearn.ensemble import RandomForestClassifier\n",
    "from sklearn.model_selection import RandomizedSearchCV\n",
    "from sklearn.model_selection import GridSearchCV\n",
    "import sklearn.metrics as metrics\n",
    "from matplotlib import pyplot as plt\n",
    "import seaborn as sns\n",
    "from sklearn.model_selection import train_test_split"
   ]
  },
  {
   "cell_type": "markdown",
   "metadata": {},
   "source": [
    "# (1.1) Список датафреймов"
   ]
  },
  {
   "cell_type": "markdown",
   "metadata": {},
   "source": [
    "X1 - исходный датафрейм  \n",
    "X1_N - датафрейм с нормированными переменными  \n",
    "X1_N_PCA - датафрейм с нормированными переменными и с новой переменной, созданной на основании скоррелированных переменных  \n",
    "X1_N_COR - датафрейм с нормированными переменными с удаленными скоррелированными переменными  \n",
    "X1_N_WITH_RATINGS - датафрейм с нормированными переменными, где не были удалены рейтинги"
   ]
  },
  {
   "cell_type": "markdown",
   "metadata": {},
   "source": [
    "# (1.1) Загрузка данных"
   ]
  },
  {
   "cell_type": "code",
   "execution_count": 2,
   "metadata": {},
   "outputs": [
    {
     "data": {
      "text/html": [
       "<div>\n",
       "<style scoped>\n",
       "    .dataframe tbody tr th:only-of-type {\n",
       "        vertical-align: middle;\n",
       "    }\n",
       "\n",
       "    .dataframe tbody tr th {\n",
       "        vertical-align: top;\n",
       "    }\n",
       "\n",
       "    .dataframe thead th {\n",
       "        text-align: right;\n",
       "    }\n",
       "</style>\n",
       "<table border=\"1\" class=\"dataframe\">\n",
       "  <thead>\n",
       "    <tr style=\"text-align: right;\">\n",
       "      <th></th>\n",
       "      <th>SIGNAL_ID</th>\n",
       "      <th>TRADEDATE</th>\n",
       "      <th>CROSSTURNOVER1</th>\n",
       "      <th>CROSSDEALRATIOS</th>\n",
       "      <th>EPSILONE</th>\n",
       "      <th>PROFITPL</th>\n",
       "      <th>PROFITABILITYY</th>\n",
       "      <th>SIGNALSK</th>\n",
       "      <th>RATINGCROSSDEALRATIOS</th>\n",
       "      <th>RATINGEPSILONE</th>\n",
       "      <th>...</th>\n",
       "      <th>RATINGAVGLIFETIME</th>\n",
       "      <th>RATINGAGTDEVPRICE</th>\n",
       "      <th>RATINGAGTDEVVOL</th>\n",
       "      <th>RATINGCROSSTURNOVER1</th>\n",
       "      <th>RATINGCROSSTURNOVER2</th>\n",
       "      <th>RATINGCROSSVALUE</th>\n",
       "      <th>USERGRADE_ID</th>\n",
       "      <th>SHORTNAME</th>\n",
       "      <th>IDENT</th>\n",
       "      <th>DETECTION_ID</th>\n",
       "    </tr>\n",
       "  </thead>\n",
       "  <tbody>\n",
       "    <tr>\n",
       "      <td>0</td>\n",
       "      <td>2.183220e+11</td>\n",
       "      <td>03.18.2019 15:01:21</td>\n",
       "      <td>1.0</td>\n",
       "      <td>24.0</td>\n",
       "      <td>0.0</td>\n",
       "      <td>2290.0</td>\n",
       "      <td>1.0</td>\n",
       "      <td>3.0</td>\n",
       "      <td>24.0</td>\n",
       "      <td>0.0</td>\n",
       "      <td>...</td>\n",
       "      <td>100.0</td>\n",
       "      <td>NaN</td>\n",
       "      <td>NaN</td>\n",
       "      <td>NaN</td>\n",
       "      <td>NaN</td>\n",
       "      <td>NaN</td>\n",
       "      <td>4.0</td>\n",
       "      <td>TRNF-3.19</td>\n",
       "      <td>FORTS</td>\n",
       "      <td>238 944</td>\n",
       "    </tr>\n",
       "  </tbody>\n",
       "</table>\n",
       "<p>1 rows × 33 columns</p>\n",
       "</div>"
      ],
      "text/plain": [
       "      SIGNAL_ID            TRADEDATE  CROSSTURNOVER1  CROSSDEALRATIOS  \\\n",
       "0  2.183220e+11  03.18.2019 15:01:21             1.0             24.0   \n",
       "\n",
       "   EPSILONE  PROFITPL  PROFITABILITYY  SIGNALSK  RATINGCROSSDEALRATIOS  \\\n",
       "0       0.0    2290.0             1.0       3.0                   24.0   \n",
       "\n",
       "   RATINGEPSILONE  ...  RATINGAVGLIFETIME  RATINGAGTDEVPRICE  RATINGAGTDEVVOL  \\\n",
       "0             0.0  ...              100.0                NaN              NaN   \n",
       "\n",
       "   RATINGCROSSTURNOVER1  RATINGCROSSTURNOVER2  RATINGCROSSVALUE  USERGRADE_ID  \\\n",
       "0                   NaN                   NaN               NaN           4.0   \n",
       "\n",
       "   SHORTNAME  IDENT  DETECTION_ID  \n",
       "0  TRNF-3.19  FORTS       238 944  \n",
       "\n",
       "[1 rows x 33 columns]"
      ]
     },
     "execution_count": 2,
     "metadata": {},
     "output_type": "execute_result"
    }
   ],
   "source": [
    "X1 = pd.read_csv('ML.csv', sep=\";\")\n",
    "X1.head(1)"
   ]
  },
  {
   "cell_type": "markdown",
   "metadata": {},
   "source": [
    "# (1.2) Удаление лишних переменных"
   ]
  },
  {
   "cell_type": "code",
   "execution_count": 3,
   "metadata": {},
   "outputs": [
    {
     "data": {
      "text/html": [
       "<div>\n",
       "<style scoped>\n",
       "    .dataframe tbody tr th:only-of-type {\n",
       "        vertical-align: middle;\n",
       "    }\n",
       "\n",
       "    .dataframe tbody tr th {\n",
       "        vertical-align: top;\n",
       "    }\n",
       "\n",
       "    .dataframe thead th {\n",
       "        text-align: right;\n",
       "    }\n",
       "</style>\n",
       "<table border=\"1\" class=\"dataframe\">\n",
       "  <thead>\n",
       "    <tr style=\"text-align: right;\">\n",
       "      <th></th>\n",
       "      <th>SIGNAL_ID</th>\n",
       "      <th>TRADEDATE</th>\n",
       "      <th>CROSSTURNOVER1</th>\n",
       "      <th>CROSSDEALRATIOS</th>\n",
       "      <th>EPSILONE</th>\n",
       "      <th>PROFITPL</th>\n",
       "      <th>PROFITABILITYY</th>\n",
       "      <th>SIGNALSK</th>\n",
       "      <th>RATINGCROSSDEALRATIOS</th>\n",
       "      <th>RATINGEPSILONE</th>\n",
       "      <th>...</th>\n",
       "      <th>CROSSVALUE</th>\n",
       "      <th>AVGLIFETIME</th>\n",
       "      <th>RATINGAVGLIFETIME</th>\n",
       "      <th>RATINGAGTDEVPRICE</th>\n",
       "      <th>RATINGAGTDEVVOL</th>\n",
       "      <th>RATINGCROSSTURNOVER1</th>\n",
       "      <th>RATINGCROSSTURNOVER2</th>\n",
       "      <th>RATINGCROSSVALUE</th>\n",
       "      <th>USERGRADE_ID</th>\n",
       "      <th>DETECTION_ID</th>\n",
       "    </tr>\n",
       "  </thead>\n",
       "  <tbody>\n",
       "    <tr>\n",
       "      <td>0</td>\n",
       "      <td>2.183220e+11</td>\n",
       "      <td>03.18.2019 15:01:21</td>\n",
       "      <td>1.0</td>\n",
       "      <td>24.0</td>\n",
       "      <td>0.0</td>\n",
       "      <td>2290.0</td>\n",
       "      <td>1.0</td>\n",
       "      <td>3.0</td>\n",
       "      <td>24.0</td>\n",
       "      <td>0.0</td>\n",
       "      <td>...</td>\n",
       "      <td>1732440.0</td>\n",
       "      <td>NaN</td>\n",
       "      <td>100.0</td>\n",
       "      <td>NaN</td>\n",
       "      <td>NaN</td>\n",
       "      <td>NaN</td>\n",
       "      <td>NaN</td>\n",
       "      <td>NaN</td>\n",
       "      <td>4.0</td>\n",
       "      <td>238 944</td>\n",
       "    </tr>\n",
       "  </tbody>\n",
       "</table>\n",
       "<p>1 rows × 31 columns</p>\n",
       "</div>"
      ],
      "text/plain": [
       "      SIGNAL_ID            TRADEDATE  CROSSTURNOVER1  CROSSDEALRATIOS  \\\n",
       "0  2.183220e+11  03.18.2019 15:01:21             1.0             24.0   \n",
       "\n",
       "   EPSILONE  PROFITPL  PROFITABILITYY  SIGNALSK  RATINGCROSSDEALRATIOS  \\\n",
       "0       0.0    2290.0             1.0       3.0                   24.0   \n",
       "\n",
       "   RATINGEPSILONE  ...  CROSSVALUE  AVGLIFETIME  RATINGAVGLIFETIME  \\\n",
       "0             0.0  ...   1732440.0          NaN              100.0   \n",
       "\n",
       "   RATINGAGTDEVPRICE  RATINGAGTDEVVOL  RATINGCROSSTURNOVER1  \\\n",
       "0                NaN              NaN                   NaN   \n",
       "\n",
       "   RATINGCROSSTURNOVER2  RATINGCROSSVALUE USERGRADE_ID  DETECTION_ID  \n",
       "0                   NaN               NaN          4.0       238 944  \n",
       "\n",
       "[1 rows x 31 columns]"
      ]
     },
     "execution_count": 3,
     "metadata": {},
     "output_type": "execute_result"
    }
   ],
   "source": [
    "# удаляем указание инструмента\n",
    "X1 = X1.drop(['IDENT','SHORTNAME'], axis=1)\n",
    "X1.head(1)"
   ]
  },
  {
   "cell_type": "code",
   "execution_count": 4,
   "metadata": {},
   "outputs": [
    {
     "data": {
      "text/html": [
       "<div>\n",
       "<style scoped>\n",
       "    .dataframe tbody tr th:only-of-type {\n",
       "        vertical-align: middle;\n",
       "    }\n",
       "\n",
       "    .dataframe tbody tr th {\n",
       "        vertical-align: top;\n",
       "    }\n",
       "\n",
       "    .dataframe thead th {\n",
       "        text-align: right;\n",
       "    }\n",
       "</style>\n",
       "<table border=\"1\" class=\"dataframe\">\n",
       "  <thead>\n",
       "    <tr style=\"text-align: right;\">\n",
       "      <th></th>\n",
       "      <th>TRADEDATE</th>\n",
       "      <th>CROSSTURNOVER1</th>\n",
       "      <th>CROSSDEALRATIOS</th>\n",
       "      <th>EPSILONE</th>\n",
       "      <th>PROFITPL</th>\n",
       "      <th>PROFITABILITYY</th>\n",
       "      <th>SIGNALSK</th>\n",
       "      <th>RATINGCROSSDEALRATIOS</th>\n",
       "      <th>RATINGEPSILONE</th>\n",
       "      <th>RATINGPROFITPL</th>\n",
       "      <th>...</th>\n",
       "      <th>CROSSTURNOVER2</th>\n",
       "      <th>CROSSVALUE</th>\n",
       "      <th>AVGLIFETIME</th>\n",
       "      <th>RATINGAVGLIFETIME</th>\n",
       "      <th>RATINGAGTDEVPRICE</th>\n",
       "      <th>RATINGAGTDEVVOL</th>\n",
       "      <th>RATINGCROSSTURNOVER1</th>\n",
       "      <th>RATINGCROSSTURNOVER2</th>\n",
       "      <th>RATINGCROSSVALUE</th>\n",
       "      <th>USERGRADE_ID</th>\n",
       "    </tr>\n",
       "  </thead>\n",
       "  <tbody>\n",
       "    <tr>\n",
       "      <td>0</td>\n",
       "      <td>03.18.2019 15:01:21</td>\n",
       "      <td>1.0</td>\n",
       "      <td>24.0</td>\n",
       "      <td>0.0</td>\n",
       "      <td>2290.0</td>\n",
       "      <td>1.0</td>\n",
       "      <td>3.0</td>\n",
       "      <td>24.0</td>\n",
       "      <td>0.0</td>\n",
       "      <td>0.0</td>\n",
       "      <td>...</td>\n",
       "      <td>0.0</td>\n",
       "      <td>1732440.0</td>\n",
       "      <td>NaN</td>\n",
       "      <td>100.0</td>\n",
       "      <td>NaN</td>\n",
       "      <td>NaN</td>\n",
       "      <td>NaN</td>\n",
       "      <td>NaN</td>\n",
       "      <td>NaN</td>\n",
       "      <td>4.0</td>\n",
       "    </tr>\n",
       "  </tbody>\n",
       "</table>\n",
       "<p>1 rows × 28 columns</p>\n",
       "</div>"
      ],
      "text/plain": [
       "             TRADEDATE  CROSSTURNOVER1  CROSSDEALRATIOS  EPSILONE  PROFITPL  \\\n",
       "0  03.18.2019 15:01:21             1.0             24.0       0.0    2290.0   \n",
       "\n",
       "   PROFITABILITYY  SIGNALSK  RATINGCROSSDEALRATIOS  RATINGEPSILONE  \\\n",
       "0             1.0       3.0                   24.0             0.0   \n",
       "\n",
       "   RATINGPROFITPL  ...  CROSSTURNOVER2  CROSSVALUE  AVGLIFETIME  \\\n",
       "0             0.0  ...             0.0   1732440.0          NaN   \n",
       "\n",
       "   RATINGAVGLIFETIME  RATINGAGTDEVPRICE  RATINGAGTDEVVOL  \\\n",
       "0              100.0                NaN              NaN   \n",
       "\n",
       "   RATINGCROSSTURNOVER1 RATINGCROSSTURNOVER2  RATINGCROSSVALUE  USERGRADE_ID  \n",
       "0                   NaN                  NaN               NaN           4.0  \n",
       "\n",
       "[1 rows x 28 columns]"
      ]
     },
     "execution_count": 4,
     "metadata": {},
     "output_type": "execute_result"
    }
   ],
   "source": [
    "# удаляем лишние переменные\n",
    "X1 = X1.drop(['DETECTION_ID','EVENT_ID','SIGNAL_ID'], axis=1)\n",
    "X1.head(1)"
   ]
  },
  {
   "cell_type": "code",
   "execution_count": 5,
   "metadata": {
    "scrolled": true
   },
   "outputs": [
    {
     "name": "stdout",
     "output_type": "stream",
     "text": [
      "TRADEDATE ['03.18.2019 15:01:21' '03.19.2019 10:00:07' '03.07.2019 16:31' ...\n",
      " '01.22.2019 21:10:08' '10.31.2018 16:03:07' '10.26.2018 14:26:38']\n",
      "\n",
      "CROSSTURNOVER1 [1.]\n",
      "\n",
      "CROSSDEALRATIOS [ 24.   3.   2.   4.   6.   1.  18.  40.  15.   5.   8.  59.   9.   7.\n",
      "  23.  19. 100.  17.  16.  10.  11.  22.  12.  13.   0.  57.  14.  50.\n",
      "  67.  28.  95.  31.  33.  21.  20.  41.  92.  74.  73.  25.  45.  29.\n",
      "  36.  26.  51.  60.  52.  43.  30.  69.  77.  34.  75.  53.  37.  38.\n",
      "  44.  32.  65.  27.  35.  89.  80.  46.  86.  42.  87.  47.  71.  70.\n",
      "  66.  99.  79.  48.  63.  62.  84.  98.  72.  76.  49.  55.  97. 200.\n",
      "  88.  56.  82.  93.  54. 115.  39.  90.  78.  91.  81.  58.  94.  96.\n",
      "  68.  61.]\n",
      "\n",
      "EPSILONE [0.]\n",
      "\n",
      "PROFITPL [ 2290.  8909.   788. ... 43622. 23929.  4300.]\n",
      "\n",
      "PROFITABILITYY [  1.   0.   4.   2.  11.   3.  49.  18.   5.  24.  12.  13.  15.   6.\n",
      "  20.  16.   8.   9.  14.   7.  26.  32.  30.  22.  10.  76.  37.  17.\n",
      "  43.  21.  29.  28.  41.  25.  19.  27.  36.  45.  35.  23.  50.  63.\n",
      "  48.  33.  70.  38.  62.  44.  53.  80.  64.  97.  46.  57.  34.  72.\n",
      " 195.  40.  31.  42.  52.  69.  39.  65.  51.  55.  60.  66.  56.  83.\n",
      " 130. 107. 215. 115.  59. 110. 113. 168.  87.  54.  81. 196. 507. 169.\n",
      " 343. 681. 301. 321. 279. 278.  88. 133. 388. 393. 300. 499. 413. 122.\n",
      " 102.  61. 125. 178.  94.  92.  47. 159.  89.  79. 181.  95. 730. 709.\n",
      " 708. 728. 308. 243. 716.  73.  84. 145. 424. 180. 235. 449. 162. 119.\n",
      " 141. 104.  67. 117.  68.  58. 118. 292. 394. 183. 105.  82. 348. 146.\n",
      " 241. 174. 250.  78. 106. 166. 182. 112. 171.  93. 151. 164. 142.  77.\n",
      " 193.  74. 227. 414.  71.  86. 114. 132.  99.  85. 124. 163. 131. 392.\n",
      " 223. 140. 158.  75. 160. 194. 109. 229. 232. 209. 186. 100. 365. 293.\n",
      "  91. 417. 103. 282.  90. 247. 137. 144. 143. 138. 128. 263. 116. 212.\n",
      " 173. 150. 287. 265. 239. 323. 121. 313. 139. 306. 129. 191. 237. 152.\n",
      " 487. 485. 120. 258. 208. 438. 496. 161. 165. 149. 147. 197. 238. 185.\n",
      " 248. 398.  98. 233. 221. 222. 204. 111. 154. 240. 464. 381. 101. 199.\n",
      " 269. 319. 155. 344. 577. 126. 360. 459. 127. 296. 236. 718. 406. 595.\n",
      " 346.]\n",
      "\n",
      "SIGNALSK [  3.   1.   2.   4.   5. 152.  23. 253.  10.  11.   9.   7.  75.  20.\n",
      "  19.  22.  28.  61.  13.  16.  37.  40.   8.  35.  26.   6.  14.  83.\n",
      "  15.  12.  50.  47.  27.  18.  43.  17.  29.  58.  38. 156. 208. 647.\n",
      "  25.]\n",
      "\n",
      "RATINGCROSSDEALRATIOS [ 24.   3.   2.   4.   6.   1.  18.  40.  15.   5.   8.  59.   9.   7.\n",
      "  23.  19. 100.  17.  16.  10.  11.  22.  12.  13.   0.  57.  14.  50.\n",
      "  67.  28.  95.  31.  33.  21.  20.  41.  92.  74.  73.  25.  45.  29.\n",
      "  36.  26.  51.  60.  52.  43.  30.  69.  77.  34.  75.  53.  37.  38.\n",
      "  44.  32.  65.  27.  35.  89.  80.  46.  86.  42.  87.  47.  71.  70.\n",
      "  66.  99.  79.  48.  63.  62.  84.  98.  72.  76.  49.  55.  97. 200.\n",
      "  88.  56.  82.  93.  54. 115.  39.  90.  78.  91.  81.  58.  94.  96.\n",
      "  68.  61.]\n",
      "\n",
      "RATINGEPSILONE [0.]\n",
      "\n",
      "RATINGPROFITPL [  0.  19. 100.   2.   1.   4.  12.]\n",
      "\n",
      "RATINGPROFITABILITYY [  0.   1.   2.   7.   3.   4.  10.   5.   6.   9.  11.  13.   8.  27.\n",
      "  18.  15.  29.  16.  23.  12.  69.  47.  93.  41.  44.  38.  53.  54.\n",
      "  68.  57.  17.  14.  24.  22.  25. 100.  97.  42.  33.  98.  20.  58.\n",
      "  32.  62.  19.  40.  48.  34.  21.  26.  31.  50.  39.  36.  43.  67.\n",
      "  66.  35.  28.  60.  55.  30.  64.  52.  37.  79.  49.  63.  56.  81.]\n",
      "\n",
      "RATINGSIGNALSK [  0.   1.  23.   4.  39.   2.  12.   3.   9.   6.   5.  13.   8.   7.\n",
      "  24.  32. 100.]\n",
      "\n",
      "RATINGINTEGRAL [  4.   0.   1.   3.   7.  11.  18.  14.  15.  26.  17.  28.  30.  10.\n",
      "  27.  20.  21.   9.  63.  31.  22.  16.  25.  23.  12.  13.  32.  37.\n",
      "  24.  67.  74.  72.  44.  29.  35.  38.  78.  77.  86.  80.  19.  39.\n",
      "  36.  73.  33.  75.  89.  41.  34.  91.  79.  64.  95.  68.  84. 100.\n",
      "   8.   5.   6.   2.  81.  65.  85.]\n",
      "\n",
      "AGTDEV_BS [0.]\n",
      "\n",
      "AGTDEV_PRICE [0. 1. 2.]\n",
      "\n",
      "AGTDEV_VOL [0. 2. 1.]\n",
      "\n",
      "RATINGDEV [  0.  75.  50. 100.  25.]\n",
      "\n",
      "TRADEDATE_LAST ['03.18.2019 15:52:48' '03.19.2019 22:40:57' '03.07.2019 22:20' ...\n",
      " '01.22.2019 21:12:58' '10.31.2018 16:47:09' '10.26.2018 14:30:30']\n",
      "\n",
      "CROSSTURNOVER2 [0. 1.]\n",
      "\n",
      "CROSSVALUE [1.7324400e+06 1.0322523e+07 4.5627400e+05 ... 5.0000000e+00 1.9150000e+03\n",
      " 1.8100000e+02]\n",
      "\n",
      "AVGLIFETIME [nan]\n",
      "\n",
      "RATINGAVGLIFETIME [100.]\n",
      "\n",
      "RATINGAGTDEVPRICE [nan]\n",
      "\n",
      "RATINGAGTDEVVOL [nan]\n",
      "\n",
      "RATINGCROSSTURNOVER1 [nan]\n",
      "\n",
      "RATINGCROSSTURNOVER2 [nan]\n",
      "\n",
      "RATINGCROSSVALUE [nan]\n",
      "\n",
      "USERGRADE_ID [4. 3. 2.]\n",
      "\n"
     ]
    }
   ],
   "source": [
    "# ищем переменные с нулевой вариацией\n",
    "for col in list(X1.columns):\n",
    "        print(col, X1[col].unique())\n",
    "        print()"
   ]
  },
  {
   "cell_type": "code",
   "execution_count": 5,
   "metadata": {},
   "outputs": [
    {
     "data": {
      "text/html": [
       "<div>\n",
       "<style scoped>\n",
       "    .dataframe tbody tr th:only-of-type {\n",
       "        vertical-align: middle;\n",
       "    }\n",
       "\n",
       "    .dataframe tbody tr th {\n",
       "        vertical-align: top;\n",
       "    }\n",
       "\n",
       "    .dataframe thead th {\n",
       "        text-align: right;\n",
       "    }\n",
       "</style>\n",
       "<table border=\"1\" class=\"dataframe\">\n",
       "  <thead>\n",
       "    <tr style=\"text-align: right;\">\n",
       "      <th></th>\n",
       "      <th>TRADEDATE</th>\n",
       "      <th>CROSSDEALRATIOS</th>\n",
       "      <th>PROFITPL</th>\n",
       "      <th>PROFITABILITYY</th>\n",
       "      <th>SIGNALSK</th>\n",
       "      <th>RATINGCROSSDEALRATIOS</th>\n",
       "      <th>RATINGPROFITPL</th>\n",
       "      <th>RATINGPROFITABILITYY</th>\n",
       "      <th>RATINGSIGNALSK</th>\n",
       "      <th>RATINGINTEGRAL</th>\n",
       "      <th>AGTDEV_PRICE</th>\n",
       "      <th>AGTDEV_VOL</th>\n",
       "      <th>RATINGDEV</th>\n",
       "      <th>TRADEDATE_LAST</th>\n",
       "      <th>CROSSTURNOVER2</th>\n",
       "      <th>CROSSVALUE</th>\n",
       "      <th>USERGRADE_ID</th>\n",
       "    </tr>\n",
       "  </thead>\n",
       "  <tbody>\n",
       "    <tr>\n",
       "      <td>0</td>\n",
       "      <td>03.18.2019 15:01:21</td>\n",
       "      <td>24.0</td>\n",
       "      <td>2290.0</td>\n",
       "      <td>1.0</td>\n",
       "      <td>3.0</td>\n",
       "      <td>24.0</td>\n",
       "      <td>0.0</td>\n",
       "      <td>0.0</td>\n",
       "      <td>0.0</td>\n",
       "      <td>4.0</td>\n",
       "      <td>0.0</td>\n",
       "      <td>0.0</td>\n",
       "      <td>0.0</td>\n",
       "      <td>03.18.2019 15:52:48</td>\n",
       "      <td>0.0</td>\n",
       "      <td>1732440.0</td>\n",
       "      <td>4.0</td>\n",
       "    </tr>\n",
       "  </tbody>\n",
       "</table>\n",
       "</div>"
      ],
      "text/plain": [
       "             TRADEDATE  CROSSDEALRATIOS  PROFITPL  PROFITABILITYY  SIGNALSK  \\\n",
       "0  03.18.2019 15:01:21             24.0    2290.0             1.0       3.0   \n",
       "\n",
       "   RATINGCROSSDEALRATIOS  RATINGPROFITPL  RATINGPROFITABILITYY  \\\n",
       "0                   24.0             0.0                   0.0   \n",
       "\n",
       "   RATINGSIGNALSK  RATINGINTEGRAL  AGTDEV_PRICE  AGTDEV_VOL  RATINGDEV  \\\n",
       "0             0.0             4.0           0.0         0.0        0.0   \n",
       "\n",
       "        TRADEDATE_LAST  CROSSTURNOVER2  CROSSVALUE  USERGRADE_ID  \n",
       "0  03.18.2019 15:52:48             0.0   1732440.0           4.0  "
      ]
     },
     "execution_count": 5,
     "metadata": {},
     "output_type": "execute_result"
    }
   ],
   "source": [
    "# удаляем переменные с нулевой вариацией\n",
    "X1 = X1.drop(['CROSSTURNOVER1','EPSILONE','AGTDEV_BS','AVGLIFETIME',\n",
    "             'RATINGEPSILONE','RATINGAVGLIFETIME', 'RATINGAGTDEVPRICE',\n",
    "              'RATINGAGTDEVVOL','RATINGCROSSTURNOVER1','RATINGCROSSTURNOVER2',\n",
    "              'RATINGCROSSVALUE'], axis=1)\n",
    "X1.head(1)"
   ]
  },
  {
   "cell_type": "markdown",
   "metadata": {},
   "source": [
    "# (1.3) Преобразование переменных"
   ]
  },
  {
   "cell_type": "code",
   "execution_count": 6,
   "metadata": {},
   "outputs": [
    {
     "data": {
      "text/html": [
       "<div>\n",
       "<style scoped>\n",
       "    .dataframe tbody tr th:only-of-type {\n",
       "        vertical-align: middle;\n",
       "    }\n",
       "\n",
       "    .dataframe tbody tr th {\n",
       "        vertical-align: top;\n",
       "    }\n",
       "\n",
       "    .dataframe thead th {\n",
       "        text-align: right;\n",
       "    }\n",
       "</style>\n",
       "<table border=\"1\" class=\"dataframe\">\n",
       "  <thead>\n",
       "    <tr style=\"text-align: right;\">\n",
       "      <th></th>\n",
       "      <th>CROSSDEALRATIOS</th>\n",
       "      <th>PROFITPL</th>\n",
       "      <th>PROFITABILITYY</th>\n",
       "      <th>SIGNALSK</th>\n",
       "      <th>RATINGCROSSDEALRATIOS</th>\n",
       "      <th>RATINGPROFITPL</th>\n",
       "      <th>RATINGPROFITABILITYY</th>\n",
       "      <th>RATINGSIGNALSK</th>\n",
       "      <th>RATINGINTEGRAL</th>\n",
       "      <th>AGTDEV_PRICE</th>\n",
       "      <th>AGTDEV_VOL</th>\n",
       "      <th>RATINGDEV</th>\n",
       "      <th>CROSSTURNOVER2</th>\n",
       "      <th>CROSSVALUE</th>\n",
       "      <th>USERGRADE_ID</th>\n",
       "      <th>DELTA</th>\n",
       "    </tr>\n",
       "  </thead>\n",
       "  <tbody>\n",
       "    <tr>\n",
       "      <td>0</td>\n",
       "      <td>24.0</td>\n",
       "      <td>2290.0</td>\n",
       "      <td>1.0</td>\n",
       "      <td>3.0</td>\n",
       "      <td>24.0</td>\n",
       "      <td>0.0</td>\n",
       "      <td>0.0</td>\n",
       "      <td>0.0</td>\n",
       "      <td>4.0</td>\n",
       "      <td>0.0</td>\n",
       "      <td>0.0</td>\n",
       "      <td>0.0</td>\n",
       "      <td>0.0</td>\n",
       "      <td>1732440.0</td>\n",
       "      <td>4.0</td>\n",
       "      <td>3087</td>\n",
       "    </tr>\n",
       "  </tbody>\n",
       "</table>\n",
       "</div>"
      ],
      "text/plain": [
       "   CROSSDEALRATIOS  PROFITPL  PROFITABILITYY  SIGNALSK  RATINGCROSSDEALRATIOS  \\\n",
       "0             24.0    2290.0             1.0       3.0                   24.0   \n",
       "\n",
       "   RATINGPROFITPL  RATINGPROFITABILITYY  RATINGSIGNALSK  RATINGINTEGRAL  \\\n",
       "0             0.0                   0.0             0.0             4.0   \n",
       "\n",
       "   AGTDEV_PRICE  AGTDEV_VOL  RATINGDEV  CROSSTURNOVER2  CROSSVALUE  \\\n",
       "0           0.0         0.0        0.0             0.0   1732440.0   \n",
       "\n",
       "   USERGRADE_ID  DELTA  \n",
       "0           4.0   3087  "
      ]
     },
     "execution_count": 6,
     "metadata": {},
     "output_type": "execute_result"
    }
   ],
   "source": [
    "# преобразуем объект в datetime и считаем длительность сигнала\n",
    "X1['TRADEDATE_LAST'] = pd.to_datetime(pd.Series(X1['TRADEDATE_LAST']))\n",
    "X1['TRADEDATE'] = pd.to_datetime(pd.Series(X1['TRADEDATE']))\n",
    "X1['DELTA'] = X1['TRADEDATE_LAST']- X1['TRADEDATE']\n",
    "X1 = X1.drop(['TRADEDATE_LAST','TRADEDATE'], axis=1)\n",
    "X1['DELTA'] = [(X1.loc[i,'DELTA'].seconds) for i in range(len(X1.DELTA))]\n",
    "X1.head(1)"
   ]
  },
  {
   "cell_type": "code",
   "execution_count": 7,
   "metadata": {},
   "outputs": [
    {
     "data": {
      "text/html": [
       "<div>\n",
       "<style scoped>\n",
       "    .dataframe tbody tr th:only-of-type {\n",
       "        vertical-align: middle;\n",
       "    }\n",
       "\n",
       "    .dataframe tbody tr th {\n",
       "        vertical-align: top;\n",
       "    }\n",
       "\n",
       "    .dataframe thead th {\n",
       "        text-align: right;\n",
       "    }\n",
       "</style>\n",
       "<table border=\"1\" class=\"dataframe\">\n",
       "  <thead>\n",
       "    <tr style=\"text-align: right;\">\n",
       "      <th></th>\n",
       "      <th>CROSSDEALRATIOS</th>\n",
       "      <th>PROFITPL</th>\n",
       "      <th>PROFITABILITYY</th>\n",
       "      <th>SIGNALSK</th>\n",
       "      <th>RATINGCROSSDEALRATIOS</th>\n",
       "      <th>RATINGPROFITPL</th>\n",
       "      <th>RATINGPROFITABILITYY</th>\n",
       "      <th>RATINGSIGNALSK</th>\n",
       "      <th>RATINGINTEGRAL</th>\n",
       "      <th>AGTDEV_PRICE</th>\n",
       "      <th>AGTDEV_VOL</th>\n",
       "      <th>RATINGDEV</th>\n",
       "      <th>CROSSTURNOVER2</th>\n",
       "      <th>CROSSVALUE</th>\n",
       "      <th>DELTA</th>\n",
       "      <th>NOT_NOISE</th>\n",
       "    </tr>\n",
       "  </thead>\n",
       "  <tbody>\n",
       "    <tr>\n",
       "      <td>0</td>\n",
       "      <td>24.0</td>\n",
       "      <td>2290.0</td>\n",
       "      <td>1.0</td>\n",
       "      <td>3.0</td>\n",
       "      <td>24.0</td>\n",
       "      <td>0.0</td>\n",
       "      <td>0.0</td>\n",
       "      <td>0.0</td>\n",
       "      <td>4.0</td>\n",
       "      <td>0.0</td>\n",
       "      <td>0.0</td>\n",
       "      <td>0.0</td>\n",
       "      <td>0.0</td>\n",
       "      <td>1732440.0</td>\n",
       "      <td>3087</td>\n",
       "      <td>0</td>\n",
       "    </tr>\n",
       "  </tbody>\n",
       "</table>\n",
       "</div>"
      ],
      "text/plain": [
       "   CROSSDEALRATIOS  PROFITPL  PROFITABILITYY  SIGNALSK  RATINGCROSSDEALRATIOS  \\\n",
       "0             24.0    2290.0             1.0       3.0                   24.0   \n",
       "\n",
       "   RATINGPROFITPL  RATINGPROFITABILITYY  RATINGSIGNALSK  RATINGINTEGRAL  \\\n",
       "0             0.0                   0.0             0.0             4.0   \n",
       "\n",
       "   AGTDEV_PRICE  AGTDEV_VOL  RATINGDEV  CROSSTURNOVER2  CROSSVALUE  DELTA  \\\n",
       "0           0.0         0.0        0.0             0.0   1732440.0   3087   \n",
       "\n",
       "   NOT_NOISE  \n",
       "0          0  "
      ]
     },
     "execution_count": 7,
     "metadata": {},
     "output_type": "execute_result"
    }
   ],
   "source": [
    "# создаем бинарную переменную на основании USERGRADE_ID (0 - шум, 1 - не шум)\n",
    "# все, что имеет USERGRADE_ID 2 и 3, превращаем в NOISE = 0 Все, что имеет USERGRADE_ID 4, превращаем в NOISE = 1\n",
    "X1['NOT_NOISE'] = np.where((X1.USERGRADE_ID == 2) | (X1.USERGRADE_ID == 3), 1, 0)\n",
    "X1 = X1.drop(['USERGRADE_ID'], axis=1)\n",
    "X1.head(1)"
   ]
  },
  {
   "cell_type": "markdown",
   "metadata": {},
   "source": [
    "Нормируем переменные в соответствии со следующим преобразованием:   \n",
    "$$\\\\F_i = \\frac{f_i - \\overline{f}} {St.dev(f)}$$"
   ]
  },
  {
   "cell_type": "code",
   "execution_count": 8,
   "metadata": {},
   "outputs": [
    {
     "data": {
      "text/html": [
       "<div>\n",
       "<style scoped>\n",
       "    .dataframe tbody tr th:only-of-type {\n",
       "        vertical-align: middle;\n",
       "    }\n",
       "\n",
       "    .dataframe tbody tr th {\n",
       "        vertical-align: top;\n",
       "    }\n",
       "\n",
       "    .dataframe thead th {\n",
       "        text-align: right;\n",
       "    }\n",
       "</style>\n",
       "<table border=\"1\" class=\"dataframe\">\n",
       "  <thead>\n",
       "    <tr style=\"text-align: right;\">\n",
       "      <th></th>\n",
       "      <th>CROSSDEALRATIOS</th>\n",
       "      <th>PROFITPL</th>\n",
       "      <th>PROFITABILITYY</th>\n",
       "      <th>SIGNALSK</th>\n",
       "      <th>AGTDEV_PRICE</th>\n",
       "      <th>AGTDEV_VOL</th>\n",
       "      <th>CROSSTURNOVER2</th>\n",
       "      <th>CROSSVALUE</th>\n",
       "      <th>DELTA</th>\n",
       "      <th>NOT_NOISE</th>\n",
       "      <th>RATINGCROSSDEALRATIOS</th>\n",
       "      <th>RATINGPROFITPL</th>\n",
       "      <th>RATINGPROFITABILITYY</th>\n",
       "      <th>RATINGSIGNALSK</th>\n",
       "      <th>RATINGINTEGRAL</th>\n",
       "    </tr>\n",
       "  </thead>\n",
       "  <tbody>\n",
       "    <tr>\n",
       "      <td>0</td>\n",
       "      <td>0.448633</td>\n",
       "      <td>-0.019631</td>\n",
       "      <td>-0.368477</td>\n",
       "      <td>-0.502279</td>\n",
       "      <td>-1.15257</td>\n",
       "      <td>-1.14048</td>\n",
       "      <td>-0.290189</td>\n",
       "      <td>-0.056744</td>\n",
       "      <td>-0.710139</td>\n",
       "      <td>0</td>\n",
       "      <td>0.448633</td>\n",
       "      <td>-0.018284</td>\n",
       "      <td>-0.380163</td>\n",
       "      <td>-0.513618</td>\n",
       "      <td>-0.858281</td>\n",
       "    </tr>\n",
       "    <tr>\n",
       "      <td>1</td>\n",
       "      <td>-0.473516</td>\n",
       "      <td>-0.016409</td>\n",
       "      <td>-0.368477</td>\n",
       "      <td>-0.512488</td>\n",
       "      <td>-1.15257</td>\n",
       "      <td>-1.14048</td>\n",
       "      <td>-0.290189</td>\n",
       "      <td>0.185901</td>\n",
       "      <td>3.524390</td>\n",
       "      <td>0</td>\n",
       "      <td>-0.473516</td>\n",
       "      <td>-0.018284</td>\n",
       "      <td>-0.380163</td>\n",
       "      <td>-0.513618</td>\n",
       "      <td>-1.196204</td>\n",
       "    </tr>\n",
       "    <tr>\n",
       "      <td>2</td>\n",
       "      <td>-0.517427</td>\n",
       "      <td>-0.020362</td>\n",
       "      <td>-0.368477</td>\n",
       "      <td>-0.502279</td>\n",
       "      <td>-1.15257</td>\n",
       "      <td>-1.14048</td>\n",
       "      <td>-0.290189</td>\n",
       "      <td>-0.092792</td>\n",
       "      <td>1.066029</td>\n",
       "      <td>0</td>\n",
       "      <td>-0.517427</td>\n",
       "      <td>-0.018284</td>\n",
       "      <td>-0.380163</td>\n",
       "      <td>-0.513618</td>\n",
       "      <td>-1.196204</td>\n",
       "    </tr>\n",
       "    <tr>\n",
       "      <td>3</td>\n",
       "      <td>-0.473516</td>\n",
       "      <td>-0.020132</td>\n",
       "      <td>-0.368477</td>\n",
       "      <td>-0.502279</td>\n",
       "      <td>-1.15257</td>\n",
       "      <td>-1.14048</td>\n",
       "      <td>-0.290189</td>\n",
       "      <td>-0.072149</td>\n",
       "      <td>2.874730</td>\n",
       "      <td>0</td>\n",
       "      <td>-0.473516</td>\n",
       "      <td>-0.018284</td>\n",
       "      <td>-0.380163</td>\n",
       "      <td>-0.513618</td>\n",
       "      <td>-1.196204</td>\n",
       "    </tr>\n",
       "    <tr>\n",
       "      <td>4</td>\n",
       "      <td>-0.429604</td>\n",
       "      <td>-0.019093</td>\n",
       "      <td>-0.385397</td>\n",
       "      <td>-0.512488</td>\n",
       "      <td>-1.15257</td>\n",
       "      <td>-1.14048</td>\n",
       "      <td>-0.290189</td>\n",
       "      <td>0.338598</td>\n",
       "      <td>-0.984827</td>\n",
       "      <td>1</td>\n",
       "      <td>-0.429604</td>\n",
       "      <td>-0.018284</td>\n",
       "      <td>-0.380163</td>\n",
       "      <td>-0.513618</td>\n",
       "      <td>-1.111723</td>\n",
       "    </tr>\n",
       "  </tbody>\n",
       "</table>\n",
       "</div>"
      ],
      "text/plain": [
       "   CROSSDEALRATIOS  PROFITPL  PROFITABILITYY  SIGNALSK  AGTDEV_PRICE  \\\n",
       "0         0.448633 -0.019631       -0.368477 -0.502279      -1.15257   \n",
       "1        -0.473516 -0.016409       -0.368477 -0.512488      -1.15257   \n",
       "2        -0.517427 -0.020362       -0.368477 -0.502279      -1.15257   \n",
       "3        -0.473516 -0.020132       -0.368477 -0.502279      -1.15257   \n",
       "4        -0.429604 -0.019093       -0.385397 -0.512488      -1.15257   \n",
       "\n",
       "   AGTDEV_VOL  CROSSTURNOVER2  CROSSVALUE     DELTA  NOT_NOISE  \\\n",
       "0    -1.14048       -0.290189   -0.056744 -0.710139          0   \n",
       "1    -1.14048       -0.290189    0.185901  3.524390          0   \n",
       "2    -1.14048       -0.290189   -0.092792  1.066029          0   \n",
       "3    -1.14048       -0.290189   -0.072149  2.874730          0   \n",
       "4    -1.14048       -0.290189    0.338598 -0.984827          1   \n",
       "\n",
       "   RATINGCROSSDEALRATIOS  RATINGPROFITPL  RATINGPROFITABILITYY  \\\n",
       "0               0.448633       -0.018284             -0.380163   \n",
       "1              -0.473516       -0.018284             -0.380163   \n",
       "2              -0.517427       -0.018284             -0.380163   \n",
       "3              -0.473516       -0.018284             -0.380163   \n",
       "4              -0.429604       -0.018284             -0.380163   \n",
       "\n",
       "   RATINGSIGNALSK  RATINGINTEGRAL  \n",
       "0       -0.513618       -0.858281  \n",
       "1       -0.513618       -1.196204  \n",
       "2       -0.513618       -1.196204  \n",
       "3       -0.513618       -1.196204  \n",
       "4       -0.513618       -1.111723  "
      ]
     },
     "execution_count": 8,
     "metadata": {},
     "output_type": "execute_result"
    }
   ],
   "source": [
    "# создаем новый датафрейм с нормированными переменными\n",
    "X1_N = pd.DataFrame()\n",
    "X1_N['CROSSDEALRATIOS'] = [(X1.loc[i,'CROSSDEALRATIOS'] - X1['CROSSDEALRATIOS'].mean())/X1['CROSSDEALRATIOS'].std() for i in range(len(X1.CROSSDEALRATIOS))]\n",
    "X1_N['PROFITPL'] = [(X1.loc[i,'PROFITPL'] - X1['PROFITPL'].mean())/X1['PROFITPL'].std() for i in range(len(X1.PROFITPL))]\n",
    "X1_N['PROFITABILITYY'] = [(X1.loc[i,'PROFITABILITYY'] - X1['PROFITABILITYY'].mean())/X1['PROFITABILITYY'].std() for i in range(len(X1.PROFITABILITYY))]\n",
    "X1_N['SIGNALSK'] = [(X1.loc[i,'SIGNALSK'] - X1['SIGNALSK'].mean())/X1['SIGNALSK'].std() for i in range(len(X1.SIGNALSK))]\n",
    "X1_N['AGTDEV_PRICE'] = [(X1.loc[i,'AGTDEV_PRICE'] - X1['AGTDEV_PRICE'].mean())/X1['AGTDEV_PRICE'].std() for i in range(len(X1.AGTDEV_PRICE))]\n",
    "X1_N['AGTDEV_VOL'] = [(X1.loc[i,'AGTDEV_VOL'] - X1['AGTDEV_VOL'].mean())/X1['AGTDEV_VOL'].std() for i in range(len(X1.AGTDEV_VOL))]\n",
    "X1_N['CROSSTURNOVER2'] = [(X1.loc[i,'CROSSTURNOVER2'] - X1['CROSSTURNOVER2'].mean())/X1['CROSSTURNOVER2'].std() for i in range(len(X1.CROSSTURNOVER2))]\n",
    "X1_N['CROSSVALUE'] = [(X1.loc[i,'CROSSVALUE'] - X1['CROSSVALUE'].mean())/X1['CROSSVALUE'].std() for i in range(len(X1.CROSSVALUE))]\n",
    "X1_N['DELTA'] = [(X1.loc[i,'DELTA'] - X1['DELTA'].mean())/X1['DELTA'].std() for i in range(len(X1.DELTA))]\n",
    "X1_N['NOT_NOISE'] = X1['NOT_NOISE']\n",
    "X1_N['RATINGCROSSDEALRATIOS'] = [(X1.loc[i,'RATINGCROSSDEALRATIOS'] - X1['RATINGCROSSDEALRATIOS'].mean())/X1['RATINGCROSSDEALRATIOS'].std() for i in range(len(X1.RATINGCROSSDEALRATIOS))]\n",
    "X1_N['RATINGPROFITPL'] = [(X1.loc[i,'RATINGPROFITPL'] - X1['RATINGPROFITPL'].mean())/X1['RATINGPROFITPL'].std() for i in range(len(X1.RATINGPROFITPL))]\n",
    "X1_N['RATINGPROFITABILITYY'] = [(X1.loc[i,'RATINGPROFITABILITYY'] - X1['RATINGPROFITABILITYY'].mean())/X1['RATINGPROFITABILITYY'].std() for i in range(len(X1.RATINGPROFITABILITYY))]\n",
    "X1_N['RATINGSIGNALSK'] = [(X1.loc[i,'RATINGSIGNALSK'] - X1['RATINGSIGNALSK'].mean())/X1['RATINGSIGNALSK'].std() for i in range(len(X1.RATINGSIGNALSK))]\n",
    "X1_N['RATINGINTEGRAL'] = [(X1.loc[i,'RATINGINTEGRAL'] - X1['RATINGINTEGRAL'].mean())/X1['RATINGINTEGRAL'].std() for i in range(len(X1.RATINGINTEGRAL))]\n",
    "X1_N.head(5)"
   ]
  },
  {
   "cell_type": "code",
   "execution_count": 9,
   "metadata": {},
   "outputs": [
    {
     "data": {
      "text/html": [
       "<div>\n",
       "<style scoped>\n",
       "    .dataframe tbody tr th:only-of-type {\n",
       "        vertical-align: middle;\n",
       "    }\n",
       "\n",
       "    .dataframe tbody tr th {\n",
       "        vertical-align: top;\n",
       "    }\n",
       "\n",
       "    .dataframe thead th {\n",
       "        text-align: right;\n",
       "    }\n",
       "</style>\n",
       "<table border=\"1\" class=\"dataframe\">\n",
       "  <thead>\n",
       "    <tr style=\"text-align: right;\">\n",
       "      <th></th>\n",
       "      <th>CROSSDEALRATIOS</th>\n",
       "      <th>PROFITPL</th>\n",
       "      <th>PROFITABILITYY</th>\n",
       "      <th>SIGNALSK</th>\n",
       "      <th>AGTDEV_PRICE</th>\n",
       "      <th>AGTDEV_VOL</th>\n",
       "      <th>CROSSTURNOVER2</th>\n",
       "      <th>CROSSVALUE</th>\n",
       "      <th>DELTA</th>\n",
       "      <th>NOT_NOISE</th>\n",
       "    </tr>\n",
       "  </thead>\n",
       "  <tbody>\n",
       "    <tr>\n",
       "      <td>0</td>\n",
       "      <td>0.448633</td>\n",
       "      <td>-0.019631</td>\n",
       "      <td>-0.368477</td>\n",
       "      <td>-0.502279</td>\n",
       "      <td>-1.15257</td>\n",
       "      <td>-1.14048</td>\n",
       "      <td>-0.290189</td>\n",
       "      <td>-0.056744</td>\n",
       "      <td>-0.710139</td>\n",
       "      <td>0</td>\n",
       "    </tr>\n",
       "  </tbody>\n",
       "</table>\n",
       "</div>"
      ],
      "text/plain": [
       "   CROSSDEALRATIOS  PROFITPL  PROFITABILITYY  SIGNALSK  AGTDEV_PRICE  \\\n",
       "0         0.448633 -0.019631       -0.368477 -0.502279      -1.15257   \n",
       "\n",
       "   AGTDEV_VOL  CROSSTURNOVER2  CROSSVALUE     DELTA  NOT_NOISE  \n",
       "0    -1.14048       -0.290189   -0.056744 -0.710139          0  "
      ]
     },
     "execution_count": 9,
     "metadata": {},
     "output_type": "execute_result"
    }
   ],
   "source": [
    "# удаляем рейтинги\n",
    "X1_N_WITH_RATINGS = X1_N\n",
    "X1_N = X1_N.drop(['RATINGCROSSDEALRATIOS','RATINGPROFITPL','RATINGPROFITABILITYY','RATINGSIGNALSK','RATINGINTEGRAL'], axis=1)\n",
    "X1_N.head(1)"
   ]
  },
  {
   "cell_type": "markdown",
   "metadata": {},
   "source": [
    "# (1.4) Корреляционная матрица"
   ]
  },
  {
   "cell_type": "code",
   "execution_count": 11,
   "metadata": {},
   "outputs": [
    {
     "data": {
      "text/plain": [
       "<matplotlib.axes._subplots.AxesSubplot at 0x1a18e89a10>"
      ]
     },
     "execution_count": 11,
     "metadata": {},
     "output_type": "execute_result"
    },
    {
     "data": {
      "image/png": "[encoded data removed]",
      "text/plain": [
       "<Figure size 648x576 with 2 Axes>"
      ]
     },
     "metadata": {
      "needs_background": "light"
     },
     "output_type": "display_data"
    }
   ],
   "source": [
    "# Create correlation matrix\n",
    "corr_matrix = X1_N[{'CROSSDEALRATIOS','PROFITPL','PROFITABILITYY','SIGNALSK',\n",
    "    'AGTDEV_PRICE','AGTDEV_VOL','CROSSTURNOVER2','CROSSVALUE','DELTA'}].corr().abs()\n",
    "f, ax = plt.subplots(figsize =(9, 8))\n",
    "sns.heatmap(corr_matrix, ax = ax, cmap =\"YlGnBu\", linewidths = 0.1)"
   ]
  },
  {
   "cell_type": "code",
   "execution_count": 13,
   "metadata": {},
   "outputs": [
    {
     "data": {
      "text/html": [
       "<div>\n",
       "<style scoped>\n",
       "    .dataframe tbody tr th:only-of-type {\n",
       "        vertical-align: middle;\n",
       "    }\n",
       "\n",
       "    .dataframe tbody tr th {\n",
       "        vertical-align: top;\n",
       "    }\n",
       "\n",
       "    .dataframe thead th {\n",
       "        text-align: right;\n",
       "    }\n",
       "</style>\n",
       "<table border=\"1\" class=\"dataframe\">\n",
       "  <thead>\n",
       "    <tr style=\"text-align: right;\">\n",
       "      <th></th>\n",
       "      <th>CROSSDEALRATIOS</th>\n",
       "      <th>PROFITPL</th>\n",
       "      <th>PROFITABILITYY</th>\n",
       "      <th>SIGNALSK</th>\n",
       "      <th>AGTDEV_PRICE</th>\n",
       "      <th>CROSSVALUE</th>\n",
       "      <th>DELTA</th>\n",
       "      <th>NOT_NOISE</th>\n",
       "    </tr>\n",
       "  </thead>\n",
       "  <tbody>\n",
       "    <tr>\n",
       "      <td>0</td>\n",
       "      <td>0.448633</td>\n",
       "      <td>-0.019631</td>\n",
       "      <td>-0.368477</td>\n",
       "      <td>-0.502279</td>\n",
       "      <td>-1.15257</td>\n",
       "      <td>-0.056744</td>\n",
       "      <td>-0.710139</td>\n",
       "      <td>0</td>\n",
       "    </tr>\n",
       "  </tbody>\n",
       "</table>\n",
       "</div>"
      ],
      "text/plain": [
       "   CROSSDEALRATIOS  PROFITPL  PROFITABILITYY  SIGNALSK  AGTDEV_PRICE  \\\n",
       "0         0.448633 -0.019631       -0.368477 -0.502279      -1.15257   \n",
       "\n",
       "   CROSSVALUE     DELTA  NOT_NOISE  \n",
       "0   -0.056744 -0.710139          0  "
      ]
     },
     "execution_count": 13,
     "metadata": {},
     "output_type": "execute_result"
    }
   ],
   "source": [
    "# создаем новый датафрейм (удаляем по одной из переменных из каждой скоррелированной пары):\n",
    "# X1_N_COR - датафрейм с нормированными переменными с удаленными скоррелированными переменными\n",
    "X1_N_COR = X1_N\n",
    "X1_N_COR = X1_N_COR.drop(['AGTDEV_VOL','CROSSTURNOVER2'], axis=1)\n",
    "X1_N_COR.head(1)"
   ]
  },
  {
   "cell_type": "markdown",
   "metadata": {},
   "source": [
    "# (1.5) Метод главных компонент"
   ]
  },
  {
   "cell_type": "code",
   "execution_count": 14,
   "metadata": {},
   "outputs": [],
   "source": [
    "# создаем новую переменную с помощью метода главных компонент на основании скоррелированных переменных\n",
    "# создаем список на основании скоррелированных переменных\n",
    "x = X1_N.AGTDEV_VOL.values\n",
    "y = X1_N.AGTDEV_PRICE.values\n",
    "a = X1_N.CROSSTURNOVER2.values\n",
    "b = X1_N.CROSSDEALRATIOS.values\n",
    "\n",
    "xy = np.vstack((x,y))\n",
    "ab = np.vstack((a,b))\n",
    "# создаем компонену на основании скоррелированных переменных\n",
    "from sklearn.decomposition import PCA\n",
    "pca = PCA(n_components = 1)\n",
    "XPCAreduced1 = pca.fit_transform(np.transpose(xy))\n",
    "XPCAreduced2 = pca.fit_transform(np.transpose(ab))"
   ]
  },
  {
   "cell_type": "code",
   "execution_count": 15,
   "metadata": {},
   "outputs": [
    {
     "ename": "KeyError",
     "evalue": "\"['AGTDEV' 'CROSS'] not found in axis\"",
     "output_type": "error",
     "traceback": [
      "\u001b[0;31m---------------------------------------------------------------------------\u001b[0m",
      "\u001b[0;31mKeyError\u001b[0m                                  Traceback (most recent call last)",
      "\u001b[0;32m<ipython-input-15-d3a8b99edbe0>\u001b[0m in \u001b[0;36m<module>\u001b[0;34m\u001b[0m\n\u001b[1;32m      5\u001b[0m \u001b[0mX1_N_PCA\u001b[0m\u001b[0;34m[\u001b[0m\u001b[0;34m'CROSS'\u001b[0m\u001b[0;34m]\u001b[0m \u001b[0;34m=\u001b[0m \u001b[0mXPCAreduced2\u001b[0m\u001b[0;34m\u001b[0m\u001b[0;34m\u001b[0m\u001b[0m\n\u001b[1;32m      6\u001b[0m \u001b[0mX1_N_PCA\u001b[0m \u001b[0;34m=\u001b[0m \u001b[0mX1_N_PCA\u001b[0m\u001b[0;34m.\u001b[0m\u001b[0mdrop\u001b[0m\u001b[0;34m(\u001b[0m\u001b[0;34m[\u001b[0m\u001b[0;34m'AGTDEV_VOL'\u001b[0m\u001b[0;34m,\u001b[0m\u001b[0;34m'CROSSTURNOVER2'\u001b[0m\u001b[0;34m,\u001b[0m\u001b[0;34m'AGTDEV_PRICE'\u001b[0m\u001b[0;34m,\u001b[0m\u001b[0;34m'CROSSDEALRATIOS'\u001b[0m\u001b[0;34m]\u001b[0m\u001b[0;34m,\u001b[0m \u001b[0maxis\u001b[0m\u001b[0;34m=\u001b[0m\u001b[0;36m1\u001b[0m\u001b[0;34m)\u001b[0m\u001b[0;34m\u001b[0m\u001b[0;34m\u001b[0m\u001b[0m\n\u001b[0;32m----> 7\u001b[0;31m \u001b[0mX1_N\u001b[0m \u001b[0;34m=\u001b[0m \u001b[0mX1_N\u001b[0m\u001b[0;34m.\u001b[0m\u001b[0mdrop\u001b[0m\u001b[0;34m(\u001b[0m\u001b[0;34m[\u001b[0m\u001b[0;34m'AGTDEV'\u001b[0m\u001b[0;34m,\u001b[0m\u001b[0;34m'CROSS'\u001b[0m\u001b[0;34m]\u001b[0m\u001b[0;34m)\u001b[0m\u001b[0;34m\u001b[0m\u001b[0;34m\u001b[0m\u001b[0m\n\u001b[0m",
      "\u001b[0;32m~/opt/anaconda3/lib/python3.7/site-packages/pandas/core/frame.py\u001b[0m in \u001b[0;36mdrop\u001b[0;34m(self, labels, axis, index, columns, level, inplace, errors)\u001b[0m\n\u001b[1;32m   4100\u001b[0m             \u001b[0mlevel\u001b[0m\u001b[0;34m=\u001b[0m\u001b[0mlevel\u001b[0m\u001b[0;34m,\u001b[0m\u001b[0;34m\u001b[0m\u001b[0;34m\u001b[0m\u001b[0m\n\u001b[1;32m   4101\u001b[0m             \u001b[0minplace\u001b[0m\u001b[0;34m=\u001b[0m\u001b[0minplace\u001b[0m\u001b[0;34m,\u001b[0m\u001b[0;34m\u001b[0m\u001b[0;34m\u001b[0m\u001b[0m\n\u001b[0;32m-> 4102\u001b[0;31m             \u001b[0merrors\u001b[0m\u001b[0;34m=\u001b[0m\u001b[0merrors\u001b[0m\u001b[0;34m,\u001b[0m\u001b[0;34m\u001b[0m\u001b[0;34m\u001b[0m\u001b[0m\n\u001b[0m\u001b[1;32m   4103\u001b[0m         )\n\u001b[1;32m   4104\u001b[0m \u001b[0;34m\u001b[0m\u001b[0m\n",
      "\u001b[0;32m~/opt/anaconda3/lib/python3.7/site-packages/pandas/core/generic.py\u001b[0m in \u001b[0;36mdrop\u001b[0;34m(self, labels, axis, index, columns, level, inplace, errors)\u001b[0m\n\u001b[1;32m   3912\u001b[0m         \u001b[0;32mfor\u001b[0m \u001b[0maxis\u001b[0m\u001b[0;34m,\u001b[0m \u001b[0mlabels\u001b[0m \u001b[0;32min\u001b[0m \u001b[0maxes\u001b[0m\u001b[0;34m.\u001b[0m\u001b[0mitems\u001b[0m\u001b[0;34m(\u001b[0m\u001b[0;34m)\u001b[0m\u001b[0;34m:\u001b[0m\u001b[0;34m\u001b[0m\u001b[0;34m\u001b[0m\u001b[0m\n\u001b[1;32m   3913\u001b[0m             \u001b[0;32mif\u001b[0m \u001b[0mlabels\u001b[0m \u001b[0;32mis\u001b[0m \u001b[0;32mnot\u001b[0m \u001b[0;32mNone\u001b[0m\u001b[0;34m:\u001b[0m\u001b[0;34m\u001b[0m\u001b[0;34m\u001b[0m\u001b[0m\n\u001b[0;32m-> 3914\u001b[0;31m                 \u001b[0mobj\u001b[0m \u001b[0;34m=\u001b[0m \u001b[0mobj\u001b[0m\u001b[0;34m.\u001b[0m\u001b[0m_drop_axis\u001b[0m\u001b[0;34m(\u001b[0m\u001b[0mlabels\u001b[0m\u001b[0;34m,\u001b[0m \u001b[0maxis\u001b[0m\u001b[0;34m,\u001b[0m \u001b[0mlevel\u001b[0m\u001b[0;34m=\u001b[0m\u001b[0mlevel\u001b[0m\u001b[0;34m,\u001b[0m \u001b[0merrors\u001b[0m\u001b[0;34m=\u001b[0m\u001b[0merrors\u001b[0m\u001b[0;34m)\u001b[0m\u001b[0;34m\u001b[0m\u001b[0;34m\u001b[0m\u001b[0m\n\u001b[0m\u001b[1;32m   3915\u001b[0m \u001b[0;34m\u001b[0m\u001b[0m\n\u001b[1;32m   3916\u001b[0m         \u001b[0;32mif\u001b[0m \u001b[0minplace\u001b[0m\u001b[0;34m:\u001b[0m\u001b[0;34m\u001b[0m\u001b[0;34m\u001b[0m\u001b[0m\n",
      "\u001b[0;32m~/opt/anaconda3/lib/python3.7/site-packages/pandas/core/generic.py\u001b[0m in \u001b[0;36m_drop_axis\u001b[0;34m(self, labels, axis, level, errors)\u001b[0m\n\u001b[1;32m   3944\u001b[0m                 \u001b[0mnew_axis\u001b[0m \u001b[0;34m=\u001b[0m \u001b[0maxis\u001b[0m\u001b[0;34m.\u001b[0m\u001b[0mdrop\u001b[0m\u001b[0;34m(\u001b[0m\u001b[0mlabels\u001b[0m\u001b[0;34m,\u001b[0m \u001b[0mlevel\u001b[0m\u001b[0;34m=\u001b[0m\u001b[0mlevel\u001b[0m\u001b[0;34m,\u001b[0m \u001b[0merrors\u001b[0m\u001b[0;34m=\u001b[0m\u001b[0merrors\u001b[0m\u001b[0;34m)\u001b[0m\u001b[0;34m\u001b[0m\u001b[0;34m\u001b[0m\u001b[0m\n\u001b[1;32m   3945\u001b[0m             \u001b[0;32melse\u001b[0m\u001b[0;34m:\u001b[0m\u001b[0;34m\u001b[0m\u001b[0;34m\u001b[0m\u001b[0m\n\u001b[0;32m-> 3946\u001b[0;31m                 \u001b[0mnew_axis\u001b[0m \u001b[0;34m=\u001b[0m \u001b[0maxis\u001b[0m\u001b[0;34m.\u001b[0m\u001b[0mdrop\u001b[0m\u001b[0;34m(\u001b[0m\u001b[0mlabels\u001b[0m\u001b[0;34m,\u001b[0m \u001b[0merrors\u001b[0m\u001b[0;34m=\u001b[0m\u001b[0merrors\u001b[0m\u001b[0;34m)\u001b[0m\u001b[0;34m\u001b[0m\u001b[0;34m\u001b[0m\u001b[0m\n\u001b[0m\u001b[1;32m   3947\u001b[0m             \u001b[0mresult\u001b[0m \u001b[0;34m=\u001b[0m \u001b[0mself\u001b[0m\u001b[0;34m.\u001b[0m\u001b[0mreindex\u001b[0m\u001b[0;34m(\u001b[0m\u001b[0;34m**\u001b[0m\u001b[0;34m{\u001b[0m\u001b[0maxis_name\u001b[0m\u001b[0;34m:\u001b[0m \u001b[0mnew_axis\u001b[0m\u001b[0;34m}\u001b[0m\u001b[0;34m)\u001b[0m\u001b[0;34m\u001b[0m\u001b[0;34m\u001b[0m\u001b[0m\n\u001b[1;32m   3948\u001b[0m \u001b[0;34m\u001b[0m\u001b[0m\n",
      "\u001b[0;32m~/opt/anaconda3/lib/python3.7/site-packages/pandas/core/indexes/base.py\u001b[0m in \u001b[0;36mdrop\u001b[0;34m(self, labels, errors)\u001b[0m\n\u001b[1;32m   5338\u001b[0m         \u001b[0;32mif\u001b[0m \u001b[0mmask\u001b[0m\u001b[0;34m.\u001b[0m\u001b[0many\u001b[0m\u001b[0;34m(\u001b[0m\u001b[0;34m)\u001b[0m\u001b[0;34m:\u001b[0m\u001b[0;34m\u001b[0m\u001b[0;34m\u001b[0m\u001b[0m\n\u001b[1;32m   5339\u001b[0m             \u001b[0;32mif\u001b[0m \u001b[0merrors\u001b[0m \u001b[0;34m!=\u001b[0m \u001b[0;34m\"ignore\"\u001b[0m\u001b[0;34m:\u001b[0m\u001b[0;34m\u001b[0m\u001b[0;34m\u001b[0m\u001b[0m\n\u001b[0;32m-> 5340\u001b[0;31m                 \u001b[0;32mraise\u001b[0m \u001b[0mKeyError\u001b[0m\u001b[0;34m(\u001b[0m\u001b[0;34m\"{} not found in axis\"\u001b[0m\u001b[0;34m.\u001b[0m\u001b[0mformat\u001b[0m\u001b[0;34m(\u001b[0m\u001b[0mlabels\u001b[0m\u001b[0;34m[\u001b[0m\u001b[0mmask\u001b[0m\u001b[0;34m]\u001b[0m\u001b[0;34m)\u001b[0m\u001b[0;34m)\u001b[0m\u001b[0;34m\u001b[0m\u001b[0;34m\u001b[0m\u001b[0m\n\u001b[0m\u001b[1;32m   5341\u001b[0m             \u001b[0mindexer\u001b[0m \u001b[0;34m=\u001b[0m \u001b[0mindexer\u001b[0m\u001b[0;34m[\u001b[0m\u001b[0;34m~\u001b[0m\u001b[0mmask\u001b[0m\u001b[0;34m]\u001b[0m\u001b[0;34m\u001b[0m\u001b[0;34m\u001b[0m\u001b[0m\n\u001b[1;32m   5342\u001b[0m         \u001b[0;32mreturn\u001b[0m \u001b[0mself\u001b[0m\u001b[0;34m.\u001b[0m\u001b[0mdelete\u001b[0m\u001b[0;34m(\u001b[0m\u001b[0mindexer\u001b[0m\u001b[0;34m)\u001b[0m\u001b[0;34m\u001b[0m\u001b[0;34m\u001b[0m\u001b[0m\n",
      "\u001b[0;31mKeyError\u001b[0m: \"['AGTDEV' 'CROSS'] not found in axis\""
     ]
    }
   ],
   "source": [
    "# создаем новый датафрейм:\n",
    "# X1_N_PCA - датафрейм с нормированными переменными и с новой переменной, созданной на основании скоррелированных переменных\n",
    "X1_N_PCA = X1_N\n",
    "X1_N_PCA['AGTDEV'] = XPCAreduced1\n",
    "X1_N_PCA['CROSS'] = XPCAreduced2\n",
    "X1_N_PCA = X1_N_PCA.drop(['AGTDEV_VOL','CROSSTURNOVER2','AGTDEV_PRICE','CROSSDEALRATIOS'], axis=1)\n",
    "X1_N = X1_N.drop(['AGTDEV','CROSS'], axis=1)"
   ]
  },
  {
   "cell_type": "code",
   "execution_count": 19,
   "metadata": {},
   "outputs": [
    {
     "data": {
      "text/plain": [
       "<matplotlib.axes._subplots.AxesSubplot at 0x1a1b27a710>"
      ]
     },
     "execution_count": 19,
     "metadata": {},
     "output_type": "execute_result"
    },
    {
     "data": {
      "image/png": "[encoded data removed]",
      "text/plain": [
       "<Figure size 648x576 with 2 Axes>"
      ]
     },
     "metadata": {
      "needs_background": "light"
     },
     "output_type": "display_data"
    }
   ],
   "source": [
    "# Create correlation matrix\n",
    "corr_matrix = X1_N_PCA[{'PROFITPL','PROFITABILITYY','SIGNALSK',\n",
    "    'CROSSVALUE','DELTA','AGTDEV','CROSS'}].corr().abs()\n",
    "\n",
    "# Select upper triangle of correlation matrix\n",
    "#upper = corr_matrix.where(np.triu(np.ones(corr_matrix.shape), k=1).astype(np.bool))\n",
    "# Find features with correlation greater than 0.95\n",
    "#to_drop = [column for column in upper.columns if any(upper[column] > 0.70)]\n",
    "#print(to_drop)\n",
    "#print(corr_matrix)\n",
    "#columns=['SIGNAL_ID', 'TRADEDATE', 'CROSSTURNOVER1', 'CROSSDEALRATIOS', 'EPSILONE', 'PROFITPL','PROFITABILITYY','SIGNALSK', 'RATINGCROSSDEALRATIOS', 'RATINGEPSILONE', 'RATINGPROFITPL', 'RATINGPROFITABILITYY', 'RATINGSIGNALSK', 'RATINGINTEGRAL','AGTDEV_BS', 'AGTDEV_PRICE', 'AGTDEV_VO', 'RATINGDEV', 'TRADEDATE_LAST', 'EVENT_ID','CROSSTURNOVER2','CROSSVALUE','AVGLIFETIME','RATINGAVGLIFETIME','USERGRADE_ID','SHORTNAME','IDENT','DETECTION_ID']\n",
    "f, ax = plt.subplots(figsize =(9, 8))\n",
    "sns.heatmap(corr_matrix, ax = ax, cmap =\"YlGnBu\", linewidths = 0.1)"
   ]
  },
  {
   "cell_type": "markdown",
   "metadata": {},
   "source": [
    "# (1.6) Делим выборку на train и test"
   ]
  },
  {
   "cell_type": "code",
   "execution_count": 24,
   "metadata": {},
   "outputs": [],
   "source": [
    "# выделяем NOT_NOISE в отдельный датафрейм и удаляем из исходного\n",
    "y1_n = pd.DataFrame(X1_N['NOT_NOISE'], columns=['NOT_NOISE'])\n",
    "X1_N = X1_N.drop(['NOT_NOISE'], axis=1)\n",
    "X1_N_PCA = X1_N_PCA.drop(['NOT_NOISE'], axis=1)\n",
    "X1_N_COR = X1_N_COR.drop(['NOT_NOISE'], axis=1)\n",
    "X1_N_WITH_RATINGS = X1_N_WITH_RATINGS.drop(['NOT_NOISE'], axis=1)"
   ]
  },
  {
   "cell_type": "code",
   "execution_count": 151,
   "metadata": {},
   "outputs": [],
   "source": [
    "# создаем из всех датафреймов тренировочную и тестовую выборку\n",
    "x_n_train, x_n_test, y_n_train, y_n_test = train_test_split(X1_N, y1_n, test_size=0.30, random_state = 123)\n",
    "x_n_pca_train, x_n_pca_test, y_n_train, y_n_test = train_test_split(X1_N_PCA, y1_n, test_size=0.30, random_state = 123)\n",
    "x_n_cor_train, x_n_cor_test, y_n_train, y_n_test = train_test_split(X1_N_COR, y1_n, test_size=0.30, random_state = 123)\n",
    "x_n_with_ratings_train, x_n_with_ratings_test, y_n_train, y_n_test = train_test_split(X1_N_WITH_RATINGS, y1_n, test_size=0.30, random_state = 123)"
   ]
  },
  {
   "cell_type": "markdown",
   "metadata": {},
   "source": [
    "# (1.7) Logit"
   ]
  },
  {
   "cell_type": "code",
   "execution_count": 20,
   "metadata": {},
   "outputs": [],
   "source": [
    "from sklearn import linear_model as slm, datasets, preprocessing\n",
    "logit = slm.LogisticRegressionCV()\n",
    "roc_auc_log_train = []\n",
    "roc_auc_log_test = []"
   ]
  },
  {
   "cell_type": "markdown",
   "metadata": {},
   "source": [
    "### X1_N"
   ]
  },
  {
   "cell_type": "code",
   "execution_count": 22,
   "metadata": {},
   "outputs": [],
   "source": [
    "# логит нельзя считать в лоб на данных, где между переменными есть корреляция, поэтому можно использовать специальную надстройку BaggingClassifier\n",
    "\n",
    "roc_auc_log_test.append('-')\n",
    "roc_auc_log_train.append('-')"
   ]
  },
  {
   "cell_type": "markdown",
   "metadata": {},
   "source": [
    "### X1_N_PCA"
   ]
  },
  {
   "cell_type": "code",
   "execution_count": 23,
   "metadata": {},
   "outputs": [
    {
     "name": "stdout",
     "output_type": "stream",
     "text": [
      "Fitting 5 folds for each of 10 candidates, totalling 50 fits\n"
     ]
    },
    {
     "name": "stderr",
     "output_type": "stream",
     "text": [
      "[Parallel(n_jobs=-1)]: Using backend LokyBackend with 4 concurrent workers.\n",
      "[Parallel(n_jobs=-1)]: Done  42 tasks      | elapsed:   18.2s\n",
      "[Parallel(n_jobs=-1)]: Done  50 out of  50 | elapsed:   20.8s finished\n",
      "/Users/ekaterina/opt/anaconda3/lib/python3.7/site-packages/sklearn/utils/validation.py:724: DataConversionWarning: A column-vector y was passed when a 1d array was expected. Please change the shape of y to (n_samples, ), for example using ravel().\n",
      "  y = column_or_1d(y, warn=True)\n",
      "/Users/ekaterina/opt/anaconda3/lib/python3.7/site-packages/sklearn/model_selection/_split.py:1978: FutureWarning: The default value of cv will change from 3 to 5 in version 0.22. Specify it explicitly to silence this warning.\n",
      "  warnings.warn(CV_WARNING, FutureWarning)\n",
      "/Users/ekaterina/opt/anaconda3/lib/python3.7/site-packages/sklearn/linear_model/sag.py:337: ConvergenceWarning: The max_iter was reached which means the coef_ did not converge\n",
      "  \"the coef_ did not converge\", ConvergenceWarning)\n",
      "/Users/ekaterina/opt/anaconda3/lib/python3.7/site-packages/sklearn/linear_model/sag.py:337: ConvergenceWarning: The max_iter was reached which means the coef_ did not converge\n",
      "  \"the coef_ did not converge\", ConvergenceWarning)\n",
      "/Users/ekaterina/opt/anaconda3/lib/python3.7/site-packages/sklearn/linear_model/sag.py:337: ConvergenceWarning: The max_iter was reached which means the coef_ did not converge\n",
      "  \"the coef_ did not converge\", ConvergenceWarning)\n"
     ]
    },
    {
     "name": "stdout",
     "output_type": "stream",
     "text": [
      "0.5942829387637619\n",
      "0.5927587959433548\n",
      "{'fit_intercept': True, 'solver': 'saga'}\n",
      "CPU times: user 2.17 s, sys: 104 ms, total: 2.27 s\n",
      "Wall time: 22.3 s\n"
     ]
    },
    {
     "name": "stderr",
     "output_type": "stream",
     "text": [
      "/Users/ekaterina/opt/anaconda3/lib/python3.7/site-packages/sklearn/linear_model/sag.py:337: ConvergenceWarning: The max_iter was reached which means the coef_ did not converge\n",
      "  \"the coef_ did not converge\", ConvergenceWarning)\n"
     ]
    }
   ],
   "source": [
    "%%time\n",
    "# перебор параметров\n",
    "parameters = {'fit_intercept': [True, False],\n",
    "              'solver': ['newton-cg', 'lbfgs', 'liblinear', 'sag', 'saga']}\n",
    "\n",
    "'''# результаты поиска по сетке, для ускорения можно использовать сразу их\n",
    "parameters = {'fit_intercept': [True], \n",
    "              'solver': ['saga']}'''\n",
    "\n",
    "logit_best = GridSearchCV(logit, parameters, cv = 5, verbose = 1, n_jobs=-1)\n",
    "logit_best.fit(x_n_pca_train, y_n_train)\n",
    "predicted_prob = logit_best.predict_proba(x_n_pca_test)\n",
    "roc_auc_train = metrics.roc_auc_score(y_n_train, logit_best.predict(x_n_pca_train))\n",
    "roc_auc_test = metrics.roc_auc_score(y_n_test, logit_best.predict(x_n_pca_test))\n",
    "roc_auc_log_train.append(roc_auc_train)\n",
    "roc_auc_log_test.append(roc_auc_test)\n",
    "print(roc_auc_train)\n",
    "print(roc_auc_test)\n",
    "print(logit_best.best_params_)\n",
    "\n",
    "predicted_results = []\n",
    "for a in range(len(predicted_prob)):\n",
    "    \n",
    "    predicted_results.append(predicted_prob[a][1])\n",
    "    \n",
    "index_list = x_n_pca_test.index.tolist()\n",
    "x1_log = pd.DataFrame(pd.Series(data=predicted_results, index=index_list))\n",
    "\n",
    "# записываем вероятность попадания в класс 1 в новый датафрейм\n",
    "x1_log = pd.DataFrame(pd.Series(data=predicted_results, index=index_list))\n",
    "x1_log = x1_log.rename(columns = {0:'PROB_N_PCA_LOG_CV'})"
   ]
  },
  {
   "cell_type": "markdown",
   "metadata": {},
   "source": [
    "### X1_N_COR"
   ]
  },
  {
   "cell_type": "code",
   "execution_count": 24,
   "metadata": {},
   "outputs": [
    {
     "name": "stderr",
     "output_type": "stream",
     "text": [
      "[Parallel(n_jobs=-1)]: Using backend LokyBackend with 4 concurrent workers.\n"
     ]
    },
    {
     "name": "stdout",
     "output_type": "stream",
     "text": [
      "Fitting 5 folds for each of 10 candidates, totalling 50 fits\n"
     ]
    },
    {
     "name": "stderr",
     "output_type": "stream",
     "text": [
      "[Parallel(n_jobs=-1)]: Done  42 tasks      | elapsed:   51.1s\n",
      "[Parallel(n_jobs=-1)]: Done  50 out of  50 | elapsed:   58.2s finished\n",
      "/Users/ekaterina/opt/anaconda3/lib/python3.7/site-packages/sklearn/utils/validation.py:724: DataConversionWarning: A column-vector y was passed when a 1d array was expected. Please change the shape of y to (n_samples, ), for example using ravel().\n",
      "  y = column_or_1d(y, warn=True)\n",
      "/Users/ekaterina/opt/anaconda3/lib/python3.7/site-packages/sklearn/model_selection/_split.py:1978: FutureWarning: The default value of cv will change from 3 to 5 in version 0.22. Specify it explicitly to silence this warning.\n",
      "  warnings.warn(CV_WARNING, FutureWarning)\n",
      "/Users/ekaterina/opt/anaconda3/lib/python3.7/site-packages/scipy/optimize/linesearch.py:466: LineSearchWarning: The line search algorithm did not converge\n",
      "  warn('The line search algorithm did not converge', LineSearchWarning)\n",
      "/Users/ekaterina/opt/anaconda3/lib/python3.7/site-packages/scipy/optimize/linesearch.py:314: LineSearchWarning: The line search algorithm did not converge\n",
      "  warn('The line search algorithm did not converge', LineSearchWarning)\n",
      "/Users/ekaterina/opt/anaconda3/lib/python3.7/site-packages/scipy/optimize/linesearch.py:466: LineSearchWarning: The line search algorithm did not converge\n",
      "  warn('The line search algorithm did not converge', LineSearchWarning)\n",
      "/Users/ekaterina/opt/anaconda3/lib/python3.7/site-packages/scipy/optimize/linesearch.py:314: LineSearchWarning: The line search algorithm did not converge\n",
      "  warn('The line search algorithm did not converge', LineSearchWarning)\n",
      "/Users/ekaterina/opt/anaconda3/lib/python3.7/site-packages/scipy/optimize/linesearch.py:466: LineSearchWarning: The line search algorithm did not converge\n",
      "  warn('The line search algorithm did not converge', LineSearchWarning)\n",
      "/Users/ekaterina/opt/anaconda3/lib/python3.7/site-packages/scipy/optimize/linesearch.py:314: LineSearchWarning: The line search algorithm did not converge\n",
      "  warn('The line search algorithm did not converge', LineSearchWarning)\n",
      "/Users/ekaterina/opt/anaconda3/lib/python3.7/site-packages/scipy/optimize/linesearch.py:466: LineSearchWarning: The line search algorithm did not converge\n",
      "  warn('The line search algorithm did not converge', LineSearchWarning)\n",
      "/Users/ekaterina/opt/anaconda3/lib/python3.7/site-packages/scipy/optimize/linesearch.py:314: LineSearchWarning: The line search algorithm did not converge\n",
      "  warn('The line search algorithm did not converge', LineSearchWarning)\n",
      "/Users/ekaterina/opt/anaconda3/lib/python3.7/site-packages/scipy/optimize/linesearch.py:466: LineSearchWarning: The line search algorithm did not converge\n",
      "  warn('The line search algorithm did not converge', LineSearchWarning)\n",
      "/Users/ekaterina/opt/anaconda3/lib/python3.7/site-packages/scipy/optimize/linesearch.py:314: LineSearchWarning: The line search algorithm did not converge\n",
      "  warn('The line search algorithm did not converge', LineSearchWarning)\n",
      "/Users/ekaterina/opt/anaconda3/lib/python3.7/site-packages/scipy/optimize/linesearch.py:466: LineSearchWarning: The line search algorithm did not converge\n",
      "  warn('The line search algorithm did not converge', LineSearchWarning)\n",
      "/Users/ekaterina/opt/anaconda3/lib/python3.7/site-packages/scipy/optimize/linesearch.py:314: LineSearchWarning: The line search algorithm did not converge\n",
      "  warn('The line search algorithm did not converge', LineSearchWarning)\n",
      "/Users/ekaterina/opt/anaconda3/lib/python3.7/site-packages/scipy/optimize/linesearch.py:466: LineSearchWarning: The line search algorithm did not converge\n",
      "  warn('The line search algorithm did not converge', LineSearchWarning)\n",
      "/Users/ekaterina/opt/anaconda3/lib/python3.7/site-packages/scipy/optimize/linesearch.py:314: LineSearchWarning: The line search algorithm did not converge\n",
      "  warn('The line search algorithm did not converge', LineSearchWarning)\n",
      "/Users/ekaterina/opt/anaconda3/lib/python3.7/site-packages/scipy/optimize/linesearch.py:466: LineSearchWarning: The line search algorithm did not converge\n",
      "  warn('The line search algorithm did not converge', LineSearchWarning)\n",
      "/Users/ekaterina/opt/anaconda3/lib/python3.7/site-packages/scipy/optimize/linesearch.py:314: LineSearchWarning: The line search algorithm did not converge\n",
      "  warn('The line search algorithm did not converge', LineSearchWarning)\n",
      "/Users/ekaterina/opt/anaconda3/lib/python3.7/site-packages/scipy/optimize/linesearch.py:466: LineSearchWarning: The line search algorithm did not converge\n",
      "  warn('The line search algorithm did not converge', LineSearchWarning)\n",
      "/Users/ekaterina/opt/anaconda3/lib/python3.7/site-packages/scipy/optimize/linesearch.py:314: LineSearchWarning: The line search algorithm did not converge\n",
      "  warn('The line search algorithm did not converge', LineSearchWarning)\n",
      "/Users/ekaterina/opt/anaconda3/lib/python3.7/site-packages/scipy/optimize/linesearch.py:466: LineSearchWarning: The line search algorithm did not converge\n",
      "  warn('The line search algorithm did not converge', LineSearchWarning)\n",
      "/Users/ekaterina/opt/anaconda3/lib/python3.7/site-packages/scipy/optimize/linesearch.py:314: LineSearchWarning: The line search algorithm did not converge\n",
      "  warn('The line search algorithm did not converge', LineSearchWarning)\n",
      "/Users/ekaterina/opt/anaconda3/lib/python3.7/site-packages/sklearn/utils/optimize.py:203: ConvergenceWarning: newton-cg failed to converge. Increase the number of iterations.\n",
      "  \"number of iterations.\", ConvergenceWarning)\n",
      "/Users/ekaterina/opt/anaconda3/lib/python3.7/site-packages/scipy/optimize/linesearch.py:466: LineSearchWarning: The line search algorithm did not converge\n",
      "  warn('The line search algorithm did not converge', LineSearchWarning)\n",
      "/Users/ekaterina/opt/anaconda3/lib/python3.7/site-packages/scipy/optimize/linesearch.py:314: LineSearchWarning: The line search algorithm did not converge\n",
      "  warn('The line search algorithm did not converge', LineSearchWarning)\n",
      "/Users/ekaterina/opt/anaconda3/lib/python3.7/site-packages/scipy/optimize/linesearch.py:466: LineSearchWarning: The line search algorithm did not converge\n",
      "  warn('The line search algorithm did not converge', LineSearchWarning)\n",
      "/Users/ekaterina/opt/anaconda3/lib/python3.7/site-packages/scipy/optimize/linesearch.py:314: LineSearchWarning: The line search algorithm did not converge\n",
      "  warn('The line search algorithm did not converge', LineSearchWarning)\n",
      "/Users/ekaterina/opt/anaconda3/lib/python3.7/site-packages/scipy/optimize/linesearch.py:466: LineSearchWarning: The line search algorithm did not converge\n",
      "  warn('The line search algorithm did not converge', LineSearchWarning)\n",
      "/Users/ekaterina/opt/anaconda3/lib/python3.7/site-packages/scipy/optimize/linesearch.py:314: LineSearchWarning: The line search algorithm did not converge\n",
      "  warn('The line search algorithm did not converge', LineSearchWarning)\n",
      "/Users/ekaterina/opt/anaconda3/lib/python3.7/site-packages/scipy/optimize/linesearch.py:466: LineSearchWarning: The line search algorithm did not converge\n",
      "  warn('The line search algorithm did not converge', LineSearchWarning)\n",
      "/Users/ekaterina/opt/anaconda3/lib/python3.7/site-packages/scipy/optimize/linesearch.py:314: LineSearchWarning: The line search algorithm did not converge\n",
      "  warn('The line search algorithm did not converge', LineSearchWarning)\n",
      "/Users/ekaterina/opt/anaconda3/lib/python3.7/site-packages/scipy/optimize/linesearch.py:466: LineSearchWarning: The line search algorithm did not converge\n",
      "  warn('The line search algorithm did not converge', LineSearchWarning)\n",
      "/Users/ekaterina/opt/anaconda3/lib/python3.7/site-packages/scipy/optimize/linesearch.py:314: LineSearchWarning: The line search algorithm did not converge\n",
      "  warn('The line search algorithm did not converge', LineSearchWarning)\n",
      "/Users/ekaterina/opt/anaconda3/lib/python3.7/site-packages/scipy/optimize/linesearch.py:466: LineSearchWarning: The line search algorithm did not converge\n",
      "  warn('The line search algorithm did not converge', LineSearchWarning)\n",
      "/Users/ekaterina/opt/anaconda3/lib/python3.7/site-packages/scipy/optimize/linesearch.py:314: LineSearchWarning: The line search algorithm did not converge\n",
      "  warn('The line search algorithm did not converge', LineSearchWarning)\n",
      "/Users/ekaterina/opt/anaconda3/lib/python3.7/site-packages/scipy/optimize/linesearch.py:466: LineSearchWarning: The line search algorithm did not converge\n",
      "  warn('The line search algorithm did not converge', LineSearchWarning)\n",
      "/Users/ekaterina/opt/anaconda3/lib/python3.7/site-packages/scipy/optimize/linesearch.py:314: LineSearchWarning: The line search algorithm did not converge\n",
      "  warn('The line search algorithm did not converge', LineSearchWarning)\n",
      "/Users/ekaterina/opt/anaconda3/lib/python3.7/site-packages/scipy/optimize/linesearch.py:466: LineSearchWarning: The line search algorithm did not converge\n",
      "  warn('The line search algorithm did not converge', LineSearchWarning)\n",
      "/Users/ekaterina/opt/anaconda3/lib/python3.7/site-packages/scipy/optimize/linesearch.py:314: LineSearchWarning: The line search algorithm did not converge\n",
      "  warn('The line search algorithm did not converge', LineSearchWarning)\n",
      "/Users/ekaterina/opt/anaconda3/lib/python3.7/site-packages/scipy/optimize/linesearch.py:466: LineSearchWarning: The line search algorithm did not converge\n",
      "  warn('The line search algorithm did not converge', LineSearchWarning)\n",
      "/Users/ekaterina/opt/anaconda3/lib/python3.7/site-packages/scipy/optimize/linesearch.py:314: LineSearchWarning: The line search algorithm did not converge\n",
      "  warn('The line search algorithm did not converge', LineSearchWarning)\n",
      "/Users/ekaterina/opt/anaconda3/lib/python3.7/site-packages/scipy/optimize/linesearch.py:466: LineSearchWarning: The line search algorithm did not converge\n",
      "  warn('The line search algorithm did not converge', LineSearchWarning)\n",
      "/Users/ekaterina/opt/anaconda3/lib/python3.7/site-packages/scipy/optimize/linesearch.py:314: LineSearchWarning: The line search algorithm did not converge\n",
      "  warn('The line search algorithm did not converge', LineSearchWarning)\n",
      "/Users/ekaterina/opt/anaconda3/lib/python3.7/site-packages/scipy/optimize/linesearch.py:466: LineSearchWarning: The line search algorithm did not converge\n",
      "  warn('The line search algorithm did not converge', LineSearchWarning)\n",
      "/Users/ekaterina/opt/anaconda3/lib/python3.7/site-packages/scipy/optimize/linesearch.py:314: LineSearchWarning: The line search algorithm did not converge\n",
      "  warn('The line search algorithm did not converge', LineSearchWarning)\n",
      "/Users/ekaterina/opt/anaconda3/lib/python3.7/site-packages/scipy/optimize/linesearch.py:466: LineSearchWarning: The line search algorithm did not converge\n",
      "  warn('The line search algorithm did not converge', LineSearchWarning)\n",
      "/Users/ekaterina/opt/anaconda3/lib/python3.7/site-packages/scipy/optimize/linesearch.py:314: LineSearchWarning: The line search algorithm did not converge\n",
      "  warn('The line search algorithm did not converge', LineSearchWarning)\n",
      "/Users/ekaterina/opt/anaconda3/lib/python3.7/site-packages/sklearn/utils/optimize.py:203: ConvergenceWarning: newton-cg failed to converge. Increase the number of iterations.\n",
      "  \"number of iterations.\", ConvergenceWarning)\n"
     ]
    },
    {
     "name": "stderr",
     "output_type": "stream",
     "text": [
      "/Users/ekaterina/opt/anaconda3/lib/python3.7/site-packages/scipy/optimize/linesearch.py:466: LineSearchWarning: The line search algorithm did not converge\n",
      "  warn('The line search algorithm did not converge', LineSearchWarning)\n",
      "/Users/ekaterina/opt/anaconda3/lib/python3.7/site-packages/scipy/optimize/linesearch.py:314: LineSearchWarning: The line search algorithm did not converge\n",
      "  warn('The line search algorithm did not converge', LineSearchWarning)\n",
      "/Users/ekaterina/opt/anaconda3/lib/python3.7/site-packages/scipy/optimize/linesearch.py:466: LineSearchWarning: The line search algorithm did not converge\n",
      "  warn('The line search algorithm did not converge', LineSearchWarning)\n",
      "/Users/ekaterina/opt/anaconda3/lib/python3.7/site-packages/scipy/optimize/linesearch.py:314: LineSearchWarning: The line search algorithm did not converge\n",
      "  warn('The line search algorithm did not converge', LineSearchWarning)\n",
      "/Users/ekaterina/opt/anaconda3/lib/python3.7/site-packages/scipy/optimize/linesearch.py:466: LineSearchWarning: The line search algorithm did not converge\n",
      "  warn('The line search algorithm did not converge', LineSearchWarning)\n",
      "/Users/ekaterina/opt/anaconda3/lib/python3.7/site-packages/scipy/optimize/linesearch.py:314: LineSearchWarning: The line search algorithm did not converge\n",
      "  warn('The line search algorithm did not converge', LineSearchWarning)\n",
      "/Users/ekaterina/opt/anaconda3/lib/python3.7/site-packages/scipy/optimize/linesearch.py:466: LineSearchWarning: The line search algorithm did not converge\n",
      "  warn('The line search algorithm did not converge', LineSearchWarning)\n",
      "/Users/ekaterina/opt/anaconda3/lib/python3.7/site-packages/scipy/optimize/linesearch.py:314: LineSearchWarning: The line search algorithm did not converge\n",
      "  warn('The line search algorithm did not converge', LineSearchWarning)\n",
      "/Users/ekaterina/opt/anaconda3/lib/python3.7/site-packages/scipy/optimize/linesearch.py:466: LineSearchWarning: The line search algorithm did not converge\n",
      "  warn('The line search algorithm did not converge', LineSearchWarning)\n",
      "/Users/ekaterina/opt/anaconda3/lib/python3.7/site-packages/scipy/optimize/linesearch.py:314: LineSearchWarning: The line search algorithm did not converge\n",
      "  warn('The line search algorithm did not converge', LineSearchWarning)\n",
      "/Users/ekaterina/opt/anaconda3/lib/python3.7/site-packages/scipy/optimize/linesearch.py:466: LineSearchWarning: The line search algorithm did not converge\n",
      "  warn('The line search algorithm did not converge', LineSearchWarning)\n",
      "/Users/ekaterina/opt/anaconda3/lib/python3.7/site-packages/scipy/optimize/linesearch.py:314: LineSearchWarning: The line search algorithm did not converge\n",
      "  warn('The line search algorithm did not converge', LineSearchWarning)\n",
      "/Users/ekaterina/opt/anaconda3/lib/python3.7/site-packages/scipy/optimize/linesearch.py:466: LineSearchWarning: The line search algorithm did not converge\n",
      "  warn('The line search algorithm did not converge', LineSearchWarning)\n",
      "/Users/ekaterina/opt/anaconda3/lib/python3.7/site-packages/scipy/optimize/linesearch.py:314: LineSearchWarning: The line search algorithm did not converge\n",
      "  warn('The line search algorithm did not converge', LineSearchWarning)\n",
      "/Users/ekaterina/opt/anaconda3/lib/python3.7/site-packages/scipy/optimize/linesearch.py:466: LineSearchWarning: The line search algorithm did not converge\n",
      "  warn('The line search algorithm did not converge', LineSearchWarning)\n",
      "/Users/ekaterina/opt/anaconda3/lib/python3.7/site-packages/scipy/optimize/linesearch.py:314: LineSearchWarning: The line search algorithm did not converge\n",
      "  warn('The line search algorithm did not converge', LineSearchWarning)\n",
      "/Users/ekaterina/opt/anaconda3/lib/python3.7/site-packages/scipy/optimize/linesearch.py:466: LineSearchWarning: The line search algorithm did not converge\n",
      "  warn('The line search algorithm did not converge', LineSearchWarning)\n",
      "/Users/ekaterina/opt/anaconda3/lib/python3.7/site-packages/scipy/optimize/linesearch.py:314: LineSearchWarning: The line search algorithm did not converge\n",
      "  warn('The line search algorithm did not converge', LineSearchWarning)\n",
      "/Users/ekaterina/opt/anaconda3/lib/python3.7/site-packages/sklearn/utils/optimize.py:203: ConvergenceWarning: newton-cg failed to converge. Increase the number of iterations.\n",
      "  \"number of iterations.\", ConvergenceWarning)\n",
      "/Users/ekaterina/opt/anaconda3/lib/python3.7/site-packages/scipy/optimize/linesearch.py:466: LineSearchWarning: The line search algorithm did not converge\n",
      "  warn('The line search algorithm did not converge', LineSearchWarning)\n",
      "/Users/ekaterina/opt/anaconda3/lib/python3.7/site-packages/scipy/optimize/linesearch.py:314: LineSearchWarning: The line search algorithm did not converge\n",
      "  warn('The line search algorithm did not converge', LineSearchWarning)\n",
      "/Users/ekaterina/opt/anaconda3/lib/python3.7/site-packages/scipy/optimize/linesearch.py:426: LineSearchWarning: Rounding errors prevent the line search from converging\n",
      "  warn(msg, LineSearchWarning)\n",
      "/Users/ekaterina/opt/anaconda3/lib/python3.7/site-packages/scipy/optimize/linesearch.py:314: LineSearchWarning: The line search algorithm did not converge\n",
      "  warn('The line search algorithm did not converge', LineSearchWarning)\n",
      "/Users/ekaterina/opt/anaconda3/lib/python3.7/site-packages/sklearn/utils/optimize.py:195: UserWarning: Line Search failed\n",
      "  warnings.warn('Line Search failed')\n",
      "/Users/ekaterina/opt/anaconda3/lib/python3.7/site-packages/scipy/optimize/linesearch.py:466: LineSearchWarning: The line search algorithm did not converge\n",
      "  warn('The line search algorithm did not converge', LineSearchWarning)\n",
      "/Users/ekaterina/opt/anaconda3/lib/python3.7/site-packages/scipy/optimize/linesearch.py:314: LineSearchWarning: The line search algorithm did not converge\n",
      "  warn('The line search algorithm did not converge', LineSearchWarning)\n",
      "/Users/ekaterina/opt/anaconda3/lib/python3.7/site-packages/scipy/optimize/linesearch.py:466: LineSearchWarning: The line search algorithm did not converge\n",
      "  warn('The line search algorithm did not converge', LineSearchWarning)\n",
      "/Users/ekaterina/opt/anaconda3/lib/python3.7/site-packages/scipy/optimize/linesearch.py:314: LineSearchWarning: The line search algorithm did not converge\n",
      "  warn('The line search algorithm did not converge', LineSearchWarning)\n",
      "/Users/ekaterina/opt/anaconda3/lib/python3.7/site-packages/scipy/optimize/linesearch.py:426: LineSearchWarning: Rounding errors prevent the line search from converging\n",
      "  warn(msg, LineSearchWarning)\n",
      "/Users/ekaterina/opt/anaconda3/lib/python3.7/site-packages/scipy/optimize/linesearch.py:314: LineSearchWarning: The line search algorithm did not converge\n",
      "  warn('The line search algorithm did not converge', LineSearchWarning)\n",
      "/Users/ekaterina/opt/anaconda3/lib/python3.7/site-packages/sklearn/utils/optimize.py:195: UserWarning: Line Search failed\n",
      "  warnings.warn('Line Search failed')\n",
      "/Users/ekaterina/opt/anaconda3/lib/python3.7/site-packages/scipy/optimize/linesearch.py:466: LineSearchWarning: The line search algorithm did not converge\n",
      "  warn('The line search algorithm did not converge', LineSearchWarning)\n",
      "/Users/ekaterina/opt/anaconda3/lib/python3.7/site-packages/scipy/optimize/linesearch.py:314: LineSearchWarning: The line search algorithm did not converge\n",
      "  warn('The line search algorithm did not converge', LineSearchWarning)\n",
      "/Users/ekaterina/opt/anaconda3/lib/python3.7/site-packages/scipy/optimize/linesearch.py:466: LineSearchWarning: The line search algorithm did not converge\n",
      "  warn('The line search algorithm did not converge', LineSearchWarning)\n",
      "/Users/ekaterina/opt/anaconda3/lib/python3.7/site-packages/scipy/optimize/linesearch.py:314: LineSearchWarning: The line search algorithm did not converge\n",
      "  warn('The line search algorithm did not converge', LineSearchWarning)\n",
      "/Users/ekaterina/opt/anaconda3/lib/python3.7/site-packages/scipy/optimize/linesearch.py:466: LineSearchWarning: The line search algorithm did not converge\n",
      "  warn('The line search algorithm did not converge', LineSearchWarning)\n",
      "/Users/ekaterina/opt/anaconda3/lib/python3.7/site-packages/scipy/optimize/linesearch.py:314: LineSearchWarning: The line search algorithm did not converge\n",
      "  warn('The line search algorithm did not converge', LineSearchWarning)\n",
      "/Users/ekaterina/opt/anaconda3/lib/python3.7/site-packages/scipy/optimize/linesearch.py:466: LineSearchWarning: The line search algorithm did not converge\n",
      "  warn('The line search algorithm did not converge', LineSearchWarning)\n",
      "/Users/ekaterina/opt/anaconda3/lib/python3.7/site-packages/scipy/optimize/linesearch.py:314: LineSearchWarning: The line search algorithm did not converge\n",
      "  warn('The line search algorithm did not converge', LineSearchWarning)\n",
      "/Users/ekaterina/opt/anaconda3/lib/python3.7/site-packages/scipy/optimize/linesearch.py:466: LineSearchWarning: The line search algorithm did not converge\n",
      "  warn('The line search algorithm did not converge', LineSearchWarning)\n",
      "/Users/ekaterina/opt/anaconda3/lib/python3.7/site-packages/scipy/optimize/linesearch.py:314: LineSearchWarning: The line search algorithm did not converge\n",
      "  warn('The line search algorithm did not converge', LineSearchWarning)\n"
     ]
    },
    {
     "name": "stderr",
     "output_type": "stream",
     "text": [
      "/Users/ekaterina/opt/anaconda3/lib/python3.7/site-packages/scipy/optimize/linesearch.py:466: LineSearchWarning: The line search algorithm did not converge\n",
      "  warn('The line search algorithm did not converge', LineSearchWarning)\n",
      "/Users/ekaterina/opt/anaconda3/lib/python3.7/site-packages/scipy/optimize/linesearch.py:314: LineSearchWarning: The line search algorithm did not converge\n",
      "  warn('The line search algorithm did not converge', LineSearchWarning)\n",
      "/Users/ekaterina/opt/anaconda3/lib/python3.7/site-packages/scipy/optimize/linesearch.py:466: LineSearchWarning: The line search algorithm did not converge\n",
      "  warn('The line search algorithm did not converge', LineSearchWarning)\n",
      "/Users/ekaterina/opt/anaconda3/lib/python3.7/site-packages/scipy/optimize/linesearch.py:314: LineSearchWarning: The line search algorithm did not converge\n",
      "  warn('The line search algorithm did not converge', LineSearchWarning)\n",
      "/Users/ekaterina/opt/anaconda3/lib/python3.7/site-packages/scipy/optimize/linesearch.py:466: LineSearchWarning: The line search algorithm did not converge\n",
      "  warn('The line search algorithm did not converge', LineSearchWarning)\n",
      "/Users/ekaterina/opt/anaconda3/lib/python3.7/site-packages/scipy/optimize/linesearch.py:314: LineSearchWarning: The line search algorithm did not converge\n",
      "  warn('The line search algorithm did not converge', LineSearchWarning)\n",
      "/Users/ekaterina/opt/anaconda3/lib/python3.7/site-packages/scipy/optimize/linesearch.py:466: LineSearchWarning: The line search algorithm did not converge\n",
      "  warn('The line search algorithm did not converge', LineSearchWarning)\n",
      "/Users/ekaterina/opt/anaconda3/lib/python3.7/site-packages/scipy/optimize/linesearch.py:314: LineSearchWarning: The line search algorithm did not converge\n",
      "  warn('The line search algorithm did not converge', LineSearchWarning)\n",
      "/Users/ekaterina/opt/anaconda3/lib/python3.7/site-packages/sklearn/utils/optimize.py:203: ConvergenceWarning: newton-cg failed to converge. Increase the number of iterations.\n",
      "  \"number of iterations.\", ConvergenceWarning)\n",
      "/Users/ekaterina/opt/anaconda3/lib/python3.7/site-packages/scipy/optimize/linesearch.py:426: LineSearchWarning: Rounding errors prevent the line search from converging\n",
      "  warn(msg, LineSearchWarning)\n",
      "/Users/ekaterina/opt/anaconda3/lib/python3.7/site-packages/scipy/optimize/linesearch.py:314: LineSearchWarning: The line search algorithm did not converge\n",
      "  warn('The line search algorithm did not converge', LineSearchWarning)\n",
      "/Users/ekaterina/opt/anaconda3/lib/python3.7/site-packages/sklearn/utils/optimize.py:195: UserWarning: Line Search failed\n",
      "  warnings.warn('Line Search failed')\n",
      "/Users/ekaterina/opt/anaconda3/lib/python3.7/site-packages/scipy/optimize/linesearch.py:426: LineSearchWarning: Rounding errors prevent the line search from converging\n",
      "  warn(msg, LineSearchWarning)\n",
      "/Users/ekaterina/opt/anaconda3/lib/python3.7/site-packages/scipy/optimize/linesearch.py:314: LineSearchWarning: The line search algorithm did not converge\n",
      "  warn('The line search algorithm did not converge', LineSearchWarning)\n",
      "/Users/ekaterina/opt/anaconda3/lib/python3.7/site-packages/sklearn/utils/optimize.py:195: UserWarning: Line Search failed\n",
      "  warnings.warn('Line Search failed')\n",
      "/Users/ekaterina/opt/anaconda3/lib/python3.7/site-packages/scipy/optimize/linesearch.py:426: LineSearchWarning: Rounding errors prevent the line search from converging\n",
      "  warn(msg, LineSearchWarning)\n",
      "/Users/ekaterina/opt/anaconda3/lib/python3.7/site-packages/scipy/optimize/linesearch.py:314: LineSearchWarning: The line search algorithm did not converge\n",
      "  warn('The line search algorithm did not converge', LineSearchWarning)\n",
      "/Users/ekaterina/opt/anaconda3/lib/python3.7/site-packages/sklearn/utils/optimize.py:195: UserWarning: Line Search failed\n",
      "  warnings.warn('Line Search failed')\n",
      "/Users/ekaterina/opt/anaconda3/lib/python3.7/site-packages/scipy/optimize/linesearch.py:426: LineSearchWarning: Rounding errors prevent the line search from converging\n",
      "  warn(msg, LineSearchWarning)\n",
      "/Users/ekaterina/opt/anaconda3/lib/python3.7/site-packages/scipy/optimize/linesearch.py:314: LineSearchWarning: The line search algorithm did not converge\n",
      "  warn('The line search algorithm did not converge', LineSearchWarning)\n",
      "/Users/ekaterina/opt/anaconda3/lib/python3.7/site-packages/sklearn/utils/optimize.py:195: UserWarning: Line Search failed\n",
      "  warnings.warn('Line Search failed')\n",
      "/Users/ekaterina/opt/anaconda3/lib/python3.7/site-packages/scipy/optimize/linesearch.py:466: LineSearchWarning: The line search algorithm did not converge\n",
      "  warn('The line search algorithm did not converge', LineSearchWarning)\n",
      "/Users/ekaterina/opt/anaconda3/lib/python3.7/site-packages/scipy/optimize/linesearch.py:314: LineSearchWarning: The line search algorithm did not converge\n",
      "  warn('The line search algorithm did not converge', LineSearchWarning)\n",
      "/Users/ekaterina/opt/anaconda3/lib/python3.7/site-packages/scipy/optimize/linesearch.py:466: LineSearchWarning: The line search algorithm did not converge\n",
      "  warn('The line search algorithm did not converge', LineSearchWarning)\n",
      "/Users/ekaterina/opt/anaconda3/lib/python3.7/site-packages/scipy/optimize/linesearch.py:314: LineSearchWarning: The line search algorithm did not converge\n",
      "  warn('The line search algorithm did not converge', LineSearchWarning)\n",
      "/Users/ekaterina/opt/anaconda3/lib/python3.7/site-packages/scipy/optimize/linesearch.py:466: LineSearchWarning: The line search algorithm did not converge\n",
      "  warn('The line search algorithm did not converge', LineSearchWarning)\n",
      "/Users/ekaterina/opt/anaconda3/lib/python3.7/site-packages/scipy/optimize/linesearch.py:314: LineSearchWarning: The line search algorithm did not converge\n",
      "  warn('The line search algorithm did not converge', LineSearchWarning)\n",
      "/Users/ekaterina/opt/anaconda3/lib/python3.7/site-packages/scipy/optimize/linesearch.py:466: LineSearchWarning: The line search algorithm did not converge\n",
      "  warn('The line search algorithm did not converge', LineSearchWarning)\n",
      "/Users/ekaterina/opt/anaconda3/lib/python3.7/site-packages/scipy/optimize/linesearch.py:314: LineSearchWarning: The line search algorithm did not converge\n",
      "  warn('The line search algorithm did not converge', LineSearchWarning)\n",
      "/Users/ekaterina/opt/anaconda3/lib/python3.7/site-packages/scipy/optimize/linesearch.py:466: LineSearchWarning: The line search algorithm did not converge\n",
      "  warn('The line search algorithm did not converge', LineSearchWarning)\n",
      "/Users/ekaterina/opt/anaconda3/lib/python3.7/site-packages/scipy/optimize/linesearch.py:314: LineSearchWarning: The line search algorithm did not converge\n",
      "  warn('The line search algorithm did not converge', LineSearchWarning)\n",
      "/Users/ekaterina/opt/anaconda3/lib/python3.7/site-packages/scipy/optimize/linesearch.py:466: LineSearchWarning: The line search algorithm did not converge\n",
      "  warn('The line search algorithm did not converge', LineSearchWarning)\n",
      "/Users/ekaterina/opt/anaconda3/lib/python3.7/site-packages/scipy/optimize/linesearch.py:314: LineSearchWarning: The line search algorithm did not converge\n",
      "  warn('The line search algorithm did not converge', LineSearchWarning)\n",
      "/Users/ekaterina/opt/anaconda3/lib/python3.7/site-packages/scipy/optimize/linesearch.py:466: LineSearchWarning: The line search algorithm did not converge\n",
      "  warn('The line search algorithm did not converge', LineSearchWarning)\n",
      "/Users/ekaterina/opt/anaconda3/lib/python3.7/site-packages/scipy/optimize/linesearch.py:314: LineSearchWarning: The line search algorithm did not converge\n",
      "  warn('The line search algorithm did not converge', LineSearchWarning)\n",
      "/Users/ekaterina/opt/anaconda3/lib/python3.7/site-packages/sklearn/utils/optimize.py:203: ConvergenceWarning: newton-cg failed to converge. Increase the number of iterations.\n",
      "  \"number of iterations.\", ConvergenceWarning)\n",
      "/Users/ekaterina/opt/anaconda3/lib/python3.7/site-packages/scipy/optimize/linesearch.py:466: LineSearchWarning: The line search algorithm did not converge\n",
      "  warn('The line search algorithm did not converge', LineSearchWarning)\n",
      "/Users/ekaterina/opt/anaconda3/lib/python3.7/site-packages/scipy/optimize/linesearch.py:314: LineSearchWarning: The line search algorithm did not converge\n",
      "  warn('The line search algorithm did not converge', LineSearchWarning)\n",
      "/Users/ekaterina/opt/anaconda3/lib/python3.7/site-packages/scipy/optimize/linesearch.py:466: LineSearchWarning: The line search algorithm did not converge\n",
      "  warn('The line search algorithm did not converge', LineSearchWarning)\n",
      "/Users/ekaterina/opt/anaconda3/lib/python3.7/site-packages/scipy/optimize/linesearch.py:314: LineSearchWarning: The line search algorithm did not converge\n",
      "  warn('The line search algorithm did not converge', LineSearchWarning)\n",
      "/Users/ekaterina/opt/anaconda3/lib/python3.7/site-packages/scipy/optimize/linesearch.py:466: LineSearchWarning: The line search algorithm did not converge\n",
      "  warn('The line search algorithm did not converge', LineSearchWarning)\n",
      "/Users/ekaterina/opt/anaconda3/lib/python3.7/site-packages/scipy/optimize/linesearch.py:314: LineSearchWarning: The line search algorithm did not converge\n",
      "  warn('The line search algorithm did not converge', LineSearchWarning)\n"
     ]
    },
    {
     "name": "stderr",
     "output_type": "stream",
     "text": [
      "/Users/ekaterina/opt/anaconda3/lib/python3.7/site-packages/scipy/optimize/linesearch.py:466: LineSearchWarning: The line search algorithm did not converge\n",
      "  warn('The line search algorithm did not converge', LineSearchWarning)\n",
      "/Users/ekaterina/opt/anaconda3/lib/python3.7/site-packages/scipy/optimize/linesearch.py:314: LineSearchWarning: The line search algorithm did not converge\n",
      "  warn('The line search algorithm did not converge', LineSearchWarning)\n",
      "/Users/ekaterina/opt/anaconda3/lib/python3.7/site-packages/scipy/optimize/linesearch.py:466: LineSearchWarning: The line search algorithm did not converge\n",
      "  warn('The line search algorithm did not converge', LineSearchWarning)\n",
      "/Users/ekaterina/opt/anaconda3/lib/python3.7/site-packages/scipy/optimize/linesearch.py:314: LineSearchWarning: The line search algorithm did not converge\n",
      "  warn('The line search algorithm did not converge', LineSearchWarning)\n",
      "/Users/ekaterina/opt/anaconda3/lib/python3.7/site-packages/scipy/optimize/linesearch.py:466: LineSearchWarning: The line search algorithm did not converge\n",
      "  warn('The line search algorithm did not converge', LineSearchWarning)\n",
      "/Users/ekaterina/opt/anaconda3/lib/python3.7/site-packages/scipy/optimize/linesearch.py:314: LineSearchWarning: The line search algorithm did not converge\n",
      "  warn('The line search algorithm did not converge', LineSearchWarning)\n",
      "/Users/ekaterina/opt/anaconda3/lib/python3.7/site-packages/scipy/optimize/linesearch.py:466: LineSearchWarning: The line search algorithm did not converge\n",
      "  warn('The line search algorithm did not converge', LineSearchWarning)\n",
      "/Users/ekaterina/opt/anaconda3/lib/python3.7/site-packages/scipy/optimize/linesearch.py:314: LineSearchWarning: The line search algorithm did not converge\n",
      "  warn('The line search algorithm did not converge', LineSearchWarning)\n",
      "/Users/ekaterina/opt/anaconda3/lib/python3.7/site-packages/scipy/optimize/linesearch.py:466: LineSearchWarning: The line search algorithm did not converge\n",
      "  warn('The line search algorithm did not converge', LineSearchWarning)\n",
      "/Users/ekaterina/opt/anaconda3/lib/python3.7/site-packages/scipy/optimize/linesearch.py:314: LineSearchWarning: The line search algorithm did not converge\n",
      "  warn('The line search algorithm did not converge', LineSearchWarning)\n",
      "/Users/ekaterina/opt/anaconda3/lib/python3.7/site-packages/scipy/optimize/linesearch.py:466: LineSearchWarning: The line search algorithm did not converge\n",
      "  warn('The line search algorithm did not converge', LineSearchWarning)\n",
      "/Users/ekaterina/opt/anaconda3/lib/python3.7/site-packages/scipy/optimize/linesearch.py:314: LineSearchWarning: The line search algorithm did not converge\n",
      "  warn('The line search algorithm did not converge', LineSearchWarning)\n",
      "/Users/ekaterina/opt/anaconda3/lib/python3.7/site-packages/scipy/optimize/linesearch.py:466: LineSearchWarning: The line search algorithm did not converge\n",
      "  warn('The line search algorithm did not converge', LineSearchWarning)\n",
      "/Users/ekaterina/opt/anaconda3/lib/python3.7/site-packages/scipy/optimize/linesearch.py:314: LineSearchWarning: The line search algorithm did not converge\n",
      "  warn('The line search algorithm did not converge', LineSearchWarning)\n",
      "/Users/ekaterina/opt/anaconda3/lib/python3.7/site-packages/scipy/optimize/linesearch.py:466: LineSearchWarning: The line search algorithm did not converge\n",
      "  warn('The line search algorithm did not converge', LineSearchWarning)\n",
      "/Users/ekaterina/opt/anaconda3/lib/python3.7/site-packages/scipy/optimize/linesearch.py:314: LineSearchWarning: The line search algorithm did not converge\n",
      "  warn('The line search algorithm did not converge', LineSearchWarning)\n",
      "/Users/ekaterina/opt/anaconda3/lib/python3.7/site-packages/scipy/optimize/linesearch.py:466: LineSearchWarning: The line search algorithm did not converge\n",
      "  warn('The line search algorithm did not converge', LineSearchWarning)\n",
      "/Users/ekaterina/opt/anaconda3/lib/python3.7/site-packages/scipy/optimize/linesearch.py:314: LineSearchWarning: The line search algorithm did not converge\n",
      "  warn('The line search algorithm did not converge', LineSearchWarning)\n",
      "/Users/ekaterina/opt/anaconda3/lib/python3.7/site-packages/scipy/optimize/linesearch.py:466: LineSearchWarning: The line search algorithm did not converge\n",
      "  warn('The line search algorithm did not converge', LineSearchWarning)\n",
      "/Users/ekaterina/opt/anaconda3/lib/python3.7/site-packages/scipy/optimize/linesearch.py:314: LineSearchWarning: The line search algorithm did not converge\n",
      "  warn('The line search algorithm did not converge', LineSearchWarning)\n",
      "/Users/ekaterina/opt/anaconda3/lib/python3.7/site-packages/scipy/optimize/linesearch.py:466: LineSearchWarning: The line search algorithm did not converge\n",
      "  warn('The line search algorithm did not converge', LineSearchWarning)\n",
      "/Users/ekaterina/opt/anaconda3/lib/python3.7/site-packages/scipy/optimize/linesearch.py:314: LineSearchWarning: The line search algorithm did not converge\n",
      "  warn('The line search algorithm did not converge', LineSearchWarning)\n",
      "/Users/ekaterina/opt/anaconda3/lib/python3.7/site-packages/scipy/optimize/linesearch.py:466: LineSearchWarning: The line search algorithm did not converge\n",
      "  warn('The line search algorithm did not converge', LineSearchWarning)\n",
      "/Users/ekaterina/opt/anaconda3/lib/python3.7/site-packages/scipy/optimize/linesearch.py:314: LineSearchWarning: The line search algorithm did not converge\n",
      "  warn('The line search algorithm did not converge', LineSearchWarning)\n",
      "/Users/ekaterina/opt/anaconda3/lib/python3.7/site-packages/sklearn/utils/optimize.py:203: ConvergenceWarning: newton-cg failed to converge. Increase the number of iterations.\n",
      "  \"number of iterations.\", ConvergenceWarning)\n",
      "/Users/ekaterina/opt/anaconda3/lib/python3.7/site-packages/scipy/optimize/linesearch.py:466: LineSearchWarning: The line search algorithm did not converge\n",
      "  warn('The line search algorithm did not converge', LineSearchWarning)\n",
      "/Users/ekaterina/opt/anaconda3/lib/python3.7/site-packages/scipy/optimize/linesearch.py:314: LineSearchWarning: The line search algorithm did not converge\n",
      "  warn('The line search algorithm did not converge', LineSearchWarning)\n",
      "/Users/ekaterina/opt/anaconda3/lib/python3.7/site-packages/scipy/optimize/linesearch.py:466: LineSearchWarning: The line search algorithm did not converge\n",
      "  warn('The line search algorithm did not converge', LineSearchWarning)\n",
      "/Users/ekaterina/opt/anaconda3/lib/python3.7/site-packages/scipy/optimize/linesearch.py:314: LineSearchWarning: The line search algorithm did not converge\n",
      "  warn('The line search algorithm did not converge', LineSearchWarning)\n",
      "/Users/ekaterina/opt/anaconda3/lib/python3.7/site-packages/scipy/optimize/linesearch.py:466: LineSearchWarning: The line search algorithm did not converge\n",
      "  warn('The line search algorithm did not converge', LineSearchWarning)\n",
      "/Users/ekaterina/opt/anaconda3/lib/python3.7/site-packages/scipy/optimize/linesearch.py:314: LineSearchWarning: The line search algorithm did not converge\n",
      "  warn('The line search algorithm did not converge', LineSearchWarning)\n",
      "/Users/ekaterina/opt/anaconda3/lib/python3.7/site-packages/scipy/optimize/linesearch.py:466: LineSearchWarning: The line search algorithm did not converge\n",
      "  warn('The line search algorithm did not converge', LineSearchWarning)\n",
      "/Users/ekaterina/opt/anaconda3/lib/python3.7/site-packages/scipy/optimize/linesearch.py:314: LineSearchWarning: The line search algorithm did not converge\n",
      "  warn('The line search algorithm did not converge', LineSearchWarning)\n",
      "/Users/ekaterina/opt/anaconda3/lib/python3.7/site-packages/scipy/optimize/linesearch.py:466: LineSearchWarning: The line search algorithm did not converge\n",
      "  warn('The line search algorithm did not converge', LineSearchWarning)\n",
      "/Users/ekaterina/opt/anaconda3/lib/python3.7/site-packages/scipy/optimize/linesearch.py:314: LineSearchWarning: The line search algorithm did not converge\n",
      "  warn('The line search algorithm did not converge', LineSearchWarning)\n",
      "/Users/ekaterina/opt/anaconda3/lib/python3.7/site-packages/scipy/optimize/linesearch.py:466: LineSearchWarning: The line search algorithm did not converge\n",
      "  warn('The line search algorithm did not converge', LineSearchWarning)\n",
      "/Users/ekaterina/opt/anaconda3/lib/python3.7/site-packages/scipy/optimize/linesearch.py:314: LineSearchWarning: The line search algorithm did not converge\n",
      "  warn('The line search algorithm did not converge', LineSearchWarning)\n",
      "/Users/ekaterina/opt/anaconda3/lib/python3.7/site-packages/scipy/optimize/linesearch.py:466: LineSearchWarning: The line search algorithm did not converge\n",
      "  warn('The line search algorithm did not converge', LineSearchWarning)\n",
      "/Users/ekaterina/opt/anaconda3/lib/python3.7/site-packages/scipy/optimize/linesearch.py:314: LineSearchWarning: The line search algorithm did not converge\n",
      "  warn('The line search algorithm did not converge', LineSearchWarning)\n"
     ]
    },
    {
     "name": "stderr",
     "output_type": "stream",
     "text": [
      "/Users/ekaterina/opt/anaconda3/lib/python3.7/site-packages/scipy/optimize/linesearch.py:466: LineSearchWarning: The line search algorithm did not converge\n",
      "  warn('The line search algorithm did not converge', LineSearchWarning)\n",
      "/Users/ekaterina/opt/anaconda3/lib/python3.7/site-packages/scipy/optimize/linesearch.py:314: LineSearchWarning: The line search algorithm did not converge\n",
      "  warn('The line search algorithm did not converge', LineSearchWarning)\n",
      "/Users/ekaterina/opt/anaconda3/lib/python3.7/site-packages/scipy/optimize/linesearch.py:466: LineSearchWarning: The line search algorithm did not converge\n",
      "  warn('The line search algorithm did not converge', LineSearchWarning)\n",
      "/Users/ekaterina/opt/anaconda3/lib/python3.7/site-packages/scipy/optimize/linesearch.py:314: LineSearchWarning: The line search algorithm did not converge\n",
      "  warn('The line search algorithm did not converge', LineSearchWarning)\n",
      "/Users/ekaterina/opt/anaconda3/lib/python3.7/site-packages/scipy/optimize/linesearch.py:466: LineSearchWarning: The line search algorithm did not converge\n",
      "  warn('The line search algorithm did not converge', LineSearchWarning)\n",
      "/Users/ekaterina/opt/anaconda3/lib/python3.7/site-packages/scipy/optimize/linesearch.py:314: LineSearchWarning: The line search algorithm did not converge\n",
      "  warn('The line search algorithm did not converge', LineSearchWarning)\n",
      "/Users/ekaterina/opt/anaconda3/lib/python3.7/site-packages/scipy/optimize/linesearch.py:466: LineSearchWarning: The line search algorithm did not converge\n",
      "  warn('The line search algorithm did not converge', LineSearchWarning)\n",
      "/Users/ekaterina/opt/anaconda3/lib/python3.7/site-packages/scipy/optimize/linesearch.py:314: LineSearchWarning: The line search algorithm did not converge\n",
      "  warn('The line search algorithm did not converge', LineSearchWarning)\n",
      "/Users/ekaterina/opt/anaconda3/lib/python3.7/site-packages/scipy/optimize/linesearch.py:426: LineSearchWarning: Rounding errors prevent the line search from converging\n",
      "  warn(msg, LineSearchWarning)\n",
      "/Users/ekaterina/opt/anaconda3/lib/python3.7/site-packages/scipy/optimize/linesearch.py:314: LineSearchWarning: The line search algorithm did not converge\n",
      "  warn('The line search algorithm did not converge', LineSearchWarning)\n",
      "/Users/ekaterina/opt/anaconda3/lib/python3.7/site-packages/sklearn/utils/optimize.py:195: UserWarning: Line Search failed\n",
      "  warnings.warn('Line Search failed')\n",
      "/Users/ekaterina/opt/anaconda3/lib/python3.7/site-packages/scipy/optimize/linesearch.py:466: LineSearchWarning: The line search algorithm did not converge\n",
      "  warn('The line search algorithm did not converge', LineSearchWarning)\n",
      "/Users/ekaterina/opt/anaconda3/lib/python3.7/site-packages/scipy/optimize/linesearch.py:314: LineSearchWarning: The line search algorithm did not converge\n",
      "  warn('The line search algorithm did not converge', LineSearchWarning)\n",
      "/Users/ekaterina/opt/anaconda3/lib/python3.7/site-packages/scipy/optimize/linesearch.py:426: LineSearchWarning: Rounding errors prevent the line search from converging\n",
      "  warn(msg, LineSearchWarning)\n",
      "/Users/ekaterina/opt/anaconda3/lib/python3.7/site-packages/scipy/optimize/linesearch.py:314: LineSearchWarning: The line search algorithm did not converge\n",
      "  warn('The line search algorithm did not converge', LineSearchWarning)\n",
      "/Users/ekaterina/opt/anaconda3/lib/python3.7/site-packages/sklearn/utils/optimize.py:195: UserWarning: Line Search failed\n",
      "  warnings.warn('Line Search failed')\n",
      "/Users/ekaterina/opt/anaconda3/lib/python3.7/site-packages/scipy/optimize/linesearch.py:466: LineSearchWarning: The line search algorithm did not converge\n",
      "  warn('The line search algorithm did not converge', LineSearchWarning)\n",
      "/Users/ekaterina/opt/anaconda3/lib/python3.7/site-packages/scipy/optimize/linesearch.py:314: LineSearchWarning: The line search algorithm did not converge\n",
      "  warn('The line search algorithm did not converge', LineSearchWarning)\n",
      "/Users/ekaterina/opt/anaconda3/lib/python3.7/site-packages/scipy/optimize/linesearch.py:426: LineSearchWarning: Rounding errors prevent the line search from converging\n",
      "  warn(msg, LineSearchWarning)\n",
      "/Users/ekaterina/opt/anaconda3/lib/python3.7/site-packages/scipy/optimize/linesearch.py:314: LineSearchWarning: The line search algorithm did not converge\n",
      "  warn('The line search algorithm did not converge', LineSearchWarning)\n",
      "/Users/ekaterina/opt/anaconda3/lib/python3.7/site-packages/sklearn/utils/optimize.py:195: UserWarning: Line Search failed\n",
      "  warnings.warn('Line Search failed')\n",
      "/Users/ekaterina/opt/anaconda3/lib/python3.7/site-packages/scipy/optimize/linesearch.py:466: LineSearchWarning: The line search algorithm did not converge\n",
      "  warn('The line search algorithm did not converge', LineSearchWarning)\n",
      "/Users/ekaterina/opt/anaconda3/lib/python3.7/site-packages/scipy/optimize/linesearch.py:314: LineSearchWarning: The line search algorithm did not converge\n",
      "  warn('The line search algorithm did not converge', LineSearchWarning)\n",
      "/Users/ekaterina/opt/anaconda3/lib/python3.7/site-packages/scipy/optimize/linesearch.py:466: LineSearchWarning: The line search algorithm did not converge\n",
      "  warn('The line search algorithm did not converge', LineSearchWarning)\n",
      "/Users/ekaterina/opt/anaconda3/lib/python3.7/site-packages/scipy/optimize/linesearch.py:314: LineSearchWarning: The line search algorithm did not converge\n",
      "  warn('The line search algorithm did not converge', LineSearchWarning)\n",
      "/Users/ekaterina/opt/anaconda3/lib/python3.7/site-packages/scipy/optimize/linesearch.py:314: LineSearchWarning: The line search algorithm did not converge\n",
      "  warn('The line search algorithm did not converge', LineSearchWarning)\n",
      "/Users/ekaterina/opt/anaconda3/lib/python3.7/site-packages/sklearn/utils/optimize.py:195: UserWarning: Line Search failed\n",
      "  warnings.warn('Line Search failed')\n",
      "/Users/ekaterina/opt/anaconda3/lib/python3.7/site-packages/scipy/optimize/linesearch.py:426: LineSearchWarning: Rounding errors prevent the line search from converging\n",
      "  warn(msg, LineSearchWarning)\n",
      "/Users/ekaterina/opt/anaconda3/lib/python3.7/site-packages/scipy/optimize/linesearch.py:314: LineSearchWarning: The line search algorithm did not converge\n",
      "  warn('The line search algorithm did not converge', LineSearchWarning)\n",
      "/Users/ekaterina/opt/anaconda3/lib/python3.7/site-packages/sklearn/utils/optimize.py:195: UserWarning: Line Search failed\n",
      "  warnings.warn('Line Search failed')\n",
      "/Users/ekaterina/opt/anaconda3/lib/python3.7/site-packages/scipy/optimize/linesearch.py:466: LineSearchWarning: The line search algorithm did not converge\n",
      "  warn('The line search algorithm did not converge', LineSearchWarning)\n",
      "/Users/ekaterina/opt/anaconda3/lib/python3.7/site-packages/scipy/optimize/linesearch.py:314: LineSearchWarning: The line search algorithm did not converge\n",
      "  warn('The line search algorithm did not converge', LineSearchWarning)\n",
      "/Users/ekaterina/opt/anaconda3/lib/python3.7/site-packages/scipy/optimize/linesearch.py:466: LineSearchWarning: The line search algorithm did not converge\n",
      "  warn('The line search algorithm did not converge', LineSearchWarning)\n",
      "/Users/ekaterina/opt/anaconda3/lib/python3.7/site-packages/scipy/optimize/linesearch.py:314: LineSearchWarning: The line search algorithm did not converge\n",
      "  warn('The line search algorithm did not converge', LineSearchWarning)\n",
      "/Users/ekaterina/opt/anaconda3/lib/python3.7/site-packages/scipy/optimize/linesearch.py:466: LineSearchWarning: The line search algorithm did not converge\n",
      "  warn('The line search algorithm did not converge', LineSearchWarning)\n",
      "/Users/ekaterina/opt/anaconda3/lib/python3.7/site-packages/scipy/optimize/linesearch.py:314: LineSearchWarning: The line search algorithm did not converge\n",
      "  warn('The line search algorithm did not converge', LineSearchWarning)\n",
      "/Users/ekaterina/opt/anaconda3/lib/python3.7/site-packages/scipy/optimize/linesearch.py:466: LineSearchWarning: The line search algorithm did not converge\n",
      "  warn('The line search algorithm did not converge', LineSearchWarning)\n",
      "/Users/ekaterina/opt/anaconda3/lib/python3.7/site-packages/scipy/optimize/linesearch.py:314: LineSearchWarning: The line search algorithm did not converge\n",
      "  warn('The line search algorithm did not converge', LineSearchWarning)\n",
      "/Users/ekaterina/opt/anaconda3/lib/python3.7/site-packages/scipy/optimize/linesearch.py:426: LineSearchWarning: Rounding errors prevent the line search from converging\n",
      "  warn(msg, LineSearchWarning)\n",
      "/Users/ekaterina/opt/anaconda3/lib/python3.7/site-packages/scipy/optimize/linesearch.py:314: LineSearchWarning: The line search algorithm did not converge\n",
      "  warn('The line search algorithm did not converge', LineSearchWarning)\n",
      "/Users/ekaterina/opt/anaconda3/lib/python3.7/site-packages/sklearn/utils/optimize.py:195: UserWarning: Line Search failed\n",
      "  warnings.warn('Line Search failed')\n",
      "/Users/ekaterina/opt/anaconda3/lib/python3.7/site-packages/scipy/optimize/linesearch.py:466: LineSearchWarning: The line search algorithm did not converge\n",
      "  warn('The line search algorithm did not converge', LineSearchWarning)\n",
      "/Users/ekaterina/opt/anaconda3/lib/python3.7/site-packages/scipy/optimize/linesearch.py:314: LineSearchWarning: The line search algorithm did not converge\n",
      "  warn('The line search algorithm did not converge', LineSearchWarning)\n",
      "/Users/ekaterina/opt/anaconda3/lib/python3.7/site-packages/scipy/optimize/linesearch.py:466: LineSearchWarning: The line search algorithm did not converge\n",
      "  warn('The line search algorithm did not converge', LineSearchWarning)\n",
      "/Users/ekaterina/opt/anaconda3/lib/python3.7/site-packages/scipy/optimize/linesearch.py:314: LineSearchWarning: The line search algorithm did not converge\n",
      "  warn('The line search algorithm did not converge', LineSearchWarning)\n",
      "/Users/ekaterina/opt/anaconda3/lib/python3.7/site-packages/scipy/optimize/linesearch.py:466: LineSearchWarning: The line search algorithm did not converge\n",
      "  warn('The line search algorithm did not converge', LineSearchWarning)\n",
      "/Users/ekaterina/opt/anaconda3/lib/python3.7/site-packages/scipy/optimize/linesearch.py:314: LineSearchWarning: The line search algorithm did not converge\n",
      "  warn('The line search algorithm did not converge', LineSearchWarning)\n",
      "/Users/ekaterina/opt/anaconda3/lib/python3.7/site-packages/scipy/optimize/linesearch.py:426: LineSearchWarning: Rounding errors prevent the line search from converging\n",
      "  warn(msg, LineSearchWarning)\n",
      "/Users/ekaterina/opt/anaconda3/lib/python3.7/site-packages/scipy/optimize/linesearch.py:314: LineSearchWarning: The line search algorithm did not converge\n",
      "  warn('The line search algorithm did not converge', LineSearchWarning)\n",
      "/Users/ekaterina/opt/anaconda3/lib/python3.7/site-packages/sklearn/utils/optimize.py:195: UserWarning: Line Search failed\n",
      "  warnings.warn('Line Search failed')\n"
     ]
    },
    {
     "name": "stderr",
     "output_type": "stream",
     "text": [
      "/Users/ekaterina/opt/anaconda3/lib/python3.7/site-packages/scipy/optimize/linesearch.py:426: LineSearchWarning: Rounding errors prevent the line search from converging\n",
      "  warn(msg, LineSearchWarning)\n",
      "/Users/ekaterina/opt/anaconda3/lib/python3.7/site-packages/scipy/optimize/linesearch.py:314: LineSearchWarning: The line search algorithm did not converge\n",
      "  warn('The line search algorithm did not converge', LineSearchWarning)\n",
      "/Users/ekaterina/opt/anaconda3/lib/python3.7/site-packages/sklearn/utils/optimize.py:195: UserWarning: Line Search failed\n",
      "  warnings.warn('Line Search failed')\n",
      "/Users/ekaterina/opt/anaconda3/lib/python3.7/site-packages/scipy/optimize/linesearch.py:466: LineSearchWarning: The line search algorithm did not converge\n",
      "  warn('The line search algorithm did not converge', LineSearchWarning)\n",
      "/Users/ekaterina/opt/anaconda3/lib/python3.7/site-packages/scipy/optimize/linesearch.py:314: LineSearchWarning: The line search algorithm did not converge\n",
      "  warn('The line search algorithm did not converge', LineSearchWarning)\n",
      "/Users/ekaterina/opt/anaconda3/lib/python3.7/site-packages/scipy/optimize/linesearch.py:466: LineSearchWarning: The line search algorithm did not converge\n",
      "  warn('The line search algorithm did not converge', LineSearchWarning)\n",
      "/Users/ekaterina/opt/anaconda3/lib/python3.7/site-packages/scipy/optimize/linesearch.py:314: LineSearchWarning: The line search algorithm did not converge\n",
      "  warn('The line search algorithm did not converge', LineSearchWarning)\n",
      "/Users/ekaterina/opt/anaconda3/lib/python3.7/site-packages/scipy/optimize/linesearch.py:466: LineSearchWarning: The line search algorithm did not converge\n",
      "  warn('The line search algorithm did not converge', LineSearchWarning)\n",
      "/Users/ekaterina/opt/anaconda3/lib/python3.7/site-packages/scipy/optimize/linesearch.py:314: LineSearchWarning: The line search algorithm did not converge\n",
      "  warn('The line search algorithm did not converge', LineSearchWarning)\n",
      "/Users/ekaterina/opt/anaconda3/lib/python3.7/site-packages/scipy/optimize/linesearch.py:466: LineSearchWarning: The line search algorithm did not converge\n",
      "  warn('The line search algorithm did not converge', LineSearchWarning)\n",
      "/Users/ekaterina/opt/anaconda3/lib/python3.7/site-packages/scipy/optimize/linesearch.py:314: LineSearchWarning: The line search algorithm did not converge\n",
      "  warn('The line search algorithm did not converge', LineSearchWarning)\n",
      "/Users/ekaterina/opt/anaconda3/lib/python3.7/site-packages/scipy/optimize/linesearch.py:466: LineSearchWarning: The line search algorithm did not converge\n",
      "  warn('The line search algorithm did not converge', LineSearchWarning)\n",
      "/Users/ekaterina/opt/anaconda3/lib/python3.7/site-packages/scipy/optimize/linesearch.py:314: LineSearchWarning: The line search algorithm did not converge\n",
      "  warn('The line search algorithm did not converge', LineSearchWarning)\n",
      "/Users/ekaterina/opt/anaconda3/lib/python3.7/site-packages/scipy/optimize/linesearch.py:466: LineSearchWarning: The line search algorithm did not converge\n",
      "  warn('The line search algorithm did not converge', LineSearchWarning)\n",
      "/Users/ekaterina/opt/anaconda3/lib/python3.7/site-packages/scipy/optimize/linesearch.py:314: LineSearchWarning: The line search algorithm did not converge\n",
      "  warn('The line search algorithm did not converge', LineSearchWarning)\n",
      "/Users/ekaterina/opt/anaconda3/lib/python3.7/site-packages/scipy/optimize/linesearch.py:466: LineSearchWarning: The line search algorithm did not converge\n",
      "  warn('The line search algorithm did not converge', LineSearchWarning)\n",
      "/Users/ekaterina/opt/anaconda3/lib/python3.7/site-packages/scipy/optimize/linesearch.py:314: LineSearchWarning: The line search algorithm did not converge\n",
      "  warn('The line search algorithm did not converge', LineSearchWarning)\n",
      "/Users/ekaterina/opt/anaconda3/lib/python3.7/site-packages/sklearn/utils/optimize.py:203: ConvergenceWarning: newton-cg failed to converge. Increase the number of iterations.\n",
      "  \"number of iterations.\", ConvergenceWarning)\n",
      "/Users/ekaterina/opt/anaconda3/lib/python3.7/site-packages/scipy/optimize/linesearch.py:466: LineSearchWarning: The line search algorithm did not converge\n",
      "  warn('The line search algorithm did not converge', LineSearchWarning)\n",
      "/Users/ekaterina/opt/anaconda3/lib/python3.7/site-packages/scipy/optimize/linesearch.py:314: LineSearchWarning: The line search algorithm did not converge\n",
      "  warn('The line search algorithm did not converge', LineSearchWarning)\n",
      "/Users/ekaterina/opt/anaconda3/lib/python3.7/site-packages/scipy/optimize/linesearch.py:466: LineSearchWarning: The line search algorithm did not converge\n",
      "  warn('The line search algorithm did not converge', LineSearchWarning)\n",
      "/Users/ekaterina/opt/anaconda3/lib/python3.7/site-packages/scipy/optimize/linesearch.py:314: LineSearchWarning: The line search algorithm did not converge\n",
      "  warn('The line search algorithm did not converge', LineSearchWarning)\n",
      "/Users/ekaterina/opt/anaconda3/lib/python3.7/site-packages/scipy/optimize/linesearch.py:466: LineSearchWarning: The line search algorithm did not converge\n",
      "  warn('The line search algorithm did not converge', LineSearchWarning)\n",
      "/Users/ekaterina/opt/anaconda3/lib/python3.7/site-packages/scipy/optimize/linesearch.py:314: LineSearchWarning: The line search algorithm did not converge\n",
      "  warn('The line search algorithm did not converge', LineSearchWarning)\n",
      "/Users/ekaterina/opt/anaconda3/lib/python3.7/site-packages/scipy/optimize/linesearch.py:466: LineSearchWarning: The line search algorithm did not converge\n",
      "  warn('The line search algorithm did not converge', LineSearchWarning)\n",
      "/Users/ekaterina/opt/anaconda3/lib/python3.7/site-packages/scipy/optimize/linesearch.py:314: LineSearchWarning: The line search algorithm did not converge\n",
      "  warn('The line search algorithm did not converge', LineSearchWarning)\n",
      "/Users/ekaterina/opt/anaconda3/lib/python3.7/site-packages/scipy/optimize/linesearch.py:466: LineSearchWarning: The line search algorithm did not converge\n",
      "  warn('The line search algorithm did not converge', LineSearchWarning)\n",
      "/Users/ekaterina/opt/anaconda3/lib/python3.7/site-packages/scipy/optimize/linesearch.py:314: LineSearchWarning: The line search algorithm did not converge\n",
      "  warn('The line search algorithm did not converge', LineSearchWarning)\n",
      "/Users/ekaterina/opt/anaconda3/lib/python3.7/site-packages/scipy/optimize/linesearch.py:466: LineSearchWarning: The line search algorithm did not converge\n",
      "  warn('The line search algorithm did not converge', LineSearchWarning)\n",
      "/Users/ekaterina/opt/anaconda3/lib/python3.7/site-packages/scipy/optimize/linesearch.py:314: LineSearchWarning: The line search algorithm did not converge\n",
      "  warn('The line search algorithm did not converge', LineSearchWarning)\n",
      "/Users/ekaterina/opt/anaconda3/lib/python3.7/site-packages/scipy/optimize/linesearch.py:466: LineSearchWarning: The line search algorithm did not converge\n",
      "  warn('The line search algorithm did not converge', LineSearchWarning)\n",
      "/Users/ekaterina/opt/anaconda3/lib/python3.7/site-packages/scipy/optimize/linesearch.py:314: LineSearchWarning: The line search algorithm did not converge\n",
      "  warn('The line search algorithm did not converge', LineSearchWarning)\n",
      "/Users/ekaterina/opt/anaconda3/lib/python3.7/site-packages/scipy/optimize/linesearch.py:466: LineSearchWarning: The line search algorithm did not converge\n",
      "  warn('The line search algorithm did not converge', LineSearchWarning)\n",
      "/Users/ekaterina/opt/anaconda3/lib/python3.7/site-packages/scipy/optimize/linesearch.py:314: LineSearchWarning: The line search algorithm did not converge\n",
      "  warn('The line search algorithm did not converge', LineSearchWarning)\n",
      "/Users/ekaterina/opt/anaconda3/lib/python3.7/site-packages/scipy/optimize/linesearch.py:466: LineSearchWarning: The line search algorithm did not converge\n",
      "  warn('The line search algorithm did not converge', LineSearchWarning)\n",
      "/Users/ekaterina/opt/anaconda3/lib/python3.7/site-packages/scipy/optimize/linesearch.py:314: LineSearchWarning: The line search algorithm did not converge\n",
      "  warn('The line search algorithm did not converge', LineSearchWarning)\n",
      "/Users/ekaterina/opt/anaconda3/lib/python3.7/site-packages/scipy/optimize/linesearch.py:466: LineSearchWarning: The line search algorithm did not converge\n",
      "  warn('The line search algorithm did not converge', LineSearchWarning)\n",
      "/Users/ekaterina/opt/anaconda3/lib/python3.7/site-packages/scipy/optimize/linesearch.py:314: LineSearchWarning: The line search algorithm did not converge\n",
      "  warn('The line search algorithm did not converge', LineSearchWarning)\n",
      "/Users/ekaterina/opt/anaconda3/lib/python3.7/site-packages/scipy/optimize/linesearch.py:466: LineSearchWarning: The line search algorithm did not converge\n",
      "  warn('The line search algorithm did not converge', LineSearchWarning)\n",
      "/Users/ekaterina/opt/anaconda3/lib/python3.7/site-packages/scipy/optimize/linesearch.py:314: LineSearchWarning: The line search algorithm did not converge\n",
      "  warn('The line search algorithm did not converge', LineSearchWarning)\n",
      "/Users/ekaterina/opt/anaconda3/lib/python3.7/site-packages/scipy/optimize/linesearch.py:466: LineSearchWarning: The line search algorithm did not converge\n",
      "  warn('The line search algorithm did not converge', LineSearchWarning)\n",
      "/Users/ekaterina/opt/anaconda3/lib/python3.7/site-packages/scipy/optimize/linesearch.py:314: LineSearchWarning: The line search algorithm did not converge\n",
      "  warn('The line search algorithm did not converge', LineSearchWarning)\n"
     ]
    },
    {
     "name": "stderr",
     "output_type": "stream",
     "text": [
      "/Users/ekaterina/opt/anaconda3/lib/python3.7/site-packages/scipy/optimize/linesearch.py:466: LineSearchWarning: The line search algorithm did not converge\n",
      "  warn('The line search algorithm did not converge', LineSearchWarning)\n",
      "/Users/ekaterina/opt/anaconda3/lib/python3.7/site-packages/scipy/optimize/linesearch.py:314: LineSearchWarning: The line search algorithm did not converge\n",
      "  warn('The line search algorithm did not converge', LineSearchWarning)\n",
      "/Users/ekaterina/opt/anaconda3/lib/python3.7/site-packages/scipy/optimize/linesearch.py:466: LineSearchWarning: The line search algorithm did not converge\n",
      "  warn('The line search algorithm did not converge', LineSearchWarning)\n",
      "/Users/ekaterina/opt/anaconda3/lib/python3.7/site-packages/scipy/optimize/linesearch.py:314: LineSearchWarning: The line search algorithm did not converge\n",
      "  warn('The line search algorithm did not converge', LineSearchWarning)\n",
      "/Users/ekaterina/opt/anaconda3/lib/python3.7/site-packages/scipy/optimize/linesearch.py:466: LineSearchWarning: The line search algorithm did not converge\n",
      "  warn('The line search algorithm did not converge', LineSearchWarning)\n",
      "/Users/ekaterina/opt/anaconda3/lib/python3.7/site-packages/scipy/optimize/linesearch.py:314: LineSearchWarning: The line search algorithm did not converge\n",
      "  warn('The line search algorithm did not converge', LineSearchWarning)\n",
      "/Users/ekaterina/opt/anaconda3/lib/python3.7/site-packages/scipy/optimize/linesearch.py:466: LineSearchWarning: The line search algorithm did not converge\n",
      "  warn('The line search algorithm did not converge', LineSearchWarning)\n",
      "/Users/ekaterina/opt/anaconda3/lib/python3.7/site-packages/scipy/optimize/linesearch.py:314: LineSearchWarning: The line search algorithm did not converge\n",
      "  warn('The line search algorithm did not converge', LineSearchWarning)\n",
      "/Users/ekaterina/opt/anaconda3/lib/python3.7/site-packages/scipy/optimize/linesearch.py:466: LineSearchWarning: The line search algorithm did not converge\n",
      "  warn('The line search algorithm did not converge', LineSearchWarning)\n",
      "/Users/ekaterina/opt/anaconda3/lib/python3.7/site-packages/scipy/optimize/linesearch.py:314: LineSearchWarning: The line search algorithm did not converge\n",
      "  warn('The line search algorithm did not converge', LineSearchWarning)\n",
      "/Users/ekaterina/opt/anaconda3/lib/python3.7/site-packages/scipy/optimize/linesearch.py:466: LineSearchWarning: The line search algorithm did not converge\n",
      "  warn('The line search algorithm did not converge', LineSearchWarning)\n",
      "/Users/ekaterina/opt/anaconda3/lib/python3.7/site-packages/scipy/optimize/linesearch.py:314: LineSearchWarning: The line search algorithm did not converge\n",
      "  warn('The line search algorithm did not converge', LineSearchWarning)\n",
      "/Users/ekaterina/opt/anaconda3/lib/python3.7/site-packages/scipy/optimize/linesearch.py:466: LineSearchWarning: The line search algorithm did not converge\n",
      "  warn('The line search algorithm did not converge', LineSearchWarning)\n",
      "/Users/ekaterina/opt/anaconda3/lib/python3.7/site-packages/scipy/optimize/linesearch.py:314: LineSearchWarning: The line search algorithm did not converge\n",
      "  warn('The line search algorithm did not converge', LineSearchWarning)\n",
      "/Users/ekaterina/opt/anaconda3/lib/python3.7/site-packages/sklearn/utils/optimize.py:203: ConvergenceWarning: newton-cg failed to converge. Increase the number of iterations.\n",
      "  \"number of iterations.\", ConvergenceWarning)\n",
      "/Users/ekaterina/opt/anaconda3/lib/python3.7/site-packages/sklearn/utils/optimize.py:203: ConvergenceWarning: newton-cg failed to converge. Increase the number of iterations.\n",
      "  \"number of iterations.\", ConvergenceWarning)\n",
      "/Users/ekaterina/opt/anaconda3/lib/python3.7/site-packages/scipy/optimize/linesearch.py:426: LineSearchWarning: Rounding errors prevent the line search from converging\n",
      "  warn(msg, LineSearchWarning)\n",
      "/Users/ekaterina/opt/anaconda3/lib/python3.7/site-packages/scipy/optimize/linesearch.py:314: LineSearchWarning: The line search algorithm did not converge\n",
      "  warn('The line search algorithm did not converge', LineSearchWarning)\n",
      "/Users/ekaterina/opt/anaconda3/lib/python3.7/site-packages/sklearn/utils/optimize.py:195: UserWarning: Line Search failed\n",
      "  warnings.warn('Line Search failed')\n",
      "/Users/ekaterina/opt/anaconda3/lib/python3.7/site-packages/scipy/optimize/linesearch.py:466: LineSearchWarning: The line search algorithm did not converge\n",
      "  warn('The line search algorithm did not converge', LineSearchWarning)\n",
      "/Users/ekaterina/opt/anaconda3/lib/python3.7/site-packages/scipy/optimize/linesearch.py:314: LineSearchWarning: The line search algorithm did not converge\n",
      "  warn('The line search algorithm did not converge', LineSearchWarning)\n",
      "/Users/ekaterina/opt/anaconda3/lib/python3.7/site-packages/scipy/optimize/linesearch.py:466: LineSearchWarning: The line search algorithm did not converge\n",
      "  warn('The line search algorithm did not converge', LineSearchWarning)\n",
      "/Users/ekaterina/opt/anaconda3/lib/python3.7/site-packages/scipy/optimize/linesearch.py:314: LineSearchWarning: The line search algorithm did not converge\n",
      "  warn('The line search algorithm did not converge', LineSearchWarning)\n",
      "/Users/ekaterina/opt/anaconda3/lib/python3.7/site-packages/scipy/optimize/linesearch.py:426: LineSearchWarning: Rounding errors prevent the line search from converging\n",
      "  warn(msg, LineSearchWarning)\n",
      "/Users/ekaterina/opt/anaconda3/lib/python3.7/site-packages/scipy/optimize/linesearch.py:314: LineSearchWarning: The line search algorithm did not converge\n",
      "  warn('The line search algorithm did not converge', LineSearchWarning)\n",
      "/Users/ekaterina/opt/anaconda3/lib/python3.7/site-packages/sklearn/utils/optimize.py:195: UserWarning: Line Search failed\n",
      "  warnings.warn('Line Search failed')\n",
      "/Users/ekaterina/opt/anaconda3/lib/python3.7/site-packages/scipy/optimize/linesearch.py:466: LineSearchWarning: The line search algorithm did not converge\n",
      "  warn('The line search algorithm did not converge', LineSearchWarning)\n",
      "/Users/ekaterina/opt/anaconda3/lib/python3.7/site-packages/scipy/optimize/linesearch.py:314: LineSearchWarning: The line search algorithm did not converge\n",
      "  warn('The line search algorithm did not converge', LineSearchWarning)\n",
      "/Users/ekaterina/opt/anaconda3/lib/python3.7/site-packages/scipy/optimize/linesearch.py:426: LineSearchWarning: Rounding errors prevent the line search from converging\n",
      "  warn(msg, LineSearchWarning)\n",
      "/Users/ekaterina/opt/anaconda3/lib/python3.7/site-packages/scipy/optimize/linesearch.py:314: LineSearchWarning: The line search algorithm did not converge\n",
      "  warn('The line search algorithm did not converge', LineSearchWarning)\n",
      "/Users/ekaterina/opt/anaconda3/lib/python3.7/site-packages/sklearn/utils/optimize.py:195: UserWarning: Line Search failed\n",
      "  warnings.warn('Line Search failed')\n",
      "/Users/ekaterina/opt/anaconda3/lib/python3.7/site-packages/scipy/optimize/linesearch.py:466: LineSearchWarning: The line search algorithm did not converge\n",
      "  warn('The line search algorithm did not converge', LineSearchWarning)\n",
      "/Users/ekaterina/opt/anaconda3/lib/python3.7/site-packages/scipy/optimize/linesearch.py:314: LineSearchWarning: The line search algorithm did not converge\n",
      "  warn('The line search algorithm did not converge', LineSearchWarning)\n",
      "/Users/ekaterina/opt/anaconda3/lib/python3.7/site-packages/scipy/optimize/linesearch.py:426: LineSearchWarning: Rounding errors prevent the line search from converging\n",
      "  warn(msg, LineSearchWarning)\n",
      "/Users/ekaterina/opt/anaconda3/lib/python3.7/site-packages/scipy/optimize/linesearch.py:314: LineSearchWarning: The line search algorithm did not converge\n",
      "  warn('The line search algorithm did not converge', LineSearchWarning)\n",
      "/Users/ekaterina/opt/anaconda3/lib/python3.7/site-packages/sklearn/utils/optimize.py:195: UserWarning: Line Search failed\n",
      "  warnings.warn('Line Search failed')\n",
      "/Users/ekaterina/opt/anaconda3/lib/python3.7/site-packages/scipy/optimize/linesearch.py:466: LineSearchWarning: The line search algorithm did not converge\n",
      "  warn('The line search algorithm did not converge', LineSearchWarning)\n",
      "/Users/ekaterina/opt/anaconda3/lib/python3.7/site-packages/scipy/optimize/linesearch.py:314: LineSearchWarning: The line search algorithm did not converge\n",
      "  warn('The line search algorithm did not converge', LineSearchWarning)\n"
     ]
    },
    {
     "name": "stderr",
     "output_type": "stream",
     "text": [
      "/Users/ekaterina/opt/anaconda3/lib/python3.7/site-packages/scipy/optimize/linesearch.py:426: LineSearchWarning: Rounding errors prevent the line search from converging\n",
      "  warn(msg, LineSearchWarning)\n",
      "/Users/ekaterina/opt/anaconda3/lib/python3.7/site-packages/scipy/optimize/linesearch.py:314: LineSearchWarning: The line search algorithm did not converge\n",
      "  warn('The line search algorithm did not converge', LineSearchWarning)\n",
      "/Users/ekaterina/opt/anaconda3/lib/python3.7/site-packages/sklearn/utils/optimize.py:195: UserWarning: Line Search failed\n",
      "  warnings.warn('Line Search failed')\n",
      "/Users/ekaterina/opt/anaconda3/lib/python3.7/site-packages/scipy/optimize/linesearch.py:466: LineSearchWarning: The line search algorithm did not converge\n",
      "  warn('The line search algorithm did not converge', LineSearchWarning)\n",
      "/Users/ekaterina/opt/anaconda3/lib/python3.7/site-packages/scipy/optimize/linesearch.py:314: LineSearchWarning: The line search algorithm did not converge\n",
      "  warn('The line search algorithm did not converge', LineSearchWarning)\n",
      "/Users/ekaterina/opt/anaconda3/lib/python3.7/site-packages/scipy/optimize/linesearch.py:466: LineSearchWarning: The line search algorithm did not converge\n",
      "  warn('The line search algorithm did not converge', LineSearchWarning)\n",
      "/Users/ekaterina/opt/anaconda3/lib/python3.7/site-packages/scipy/optimize/linesearch.py:314: LineSearchWarning: The line search algorithm did not converge\n",
      "  warn('The line search algorithm did not converge', LineSearchWarning)\n",
      "/Users/ekaterina/opt/anaconda3/lib/python3.7/site-packages/scipy/optimize/linesearch.py:466: LineSearchWarning: The line search algorithm did not converge\n",
      "  warn('The line search algorithm did not converge', LineSearchWarning)\n",
      "/Users/ekaterina/opt/anaconda3/lib/python3.7/site-packages/scipy/optimize/linesearch.py:314: LineSearchWarning: The line search algorithm did not converge\n",
      "  warn('The line search algorithm did not converge', LineSearchWarning)\n",
      "/Users/ekaterina/opt/anaconda3/lib/python3.7/site-packages/scipy/optimize/linesearch.py:466: LineSearchWarning: The line search algorithm did not converge\n",
      "  warn('The line search algorithm did not converge', LineSearchWarning)\n",
      "/Users/ekaterina/opt/anaconda3/lib/python3.7/site-packages/scipy/optimize/linesearch.py:314: LineSearchWarning: The line search algorithm did not converge\n",
      "  warn('The line search algorithm did not converge', LineSearchWarning)\n",
      "/Users/ekaterina/opt/anaconda3/lib/python3.7/site-packages/scipy/optimize/linesearch.py:466: LineSearchWarning: The line search algorithm did not converge\n",
      "  warn('The line search algorithm did not converge', LineSearchWarning)\n",
      "/Users/ekaterina/opt/anaconda3/lib/python3.7/site-packages/scipy/optimize/linesearch.py:314: LineSearchWarning: The line search algorithm did not converge\n",
      "  warn('The line search algorithm did not converge', LineSearchWarning)\n",
      "/Users/ekaterina/opt/anaconda3/lib/python3.7/site-packages/scipy/optimize/linesearch.py:314: LineSearchWarning: The line search algorithm did not converge\n",
      "  warn('The line search algorithm did not converge', LineSearchWarning)\n",
      "/Users/ekaterina/opt/anaconda3/lib/python3.7/site-packages/sklearn/utils/optimize.py:195: UserWarning: Line Search failed\n",
      "  warnings.warn('Line Search failed')\n",
      "/Users/ekaterina/opt/anaconda3/lib/python3.7/site-packages/scipy/optimize/linesearch.py:314: LineSearchWarning: The line search algorithm did not converge\n",
      "  warn('The line search algorithm did not converge', LineSearchWarning)\n",
      "/Users/ekaterina/opt/anaconda3/lib/python3.7/site-packages/sklearn/utils/optimize.py:195: UserWarning: Line Search failed\n",
      "  warnings.warn('Line Search failed')\n"
     ]
    },
    {
     "name": "stdout",
     "output_type": "stream",
     "text": [
      "0.6505720659135066\n",
      "0.6765079585094832\n",
      "{'fit_intercept': True, 'solver': 'newton-cg'}\n",
      "CPU times: user 12.1 s, sys: 414 ms, total: 12.5 s\n",
      "Wall time: 1min 6s\n"
     ]
    },
    {
     "name": "stderr",
     "output_type": "stream",
     "text": [
      "/Users/ekaterina/opt/anaconda3/lib/python3.7/site-packages/scipy/optimize/linesearch.py:466: LineSearchWarning: The line search algorithm did not converge\n",
      "  warn('The line search algorithm did not converge', LineSearchWarning)\n",
      "/Users/ekaterina/opt/anaconda3/lib/python3.7/site-packages/scipy/optimize/linesearch.py:314: LineSearchWarning: The line search algorithm did not converge\n",
      "  warn('The line search algorithm did not converge', LineSearchWarning)\n",
      "/Users/ekaterina/opt/anaconda3/lib/python3.7/site-packages/scipy/optimize/linesearch.py:466: LineSearchWarning: The line search algorithm did not converge\n",
      "  warn('The line search algorithm did not converge', LineSearchWarning)\n",
      "/Users/ekaterina/opt/anaconda3/lib/python3.7/site-packages/scipy/optimize/linesearch.py:314: LineSearchWarning: The line search algorithm did not converge\n",
      "  warn('The line search algorithm did not converge', LineSearchWarning)\n",
      "/Users/ekaterina/opt/anaconda3/lib/python3.7/site-packages/scipy/optimize/linesearch.py:466: LineSearchWarning: The line search algorithm did not converge\n",
      "  warn('The line search algorithm did not converge', LineSearchWarning)\n",
      "/Users/ekaterina/opt/anaconda3/lib/python3.7/site-packages/scipy/optimize/linesearch.py:314: LineSearchWarning: The line search algorithm did not converge\n",
      "  warn('The line search algorithm did not converge', LineSearchWarning)\n",
      "/Users/ekaterina/opt/anaconda3/lib/python3.7/site-packages/scipy/optimize/linesearch.py:466: LineSearchWarning: The line search algorithm did not converge\n",
      "  warn('The line search algorithm did not converge', LineSearchWarning)\n",
      "/Users/ekaterina/opt/anaconda3/lib/python3.7/site-packages/scipy/optimize/linesearch.py:314: LineSearchWarning: The line search algorithm did not converge\n",
      "  warn('The line search algorithm did not converge', LineSearchWarning)\n",
      "/Users/ekaterina/opt/anaconda3/lib/python3.7/site-packages/scipy/optimize/linesearch.py:466: LineSearchWarning: The line search algorithm did not converge\n",
      "  warn('The line search algorithm did not converge', LineSearchWarning)\n",
      "/Users/ekaterina/opt/anaconda3/lib/python3.7/site-packages/scipy/optimize/linesearch.py:314: LineSearchWarning: The line search algorithm did not converge\n",
      "  warn('The line search algorithm did not converge', LineSearchWarning)\n",
      "/Users/ekaterina/opt/anaconda3/lib/python3.7/site-packages/scipy/optimize/linesearch.py:426: LineSearchWarning: Rounding errors prevent the line search from converging\n",
      "  warn(msg, LineSearchWarning)\n",
      "/Users/ekaterina/opt/anaconda3/lib/python3.7/site-packages/scipy/optimize/linesearch.py:314: LineSearchWarning: The line search algorithm did not converge\n",
      "  warn('The line search algorithm did not converge', LineSearchWarning)\n",
      "/Users/ekaterina/opt/anaconda3/lib/python3.7/site-packages/sklearn/utils/optimize.py:195: UserWarning: Line Search failed\n",
      "  warnings.warn('Line Search failed')\n"
     ]
    }
   ],
   "source": [
    "%%time\n",
    "parameters = {'fit_intercept': [True, False],\n",
    "              'solver': ['newton-cg', 'lbfgs', 'liblinear', 'sag', 'saga']}\n",
    "\n",
    "'''# результаты поиска по сетке, для ускорения можно использовать сразу их\n",
    "parameters = {'fit_intercept': [True], \n",
    "              'solver': ['newton-cg']}'''\n",
    "\n",
    "logit_best = GridSearchCV(logit, parameters, cv = 5, verbose = 1, n_jobs=-1)\n",
    "logit_best.fit(x_n_cor_train, y_n_train)\n",
    "predicted_prob = logit_best.predict_proba(x_n_cor_test)\n",
    "roc_auc_train = metrics.roc_auc_score(y_n_train, logit_best.predict(x_n_cor_train))\n",
    "roc_auc_test = metrics.roc_auc_score(y_n_test, logit_best.predict(x_n_cor_test))\n",
    "roc_auc_log_train.append(roc_auc_train)\n",
    "roc_auc_log_test.append(roc_auc_test)\n",
    "print(roc_auc_train)\n",
    "print(roc_auc_test)\n",
    "print(logit_best.best_params_)\n",
    "predicted_results = []\n",
    "for a in range(len(predicted_prob)):\n",
    "    \n",
    "    predicted_results.append(predicted_prob[a][1])\n",
    "    \n",
    "index_list = x_n_cor_test.index.tolist()\n",
    "# записываем вероятность попадания в класс 1 в новый датафрейм\n",
    "x1_log_cor = pd.DataFrame(pd.Series(data=predicted_results, index=index_list))\n",
    "x1_log_cor = x1_log_cor.rename(columns = {0:'PROB_N_COR_LOG_CV'})\n",
    "\n",
    "x1_log = pd.merge(x1_log, x1_log_cor, how='left', left_index=True, right_index=True)"
   ]
  },
  {
   "cell_type": "markdown",
   "metadata": {},
   "source": [
    "### X1_N_WITH_RATINGS"
   ]
  },
  {
   "cell_type": "code",
   "execution_count": 25,
   "metadata": {},
   "outputs": [],
   "source": [
    "# логит нельзя считать в лоб на данных, где между переменными есть корреляция, поэтому можно использовать специальную надстройку BaggingClassifier\n",
    "\n",
    "roc_auc_log_test.append('-')\n",
    "roc_auc_log_train.append('-')"
   ]
  },
  {
   "cell_type": "markdown",
   "metadata": {},
   "source": [
    "### Собираем результаты"
   ]
  },
  {
   "cell_type": "code",
   "execution_count": 31,
   "metadata": {},
   "outputs": [
    {
     "data": {
      "text/html": [
       "<div>\n",
       "<style scoped>\n",
       "    .dataframe tbody tr th:only-of-type {\n",
       "        vertical-align: middle;\n",
       "    }\n",
       "\n",
       "    .dataframe tbody tr th {\n",
       "        vertical-align: top;\n",
       "    }\n",
       "\n",
       "    .dataframe thead th {\n",
       "        text-align: right;\n",
       "    }\n",
       "</style>\n",
       "<table border=\"1\" class=\"dataframe\">\n",
       "  <thead>\n",
       "    <tr style=\"text-align: right;\">\n",
       "      <th></th>\n",
       "      <th>LOGIT_TEST</th>\n",
       "      <th>LOGIT_TRAIN</th>\n",
       "    </tr>\n",
       "  </thead>\n",
       "  <tbody>\n",
       "    <tr>\n",
       "      <td>X1_N</td>\n",
       "      <td>-</td>\n",
       "      <td>-</td>\n",
       "    </tr>\n",
       "    <tr>\n",
       "      <td>X1_N_PCA</td>\n",
       "      <td>0.592759</td>\n",
       "      <td>0.594283</td>\n",
       "    </tr>\n",
       "    <tr>\n",
       "      <td>X1_N_COR</td>\n",
       "      <td>0.676508</td>\n",
       "      <td>0.650572</td>\n",
       "    </tr>\n",
       "    <tr>\n",
       "      <td>X1_N_WITH_RATINGS</td>\n",
       "      <td>-</td>\n",
       "      <td>-</td>\n",
       "    </tr>\n",
       "  </tbody>\n",
       "</table>\n",
       "</div>"
      ],
      "text/plain": [
       "                  LOGIT_TEST LOGIT_TRAIN\n",
       "X1_N                       -           -\n",
       "X1_N_PCA            0.592759    0.594283\n",
       "X1_N_COR            0.676508    0.650572\n",
       "X1_N_WITH_RATINGS          -           -"
      ]
     },
     "execution_count": 31,
     "metadata": {},
     "output_type": "execute_result"
    }
   ],
   "source": [
    "roc_auc_log1 = pd.DataFrame(roc_auc_log_test, index=['X1_N','X1_N_PCA','X1_N_COR','X1_N_WITH_RATINGS'])\n",
    "roc_auc_log1 = roc_auc_log1.rename(columns = {0:'LOGIT_TEST'})\n",
    "roc_auc_log2 = pd.DataFrame(roc_auc_log_train, index=['X1_N','X1_N_PCA','X1_N_COR','X1_N_WITH_RATINGS'])\n",
    "roc_auc_log2 = roc_auc_log2.rename(columns = {0:'LOGIT_TRAIN'})\n",
    "roc_auc_log1 = pd.merge(roc_auc_log1, roc_auc_log2, how='left', left_index=True, right_index=True)\n",
    "roc_auc_log1"
   ]
  },
  {
   "cell_type": "markdown",
   "metadata": {},
   "source": [
    "# (1.8) Random Forest"
   ]
  },
  {
   "cell_type": "code",
   "execution_count": 141,
   "metadata": {},
   "outputs": [],
   "source": [
    "forest = RandomForestClassifier()\n",
    "roc_auc_rf_train = []\n",
    "roc_auc_rf_test = []"
   ]
  },
  {
   "cell_type": "markdown",
   "metadata": {},
   "source": [
    "### X1_N"
   ]
  },
  {
   "cell_type": "code",
   "execution_count": 92,
   "metadata": {},
   "outputs": [
    {
     "name": "stdout",
     "output_type": "stream",
     "text": [
      "Fitting 5 folds for each of 192 candidates, totalling 960 fits\n"
     ]
    },
    {
     "name": "stderr",
     "output_type": "stream",
     "text": [
      "[Parallel(n_jobs=-1)]: Using backend LokyBackend with 4 concurrent workers.\n",
      "[Parallel(n_jobs=-1)]: Done  42 tasks      | elapsed:   17.1s\n",
      "[Parallel(n_jobs=-1)]: Done 192 tasks      | elapsed:  1.2min\n",
      "[Parallel(n_jobs=-1)]: Done 442 tasks      | elapsed:  2.7min\n",
      "[Parallel(n_jobs=-1)]: Done 792 tasks      | elapsed:  5.1min\n",
      "[Parallel(n_jobs=-1)]: Done 960 out of 960 | elapsed:  6.6min finished\n",
      "/Users/ekaterina/opt/anaconda3/lib/python3.7/site-packages/sklearn/model_selection/_search.py:715: DataConversionWarning: A column-vector y was passed when a 1d array was expected. Please change the shape of y to (n_samples,), for example using ravel().\n",
      "  self.best_estimator_.fit(X, y, **fit_params)\n"
     ]
    },
    {
     "name": "stdout",
     "output_type": "stream",
     "text": [
      "0.8033784269986328\n",
      "0.7861482662231155\n",
      "{'bootstrap': True, 'max_depth': 15, 'max_features': 7, 'min_samples_leaf': 5, 'min_samples_split': 2, 'n_estimators': 100}\n",
      "CPU times: user 6.94 s, sys: 440 ms, total: 7.38 s\n",
      "Wall time: 6min 39s\n"
     ]
    }
   ],
   "source": [
    "%%time\n",
    "# перебор параметров для определения параметров лучшей модели, которая будет использоваться дальше\n",
    "parameters = {'n_estimators': [25,50,75,100,125,150], ## максиммум 150\n",
    "              'min_samples_leaf': [1, 3, 5, 7], \n",
    "              'max_depth': [5,10,15,20],\n",
    "              'max_features': [7], # общее количество переменных - 2, чтобы минимизировать попадания в один расчет скоррелированных переменных\n",
    "              'min_samples_split': [2],\n",
    "              'min_samples_leaf': [5, 10, 15, 20],\n",
    "              'bootstrap': [True, False]\n",
    "             }\n",
    "\n",
    "forest_best = GridSearchCV(forest, parameters, cv = 5, verbose = 1, n_jobs=-1)\n",
    "forest_best.fit(x_n_train, y_n_train)\n",
    "print(metrics.roc_auc_score(y_n_train, forest_best.predict(x_n_train)))\n",
    "print(metrics.roc_auc_score(y_n_test, forest_best.predict(x_n_test)))\n",
    "print(forest_best.best_params_)"
   ]
  },
  {
   "cell_type": "code",
   "execution_count": 142,
   "metadata": {},
   "outputs": [
    {
     "name": "stderr",
     "output_type": "stream",
     "text": [
      "/Users/ekaterina/opt/anaconda3/lib/python3.7/site-packages/ipykernel_launcher.py:9: DataConversionWarning: A column-vector y was passed when a 1d array was expected. Please change the shape of y to (n_samples,), for example using ravel().\n",
      "  if __name__ == '__main__':\n",
      "[Parallel(n_jobs=1)]: Using backend SequentialBackend with 1 concurrent workers.\n",
      "[Parallel(n_jobs=1)]: Done  50 out of  50 | elapsed:    0.4s finished\n",
      "[Parallel(n_jobs=1)]: Using backend SequentialBackend with 1 concurrent workers.\n",
      "[Parallel(n_jobs=1)]: Done  50 out of  50 | elapsed:    0.0s finished\n",
      "[Parallel(n_jobs=1)]: Using backend SequentialBackend with 1 concurrent workers.\n",
      "[Parallel(n_jobs=1)]: Done  50 out of  50 | elapsed:    0.0s finished\n",
      "[Parallel(n_jobs=1)]: Using backend SequentialBackend with 1 concurrent workers.\n",
      "[Parallel(n_jobs=1)]: Done  50 out of  50 | elapsed:    0.0s finished\n"
     ]
    }
   ],
   "source": [
    "# создаем модель на основании найденных параметров лучшей модели\n",
    "forest1 = RandomForestClassifier(n_estimators = 50,\n",
    "                                 bootstrap = True,\n",
    "                                 max_depth = 15,\n",
    "                                 max_features = 7,\n",
    "                                 min_samples_leaf = 5,\n",
    "                                 min_samples_split = 2,\n",
    "                                 verbose = 1)\n",
    "forest1.fit(x_n_train, y_n_train)\n",
    "roc_auc_train = metrics.roc_auc_score(y_n_train, forest1.predict(x_n_train))\n",
    "roc_auc_test = metrics.roc_auc_score(y_n_test, forest1.predict(x_n_test))\n",
    "predicted_prob = forest1.predict_proba(x_n_test)"
   ]
  },
  {
   "cell_type": "code",
   "execution_count": 135,
   "metadata": {},
   "outputs": [
    {
     "data": {
      "image/png": "[encoded data removed]",
      "text/plain": [
       "<Figure size 432x288 with 1 Axes>"
      ]
     },
     "metadata": {
      "needs_background": "light"
     },
     "output_type": "display_data"
    }
   ],
   "source": [
    "# строим диаграмму с коэффициентами степени важности каждого параметра\n",
    "features = X1_N.columns.to_list()\n",
    "importances = forest1.feature_importances_\n",
    "indices = np.argsort(importances)\n",
    "\n",
    "plt.title('Feature Importances')\n",
    "plt.barh(range(len(indices)), importances[indices], color='b', align='center')\n",
    "plt.yticks(range(len(indices)), [features[i] for i in indices])\n",
    "plt.xlabel('Relative Importance')\n",
    "plt.show()"
   ]
  },
  {
   "cell_type": "code",
   "execution_count": 97,
   "metadata": {},
   "outputs": [],
   "source": [
    "# строим дерево решений\n",
    "col = features\n",
    "import os\n",
    "from sklearn.tree import export_graphviz\n",
    "import six\n",
    "import pydot\n",
    "from sklearn import tree\n",
    "dotfile = six.StringIO()\n",
    "str_tree = export_graphviz(forest1.estimators_[1],out_file='tree.dot',\n",
    "                feature_names=col,\n",
    "                filled=True,\n",
    "                rounded=True)\n",
    "(graph,) = pydot.graph_from_dot_file('tree.dot')\n",
    "graph.write_png('tree.png')"
   ]
  },
  {
   "cell_type": "code",
   "execution_count": 143,
   "metadata": {},
   "outputs": [],
   "source": [
    "# записываем результаты работы модели\n",
    "roc_auc_rf_train.append(roc_auc_train)\n",
    "roc_auc_rf_test.append(roc_auc_test)\n",
    "\n",
    "predicted_results = []\n",
    "\n",
    "for a in range(len(predicted_prob)):\n",
    "    \n",
    "    predicted_results.append(predicted_prob[a][1])\n",
    "    \n",
    "index_list = x_n_test.index.tolist()\n",
    "x1_rf = pd.DataFrame(pd.Series(data=predicted_results, index=index_list))\n",
    "x1_rf = x1_rf.rename(columns = {0:'PROB_N_RF'})"
   ]
  },
  {
   "cell_type": "markdown",
   "metadata": {},
   "source": [
    "### X1_N_PCA"
   ]
  },
  {
   "cell_type": "code",
   "execution_count": 31,
   "metadata": {},
   "outputs": [
    {
     "name": "stdout",
     "output_type": "stream",
     "text": [
      "Fitting 5 folds for each of 288 candidates, totalling 1440 fits\n"
     ]
    },
    {
     "name": "stderr",
     "output_type": "stream",
     "text": [
      "[Parallel(n_jobs=-1)]: Using backend LokyBackend with 4 concurrent workers.\n",
      "[Parallel(n_jobs=-1)]: Done  56 tasks      | elapsed:    9.8s\n",
      "[Parallel(n_jobs=-1)]: Done 206 tasks      | elapsed:   30.2s\n",
      "[Parallel(n_jobs=-1)]: Done 456 tasks      | elapsed:  1.1min\n",
      "[Parallel(n_jobs=-1)]: Done 806 tasks      | elapsed:  2.0min\n",
      "[Parallel(n_jobs=-1)]: Done 1256 tasks      | elapsed:  3.3min\n",
      "[Parallel(n_jobs=-1)]: Done 1440 out of 1440 | elapsed:  3.8min finished\n",
      "/Users/ekaterina/opt/anaconda3/lib/python3.7/site-packages/sklearn/model_selection/_search.py:715: DataConversionWarning: A column-vector y was passed when a 1d array was expected. Please change the shape of y to (n_samples,), for example using ravel().\n",
      "  self.best_estimator_.fit(X, y, **fit_params)\n"
     ]
    },
    {
     "name": "stdout",
     "output_type": "stream",
     "text": [
      "0.8610707346909405\n",
      "0.7536904844410561\n",
      "{'bootstrap': False, 'max_depth': 20, 'max_features': 'sqrt', 'min_samples_leaf': 5, 'min_samples_split': 2, 'n_estimators': 75}\n",
      "CPU times: user 9.03 s, sys: 649 ms, total: 9.68 s\n",
      "Wall time: 3min 47s\n"
     ]
    },
    {
     "data": {
      "text/plain": [
       "\"\\nroc_auc_rf.append(roc_auc)\\n\\npredicted_results = []\\n\\nfor a in range(len(predicted_prob)):\\n    \\n    predicted_results.append(predicted_prob[a][1])\\n    \\nindex_list = x_n_pca_test.index.tolist()\\n# записываем вероятность попадания в класс 1 в новый датафрейм\\nx1_rf_cv = pd.DataFrame(pd.Series(data=predicted_results, index=index_list))\\nx1_rf_cv = x1_rf_cv.rename(columns = {0:'PROB_N_PCA_RF_CV'})\\n# сливаем с предыдущим результатом\\nx1_rf = pd.merge(x1_rf, x1_rf_cv, how='left', left_index=True, right_index=True)\""
      ]
     },
     "execution_count": 31,
     "metadata": {},
     "output_type": "execute_result"
    }
   ],
   "source": [
    "%%time\n",
    "# перебор параметров для определения параметров лучшей модели, которая будет использоваться дальше\n",
    "parameters = {'n_estimators': [25,50,75,100,125,150], ## максиммум 150\n",
    "              'min_samples_leaf': [1, 3, 5, 7], \n",
    "              'max_depth': [5,10,15,20],\n",
    "              'max_features': [7], # общее количество переменных - 2, чтобы минимизировать попадания в один расчет скоррелированных переменных\n",
    "              'min_samples_split': [2],\n",
    "              'min_samples_leaf': [1, 3, 5, 10, 15, 20],\n",
    "              'bootstrap': [True, False]\n",
    "             }\n",
    "\n",
    "forest_best = GridSearchCV(forest, parameters, cv = 5, verbose = 1, n_jobs=-1)\n",
    "forest_best.fit(x_n_pca_train, y_n_train)\n",
    "print(metrics.roc_auc_score(y_n_train, forest_best.predict(x_n_pca_train)))\n",
    "print(metrics.roc_auc_score(y_n_test, forest_best.predict(x_n_pca_test)))\n",
    "print(forest_best.best_params_)"
   ]
  },
  {
   "cell_type": "code",
   "execution_count": 144,
   "metadata": {},
   "outputs": [
    {
     "name": "stderr",
     "output_type": "stream",
     "text": [
      "/Users/ekaterina/opt/anaconda3/lib/python3.7/site-packages/ipykernel_launcher.py:9: DataConversionWarning: A column-vector y was passed when a 1d array was expected. Please change the shape of y to (n_samples,), for example using ravel().\n",
      "  if __name__ == '__main__':\n",
      "[Parallel(n_jobs=1)]: Using backend SequentialBackend with 1 concurrent workers.\n",
      "[Parallel(n_jobs=1)]: Done  50 out of  50 | elapsed:    0.2s finished\n",
      "[Parallel(n_jobs=1)]: Using backend SequentialBackend with 1 concurrent workers.\n",
      "[Parallel(n_jobs=1)]: Done  50 out of  50 | elapsed:    0.0s finished\n",
      "[Parallel(n_jobs=1)]: Using backend SequentialBackend with 1 concurrent workers.\n",
      "[Parallel(n_jobs=1)]: Done  50 out of  50 | elapsed:    0.0s finished\n",
      "[Parallel(n_jobs=1)]: Using backend SequentialBackend with 1 concurrent workers.\n",
      "[Parallel(n_jobs=1)]: Done  50 out of  50 | elapsed:    0.0s finished\n"
     ]
    }
   ],
   "source": [
    "# создаем модель на основании найденных параметров лучшей модели\n",
    "forest1 = RandomForestClassifier(n_estimators = 50,\n",
    "                                 bootstrap = True,\n",
    "                                 max_depth = 15,\n",
    "                                 max_features = 'sqrt',\n",
    "                                 min_samples_leaf = 5,\n",
    "                                 min_samples_split = 2,\n",
    "                                 verbose = 1)\n",
    "forest1.fit(x_n_pca_train, y_n_train)\n",
    "roc_auc_train = metrics.roc_auc_score(y_n_train, forest1.predict(x_n_pca_train))\n",
    "roc_auc_test = metrics.roc_auc_score(y_n_test, forest1.predict(x_n_pca_test))\n",
    "predicted_prob = forest1.predict_proba(x_n_pca_test)"
   ]
  },
  {
   "cell_type": "code",
   "execution_count": 130,
   "metadata": {},
   "outputs": [
    {
     "data": {
      "image/png": "[encoded data removed]",
      "text/plain": [
       "<Figure size 432x288 with 1 Axes>"
      ]
     },
     "metadata": {
      "needs_background": "light"
     },
     "output_type": "display_data"
    }
   ],
   "source": [
    "# строим диаграмму с коэффициентами степени важности каждого параметра\n",
    "features = X1_N_PCA.columns.to_list()\n",
    "importances = forest1.feature_importances_\n",
    "indices = np.argsort(importances)\n",
    "\n",
    "plt.title('Feature Importances')\n",
    "plt.barh(range(len(indices)), importances[indices], color='b', align='center')\n",
    "plt.yticks(range(len(indices)), [features[i] for i in indices])\n",
    "plt.xlabel('Relative Importance')\n",
    "plt.show()"
   ]
  },
  {
   "cell_type": "code",
   "execution_count": 145,
   "metadata": {},
   "outputs": [],
   "source": [
    "# записываем результаты работы модели\n",
    "roc_auc_rf_train.append(roc_auc_train)\n",
    "roc_auc_rf_test.append(roc_auc_test)\n",
    "\n",
    "predicted_results = []\n",
    "\n",
    "for a in range(len(predicted_prob)):\n",
    "    \n",
    "    predicted_results.append(predicted_prob[a][1])\n",
    "    \n",
    "index_list = x_n_test.index.tolist()\n",
    "x1_rf1 = pd.DataFrame(pd.Series(data=predicted_results, index=index_list))\n",
    "x1_rf1 = x1_rf1.rename(columns = {0:'PROB_N_PCA_RF'})\n",
    "x1_rf = pd.merge(x1_rf, x1_rf1, how='left', left_index=True, right_index=True)"
   ]
  },
  {
   "cell_type": "markdown",
   "metadata": {},
   "source": [
    "### X1_N_COR"
   ]
  },
  {
   "cell_type": "code",
   "execution_count": 121,
   "metadata": {},
   "outputs": [
    {
     "name": "stdout",
     "output_type": "stream",
     "text": [
      "Fitting 5 folds for each of 288 candidates, totalling 1440 fits\n"
     ]
    },
    {
     "name": "stderr",
     "output_type": "stream",
     "text": [
      "[Parallel(n_jobs=-1)]: Using backend LokyBackend with 4 concurrent workers.\n",
      "[Parallel(n_jobs=-1)]: Done  42 tasks      | elapsed:   17.1s\n",
      "[Parallel(n_jobs=-1)]: Done 192 tasks      | elapsed:   53.9s\n",
      "[Parallel(n_jobs=-1)]: Done 442 tasks      | elapsed:  1.7min\n",
      "[Parallel(n_jobs=-1)]: Done 792 tasks      | elapsed:  2.8min\n",
      "[Parallel(n_jobs=-1)]: Done 1242 tasks      | elapsed:  4.2min\n",
      "[Parallel(n_jobs=-1)]: Done 1440 out of 1440 | elapsed:  4.8min finished\n",
      "/Users/ekaterina/opt/anaconda3/lib/python3.7/site-packages/sklearn/model_selection/_search.py:715: DataConversionWarning: A column-vector y was passed when a 1d array was expected. Please change the shape of y to (n_samples,), for example using ravel().\n",
      "  self.best_estimator_.fit(X, y, **fit_params)\n"
     ]
    },
    {
     "name": "stdout",
     "output_type": "stream",
     "text": [
      "0.8458030510182054\n",
      "0.7536904844410561\n",
      "{'bootstrap': False, 'max_depth': 10, 'max_features': 'sqrt', 'min_samples_leaf': 5, 'min_samples_split': 2, 'n_estimators': 75}\n",
      "CPU times: user 8.93 s, sys: 774 ms, total: 9.71 s\n",
      "Wall time: 4min 50s\n"
     ]
    }
   ],
   "source": [
    "%%time\n",
    "# перебор параметров\n",
    "parameters = {'n_estimators': [25,50,75,100,125,150],\n",
    "              'min_samples_leaf': [1, 3, 5, 7], \n",
    "              'max_depth': [5,10,15,20],\n",
    "              'max_features': ['sqrt'],\n",
    "              'min_samples_split': [2], \n",
    "              'min_samples_leaf': [5, 10, 15, 20, 25, 30],\n",
    "              'bootstrap': [True, False]\n",
    "             }\n",
    "\n",
    "forest_best = GridSearchCV(forest, parameters, cv = 5, verbose = 1, n_jobs=-1)\n",
    "forest_best.fit(x_n_cor_train, y_n_train)\n",
    "print(metrics.roc_auc_score(y_n_train, forest_best.predict(x_n_cor_train)))\n",
    "print(metrics.roc_auc_score(y_n_test, forest_best.predict(x_n_cor_test)))\n",
    "print(forest_best.best_params_)"
   ]
  },
  {
   "cell_type": "code",
   "execution_count": 146,
   "metadata": {},
   "outputs": [
    {
     "name": "stderr",
     "output_type": "stream",
     "text": [
      "/Users/ekaterina/opt/anaconda3/lib/python3.7/site-packages/ipykernel_launcher.py:9: DataConversionWarning: A column-vector y was passed when a 1d array was expected. Please change the shape of y to (n_samples,), for example using ravel().\n",
      "  if __name__ == '__main__':\n",
      "[Parallel(n_jobs=1)]: Using backend SequentialBackend with 1 concurrent workers.\n",
      "[Parallel(n_jobs=1)]: Done  75 out of  75 | elapsed:    0.3s finished\n",
      "[Parallel(n_jobs=1)]: Using backend SequentialBackend with 1 concurrent workers.\n",
      "[Parallel(n_jobs=1)]: Done  75 out of  75 | elapsed:    0.0s finished\n",
      "[Parallel(n_jobs=1)]: Using backend SequentialBackend with 1 concurrent workers.\n",
      "[Parallel(n_jobs=1)]: Done  75 out of  75 | elapsed:    0.0s finished\n",
      "[Parallel(n_jobs=1)]: Using backend SequentialBackend with 1 concurrent workers.\n",
      "[Parallel(n_jobs=1)]: Done  75 out of  75 | elapsed:    0.0s finished\n"
     ]
    }
   ],
   "source": [
    "# создаем модель на основании найденных параметров лучшей модели\n",
    "forest1 = RandomForestClassifier(n_estimators = 75,\n",
    "                                 bootstrap = True,\n",
    "                                 max_depth = 15,\n",
    "                                 max_features = 'sqrt',\n",
    "                                 min_samples_leaf = 5,\n",
    "                                 min_samples_split = 2,\n",
    "                                 verbose = 1)\n",
    "forest1.fit(x_n_cor_train, y_n_train)\n",
    "roc_auc_train = metrics.roc_auc_score(y_n_train, forest1.predict(x_n_cor_train))\n",
    "roc_auc_test = metrics.roc_auc_score(y_n_test, forest1.predict(x_n_cor_test))\n",
    "predicted_prob = forest1.predict_proba(x_n_cor_test)"
   ]
  },
  {
   "cell_type": "code",
   "execution_count": 132,
   "metadata": {},
   "outputs": [
    {
     "data": {
      "image/png": "[encoded data removed]",
      "text/plain": [
       "<Figure size 432x288 with 1 Axes>"
      ]
     },
     "metadata": {
      "needs_background": "light"
     },
     "output_type": "display_data"
    }
   ],
   "source": [
    "# строим диаграмму с коэффициентами степени важности каждого параметра\n",
    "features = X1_N_COR.columns.to_list()\n",
    "importances = forest1.feature_importances_\n",
    "indices = np.argsort(importances)\n",
    "\n",
    "plt.title('Feature Importances')\n",
    "plt.barh(range(len(indices)), importances[indices], color='b', align='center')\n",
    "plt.yticks(range(len(indices)), [features[i] for i in indices])\n",
    "plt.xlabel('Relative Importance')\n",
    "plt.show()"
   ]
  },
  {
   "cell_type": "code",
   "execution_count": 147,
   "metadata": {},
   "outputs": [],
   "source": [
    "# записываем результаты работы модели\n",
    "roc_auc_rf_train.append(roc_auc_train)\n",
    "roc_auc_rf_test.append(roc_auc_test)\n",
    "\n",
    "predicted_results = []\n",
    "\n",
    "for a in range(len(predicted_prob)):\n",
    "    \n",
    "    predicted_results.append(predicted_prob[a][1])\n",
    "    \n",
    "index_list = x_n_test.index.tolist()\n",
    "x1_rf1 = pd.DataFrame(pd.Series(data=predicted_results, index=index_list))\n",
    "x1_rf1 = x1_rf1.rename(columns = {0:'PROB_N_COR_RF'})\n",
    "x1_rf = pd.merge(x1_rf, x1_rf1, how='left', left_index=True, right_index=True)"
   ]
  },
  {
   "cell_type": "markdown",
   "metadata": {},
   "source": [
    "### X1_N_WITH_RATINGS"
   ]
  },
  {
   "cell_type": "code",
   "execution_count": 170,
   "metadata": {},
   "outputs": [
    {
     "data": {
      "text/plain": [
       "<matplotlib.axes._subplots.AxesSubplot at 0x1a1c65b650>"
      ]
     },
     "execution_count": 170,
     "metadata": {},
     "output_type": "execute_result"
    },
    {
     "data": {
      "image/png": "[encoded data removed]",
      "text/plain": [
       "<Figure size 648x576 with 2 Axes>"
      ]
     },
     "metadata": {
      "needs_background": "light"
     },
     "output_type": "display_data"
    }
   ],
   "source": [
    "# смотрим на количество скоррелированных переменных, чтобы правильно определить max_features\n",
    "corr_matrix = X1_N_WITH_RATINGS.corr().abs()\n",
    "f, ax = plt.subplots(figsize =(9, 8))\n",
    "sns.heatmap(corr_matrix, ax = ax, cmap =\"YlGnBu\", linewidths = 0.1)"
   ]
  },
  {
   "cell_type": "code",
   "execution_count": 172,
   "metadata": {},
   "outputs": [
    {
     "name": "stdout",
     "output_type": "stream",
     "text": [
      "Fitting 5 folds for each of 288 candidates, totalling 1440 fits\n"
     ]
    },
    {
     "name": "stderr",
     "output_type": "stream",
     "text": [
      "[Parallel(n_jobs=-1)]: Using backend LokyBackend with 4 concurrent workers.\n",
      "[Parallel(n_jobs=-1)]: Done  42 tasks      | elapsed:   18.8s\n",
      "[Parallel(n_jobs=-1)]: Done 192 tasks      | elapsed:   54.9s\n",
      "[Parallel(n_jobs=-1)]: Done 442 tasks      | elapsed:  2.1min\n",
      "[Parallel(n_jobs=-1)]: Done 792 tasks      | elapsed:  3.8min\n",
      "[Parallel(n_jobs=-1)]: Done 1242 tasks      | elapsed:  6.5min\n",
      "[Parallel(n_jobs=-1)]: Done 1440 out of 1440 | elapsed:  7.8min finished\n",
      "/Users/ekaterina/opt/anaconda3/lib/python3.7/site-packages/sklearn/model_selection/_search.py:715: DataConversionWarning: A column-vector y was passed when a 1d array was expected. Please change the shape of y to (n_samples,), for example using ravel().\n",
      "  self.best_estimator_.fit(X, y, **fit_params)\n"
     ]
    },
    {
     "name": "stdout",
     "output_type": "stream",
     "text": [
      "0.783913794344103\n",
      "0.7313281123662994\n",
      "{'bootstrap': False, 'max_depth': 5, 'max_features': 8, 'min_samples_leaf': 5, 'min_samples_split': 2, 'n_estimators': 50}\n",
      "CPU times: user 9.71 s, sys: 798 ms, total: 10.5 s\n",
      "Wall time: 7min 49s\n"
     ]
    }
   ],
   "source": [
    "%%time\n",
    "# перебор параметров\n",
    "parameters = {'n_estimators': [25,50,75,100,125,150],\n",
    "              'min_samples_leaf': [1, 3, 5, 7], \n",
    "              'max_depth': [5,10,15,20],\n",
    "              'max_features': [8],\n",
    "              'min_samples_split': [2], \n",
    "              'min_samples_leaf': [5, 10, 15, 20, 25, 30],\n",
    "              'bootstrap': [True, False]\n",
    "             }\n",
    "\n",
    "forest_best = GridSearchCV(forest, parameters, cv = 5, verbose = 1, n_jobs=-1)\n",
    "forest_best.fit(x_n_with_ratings_train, y_n_train)\n",
    "print(metrics.roc_auc_score(y_n_train, forest_best.predict(x_n_with_ratings_train)))\n",
    "print(metrics.roc_auc_score(y_n_test, forest_best.predict(x_n_with_ratings_test)))\n",
    "print(forest_best.best_params_)"
   ]
  },
  {
   "cell_type": "code",
   "execution_count": 186,
   "metadata": {},
   "outputs": [
    {
     "name": "stderr",
     "output_type": "stream",
     "text": [
      "/Users/ekaterina/opt/anaconda3/lib/python3.7/site-packages/ipykernel_launcher.py:9: DataConversionWarning: A column-vector y was passed when a 1d array was expected. Please change the shape of y to (n_samples,), for example using ravel().\n",
      "  if __name__ == '__main__':\n",
      "[Parallel(n_jobs=1)]: Using backend SequentialBackend with 1 concurrent workers.\n",
      "[Parallel(n_jobs=1)]: Done  50 out of  50 | elapsed:    0.4s finished\n",
      "[Parallel(n_jobs=1)]: Using backend SequentialBackend with 1 concurrent workers.\n",
      "[Parallel(n_jobs=1)]: Done  50 out of  50 | elapsed:    0.0s finished\n",
      "[Parallel(n_jobs=1)]: Using backend SequentialBackend with 1 concurrent workers.\n",
      "[Parallel(n_jobs=1)]: Done  50 out of  50 | elapsed:    0.0s finished\n",
      "[Parallel(n_jobs=1)]: Using backend SequentialBackend with 1 concurrent workers.\n",
      "[Parallel(n_jobs=1)]: Done  50 out of  50 | elapsed:    0.0s finished\n"
     ]
    }
   ],
   "source": [
    "# создаем модель на основании найденных параметров лучшей модели\n",
    "forest1 = RandomForestClassifier(n_estimators = 50,\n",
    "                                 bootstrap = True,\n",
    "                                 max_depth = 15,\n",
    "                                 max_features = 8,\n",
    "                                 min_samples_leaf = 5,\n",
    "                                 min_samples_split = 2,\n",
    "                                 verbose = 1)\n",
    "forest1.fit(x_n_with_ratings_train, y_n_train)\n",
    "roc_auc_train = metrics.roc_auc_score(y_n_train, forest1.predict(x_n_with_ratings_train))\n",
    "roc_auc_test = metrics.roc_auc_score(y_n_test, forest1.predict(x_n_with_ratings_test))\n",
    "predicted_prob = forest1.predict_proba(x_n_with_ratings_test)"
   ]
  },
  {
   "cell_type": "code",
   "execution_count": 187,
   "metadata": {},
   "outputs": [
    {
     "data": {
      "image/png": "[encoded data removed]",
      "text/plain": [
       "<Figure size 432x288 with 1 Axes>"
      ]
     },
     "metadata": {
      "needs_background": "light"
     },
     "output_type": "display_data"
    }
   ],
   "source": [
    "# строим диаграмму с коэффициентами степени важности каждого параметра\n",
    "features = X1_N_WITH_RATINGS.columns.to_list()\n",
    "importances = forest1.feature_importances_\n",
    "indices = np.argsort(importances)\n",
    "\n",
    "plt.title('Feature Importances')\n",
    "plt.barh(range(len(indices)), importances[indices], color='b', align='center')\n",
    "plt.yticks(range(len(indices)), [features[i] for i in indices])\n",
    "plt.xlabel('Relative Importance')\n",
    "plt.show()"
   ]
  },
  {
   "cell_type": "code",
   "execution_count": 188,
   "metadata": {},
   "outputs": [],
   "source": [
    "# записываем результаты работы модели\n",
    "roc_auc_rf_train.append(roc_auc_train)\n",
    "roc_auc_rf_test.append(roc_auc_test)\n",
    "\n",
    "predicted_results = []\n",
    "\n",
    "for a in range(len(predicted_prob)):\n",
    "    \n",
    "    predicted_results.append(predicted_prob[a][1])\n",
    "    \n",
    "index_list = x_n_test.index.tolist()\n",
    "x1_rf1 = pd.DataFrame(pd.Series(data=predicted_results, index=index_list))\n",
    "x1_rf1 = x1_rf1.rename(columns = {0:'PROB_N_WITH_RATINGS_RF'})\n",
    "x1_rf = pd.merge(x1_rf, x1_rf1, how='left', left_index=True, right_index=True)"
   ]
  },
  {
   "cell_type": "code",
   "execution_count": 189,
   "metadata": {},
   "outputs": [
    {
     "data": {
      "text/html": [
       "<div>\n",
       "<style scoped>\n",
       "    .dataframe tbody tr th:only-of-type {\n",
       "        vertical-align: middle;\n",
       "    }\n",
       "\n",
       "    .dataframe tbody tr th {\n",
       "        vertical-align: top;\n",
       "    }\n",
       "\n",
       "    .dataframe thead th {\n",
       "        text-align: right;\n",
       "    }\n",
       "</style>\n",
       "<table border=\"1\" class=\"dataframe\">\n",
       "  <thead>\n",
       "    <tr style=\"text-align: right;\">\n",
       "      <th></th>\n",
       "      <th>PROB_N_RF</th>\n",
       "      <th>PROB_N_PCA_RF</th>\n",
       "      <th>PROB_N_COR_RF</th>\n",
       "      <th>PROB_N_WITH_RATINGS_RF</th>\n",
       "    </tr>\n",
       "  </thead>\n",
       "  <tbody>\n",
       "    <tr>\n",
       "      <td>4437</td>\n",
       "      <td>0.992468</td>\n",
       "      <td>0.955266</td>\n",
       "      <td>0.910867</td>\n",
       "      <td>0.979143</td>\n",
       "    </tr>\n",
       "    <tr>\n",
       "      <td>1109</td>\n",
       "      <td>0.000000</td>\n",
       "      <td>0.000000</td>\n",
       "      <td>0.000000</td>\n",
       "      <td>0.000000</td>\n",
       "    </tr>\n",
       "    <tr>\n",
       "      <td>1388</td>\n",
       "      <td>0.000000</td>\n",
       "      <td>0.000000</td>\n",
       "      <td>0.000000</td>\n",
       "      <td>0.000000</td>\n",
       "    </tr>\n",
       "    <tr>\n",
       "      <td>5610</td>\n",
       "      <td>0.000000</td>\n",
       "      <td>0.000000</td>\n",
       "      <td>0.000000</td>\n",
       "      <td>0.000000</td>\n",
       "    </tr>\n",
       "    <tr>\n",
       "      <td>5050</td>\n",
       "      <td>0.000000</td>\n",
       "      <td>0.001429</td>\n",
       "      <td>0.000000</td>\n",
       "      <td>0.000000</td>\n",
       "    </tr>\n",
       "    <tr>\n",
       "      <td>...</td>\n",
       "      <td>...</td>\n",
       "      <td>...</td>\n",
       "      <td>...</td>\n",
       "      <td>...</td>\n",
       "    </tr>\n",
       "    <tr>\n",
       "      <td>4251</td>\n",
       "      <td>0.018333</td>\n",
       "      <td>0.041951</td>\n",
       "      <td>0.036884</td>\n",
       "      <td>0.001111</td>\n",
       "    </tr>\n",
       "    <tr>\n",
       "      <td>5563</td>\n",
       "      <td>0.016896</td>\n",
       "      <td>0.037296</td>\n",
       "      <td>0.035979</td>\n",
       "      <td>0.024794</td>\n",
       "    </tr>\n",
       "    <tr>\n",
       "      <td>5425</td>\n",
       "      <td>0.026910</td>\n",
       "      <td>0.038952</td>\n",
       "      <td>0.016801</td>\n",
       "      <td>0.064489</td>\n",
       "    </tr>\n",
       "    <tr>\n",
       "      <td>5386</td>\n",
       "      <td>0.464654</td>\n",
       "      <td>0.436928</td>\n",
       "      <td>0.409533</td>\n",
       "      <td>0.378896</td>\n",
       "    </tr>\n",
       "    <tr>\n",
       "      <td>466</td>\n",
       "      <td>0.000000</td>\n",
       "      <td>0.000000</td>\n",
       "      <td>0.000000</td>\n",
       "      <td>0.000000</td>\n",
       "    </tr>\n",
       "  </tbody>\n",
       "</table>\n",
       "<p>1889 rows × 4 columns</p>\n",
       "</div>"
      ],
      "text/plain": [
       "      PROB_N_RF  PROB_N_PCA_RF  PROB_N_COR_RF  PROB_N_WITH_RATINGS_RF\n",
       "4437   0.992468       0.955266       0.910867                0.979143\n",
       "1109   0.000000       0.000000       0.000000                0.000000\n",
       "1388   0.000000       0.000000       0.000000                0.000000\n",
       "5610   0.000000       0.000000       0.000000                0.000000\n",
       "5050   0.000000       0.001429       0.000000                0.000000\n",
       "...         ...            ...            ...                     ...\n",
       "4251   0.018333       0.041951       0.036884                0.001111\n",
       "5563   0.016896       0.037296       0.035979                0.024794\n",
       "5425   0.026910       0.038952       0.016801                0.064489\n",
       "5386   0.464654       0.436928       0.409533                0.378896\n",
       "466    0.000000       0.000000       0.000000                0.000000\n",
       "\n",
       "[1889 rows x 4 columns]"
      ]
     },
     "execution_count": 189,
     "metadata": {},
     "output_type": "execute_result"
    }
   ],
   "source": [
    "x1_rf"
   ]
  },
  {
   "cell_type": "code",
   "execution_count": 190,
   "metadata": {},
   "outputs": [
    {
     "data": {
      "text/html": [
       "<div>\n",
       "<style scoped>\n",
       "    .dataframe tbody tr th:only-of-type {\n",
       "        vertical-align: middle;\n",
       "    }\n",
       "\n",
       "    .dataframe tbody tr th {\n",
       "        vertical-align: top;\n",
       "    }\n",
       "\n",
       "    .dataframe thead th {\n",
       "        text-align: right;\n",
       "    }\n",
       "</style>\n",
       "<table border=\"1\" class=\"dataframe\">\n",
       "  <thead>\n",
       "    <tr style=\"text-align: right;\">\n",
       "      <th></th>\n",
       "      <th>RF_TRAIN</th>\n",
       "      <th>RF_TEST</th>\n",
       "    </tr>\n",
       "  </thead>\n",
       "  <tbody>\n",
       "    <tr>\n",
       "      <td>X1_N</td>\n",
       "      <td>0.814800</td>\n",
       "      <td>0.784520</td>\n",
       "    </tr>\n",
       "    <tr>\n",
       "      <td>X1_N_PCA</td>\n",
       "      <td>0.788111</td>\n",
       "      <td>0.753962</td>\n",
       "    </tr>\n",
       "    <tr>\n",
       "      <td>X1_N_COR</td>\n",
       "      <td>0.791840</td>\n",
       "      <td>0.743595</td>\n",
       "    </tr>\n",
       "    <tr>\n",
       "      <td>X1_N_WITH_RATINGS</td>\n",
       "      <td>0.826455</td>\n",
       "      <td>0.785605</td>\n",
       "    </tr>\n",
       "  </tbody>\n",
       "</table>\n",
       "</div>"
      ],
      "text/plain": [
       "                   RF_TRAIN   RF_TEST\n",
       "X1_N               0.814800  0.784520\n",
       "X1_N_PCA           0.788111  0.753962\n",
       "X1_N_COR           0.791840  0.743595\n",
       "X1_N_WITH_RATINGS  0.826455  0.785605"
      ]
     },
     "execution_count": 190,
     "metadata": {},
     "output_type": "execute_result"
    }
   ],
   "source": [
    "# собираем roc_auc в один датафрейм\n",
    "roc_auc_log1 = pd.DataFrame(roc_auc_rf_test, index=['X1_N','X1_N_PCA','X1_N_COR','X1_N_WITH_RATINGS'])\n",
    "roc_auc_log1 = roc_auc_log1.rename(columns = {0:'RF_TEST'})\n",
    "roc_auc_log2 = pd.DataFrame(roc_auc_rf_train, index=['X1_N','X1_N_PCA','X1_N_COR','X1_N_WITH_RATINGS'])\n",
    "roc_auc_log2 = roc_auc_log2.rename(columns = {0:'RF_TRAIN'})\n",
    "roc_auc_log1 = pd.merge(roc_auc_log2, roc_auc_log1, how='left', left_index=True, right_index=True)\n",
    "roc_auc_log1"
   ]
  },
  {
   "cell_type": "markdown",
   "metadata": {},
   "source": [
    "# (1.9) Градиентный бустинг"
   ]
  },
  {
   "cell_type": "code",
   "execution_count": 32,
   "metadata": {},
   "outputs": [],
   "source": [
    "from sklearn.ensemble import GradientBoostingClassifier\n",
    "boosting = GradientBoostingClassifier(random_state=123)\n",
    "roc_auc_bo = []"
   ]
  },
  {
   "cell_type": "markdown",
   "metadata": {},
   "source": [
    "### X1_N"
   ]
  },
  {
   "cell_type": "code",
   "execution_count": 33,
   "metadata": {},
   "outputs": [
    {
     "name": "stdout",
     "output_type": "stream",
     "text": [
      "Fitting 5 folds for each of 1 candidates, totalling 5 fits\n"
     ]
    },
    {
     "name": "stderr",
     "output_type": "stream",
     "text": [
      "[Parallel(n_jobs=-1)]: Using backend LokyBackend with 4 concurrent workers.\n",
      "[Parallel(n_jobs=-1)]: Done   5 out of   5 | elapsed:    2.6s finished\n",
      "/Users/ekaterina/opt/anaconda3/lib/python3.7/site-packages/sklearn/ensemble/gradient_boosting.py:1450: DataConversionWarning: A column-vector y was passed when a 1d array was expected. Please change the shape of y to (n_samples, ), for example using ravel().\n",
      "  y = column_or_1d(y, warn=True)\n"
     ]
    },
    {
     "name": "stdout",
     "output_type": "stream",
     "text": [
      "0.8049818652251254\n",
      "{'max_depth': 5, 'max_features': 'sqrt', 'min_samples_leaf': 12, 'min_samples_split': 50, 'n_estimators': 200}\n",
      "CPU times: user 961 ms, sys: 27 ms, total: 988 ms\n",
      "Wall time: 4.27 s\n"
     ]
    }
   ],
   "source": [
    "%%time\n",
    "# перебор параметров\n",
    "'''parameters = {'n_estimators': [100, 150, 200, 300], \n",
    "              'learning_rate': [0.1,0.5,1], \n",
    "              'max_depth': [3,5,7,10], \n",
    "              'min_samples_split': [2,5,7,10,15,20], \n",
    "              'min_samples_leaf': [1,2,5,7,10]}'''\n",
    "\n",
    "# результаты поиска по сетке, для ускорения можно использовать сразу их\n",
    "parameters = {'max_depth': [5], \n",
    "              'max_features': ['sqrt'], \n",
    "              'min_samples_leaf': [12], \n",
    "              'min_samples_split': [50], \n",
    "              'n_estimators': [200]}\n",
    "\n",
    "boosting_best = GridSearchCV(boosting, parameters, cv = 5, verbose = 1, n_jobs=-1)\n",
    "boosting_best.fit(x_n_train, y_n_train)\n",
    "predicted_prob = boosting_best.predict_proba(x_n_test)\n",
    "roc_auc = metrics.roc_auc_score(y_n_test, boosting_best.predict(x_n_test))\n",
    "x1_n_rf_best_params = boosting_best.best_params_\n",
    "print(roc_auc)\n",
    "print(boosting_best.best_params_)\n",
    "\n",
    "roc_auc_bo.append(roc_auc)\n",
    "\n",
    "predicted_results = []\n",
    "\n",
    "for a in range(len(predicted_prob)):\n",
    "    \n",
    "    predicted_results.append(predicted_prob[a][1])\n",
    "    \n",
    "index_list = x_n_test.index.tolist()\n",
    "# записываем вероятность попадания в класс 1 в новый датафрейм\n",
    "x1_bo = pd.DataFrame(pd.Series(data=predicted_results, index=index_list))\n",
    "x1_bo = x1_bo.rename(columns = {0:'PROB_N_BO_CV'})"
   ]
  },
  {
   "cell_type": "markdown",
   "metadata": {},
   "source": [
    "### X1_N_PCA"
   ]
  },
  {
   "cell_type": "code",
   "execution_count": 34,
   "metadata": {},
   "outputs": [
    {
     "name": "stdout",
     "output_type": "stream",
     "text": [
      "Fitting 5 folds for each of 1 candidates, totalling 5 fits\n"
     ]
    },
    {
     "name": "stderr",
     "output_type": "stream",
     "text": [
      "[Parallel(n_jobs=-1)]: Using backend LokyBackend with 4 concurrent workers.\n",
      "[Parallel(n_jobs=-1)]: Done   5 out of   5 | elapsed:    4.0s finished\n",
      "/Users/ekaterina/opt/anaconda3/lib/python3.7/site-packages/sklearn/ensemble/gradient_boosting.py:1450: DataConversionWarning: A column-vector y was passed when a 1d array was expected. Please change the shape of y to (n_samples, ), for example using ravel().\n",
      "  y = column_or_1d(y, warn=True)\n"
     ]
    },
    {
     "name": "stdout",
     "output_type": "stream",
     "text": [
      "0.8047104211426064\n",
      "{'learning_rate': 0.1, 'max_depth': 5, 'min_samples_leaf': 5, 'min_samples_split': 20, 'n_estimators': 200}\n",
      "CPU times: user 1.25 s, sys: 18.8 ms, total: 1.27 s\n",
      "Wall time: 5.48 s\n"
     ]
    }
   ],
   "source": [
    "%%time\n",
    "# перебор параметров\n",
    "'''parameters = {'n_estimators': [100, 150, 200, 300], \n",
    "              'learning_rate': [0.1,0.5,1], \n",
    "              'max_depth': [3,5,7,10], \n",
    "              'min_samples_split': [2,5,7,10,15,20], \n",
    "              'min_samples_leaf': [1,2,5,7,10]}\n",
    "'''\n",
    "# результаты поиска по сетке, для ускорения можно использовать сразу их\n",
    "parameters = {'learning_rate': [0.1], \n",
    "              'max_depth': [5], \n",
    "              'min_samples_leaf': [5], \n",
    "              'min_samples_split': [20], \n",
    "              'n_estimators': [200]}\n",
    "\n",
    "boosting_best = GridSearchCV(boosting, parameters, cv = 5, verbose = 1, n_jobs=-1)\n",
    "boosting_best.fit(x_n_pca_train, y_n_train)\n",
    "predicted_prob = boosting_best.predict_proba(x_n_pca_test)\n",
    "roc_auc = metrics.roc_auc_score(y_n_test, boosting_best.predict(x_n_pca_test))\n",
    "x1_n_pca_rf_best_params = boosting_best.best_params_\n",
    "print(roc_auc)\n",
    "print(boosting_best.best_params_)\n",
    "\n",
    "roc_auc_bo.append(roc_auc)\n",
    "\n",
    "predicted_results = []\n",
    "\n",
    "for a in range(len(predicted_prob)):\n",
    "    \n",
    "    predicted_results.append(predicted_prob[a][1])\n",
    "    \n",
    "index_list = x_n_pca_test.index.tolist()\n",
    "# записываем вероятность попадания в класс 1 в новый датафрейм\n",
    "x1_bo_cv = pd.DataFrame(pd.Series(data=predicted_results, index=index_list))\n",
    "x1_bo_cv = x1_bo_cv.rename(columns = {0:'PROB_N_PCA_BO_CV'})\n",
    "# сливаем с предыдущим результатом\n",
    "x1_bo = pd.merge(x1_bo, x1_bo_cv, how='left', left_index=True, right_index=True)"
   ]
  },
  {
   "cell_type": "markdown",
   "metadata": {},
   "source": [
    "### X1_N_COR"
   ]
  },
  {
   "cell_type": "code",
   "execution_count": 35,
   "metadata": {},
   "outputs": [
    {
     "name": "stdout",
     "output_type": "stream",
     "text": [
      "Fitting 5 folds for each of 1 candidates, totalling 5 fits\n"
     ]
    },
    {
     "name": "stderr",
     "output_type": "stream",
     "text": [
      "[Parallel(n_jobs=-1)]: Using backend LokyBackend with 4 concurrent workers.\n",
      "[Parallel(n_jobs=-1)]: Done   5 out of   5 | elapsed:    3.1s finished\n",
      "/Users/ekaterina/opt/anaconda3/lib/python3.7/site-packages/sklearn/ensemble/gradient_boosting.py:1450: DataConversionWarning: A column-vector y was passed when a 1d array was expected. Please change the shape of y to (n_samples, ), for example using ravel().\n",
      "  y = column_or_1d(y, warn=True)\n"
     ]
    },
    {
     "name": "stdout",
     "output_type": "stream",
     "text": [
      "0.7845196017280015\n",
      "{'learning_rate': 0.1, 'max_depth': 3, 'min_samples_leaf': 5, 'min_samples_split': 15, 'n_estimators': 300}\n",
      "CPU times: user 918 ms, sys: 14.5 ms, total: 933 ms\n",
      "Wall time: 4.02 s\n"
     ]
    }
   ],
   "source": [
    "%%time\n",
    "'''parameters = {'n_estimators': [100, 150, 200, 300], \n",
    "              'learning_rate': [0.1,0.5,1], \n",
    "              'max_depth': [3,5,7,10], \n",
    "              'min_samples_split': [2,5,7,10,15,20], \n",
    "              'min_samples_leaf': [1,2,5,7,10]}\n",
    "'''\n",
    "# результаты поиска по сетке, для ускорения можно использовать сразу их\n",
    "parameters = {'learning_rate': [0.1], \n",
    "              'max_depth': [3], \n",
    "              'min_samples_leaf': [5], \n",
    "              'min_samples_split': [15], \n",
    "              'n_estimators': [300]}\n",
    "\n",
    "boosting_best = GridSearchCV(boosting, parameters, cv = 5, verbose = 1, n_jobs=-1)\n",
    "boosting_best.fit(x_n_cor_train, y_n_train)\n",
    "predicted_prob = boosting_best.predict_proba(x_n_cor_test)\n",
    "roc_auc = metrics.roc_auc_score(y_n_test, boosting_best.predict(x_n_cor_test))\n",
    "x1_n_cor_rf_best_params = boosting_best.best_params_\n",
    "print(roc_auc)\n",
    "print(boosting_best.best_params_)\n",
    "\n",
    "roc_auc_bo.append(roc_auc)\n",
    "\n",
    "predicted_results = []\n",
    "\n",
    "for a in range(len(predicted_prob)):\n",
    "    \n",
    "    predicted_results.append(predicted_prob[a][1])\n",
    "    \n",
    "index_list = x_n_cor_test.index.tolist()\n",
    "# записываем вероятность попадания в класс 1 в новый датафрейм\n",
    "x1_bo_cv = pd.DataFrame(pd.Series(data=predicted_results, index=index_list))\n",
    "x1_bo_cv = x1_bo_cv.rename(columns = {0:'PROB_N_COR_BO_CV'})\n",
    "# сливаем с предыдущим результатом\n",
    "x1_bo = pd.merge(x1_bo, x1_bo_cv, how='left', left_index=True, right_index=True)"
   ]
  },
  {
   "cell_type": "code",
   "execution_count": 36,
   "metadata": {},
   "outputs": [
    {
     "data": {
      "text/html": [
       "<div>\n",
       "<style scoped>\n",
       "    .dataframe tbody tr th:only-of-type {\n",
       "        vertical-align: middle;\n",
       "    }\n",
       "\n",
       "    .dataframe tbody tr th {\n",
       "        vertical-align: top;\n",
       "    }\n",
       "\n",
       "    .dataframe thead th {\n",
       "        text-align: right;\n",
       "    }\n",
       "</style>\n",
       "<table border=\"1\" class=\"dataframe\">\n",
       "  <thead>\n",
       "    <tr style=\"text-align: right;\">\n",
       "      <th></th>\n",
       "      <th>LOGIT</th>\n",
       "      <th>RANDOM_FOREST</th>\n",
       "      <th>BOOSTING</th>\n",
       "    </tr>\n",
       "  </thead>\n",
       "  <tbody>\n",
       "    <tr>\n",
       "      <td>X1_N_CV</td>\n",
       "      <td>-</td>\n",
       "      <td>0.711952</td>\n",
       "      <td>0.804982</td>\n",
       "    </tr>\n",
       "    <tr>\n",
       "      <td>X1_N_PCA_CV</td>\n",
       "      <td>0.603126</td>\n",
       "      <td>0.722590</td>\n",
       "      <td>0.804710</td>\n",
       "    </tr>\n",
       "    <tr>\n",
       "      <td>X1_N_COR_CV</td>\n",
       "      <td>0.530558</td>\n",
       "      <td>0.732685</td>\n",
       "      <td>0.784520</td>\n",
       "    </tr>\n",
       "  </tbody>\n",
       "</table>\n",
       "</div>"
      ],
      "text/plain": [
       "                LOGIT  RANDOM_FOREST  BOOSTING\n",
       "X1_N_CV             -       0.711952  0.804982\n",
       "X1_N_PCA_CV  0.603126       0.722590  0.804710\n",
       "X1_N_COR_CV  0.530558       0.732685  0.784520"
      ]
     },
     "execution_count": 36,
     "metadata": {},
     "output_type": "execute_result"
    }
   ],
   "source": [
    "# собираем roc_auc в один датафрейм\n",
    "roc_auc_bo1 = pd.DataFrame(roc_auc_bo, index=['X1_N_CV','X1_N_PCA_CV','X1_N_COR_CV'])\n",
    "roc_auc_bo1 = roc_auc_bo1.rename(columns = {0:'BOOSTING'})\n",
    "roc_auc_1 = pd.merge(roc_auc_1, roc_auc_bo1, how='left', left_index=True, right_index=True)\n",
    "roc_auc_1"
   ]
  },
  {
   "cell_type": "code",
   "execution_count": 37,
   "metadata": {},
   "outputs": [
    {
     "data": {
      "text/html": [
       "<div>\n",
       "<style scoped>\n",
       "    .dataframe tbody tr th:only-of-type {\n",
       "        vertical-align: middle;\n",
       "    }\n",
       "\n",
       "    .dataframe tbody tr th {\n",
       "        vertical-align: top;\n",
       "    }\n",
       "\n",
       "    .dataframe thead th {\n",
       "        text-align: right;\n",
       "    }\n",
       "</style>\n",
       "<table border=\"1\" class=\"dataframe\">\n",
       "  <thead>\n",
       "    <tr style=\"text-align: right;\">\n",
       "      <th></th>\n",
       "      <th>PROB_N_PCA_LOG_CV</th>\n",
       "      <th>PROB_N_COR_LOG_CV</th>\n",
       "      <th>PROB_N_RF_CV</th>\n",
       "      <th>PROB_N_PCA_RF_CV</th>\n",
       "      <th>PROB_N_COR_RF_CV</th>\n",
       "      <th>PROB_N_BO_CV</th>\n",
       "      <th>PROB_N_PCA_BO_CV</th>\n",
       "      <th>PROB_N_COR_BO_CV</th>\n",
       "    </tr>\n",
       "  </thead>\n",
       "  <tbody>\n",
       "    <tr>\n",
       "      <td>4437</td>\n",
       "      <td>0.499838</td>\n",
       "      <td>2.481693e-01</td>\n",
       "      <td>0.787574</td>\n",
       "      <td>0.716095</td>\n",
       "      <td>0.859336</td>\n",
       "      <td>0.998547</td>\n",
       "      <td>0.999976</td>\n",
       "      <td>0.999739</td>\n",
       "    </tr>\n",
       "    <tr>\n",
       "      <td>1109</td>\n",
       "      <td>0.005364</td>\n",
       "      <td>2.845065e-04</td>\n",
       "      <td>0.000000</td>\n",
       "      <td>0.000301</td>\n",
       "      <td>0.000041</td>\n",
       "      <td>0.000096</td>\n",
       "      <td>0.000103</td>\n",
       "      <td>0.000215</td>\n",
       "    </tr>\n",
       "    <tr>\n",
       "      <td>1388</td>\n",
       "      <td>0.007379</td>\n",
       "      <td>1.823415e-02</td>\n",
       "      <td>0.000095</td>\n",
       "      <td>0.000093</td>\n",
       "      <td>0.000393</td>\n",
       "      <td>0.000226</td>\n",
       "      <td>0.000125</td>\n",
       "      <td>0.000345</td>\n",
       "    </tr>\n",
       "    <tr>\n",
       "      <td>5610</td>\n",
       "      <td>0.004351</td>\n",
       "      <td>3.096742e-03</td>\n",
       "      <td>0.000045</td>\n",
       "      <td>0.000179</td>\n",
       "      <td>0.000050</td>\n",
       "      <td>0.000148</td>\n",
       "      <td>0.000105</td>\n",
       "      <td>0.000253</td>\n",
       "    </tr>\n",
       "    <tr>\n",
       "      <td>5050</td>\n",
       "      <td>0.004207</td>\n",
       "      <td>8.434460e-03</td>\n",
       "      <td>0.000503</td>\n",
       "      <td>0.001598</td>\n",
       "      <td>0.001686</td>\n",
       "      <td>0.000393</td>\n",
       "      <td>0.000195</td>\n",
       "      <td>0.000593</td>\n",
       "    </tr>\n",
       "    <tr>\n",
       "      <td>...</td>\n",
       "      <td>...</td>\n",
       "      <td>...</td>\n",
       "      <td>...</td>\n",
       "      <td>...</td>\n",
       "      <td>...</td>\n",
       "      <td>...</td>\n",
       "      <td>...</td>\n",
       "      <td>...</td>\n",
       "    </tr>\n",
       "    <tr>\n",
       "      <td>4251</td>\n",
       "      <td>0.006461</td>\n",
       "      <td>2.270219e-07</td>\n",
       "      <td>0.022669</td>\n",
       "      <td>0.057841</td>\n",
       "      <td>0.063929</td>\n",
       "      <td>0.001923</td>\n",
       "      <td>0.001201</td>\n",
       "      <td>0.005288</td>\n",
       "    </tr>\n",
       "    <tr>\n",
       "      <td>5563</td>\n",
       "      <td>0.015023</td>\n",
       "      <td>8.865294e-03</td>\n",
       "      <td>0.019290</td>\n",
       "      <td>0.090858</td>\n",
       "      <td>0.078939</td>\n",
       "      <td>0.002154</td>\n",
       "      <td>0.006796</td>\n",
       "      <td>0.005875</td>\n",
       "    </tr>\n",
       "    <tr>\n",
       "      <td>5425</td>\n",
       "      <td>0.137971</td>\n",
       "      <td>1.242565e-02</td>\n",
       "      <td>0.130184</td>\n",
       "      <td>0.105936</td>\n",
       "      <td>0.040236</td>\n",
       "      <td>0.002176</td>\n",
       "      <td>0.001641</td>\n",
       "      <td>0.001594</td>\n",
       "    </tr>\n",
       "    <tr>\n",
       "      <td>5386</td>\n",
       "      <td>0.468912</td>\n",
       "      <td>4.033665e-01</td>\n",
       "      <td>0.410399</td>\n",
       "      <td>0.376085</td>\n",
       "      <td>0.406911</td>\n",
       "      <td>0.478047</td>\n",
       "      <td>0.567448</td>\n",
       "      <td>0.745965</td>\n",
       "    </tr>\n",
       "    <tr>\n",
       "      <td>466</td>\n",
       "      <td>0.003260</td>\n",
       "      <td>1.812547e-01</td>\n",
       "      <td>0.000884</td>\n",
       "      <td>0.001078</td>\n",
       "      <td>0.000705</td>\n",
       "      <td>0.000055</td>\n",
       "      <td>0.000127</td>\n",
       "      <td>0.000175</td>\n",
       "    </tr>\n",
       "  </tbody>\n",
       "</table>\n",
       "<p>1889 rows × 8 columns</p>\n",
       "</div>"
      ],
      "text/plain": [
       "      PROB_N_PCA_LOG_CV  PROB_N_COR_LOG_CV  PROB_N_RF_CV  PROB_N_PCA_RF_CV  \\\n",
       "4437           0.499838       2.481693e-01      0.787574          0.716095   \n",
       "1109           0.005364       2.845065e-04      0.000000          0.000301   \n",
       "1388           0.007379       1.823415e-02      0.000095          0.000093   \n",
       "5610           0.004351       3.096742e-03      0.000045          0.000179   \n",
       "5050           0.004207       8.434460e-03      0.000503          0.001598   \n",
       "...                 ...                ...           ...               ...   \n",
       "4251           0.006461       2.270219e-07      0.022669          0.057841   \n",
       "5563           0.015023       8.865294e-03      0.019290          0.090858   \n",
       "5425           0.137971       1.242565e-02      0.130184          0.105936   \n",
       "5386           0.468912       4.033665e-01      0.410399          0.376085   \n",
       "466            0.003260       1.812547e-01      0.000884          0.001078   \n",
       "\n",
       "      PROB_N_COR_RF_CV  PROB_N_BO_CV  PROB_N_PCA_BO_CV  PROB_N_COR_BO_CV  \n",
       "4437          0.859336      0.998547          0.999976          0.999739  \n",
       "1109          0.000041      0.000096          0.000103          0.000215  \n",
       "1388          0.000393      0.000226          0.000125          0.000345  \n",
       "5610          0.000050      0.000148          0.000105          0.000253  \n",
       "5050          0.001686      0.000393          0.000195          0.000593  \n",
       "...                ...           ...               ...               ...  \n",
       "4251          0.063929      0.001923          0.001201          0.005288  \n",
       "5563          0.078939      0.002154          0.006796          0.005875  \n",
       "5425          0.040236      0.002176          0.001641          0.001594  \n",
       "5386          0.406911      0.478047          0.567448          0.745965  \n",
       "466           0.000705      0.000055          0.000127          0.000175  \n",
       "\n",
       "[1889 rows x 8 columns]"
      ]
     },
     "execution_count": 37,
     "metadata": {},
     "output_type": "execute_result"
    }
   ],
   "source": [
    "# собираем предсказанные вероятности в один датафрейм\n",
    "x1_results = pd.merge(x1_results,x1_bo, how='left', left_index=True, right_index=True)\n",
    "x1_results"
   ]
  },
  {
   "cell_type": "markdown",
   "metadata": {},
   "source": [
    "# (1.10) Метод опорных векторов (SVM)"
   ]
  },
  {
   "cell_type": "code",
   "execution_count": 38,
   "metadata": {},
   "outputs": [],
   "source": [
    "from sklearn.svm import SVC\n",
    "svm = SVC(random_state=123)\n",
    "roc_auc_svm = []"
   ]
  },
  {
   "cell_type": "markdown",
   "metadata": {},
   "source": [
    "### X1_N"
   ]
  },
  {
   "cell_type": "code",
   "execution_count": 39,
   "metadata": {},
   "outputs": [
    {
     "name": "stdout",
     "output_type": "stream",
     "text": [
      "Fitting 5 folds for each of 1 candidates, totalling 5 fits\n"
     ]
    },
    {
     "name": "stderr",
     "output_type": "stream",
     "text": [
      "[Parallel(n_jobs=-1)]: Using backend LokyBackend with 4 concurrent workers.\n",
      "[Parallel(n_jobs=-1)]: Done   5 out of   5 | elapsed:    0.5s finished\n",
      "/Users/ekaterina/opt/anaconda3/lib/python3.7/site-packages/sklearn/utils/validation.py:724: DataConversionWarning: A column-vector y was passed when a 1d array was expected. Please change the shape of y to (n_samples, ), for example using ravel().\n",
      "  y = column_or_1d(y, warn=True)\n",
      "/Users/ekaterina/opt/anaconda3/lib/python3.7/site-packages/sklearn/svm/base.py:193: FutureWarning: The default value of gamma will change from 'auto' to 'scale' in version 0.22 to account better for unscaled features. Set gamma explicitly to 'auto' or 'scale' to avoid this warning.\n",
      "  \"avoid this warning.\", FutureWarning)\n"
     ]
    },
    {
     "name": "stdout",
     "output_type": "stream",
     "text": [
      "0.6988703305842401\n",
      "{'C': 8, 'kernel': 'rbf'}\n",
      "CPU times: user 270 ms, sys: 12 ms, total: 282 ms\n",
      "Wall time: 712 ms\n"
     ]
    }
   ],
   "source": [
    "%%time\n",
    "'''parameters = {'kernel': ['linear','rbf'],\n",
    "              'C':[1,8]}'''\n",
    "\n",
    "# результаты поиска по сетке, для ускорения можно использовать сразу их\n",
    "parameters = {'C': [8], \n",
    "              'kernel': ['rbf']}\n",
    "\n",
    "svm_best = GridSearchCV(svm, parameters, cv = 5, verbose = 1, n_jobs=-1)\n",
    "svm_best.fit(x_n_train, y_n_train)\n",
    "predicted_class = svm_best.predict(x_n_test)\n",
    "roc_auc = metrics.roc_auc_score(y_n_test, svm_best.predict(x_n_test))\n",
    "print(roc_auc)\n",
    "print(svm_best.best_params_)\n",
    "\n",
    "roc_auc_svm.append(roc_auc)"
   ]
  },
  {
   "cell_type": "markdown",
   "metadata": {},
   "source": [
    "### X1_N_PCA"
   ]
  },
  {
   "cell_type": "code",
   "execution_count": 40,
   "metadata": {},
   "outputs": [
    {
     "name": "stdout",
     "output_type": "stream",
     "text": [
      "Fitting 5 folds for each of 1 candidates, totalling 5 fits\n"
     ]
    },
    {
     "name": "stderr",
     "output_type": "stream",
     "text": [
      "[Parallel(n_jobs=-1)]: Using backend LokyBackend with 4 concurrent workers.\n"
     ]
    },
    {
     "name": "stdout",
     "output_type": "stream",
     "text": [
      "0.6985988865017211\n",
      "{'C': 8, 'kernel': 'rbf'}\n",
      "CPU times: user 200 ms, sys: 10.1 ms, total: 210 ms\n",
      "Wall time: 561 ms\n"
     ]
    },
    {
     "name": "stderr",
     "output_type": "stream",
     "text": [
      "[Parallel(n_jobs=-1)]: Done   5 out of   5 | elapsed:    0.4s finished\n",
      "/Users/ekaterina/opt/anaconda3/lib/python3.7/site-packages/sklearn/utils/validation.py:724: DataConversionWarning: A column-vector y was passed when a 1d array was expected. Please change the shape of y to (n_samples, ), for example using ravel().\n",
      "  y = column_or_1d(y, warn=True)\n",
      "/Users/ekaterina/opt/anaconda3/lib/python3.7/site-packages/sklearn/svm/base.py:193: FutureWarning: The default value of gamma will change from 'auto' to 'scale' in version 0.22 to account better for unscaled features. Set gamma explicitly to 'auto' or 'scale' to avoid this warning.\n",
      "  \"avoid this warning.\", FutureWarning)\n"
     ]
    }
   ],
   "source": [
    "%%time\n",
    "'''parameters = {'kernel': ['linear','rbf'],\n",
    "              'C':[1,8]}'''\n",
    "\n",
    "# результаты поиска по сетке, для ускорения можно использовать сразу их\n",
    "parameters = {'C': [8], \n",
    "              'kernel': ['rbf']}\n",
    "\n",
    "svm_best = GridSearchCV(svm, parameters, cv = 5, verbose = 1, n_jobs=-1)\n",
    "svm_best.fit(x_n_pca_train, y_n_train)\n",
    "predicted_class = svm_best.predict(x_n_pca_test)\n",
    "roc_auc = metrics.roc_auc_score(y_n_test, svm_best.predict(x_n_pca_test))\n",
    "print(roc_auc)\n",
    "print(svm_best.best_params_)\n",
    "\n",
    "roc_auc_svm.append(roc_auc)"
   ]
  },
  {
   "cell_type": "markdown",
   "metadata": {},
   "source": [
    "### X1_N_COR"
   ]
  },
  {
   "cell_type": "code",
   "execution_count": 41,
   "metadata": {},
   "outputs": [
    {
     "name": "stdout",
     "output_type": "stream",
     "text": [
      "Fitting 5 folds for each of 1 candidates, totalling 5 fits\n"
     ]
    },
    {
     "name": "stderr",
     "output_type": "stream",
     "text": [
      "[Parallel(n_jobs=-1)]: Using backend LokyBackend with 4 concurrent workers.\n",
      "[Parallel(n_jobs=-1)]: Done   5 out of   5 | elapsed:    2.2s finished\n",
      "/Users/ekaterina/opt/anaconda3/lib/python3.7/site-packages/sklearn/utils/validation.py:724: DataConversionWarning: A column-vector y was passed when a 1d array was expected. Please change the shape of y to (n_samples, ), for example using ravel().\n",
      "  y = column_or_1d(y, warn=True)\n",
      "/Users/ekaterina/opt/anaconda3/lib/python3.7/site-packages/sklearn/svm/base.py:193: FutureWarning: The default value of gamma will change from 'auto' to 'scale' in version 0.22 to account better for unscaled features. Set gamma explicitly to 'auto' or 'scale' to avoid this warning.\n",
      "  \"avoid this warning.\", FutureWarning)\n"
     ]
    },
    {
     "name": "stdout",
     "output_type": "stream",
     "text": [
      "0.5\n",
      "{'C': 8, 'kernel': 'rbf'}\n",
      "CPU times: user 973 ms, sys: 58.5 ms, total: 1.03 s\n",
      "Wall time: 3.56 s\n"
     ]
    }
   ],
   "source": [
    "%%time\n",
    "'''parameters = {'kernel': ['linear','rbf'],\n",
    "              'C':[1,8]}\n",
    "'''\n",
    "# результаты поиска по сетке, для ускорения можно использовать сразу их\n",
    "parameters = {'C': [8], \n",
    "              'kernel': ['rbf']}\n",
    "\n",
    "svm_best = GridSearchCV(svm, parameters, cv = 5, verbose = 1, n_jobs=-1)\n",
    "svm_best.fit(x_n_cor_train, y_n_train)\n",
    "predicted_class = svm_best.predict(x_n_cor_test)\n",
    "roc_auc = metrics.roc_auc_score(y_n_test, svm_best.predict(x_n_cor_test))\n",
    "print(roc_auc)\n",
    "print(svm_best.best_params_)\n",
    "\n",
    "roc_auc_svm.append(roc_auc)"
   ]
  },
  {
   "cell_type": "code",
   "execution_count": 42,
   "metadata": {},
   "outputs": [
    {
     "data": {
      "text/html": [
       "<div>\n",
       "<style scoped>\n",
       "    .dataframe tbody tr th:only-of-type {\n",
       "        vertical-align: middle;\n",
       "    }\n",
       "\n",
       "    .dataframe tbody tr th {\n",
       "        vertical-align: top;\n",
       "    }\n",
       "\n",
       "    .dataframe thead th {\n",
       "        text-align: right;\n",
       "    }\n",
       "</style>\n",
       "<table border=\"1\" class=\"dataframe\">\n",
       "  <thead>\n",
       "    <tr style=\"text-align: right;\">\n",
       "      <th></th>\n",
       "      <th>LOGIT</th>\n",
       "      <th>RANDOM_FOREST</th>\n",
       "      <th>BOOSTING</th>\n",
       "      <th>SVM</th>\n",
       "    </tr>\n",
       "  </thead>\n",
       "  <tbody>\n",
       "    <tr>\n",
       "      <td>X1_N_CV</td>\n",
       "      <td>-</td>\n",
       "      <td>0.711952</td>\n",
       "      <td>0.804982</td>\n",
       "      <td>0.698870</td>\n",
       "    </tr>\n",
       "    <tr>\n",
       "      <td>X1_N_PCA_CV</td>\n",
       "      <td>0.603126</td>\n",
       "      <td>0.722590</td>\n",
       "      <td>0.804710</td>\n",
       "      <td>0.698599</td>\n",
       "    </tr>\n",
       "    <tr>\n",
       "      <td>X1_N_COR_CV</td>\n",
       "      <td>0.530558</td>\n",
       "      <td>0.732685</td>\n",
       "      <td>0.784520</td>\n",
       "      <td>0.500000</td>\n",
       "    </tr>\n",
       "  </tbody>\n",
       "</table>\n",
       "</div>"
      ],
      "text/plain": [
       "                LOGIT  RANDOM_FOREST  BOOSTING       SVM\n",
       "X1_N_CV             -       0.711952  0.804982  0.698870\n",
       "X1_N_PCA_CV  0.603126       0.722590  0.804710  0.698599\n",
       "X1_N_COR_CV  0.530558       0.732685  0.784520  0.500000"
      ]
     },
     "execution_count": 42,
     "metadata": {},
     "output_type": "execute_result"
    }
   ],
   "source": [
    "# собираем roc_auc в один датафрейм\n",
    "roc_auc_svm1 = pd.DataFrame(roc_auc_svm, index=['X1_N_CV','X1_N_PCA_CV','X1_N_COR_CV'])\n",
    "roc_auc_svm1 = roc_auc_svm1.rename(columns = {0:'SVM'})\n",
    "roc_auc_1 = pd.merge(roc_auc_1, roc_auc_svm1, how='left', left_index=True, right_index=True)\n",
    "roc_auc_1"
   ]
  },
  {
   "cell_type": "markdown",
   "metadata": {},
   "source": [
    "# (1.11) Метод k-ближайших соседей"
   ]
  },
  {
   "cell_type": "code",
   "execution_count": 52,
   "metadata": {},
   "outputs": [],
   "source": [
    "from sklearn.neighbors import KNeighborsClassifier\n",
    "knn = KNeighborsClassifier(parameters)\n",
    "roc_auc_knn = []"
   ]
  },
  {
   "cell_type": "markdown",
   "metadata": {},
   "source": [
    "### X1_N"
   ]
  },
  {
   "cell_type": "code",
   "execution_count": 53,
   "metadata": {},
   "outputs": [
    {
     "name": "stdout",
     "output_type": "stream",
     "text": [
      "Fitting 5 folds for each of 12 candidates, totalling 60 fits\n"
     ]
    },
    {
     "name": "stderr",
     "output_type": "stream",
     "text": [
      "[Parallel(n_jobs=-1)]: Using backend LokyBackend with 4 concurrent workers.\n",
      "[Parallel(n_jobs=-1)]: Done  60 out of  60 | elapsed:    3.0s finished\n",
      "/Users/ekaterina/opt/anaconda3/lib/python3.7/site-packages/sklearn/model_selection/_search.py:715: DataConversionWarning: A column-vector y was passed when a 1d array was expected. Please change the shape of y to (n_samples, ), for example using ravel().\n",
      "  self.best_estimator_.fit(X, y, **fit_params)\n"
     ]
    },
    {
     "name": "stdout",
     "output_type": "stream",
     "text": [
      "0.6784080670871162\n",
      "{'n_neighbors': 8}\n"
     ]
    }
   ],
   "source": [
    "# перебор параметров\n",
    "parameters = {'n_neighbors':[1,2,3,4,5,6,7,8,9,10,11,12]}\n",
    "\n",
    "'''# результаты поиска по сетке, для ускорения можно использовать сразу их\n",
    "parameters = {'n_neighbors':[8]}'''\n",
    "\n",
    "knn_best = GridSearchCV(knn, parameters, cv = 5, verbose = 1, n_jobs=-1)\n",
    "knn_best.fit(x_n_train, y_n_train)\n",
    "predicted_prob = knn_best.predict_proba(x_n_test)\n",
    "roc_auc = metrics.roc_auc_score(y_n_test, knn_best.predict(x_n_test))\n",
    "print(roc_auc)\n",
    "print(knn_best.best_params_)\n",
    "\n",
    "roc_auc_knn.append(roc_auc)\n",
    "\n",
    "predicted_results = []\n",
    "\n",
    "for a in range(len(predicted_prob)):\n",
    "    \n",
    "    predicted_results.append(predicted_prob[a][1])\n",
    "    \n",
    "index_list = x_n_test.index.tolist()\n",
    "# записываем вероятность попадания в класс 1 в новый датафрейм\n",
    "x1_knn = pd.DataFrame(pd.Series(data=predicted_results, index=index_list))\n",
    "x1_knn = x1_knn.rename(columns = {0:'PROB_N_KNN_CV'})"
   ]
  },
  {
   "cell_type": "markdown",
   "metadata": {},
   "source": [
    "### K1_N_PCA"
   ]
  },
  {
   "cell_type": "code",
   "execution_count": 54,
   "metadata": {},
   "outputs": [
    {
     "name": "stdout",
     "output_type": "stream",
     "text": [
      "Fitting 5 folds for each of 12 candidates, totalling 60 fits\n"
     ]
    },
    {
     "name": "stderr",
     "output_type": "stream",
     "text": [
      "[Parallel(n_jobs=-1)]: Using backend LokyBackend with 4 concurrent workers.\n",
      "[Parallel(n_jobs=-1)]: Done  42 tasks      | elapsed:    3.6s\n",
      "[Parallel(n_jobs=-1)]: Done  60 out of  60 | elapsed:    4.4s finished\n",
      "/Users/ekaterina/opt/anaconda3/lib/python3.7/site-packages/sklearn/model_selection/_search.py:715: DataConversionWarning: A column-vector y was passed when a 1d array was expected. Please change the shape of y to (n_samples, ), for example using ravel().\n",
      "  self.best_estimator_.fit(X, y, **fit_params)\n"
     ]
    },
    {
     "name": "stdout",
     "output_type": "stream",
     "text": [
      "0.6151211680181117\n",
      "{'n_neighbors': 4}\n",
      "CPU times: user 543 ms, sys: 34.1 ms, total: 577 ms\n",
      "Wall time: 4.6 s\n"
     ]
    }
   ],
   "source": [
    "%%time\n",
    "# перебор параметров\n",
    "parameters = {'n_neighbors':[1,2,3,4,5,6,7,8,9,10,11,12]}\n",
    "\n",
    "'''# результаты поиска по сетке, для ускорения можно использовать сразу их\n",
    "parameters = {'n_neighbors':[4]}'''\n",
    "\n",
    "knn_best = GridSearchCV(knn, parameters, cv = 5, verbose = 1, n_jobs=-1)\n",
    "knn_best.fit(x_n_pca_train, y_n_train)\n",
    "predicted_prob = knn_best.predict_proba(x_n_pca_test)\n",
    "roc_auc = metrics.roc_auc_score(y_n_test, knn_best.predict(x_n_pca_test))\n",
    "print(roc_auc)\n",
    "print(knn_best.best_params_)\n",
    "\n",
    "roc_auc_knn.append(roc_auc)\n",
    "\n",
    "predicted_results = []\n",
    "\n",
    "for a in range(len(predicted_prob)):\n",
    "    \n",
    "    predicted_results.append(predicted_prob[a][1])\n",
    "    \n",
    "index_list = x_n_pca_test.index.tolist()\n",
    "# записываем вероятность попадания в класс 1 в новый датафрейм\n",
    "x1_knn_cv = pd.DataFrame(pd.Series(data=predicted_results, index=index_list))\n",
    "x1_knn_cv = x1_knn_cv.rename(columns = {0:'PROB_N_PCA_KNN_CV'})\n",
    "# сливаем с предыдущим результатом\n",
    "x1_knn = pd.merge(x1_knn, x1_knn_cv, how='left', left_index=True, right_index=True)"
   ]
  },
  {
   "cell_type": "code",
   "execution_count": 55,
   "metadata": {},
   "outputs": [
    {
     "data": {
      "text/html": [
       "<div>\n",
       "<style scoped>\n",
       "    .dataframe tbody tr th:only-of-type {\n",
       "        vertical-align: middle;\n",
       "    }\n",
       "\n",
       "    .dataframe tbody tr th {\n",
       "        vertical-align: top;\n",
       "    }\n",
       "\n",
       "    .dataframe thead th {\n",
       "        text-align: right;\n",
       "    }\n",
       "</style>\n",
       "<table border=\"1\" class=\"dataframe\">\n",
       "  <thead>\n",
       "    <tr style=\"text-align: right;\">\n",
       "      <th></th>\n",
       "      <th>PROB_N_KNN_CV</th>\n",
       "      <th>PROB_N_PCA_KNN_CV</th>\n",
       "    </tr>\n",
       "  </thead>\n",
       "  <tbody>\n",
       "    <tr>\n",
       "      <td>4437</td>\n",
       "      <td>0.75</td>\n",
       "      <td>1.0</td>\n",
       "    </tr>\n",
       "    <tr>\n",
       "      <td>1109</td>\n",
       "      <td>0.00</td>\n",
       "      <td>0.0</td>\n",
       "    </tr>\n",
       "    <tr>\n",
       "      <td>1388</td>\n",
       "      <td>0.00</td>\n",
       "      <td>0.0</td>\n",
       "    </tr>\n",
       "    <tr>\n",
       "      <td>5610</td>\n",
       "      <td>0.00</td>\n",
       "      <td>0.0</td>\n",
       "    </tr>\n",
       "    <tr>\n",
       "      <td>5050</td>\n",
       "      <td>0.00</td>\n",
       "      <td>0.0</td>\n",
       "    </tr>\n",
       "    <tr>\n",
       "      <td>...</td>\n",
       "      <td>...</td>\n",
       "      <td>...</td>\n",
       "    </tr>\n",
       "    <tr>\n",
       "      <td>4251</td>\n",
       "      <td>0.00</td>\n",
       "      <td>0.0</td>\n",
       "    </tr>\n",
       "    <tr>\n",
       "      <td>5563</td>\n",
       "      <td>0.00</td>\n",
       "      <td>0.0</td>\n",
       "    </tr>\n",
       "    <tr>\n",
       "      <td>5425</td>\n",
       "      <td>0.00</td>\n",
       "      <td>0.0</td>\n",
       "    </tr>\n",
       "    <tr>\n",
       "      <td>5386</td>\n",
       "      <td>0.25</td>\n",
       "      <td>0.0</td>\n",
       "    </tr>\n",
       "    <tr>\n",
       "      <td>466</td>\n",
       "      <td>0.00</td>\n",
       "      <td>0.0</td>\n",
       "    </tr>\n",
       "  </tbody>\n",
       "</table>\n",
       "<p>1889 rows × 2 columns</p>\n",
       "</div>"
      ],
      "text/plain": [
       "      PROB_N_KNN_CV  PROB_N_PCA_KNN_CV\n",
       "4437           0.75                1.0\n",
       "1109           0.00                0.0\n",
       "1388           0.00                0.0\n",
       "5610           0.00                0.0\n",
       "5050           0.00                0.0\n",
       "...             ...                ...\n",
       "4251           0.00                0.0\n",
       "5563           0.00                0.0\n",
       "5425           0.00                0.0\n",
       "5386           0.25                0.0\n",
       "466            0.00                0.0\n",
       "\n",
       "[1889 rows x 2 columns]"
      ]
     },
     "execution_count": 55,
     "metadata": {},
     "output_type": "execute_result"
    }
   ],
   "source": [
    "x1_knn"
   ]
  },
  {
   "cell_type": "markdown",
   "metadata": {},
   "source": [
    "### K1_N_COR"
   ]
  },
  {
   "cell_type": "code",
   "execution_count": 56,
   "metadata": {},
   "outputs": [
    {
     "name": "stdout",
     "output_type": "stream",
     "text": [
      "Fitting 5 folds for each of 12 candidates, totalling 60 fits\n"
     ]
    },
    {
     "name": "stderr",
     "output_type": "stream",
     "text": [
      "[Parallel(n_jobs=-1)]: Using backend LokyBackend with 4 concurrent workers.\n"
     ]
    },
    {
     "name": "stdout",
     "output_type": "stream",
     "text": [
      "0.5401101947466906\n",
      "{'n_neighbors': 7}\n",
      "CPU times: user 344 ms, sys: 19.8 ms, total: 364 ms\n",
      "Wall time: 2.42 s\n"
     ]
    },
    {
     "name": "stderr",
     "output_type": "stream",
     "text": [
      "[Parallel(n_jobs=-1)]: Done  60 out of  60 | elapsed:    2.3s finished\n",
      "/Users/ekaterina/opt/anaconda3/lib/python3.7/site-packages/sklearn/model_selection/_search.py:715: DataConversionWarning: A column-vector y was passed when a 1d array was expected. Please change the shape of y to (n_samples, ), for example using ravel().\n",
      "  self.best_estimator_.fit(X, y, **fit_params)\n"
     ]
    }
   ],
   "source": [
    "%%time\n",
    "# перебор параметров\n",
    "parameters = {'n_neighbors':[1,2,3,4,5,6,7,8,9,10,11,12]}\n",
    "\n",
    "'''# результаты поиска по сетке, для ускорения можно использовать сразу их\n",
    "parameters = {'n_neighbors':[7]}'''\n",
    "\n",
    "knn_best = GridSearchCV(knn, parameters, cv = 5, verbose = 1, n_jobs=-1)\n",
    "knn_best.fit(x_n_cor_train, y_n_train)\n",
    "predicted_prob = knn_best.predict_proba(x_n_cor_test)\n",
    "roc_auc = metrics.roc_auc_score(y_n_test, knn_best.predict(x_n_cor_test))\n",
    "print(roc_auc)\n",
    "print(knn_best.best_params_)\n",
    "\n",
    "roc_auc_knn.append(roc_auc)\n",
    "\n",
    "predicted_results = []\n",
    "\n",
    "for a in range(len(predicted_prob)):\n",
    "    \n",
    "    predicted_results.append(predicted_prob[a][1])\n",
    "    \n",
    "index_list = x_n_cor_test.index.tolist()\n",
    "# записываем вероятность попадания в класс 1 в новый датафрейм\n",
    "x1_knn_cv = pd.DataFrame(pd.Series(data=predicted_results, index=index_list))\n",
    "x1_knn_cv = x1_knn_cv.rename(columns = {0:'PROB_N_COR_KNN_CV'})\n",
    "# сливаем с предыдущим результатом\n",
    "x1_knn = pd.merge(x1_knn, x1_knn_cv, how='left', left_index=True, right_index=True)"
   ]
  },
  {
   "cell_type": "code",
   "execution_count": 59,
   "metadata": {},
   "outputs": [
    {
     "data": {
      "text/html": [
       "<div>\n",
       "<style scoped>\n",
       "    .dataframe tbody tr th:only-of-type {\n",
       "        vertical-align: middle;\n",
       "    }\n",
       "\n",
       "    .dataframe tbody tr th {\n",
       "        vertical-align: top;\n",
       "    }\n",
       "\n",
       "    .dataframe thead th {\n",
       "        text-align: right;\n",
       "    }\n",
       "</style>\n",
       "<table border=\"1\" class=\"dataframe\">\n",
       "  <thead>\n",
       "    <tr style=\"text-align: right;\">\n",
       "      <th></th>\n",
       "      <th>LOGIT</th>\n",
       "      <th>RANDOM_FOREST</th>\n",
       "      <th>BOOSTING</th>\n",
       "      <th>SVM</th>\n",
       "      <th>KNN</th>\n",
       "    </tr>\n",
       "  </thead>\n",
       "  <tbody>\n",
       "    <tr>\n",
       "      <td>X1_N_CV</td>\n",
       "      <td>-</td>\n",
       "      <td>0.711952</td>\n",
       "      <td>0.804982</td>\n",
       "      <td>0.698870</td>\n",
       "      <td>0.678408</td>\n",
       "    </tr>\n",
       "    <tr>\n",
       "      <td>X1_N_PCA_CV</td>\n",
       "      <td>0.603126</td>\n",
       "      <td>0.722590</td>\n",
       "      <td>0.804710</td>\n",
       "      <td>0.698599</td>\n",
       "      <td>0.615121</td>\n",
       "    </tr>\n",
       "    <tr>\n",
       "      <td>X1_N_COR_CV</td>\n",
       "      <td>0.530558</td>\n",
       "      <td>0.732685</td>\n",
       "      <td>0.784520</td>\n",
       "      <td>0.500000</td>\n",
       "      <td>0.540110</td>\n",
       "    </tr>\n",
       "  </tbody>\n",
       "</table>\n",
       "</div>"
      ],
      "text/plain": [
       "                LOGIT  RANDOM_FOREST  BOOSTING       SVM       KNN\n",
       "X1_N_CV             -       0.711952  0.804982  0.698870  0.678408\n",
       "X1_N_PCA_CV  0.603126       0.722590  0.804710  0.698599  0.615121\n",
       "X1_N_COR_CV  0.530558       0.732685  0.784520  0.500000  0.540110"
      ]
     },
     "execution_count": 59,
     "metadata": {},
     "output_type": "execute_result"
    }
   ],
   "source": [
    "# собираем roc_auc в один датафрейм\n",
    "roc_auc_knn1 = pd.DataFrame(roc_auc_knn, index=['X1_N_CV','X1_N_PCA_CV','X1_N_COR_CV'])\n",
    "roc_auc_knn1 = roc_auc_knn1.rename(columns = {0:'KNN'})\n",
    "roc_auc_1 = pd.merge(roc_auc_1, roc_auc_knn1, how='left', left_index=True, right_index=True)\n",
    "roc_auc_1"
   ]
  },
  {
   "cell_type": "code",
   "execution_count": 60,
   "metadata": {},
   "outputs": [
    {
     "data": {
      "text/html": [
       "<div>\n",
       "<style scoped>\n",
       "    .dataframe tbody tr th:only-of-type {\n",
       "        vertical-align: middle;\n",
       "    }\n",
       "\n",
       "    .dataframe tbody tr th {\n",
       "        vertical-align: top;\n",
       "    }\n",
       "\n",
       "    .dataframe thead th {\n",
       "        text-align: right;\n",
       "    }\n",
       "</style>\n",
       "<table border=\"1\" class=\"dataframe\">\n",
       "  <thead>\n",
       "    <tr style=\"text-align: right;\">\n",
       "      <th></th>\n",
       "      <th>PROB_N_PCA_LOG_CV</th>\n",
       "      <th>PROB_N_COR_LOG_CV</th>\n",
       "      <th>PROB_N_RF_CV</th>\n",
       "      <th>PROB_N_PCA_RF_CV</th>\n",
       "      <th>PROB_N_COR_RF_CV</th>\n",
       "      <th>PROB_N_BO_CV</th>\n",
       "      <th>PROB_N_PCA_BO_CV</th>\n",
       "      <th>PROB_N_COR_BO_CV</th>\n",
       "      <th>PROB_N_KNN_CV</th>\n",
       "      <th>PROB_N_PCA_KNN_CV</th>\n",
       "      <th>PROB_N_COR_KNN_CV</th>\n",
       "    </tr>\n",
       "  </thead>\n",
       "  <tbody>\n",
       "    <tr>\n",
       "      <td>4437</td>\n",
       "      <td>0.499838</td>\n",
       "      <td>2.481693e-01</td>\n",
       "      <td>0.787574</td>\n",
       "      <td>0.716095</td>\n",
       "      <td>0.859336</td>\n",
       "      <td>0.998547</td>\n",
       "      <td>0.999976</td>\n",
       "      <td>0.999739</td>\n",
       "      <td>0.75</td>\n",
       "      <td>1.0</td>\n",
       "      <td>0.428571</td>\n",
       "    </tr>\n",
       "    <tr>\n",
       "      <td>1109</td>\n",
       "      <td>0.005364</td>\n",
       "      <td>2.845065e-04</td>\n",
       "      <td>0.000000</td>\n",
       "      <td>0.000301</td>\n",
       "      <td>0.000041</td>\n",
       "      <td>0.000096</td>\n",
       "      <td>0.000103</td>\n",
       "      <td>0.000215</td>\n",
       "      <td>0.00</td>\n",
       "      <td>0.0</td>\n",
       "      <td>0.000000</td>\n",
       "    </tr>\n",
       "    <tr>\n",
       "      <td>1388</td>\n",
       "      <td>0.007379</td>\n",
       "      <td>1.823415e-02</td>\n",
       "      <td>0.000095</td>\n",
       "      <td>0.000093</td>\n",
       "      <td>0.000393</td>\n",
       "      <td>0.000226</td>\n",
       "      <td>0.000125</td>\n",
       "      <td>0.000345</td>\n",
       "      <td>0.00</td>\n",
       "      <td>0.0</td>\n",
       "      <td>0.000000</td>\n",
       "    </tr>\n",
       "    <tr>\n",
       "      <td>5610</td>\n",
       "      <td>0.004351</td>\n",
       "      <td>3.096742e-03</td>\n",
       "      <td>0.000045</td>\n",
       "      <td>0.000179</td>\n",
       "      <td>0.000050</td>\n",
       "      <td>0.000148</td>\n",
       "      <td>0.000105</td>\n",
       "      <td>0.000253</td>\n",
       "      <td>0.00</td>\n",
       "      <td>0.0</td>\n",
       "      <td>0.000000</td>\n",
       "    </tr>\n",
       "    <tr>\n",
       "      <td>5050</td>\n",
       "      <td>0.004207</td>\n",
       "      <td>8.434460e-03</td>\n",
       "      <td>0.000503</td>\n",
       "      <td>0.001598</td>\n",
       "      <td>0.001686</td>\n",
       "      <td>0.000393</td>\n",
       "      <td>0.000195</td>\n",
       "      <td>0.000593</td>\n",
       "      <td>0.00</td>\n",
       "      <td>0.0</td>\n",
       "      <td>0.000000</td>\n",
       "    </tr>\n",
       "    <tr>\n",
       "      <td>...</td>\n",
       "      <td>...</td>\n",
       "      <td>...</td>\n",
       "      <td>...</td>\n",
       "      <td>...</td>\n",
       "      <td>...</td>\n",
       "      <td>...</td>\n",
       "      <td>...</td>\n",
       "      <td>...</td>\n",
       "      <td>...</td>\n",
       "      <td>...</td>\n",
       "      <td>...</td>\n",
       "    </tr>\n",
       "    <tr>\n",
       "      <td>4251</td>\n",
       "      <td>0.006461</td>\n",
       "      <td>2.270219e-07</td>\n",
       "      <td>0.022669</td>\n",
       "      <td>0.057841</td>\n",
       "      <td>0.063929</td>\n",
       "      <td>0.001923</td>\n",
       "      <td>0.001201</td>\n",
       "      <td>0.005288</td>\n",
       "      <td>0.00</td>\n",
       "      <td>0.0</td>\n",
       "      <td>0.000000</td>\n",
       "    </tr>\n",
       "    <tr>\n",
       "      <td>5563</td>\n",
       "      <td>0.015023</td>\n",
       "      <td>8.865294e-03</td>\n",
       "      <td>0.019290</td>\n",
       "      <td>0.090858</td>\n",
       "      <td>0.078939</td>\n",
       "      <td>0.002154</td>\n",
       "      <td>0.006796</td>\n",
       "      <td>0.005875</td>\n",
       "      <td>0.00</td>\n",
       "      <td>0.0</td>\n",
       "      <td>0.142857</td>\n",
       "    </tr>\n",
       "    <tr>\n",
       "      <td>5425</td>\n",
       "      <td>0.137971</td>\n",
       "      <td>1.242565e-02</td>\n",
       "      <td>0.130184</td>\n",
       "      <td>0.105936</td>\n",
       "      <td>0.040236</td>\n",
       "      <td>0.002176</td>\n",
       "      <td>0.001641</td>\n",
       "      <td>0.001594</td>\n",
       "      <td>0.00</td>\n",
       "      <td>0.0</td>\n",
       "      <td>0.000000</td>\n",
       "    </tr>\n",
       "    <tr>\n",
       "      <td>5386</td>\n",
       "      <td>0.468912</td>\n",
       "      <td>4.033665e-01</td>\n",
       "      <td>0.410399</td>\n",
       "      <td>0.376085</td>\n",
       "      <td>0.406911</td>\n",
       "      <td>0.478047</td>\n",
       "      <td>0.567448</td>\n",
       "      <td>0.745965</td>\n",
       "      <td>0.25</td>\n",
       "      <td>0.0</td>\n",
       "      <td>0.000000</td>\n",
       "    </tr>\n",
       "    <tr>\n",
       "      <td>466</td>\n",
       "      <td>0.003260</td>\n",
       "      <td>1.812547e-01</td>\n",
       "      <td>0.000884</td>\n",
       "      <td>0.001078</td>\n",
       "      <td>0.000705</td>\n",
       "      <td>0.000055</td>\n",
       "      <td>0.000127</td>\n",
       "      <td>0.000175</td>\n",
       "      <td>0.00</td>\n",
       "      <td>0.0</td>\n",
       "      <td>0.000000</td>\n",
       "    </tr>\n",
       "  </tbody>\n",
       "</table>\n",
       "<p>1889 rows × 11 columns</p>\n",
       "</div>"
      ],
      "text/plain": [
       "      PROB_N_PCA_LOG_CV  PROB_N_COR_LOG_CV  PROB_N_RF_CV  PROB_N_PCA_RF_CV  \\\n",
       "4437           0.499838       2.481693e-01      0.787574          0.716095   \n",
       "1109           0.005364       2.845065e-04      0.000000          0.000301   \n",
       "1388           0.007379       1.823415e-02      0.000095          0.000093   \n",
       "5610           0.004351       3.096742e-03      0.000045          0.000179   \n",
       "5050           0.004207       8.434460e-03      0.000503          0.001598   \n",
       "...                 ...                ...           ...               ...   \n",
       "4251           0.006461       2.270219e-07      0.022669          0.057841   \n",
       "5563           0.015023       8.865294e-03      0.019290          0.090858   \n",
       "5425           0.137971       1.242565e-02      0.130184          0.105936   \n",
       "5386           0.468912       4.033665e-01      0.410399          0.376085   \n",
       "466            0.003260       1.812547e-01      0.000884          0.001078   \n",
       "\n",
       "      PROB_N_COR_RF_CV  PROB_N_BO_CV  PROB_N_PCA_BO_CV  PROB_N_COR_BO_CV  \\\n",
       "4437          0.859336      0.998547          0.999976          0.999739   \n",
       "1109          0.000041      0.000096          0.000103          0.000215   \n",
       "1388          0.000393      0.000226          0.000125          0.000345   \n",
       "5610          0.000050      0.000148          0.000105          0.000253   \n",
       "5050          0.001686      0.000393          0.000195          0.000593   \n",
       "...                ...           ...               ...               ...   \n",
       "4251          0.063929      0.001923          0.001201          0.005288   \n",
       "5563          0.078939      0.002154          0.006796          0.005875   \n",
       "5425          0.040236      0.002176          0.001641          0.001594   \n",
       "5386          0.406911      0.478047          0.567448          0.745965   \n",
       "466           0.000705      0.000055          0.000127          0.000175   \n",
       "\n",
       "      PROB_N_KNN_CV  PROB_N_PCA_KNN_CV  PROB_N_COR_KNN_CV  \n",
       "4437           0.75                1.0           0.428571  \n",
       "1109           0.00                0.0           0.000000  \n",
       "1388           0.00                0.0           0.000000  \n",
       "5610           0.00                0.0           0.000000  \n",
       "5050           0.00                0.0           0.000000  \n",
       "...             ...                ...                ...  \n",
       "4251           0.00                0.0           0.000000  \n",
       "5563           0.00                0.0           0.142857  \n",
       "5425           0.00                0.0           0.000000  \n",
       "5386           0.25                0.0           0.000000  \n",
       "466            0.00                0.0           0.000000  \n",
       "\n",
       "[1889 rows x 11 columns]"
      ]
     },
     "execution_count": 60,
     "metadata": {},
     "output_type": "execute_result"
    }
   ],
   "source": [
    "# собираем предсказанные вероятности в один датафрейм\n",
    "x1_results = pd.merge(x1_results,x1_knn, how='left', left_index=True, right_index=True)\n",
    "x1_results"
   ]
  },
  {
   "cell_type": "code",
   "execution_count": 75,
   "metadata": {},
   "outputs": [],
   "source": [
    "x1_results = pd.merge(y_n_test, x1_results, how='left', left_index=True, right_index=True)\n",
    "x1_results.to_csv('results.csv', index = False)"
   ]
  }
 ],
 "metadata": {
  "kernelspec": {
   "display_name": "Python 3",
   "language": "python",
   "name": "python3"
  },
  "language_info": {
   "codemirror_mode": {
    "name": "ipython",
    "version": 3
   },
   "file_extension": ".py",
   "mimetype": "text/x-python",
   "name": "python",
   "nbconvert_exporter": "python",
   "pygments_lexer": "ipython3",
   "version": "3.7.4"
  }
 },
 "nbformat": 4,
 "nbformat_minor": 2
}
