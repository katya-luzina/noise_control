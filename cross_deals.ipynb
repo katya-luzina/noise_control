{
 "cells": [
  {
   "cell_type": "markdown",
   "metadata": {},
   "source": [
    "# (1.0) Установка пакетов"
   ]
  },
  {
   "cell_type": "code",
   "execution_count": 1,
   "metadata": {},
   "outputs": [],
   "source": [
    "import numpy as np\n",
    "import pandas as pd\n",
    "from sklearn.ensemble import RandomForestClassifier\n",
    "from sklearn.model_selection import RandomizedSearchCV\n",
    "from sklearn.model_selection import GridSearchCV\n",
    "import sklearn.metrics as metrics\n",
    "from matplotlib import pyplot as plt\n",
    "import seaborn as sns\n",
    "from sklearn.model_selection import train_test_split"
   ]
  },
  {
   "cell_type": "markdown",
   "metadata": {},
   "source": [
    "# (1.1) Список датафреймов"
   ]
  },
  {
   "cell_type": "markdown",
   "metadata": {},
   "source": [
    "X1 - исходный датафрейм  \n",
    "X1_N - датафрейм с нормированными переменными  \n",
    "X1_N_PCA - датафрейм с нормированными переменными и с новой переменной, созданной на основании скоррелированных переменных  \n",
    "X1_N_COR - датафрейм с нормированными переменными с удаленными скоррелированными переменными"
   ]
  },
  {
   "cell_type": "markdown",
   "metadata": {},
   "source": [
    "# (1.1) Загрузка данных"
   ]
  },
  {
   "cell_type": "code",
   "execution_count": 22,
   "metadata": {},
   "outputs": [
    {
     "data": {
      "text/html": [
       "<div>\n",
       "<style scoped>\n",
       "    .dataframe tbody tr th:only-of-type {\n",
       "        vertical-align: middle;\n",
       "    }\n",
       "\n",
       "    .dataframe tbody tr th {\n",
       "        vertical-align: top;\n",
       "    }\n",
       "\n",
       "    .dataframe thead th {\n",
       "        text-align: right;\n",
       "    }\n",
       "</style>\n",
       "<table border=\"1\" class=\"dataframe\">\n",
       "  <thead>\n",
       "    <tr style=\"text-align: right;\">\n",
       "      <th></th>\n",
       "      <th>SIGNAL_ID</th>\n",
       "      <th>TRADEDATE</th>\n",
       "      <th>CROSSTURNOVER1</th>\n",
       "      <th>CROSSDEALRATIOS</th>\n",
       "      <th>EPSILONE</th>\n",
       "      <th>PROFITPL</th>\n",
       "      <th>PROFITABILITYY</th>\n",
       "      <th>SIGNALSK</th>\n",
       "      <th>RATINGCROSSDEALRATIOS</th>\n",
       "      <th>RATINGEPSILONE</th>\n",
       "      <th>...</th>\n",
       "      <th>RATINGAVGLIFETIME</th>\n",
       "      <th>RATINGAGTDEVPRICE</th>\n",
       "      <th>RATINGAGTDEVVOL</th>\n",
       "      <th>RATINGCROSSTURNOVER1</th>\n",
       "      <th>RATINGCROSSTURNOVER2</th>\n",
       "      <th>RATINGCROSSVALUE</th>\n",
       "      <th>USERGRADE_ID</th>\n",
       "      <th>SHORTNAME</th>\n",
       "      <th>IDENT</th>\n",
       "      <th>DETECTION_ID</th>\n",
       "    </tr>\n",
       "  </thead>\n",
       "  <tbody>\n",
       "    <tr>\n",
       "      <td>0</td>\n",
       "      <td>2.183220e+11</td>\n",
       "      <td>03.18.2019 15:01:21</td>\n",
       "      <td>1.0</td>\n",
       "      <td>24.0</td>\n",
       "      <td>0.0</td>\n",
       "      <td>2290.0</td>\n",
       "      <td>1.0</td>\n",
       "      <td>3.0</td>\n",
       "      <td>24.0</td>\n",
       "      <td>0.0</td>\n",
       "      <td>...</td>\n",
       "      <td>100.0</td>\n",
       "      <td>NaN</td>\n",
       "      <td>NaN</td>\n",
       "      <td>NaN</td>\n",
       "      <td>NaN</td>\n",
       "      <td>NaN</td>\n",
       "      <td>4.0</td>\n",
       "      <td>TRNF-3.19</td>\n",
       "      <td>FORTS</td>\n",
       "      <td>238 944</td>\n",
       "    </tr>\n",
       "  </tbody>\n",
       "</table>\n",
       "<p>1 rows × 33 columns</p>\n",
       "</div>"
      ],
      "text/plain": [
       "      SIGNAL_ID            TRADEDATE  CROSSTURNOVER1  CROSSDEALRATIOS  \\\n",
       "0  2.183220e+11  03.18.2019 15:01:21             1.0             24.0   \n",
       "\n",
       "   EPSILONE  PROFITPL  PROFITABILITYY  SIGNALSK  RATINGCROSSDEALRATIOS  \\\n",
       "0       0.0    2290.0             1.0       3.0                   24.0   \n",
       "\n",
       "   RATINGEPSILONE  ...  RATINGAVGLIFETIME  RATINGAGTDEVPRICE  RATINGAGTDEVVOL  \\\n",
       "0             0.0  ...              100.0                NaN              NaN   \n",
       "\n",
       "   RATINGCROSSTURNOVER1  RATINGCROSSTURNOVER2  RATINGCROSSVALUE  USERGRADE_ID  \\\n",
       "0                   NaN                   NaN               NaN           4.0   \n",
       "\n",
       "   SHORTNAME  IDENT  DETECTION_ID  \n",
       "0  TRNF-3.19  FORTS       238 944  \n",
       "\n",
       "[1 rows x 33 columns]"
      ]
     },
     "execution_count": 22,
     "metadata": {},
     "output_type": "execute_result"
    }
   ],
   "source": [
    "X1 = pd.read_csv('ML.csv', sep=\";\")\n",
    "X1.head(1)"
   ]
  },
  {
   "cell_type": "markdown",
   "metadata": {},
   "source": [
    "# (1.2) Удаление лишних переменных"
   ]
  },
  {
   "cell_type": "code",
   "execution_count": 23,
   "metadata": {},
   "outputs": [
    {
     "data": {
      "text/html": [
       "<div>\n",
       "<style scoped>\n",
       "    .dataframe tbody tr th:only-of-type {\n",
       "        vertical-align: middle;\n",
       "    }\n",
       "\n",
       "    .dataframe tbody tr th {\n",
       "        vertical-align: top;\n",
       "    }\n",
       "\n",
       "    .dataframe thead th {\n",
       "        text-align: right;\n",
       "    }\n",
       "</style>\n",
       "<table border=\"1\" class=\"dataframe\">\n",
       "  <thead>\n",
       "    <tr style=\"text-align: right;\">\n",
       "      <th></th>\n",
       "      <th>SIGNAL_ID</th>\n",
       "      <th>TRADEDATE</th>\n",
       "      <th>CROSSTURNOVER1</th>\n",
       "      <th>CROSSDEALRATIOS</th>\n",
       "      <th>EPSILONE</th>\n",
       "      <th>PROFITPL</th>\n",
       "      <th>PROFITABILITYY</th>\n",
       "      <th>SIGNALSK</th>\n",
       "      <th>AGTDEV_BS</th>\n",
       "      <th>AGTDEV_PRICE</th>\n",
       "      <th>AGTDEV_VOL</th>\n",
       "      <th>TRADEDATE_LAST</th>\n",
       "      <th>EVENT_ID</th>\n",
       "      <th>CROSSTURNOVER2</th>\n",
       "      <th>CROSSVALUE</th>\n",
       "      <th>AVGLIFETIME</th>\n",
       "      <th>USERGRADE_ID</th>\n",
       "      <th>SHORTNAME</th>\n",
       "      <th>IDENT</th>\n",
       "      <th>DETECTION_ID</th>\n",
       "    </tr>\n",
       "  </thead>\n",
       "  <tbody>\n",
       "    <tr>\n",
       "      <td>0</td>\n",
       "      <td>2.183220e+11</td>\n",
       "      <td>03.18.2019 15:01:21</td>\n",
       "      <td>1.0</td>\n",
       "      <td>24.0</td>\n",
       "      <td>0.0</td>\n",
       "      <td>2290.0</td>\n",
       "      <td>1.0</td>\n",
       "      <td>3.0</td>\n",
       "      <td>0.0</td>\n",
       "      <td>0.0</td>\n",
       "      <td>0.0</td>\n",
       "      <td>03.18.2019 15:52:48</td>\n",
       "      <td>NaN</td>\n",
       "      <td>0.0</td>\n",
       "      <td>1732440.0</td>\n",
       "      <td>NaN</td>\n",
       "      <td>4.0</td>\n",
       "      <td>TRNF-3.19</td>\n",
       "      <td>FORTS</td>\n",
       "      <td>238 944</td>\n",
       "    </tr>\n",
       "  </tbody>\n",
       "</table>\n",
       "</div>"
      ],
      "text/plain": [
       "      SIGNAL_ID            TRADEDATE  CROSSTURNOVER1  CROSSDEALRATIOS  \\\n",
       "0  2.183220e+11  03.18.2019 15:01:21             1.0             24.0   \n",
       "\n",
       "   EPSILONE  PROFITPL  PROFITABILITYY  SIGNALSK  AGTDEV_BS  AGTDEV_PRICE  \\\n",
       "0       0.0    2290.0             1.0       3.0        0.0           0.0   \n",
       "\n",
       "   AGTDEV_VOL       TRADEDATE_LAST  EVENT_ID  CROSSTURNOVER2  CROSSVALUE  \\\n",
       "0         0.0  03.18.2019 15:52:48       NaN             0.0   1732440.0   \n",
       "\n",
       "   AVGLIFETIME  USERGRADE_ID  SHORTNAME  IDENT DETECTION_ID  \n",
       "0          NaN           4.0  TRNF-3.19  FORTS      238 944  "
      ]
     },
     "execution_count": 23,
     "metadata": {},
     "output_type": "execute_result"
    }
   ],
   "source": [
    "# удаляем рейтинги\n",
    "X1 = X1.drop(['RATINGCROSSDEALRATIOS','RATINGEPSILONE','RATINGPROFITPL','RATINGPROFITABILITYY',\n",
    "              'RATINGSIGNALSK','RATINGINTEGRAL','RATINGDEV','RATINGAVGLIFETIME','RATINGAGTDEVPRICE',\n",
    "              'RATINGAGTDEVVOL','RATINGCROSSTURNOVER1','RATINGCROSSTURNOVER2','RATINGCROSSVALUE'], axis=1)\n",
    "X1.head(1)"
   ]
  },
  {
   "cell_type": "code",
   "execution_count": 24,
   "metadata": {},
   "outputs": [
    {
     "data": {
      "text/html": [
       "<div>\n",
       "<style scoped>\n",
       "    .dataframe tbody tr th:only-of-type {\n",
       "        vertical-align: middle;\n",
       "    }\n",
       "\n",
       "    .dataframe tbody tr th {\n",
       "        vertical-align: top;\n",
       "    }\n",
       "\n",
       "    .dataframe thead th {\n",
       "        text-align: right;\n",
       "    }\n",
       "</style>\n",
       "<table border=\"1\" class=\"dataframe\">\n",
       "  <thead>\n",
       "    <tr style=\"text-align: right;\">\n",
       "      <th></th>\n",
       "      <th>SIGNAL_ID</th>\n",
       "      <th>TRADEDATE</th>\n",
       "      <th>CROSSTURNOVER1</th>\n",
       "      <th>CROSSDEALRATIOS</th>\n",
       "      <th>EPSILONE</th>\n",
       "      <th>PROFITPL</th>\n",
       "      <th>PROFITABILITYY</th>\n",
       "      <th>SIGNALSK</th>\n",
       "      <th>AGTDEV_BS</th>\n",
       "      <th>AGTDEV_PRICE</th>\n",
       "      <th>AGTDEV_VOL</th>\n",
       "      <th>TRADEDATE_LAST</th>\n",
       "      <th>EVENT_ID</th>\n",
       "      <th>CROSSTURNOVER2</th>\n",
       "      <th>CROSSVALUE</th>\n",
       "      <th>AVGLIFETIME</th>\n",
       "      <th>USERGRADE_ID</th>\n",
       "      <th>DETECTION_ID</th>\n",
       "    </tr>\n",
       "  </thead>\n",
       "  <tbody>\n",
       "    <tr>\n",
       "      <td>0</td>\n",
       "      <td>2.183220e+11</td>\n",
       "      <td>03.18.2019 15:01:21</td>\n",
       "      <td>1.0</td>\n",
       "      <td>24.0</td>\n",
       "      <td>0.0</td>\n",
       "      <td>2290.0</td>\n",
       "      <td>1.0</td>\n",
       "      <td>3.0</td>\n",
       "      <td>0.0</td>\n",
       "      <td>0.0</td>\n",
       "      <td>0.0</td>\n",
       "      <td>03.18.2019 15:52:48</td>\n",
       "      <td>NaN</td>\n",
       "      <td>0.0</td>\n",
       "      <td>1732440.0</td>\n",
       "      <td>NaN</td>\n",
       "      <td>4.0</td>\n",
       "      <td>238 944</td>\n",
       "    </tr>\n",
       "  </tbody>\n",
       "</table>\n",
       "</div>"
      ],
      "text/plain": [
       "      SIGNAL_ID            TRADEDATE  CROSSTURNOVER1  CROSSDEALRATIOS  \\\n",
       "0  2.183220e+11  03.18.2019 15:01:21             1.0             24.0   \n",
       "\n",
       "   EPSILONE  PROFITPL  PROFITABILITYY  SIGNALSK  AGTDEV_BS  AGTDEV_PRICE  \\\n",
       "0       0.0    2290.0             1.0       3.0        0.0           0.0   \n",
       "\n",
       "   AGTDEV_VOL       TRADEDATE_LAST  EVENT_ID  CROSSTURNOVER2  CROSSVALUE  \\\n",
       "0         0.0  03.18.2019 15:52:48       NaN             0.0   1732440.0   \n",
       "\n",
       "   AVGLIFETIME  USERGRADE_ID DETECTION_ID  \n",
       "0          NaN           4.0      238 944  "
      ]
     },
     "execution_count": 24,
     "metadata": {},
     "output_type": "execute_result"
    }
   ],
   "source": [
    "# удаляем указание инструмента\n",
    "X1 = X1.drop(['IDENT','SHORTNAME'], axis=1)\n",
    "X1.head(1)"
   ]
  },
  {
   "cell_type": "code",
   "execution_count": 25,
   "metadata": {},
   "outputs": [
    {
     "data": {
      "text/html": [
       "<div>\n",
       "<style scoped>\n",
       "    .dataframe tbody tr th:only-of-type {\n",
       "        vertical-align: middle;\n",
       "    }\n",
       "\n",
       "    .dataframe tbody tr th {\n",
       "        vertical-align: top;\n",
       "    }\n",
       "\n",
       "    .dataframe thead th {\n",
       "        text-align: right;\n",
       "    }\n",
       "</style>\n",
       "<table border=\"1\" class=\"dataframe\">\n",
       "  <thead>\n",
       "    <tr style=\"text-align: right;\">\n",
       "      <th></th>\n",
       "      <th>TRADEDATE</th>\n",
       "      <th>CROSSTURNOVER1</th>\n",
       "      <th>CROSSDEALRATIOS</th>\n",
       "      <th>EPSILONE</th>\n",
       "      <th>PROFITPL</th>\n",
       "      <th>PROFITABILITYY</th>\n",
       "      <th>SIGNALSK</th>\n",
       "      <th>AGTDEV_BS</th>\n",
       "      <th>AGTDEV_PRICE</th>\n",
       "      <th>AGTDEV_VOL</th>\n",
       "      <th>TRADEDATE_LAST</th>\n",
       "      <th>CROSSTURNOVER2</th>\n",
       "      <th>CROSSVALUE</th>\n",
       "      <th>AVGLIFETIME</th>\n",
       "      <th>USERGRADE_ID</th>\n",
       "    </tr>\n",
       "  </thead>\n",
       "  <tbody>\n",
       "    <tr>\n",
       "      <td>0</td>\n",
       "      <td>03.18.2019 15:01:21</td>\n",
       "      <td>1.0</td>\n",
       "      <td>24.0</td>\n",
       "      <td>0.0</td>\n",
       "      <td>2290.0</td>\n",
       "      <td>1.0</td>\n",
       "      <td>3.0</td>\n",
       "      <td>0.0</td>\n",
       "      <td>0.0</td>\n",
       "      <td>0.0</td>\n",
       "      <td>03.18.2019 15:52:48</td>\n",
       "      <td>0.0</td>\n",
       "      <td>1732440.0</td>\n",
       "      <td>NaN</td>\n",
       "      <td>4.0</td>\n",
       "    </tr>\n",
       "  </tbody>\n",
       "</table>\n",
       "</div>"
      ],
      "text/plain": [
       "             TRADEDATE  CROSSTURNOVER1  CROSSDEALRATIOS  EPSILONE  PROFITPL  \\\n",
       "0  03.18.2019 15:01:21             1.0             24.0       0.0    2290.0   \n",
       "\n",
       "   PROFITABILITYY  SIGNALSK  AGTDEV_BS  AGTDEV_PRICE  AGTDEV_VOL  \\\n",
       "0             1.0       3.0        0.0           0.0         0.0   \n",
       "\n",
       "        TRADEDATE_LAST  CROSSTURNOVER2  CROSSVALUE  AVGLIFETIME  USERGRADE_ID  \n",
       "0  03.18.2019 15:52:48             0.0   1732440.0          NaN           4.0  "
      ]
     },
     "execution_count": 25,
     "metadata": {},
     "output_type": "execute_result"
    }
   ],
   "source": [
    "# удаляем лишние переменные\n",
    "X1 = X1.drop(['DETECTION_ID','EVENT_ID','SIGNAL_ID'], axis=1)\n",
    "X1.head(1)"
   ]
  },
  {
   "cell_type": "code",
   "execution_count": 6,
   "metadata": {},
   "outputs": [
    {
     "name": "stdout",
     "output_type": "stream",
     "text": [
      "TRADEDATE ['03.18.2019 15:01:21' '03.19.2019 10:00:07' '03.07.2019 16:31' ...\n",
      " '01.22.2019 21:10:08' '10.31.2018 16:03:07' '10.26.2018 14:26:38']\n",
      "\n",
      "CROSSTURNOVER1 [1.]\n",
      "\n",
      "CROSSDEALRATIOS [ 24.   3.   2.   4.   6.   1.  18.  40.  15.   5.   8.  59.   9.   7.\n",
      "  23.  19. 100.  17.  16.  10.  11.  22.  12.  13.   0.  57.  14.  50.\n",
      "  67.  28.  95.  31.  33.  21.  20.  41.  92.  74.  73.  25.  45.  29.\n",
      "  36.  26.  51.  60.  52.  43.  30.  69.  77.  34.  75.  53.  37.  38.\n",
      "  44.  32.  65.  27.  35.  89.  80.  46.  86.  42.  87.  47.  71.  70.\n",
      "  66.  99.  79.  48.  63.  62.  84.  98.  72.  76.  49.  55.  97. 200.\n",
      "  88.  56.  82.  93.  54. 115.  39.  90.  78.  91.  81.  58.  94.  96.\n",
      "  68.  61.]\n",
      "\n",
      "EPSILONE [0.]\n",
      "\n",
      "PROFITPL [ 2290.  8909.   788. ... 43622. 23929.  4300.]\n",
      "\n",
      "PROFITABILITYY [  1.   0.   4.   2.  11.   3.  49.  18.   5.  24.  12.  13.  15.   6.\n",
      "  20.  16.   8.   9.  14.   7.  26.  32.  30.  22.  10.  76.  37.  17.\n",
      "  43.  21.  29.  28.  41.  25.  19.  27.  36.  45.  35.  23.  50.  63.\n",
      "  48.  33.  70.  38.  62.  44.  53.  80.  64.  97.  46.  57.  34.  72.\n",
      " 195.  40.  31.  42.  52.  69.  39.  65.  51.  55.  60.  66.  56.  83.\n",
      " 130. 107. 215. 115.  59. 110. 113. 168.  87.  54.  81. 196. 507. 169.\n",
      " 343. 681. 301. 321. 279. 278.  88. 133. 388. 393. 300. 499. 413. 122.\n",
      " 102.  61. 125. 178.  94.  92.  47. 159.  89.  79. 181.  95. 730. 709.\n",
      " 708. 728. 308. 243. 716.  73.  84. 145. 424. 180. 235. 449. 162. 119.\n",
      " 141. 104.  67. 117.  68.  58. 118. 292. 394. 183. 105.  82. 348. 146.\n",
      " 241. 174. 250.  78. 106. 166. 182. 112. 171.  93. 151. 164. 142.  77.\n",
      " 193.  74. 227. 414.  71.  86. 114. 132.  99.  85. 124. 163. 131. 392.\n",
      " 223. 140. 158.  75. 160. 194. 109. 229. 232. 209. 186. 100. 365. 293.\n",
      "  91. 417. 103. 282.  90. 247. 137. 144. 143. 138. 128. 263. 116. 212.\n",
      " 173. 150. 287. 265. 239. 323. 121. 313. 139. 306. 129. 191. 237. 152.\n",
      " 487. 485. 120. 258. 208. 438. 496. 161. 165. 149. 147. 197. 238. 185.\n",
      " 248. 398.  98. 233. 221. 222. 204. 111. 154. 240. 464. 381. 101. 199.\n",
      " 269. 319. 155. 344. 577. 126. 360. 459. 127. 296. 236. 718. 406. 595.\n",
      " 346.]\n",
      "\n",
      "SIGNALSK [  3.   1.   2.   4.   5. 152.  23. 253.  10.  11.   9.   7.  75.  20.\n",
      "  19.  22.  28.  61.  13.  16.  37.  40.   8.  35.  26.   6.  14.  83.\n",
      "  15.  12.  50.  47.  27.  18.  43.  17.  29.  58.  38. 156. 208. 647.\n",
      "  25.]\n",
      "\n",
      "AGTDEV_BS [0.]\n",
      "\n",
      "AGTDEV_PRICE [0. 1. 2.]\n",
      "\n",
      "AGTDEV_VOL [0. 2. 1.]\n",
      "\n",
      "TRADEDATE_LAST ['03.18.2019 15:52:48' '03.19.2019 22:40:57' '03.07.2019 22:20' ...\n",
      " '01.22.2019 21:12:58' '10.31.2018 16:47:09' '10.26.2018 14:30:30']\n",
      "\n",
      "CROSSTURNOVER2 [0. 1.]\n",
      "\n",
      "CROSSVALUE [1.7324400e+06 1.0322523e+07 4.5627400e+05 ... 5.0000000e+00 1.9150000e+03\n",
      " 1.8100000e+02]\n",
      "\n",
      "AVGLIFETIME [nan]\n",
      "\n",
      "USERGRADE_ID [4. 3. 2.]\n",
      "\n"
     ]
    }
   ],
   "source": [
    "# ищем переменные с нулевой вариацией\n",
    "for col in list(X1.columns):\n",
    "        print(col, X1[col].unique())\n",
    "        print()"
   ]
  },
  {
   "cell_type": "code",
   "execution_count": 26,
   "metadata": {},
   "outputs": [
    {
     "data": {
      "text/html": [
       "<div>\n",
       "<style scoped>\n",
       "    .dataframe tbody tr th:only-of-type {\n",
       "        vertical-align: middle;\n",
       "    }\n",
       "\n",
       "    .dataframe tbody tr th {\n",
       "        vertical-align: top;\n",
       "    }\n",
       "\n",
       "    .dataframe thead th {\n",
       "        text-align: right;\n",
       "    }\n",
       "</style>\n",
       "<table border=\"1\" class=\"dataframe\">\n",
       "  <thead>\n",
       "    <tr style=\"text-align: right;\">\n",
       "      <th></th>\n",
       "      <th>TRADEDATE</th>\n",
       "      <th>CROSSDEALRATIOS</th>\n",
       "      <th>PROFITPL</th>\n",
       "      <th>PROFITABILITYY</th>\n",
       "      <th>SIGNALSK</th>\n",
       "      <th>AGTDEV_PRICE</th>\n",
       "      <th>AGTDEV_VOL</th>\n",
       "      <th>TRADEDATE_LAST</th>\n",
       "      <th>CROSSTURNOVER2</th>\n",
       "      <th>CROSSVALUE</th>\n",
       "      <th>USERGRADE_ID</th>\n",
       "    </tr>\n",
       "  </thead>\n",
       "  <tbody>\n",
       "    <tr>\n",
       "      <td>0</td>\n",
       "      <td>03.18.2019 15:01:21</td>\n",
       "      <td>24.0</td>\n",
       "      <td>2290.0</td>\n",
       "      <td>1.0</td>\n",
       "      <td>3.0</td>\n",
       "      <td>0.0</td>\n",
       "      <td>0.0</td>\n",
       "      <td>03.18.2019 15:52:48</td>\n",
       "      <td>0.0</td>\n",
       "      <td>1732440.0</td>\n",
       "      <td>4.0</td>\n",
       "    </tr>\n",
       "  </tbody>\n",
       "</table>\n",
       "</div>"
      ],
      "text/plain": [
       "             TRADEDATE  CROSSDEALRATIOS  PROFITPL  PROFITABILITYY  SIGNALSK  \\\n",
       "0  03.18.2019 15:01:21             24.0    2290.0             1.0       3.0   \n",
       "\n",
       "   AGTDEV_PRICE  AGTDEV_VOL       TRADEDATE_LAST  CROSSTURNOVER2  CROSSVALUE  \\\n",
       "0           0.0         0.0  03.18.2019 15:52:48             0.0   1732440.0   \n",
       "\n",
       "   USERGRADE_ID  \n",
       "0           4.0  "
      ]
     },
     "execution_count": 26,
     "metadata": {},
     "output_type": "execute_result"
    }
   ],
   "source": [
    "# удаляем переменные с нулевой вариацией\n",
    "X1 = X1.drop(['CROSSTURNOVER1','EPSILONE','AGTDEV_BS','AVGLIFETIME'], axis=1)\n",
    "X1.head(1)"
   ]
  },
  {
   "cell_type": "markdown",
   "metadata": {},
   "source": [
    "# (1.3) Преобразование переменных"
   ]
  },
  {
   "cell_type": "code",
   "execution_count": 27,
   "metadata": {},
   "outputs": [
    {
     "data": {
      "text/html": [
       "<div>\n",
       "<style scoped>\n",
       "    .dataframe tbody tr th:only-of-type {\n",
       "        vertical-align: middle;\n",
       "    }\n",
       "\n",
       "    .dataframe tbody tr th {\n",
       "        vertical-align: top;\n",
       "    }\n",
       "\n",
       "    .dataframe thead th {\n",
       "        text-align: right;\n",
       "    }\n",
       "</style>\n",
       "<table border=\"1\" class=\"dataframe\">\n",
       "  <thead>\n",
       "    <tr style=\"text-align: right;\">\n",
       "      <th></th>\n",
       "      <th>CROSSDEALRATIOS</th>\n",
       "      <th>PROFITPL</th>\n",
       "      <th>PROFITABILITYY</th>\n",
       "      <th>SIGNALSK</th>\n",
       "      <th>AGTDEV_PRICE</th>\n",
       "      <th>AGTDEV_VOL</th>\n",
       "      <th>CROSSTURNOVER2</th>\n",
       "      <th>CROSSVALUE</th>\n",
       "      <th>USERGRADE_ID</th>\n",
       "      <th>DELTA</th>\n",
       "    </tr>\n",
       "  </thead>\n",
       "  <tbody>\n",
       "    <tr>\n",
       "      <td>0</td>\n",
       "      <td>24.0</td>\n",
       "      <td>2290.0</td>\n",
       "      <td>1.0</td>\n",
       "      <td>3.0</td>\n",
       "      <td>0.0</td>\n",
       "      <td>0.0</td>\n",
       "      <td>0.0</td>\n",
       "      <td>1732440.0</td>\n",
       "      <td>4.0</td>\n",
       "      <td>3087</td>\n",
       "    </tr>\n",
       "  </tbody>\n",
       "</table>\n",
       "</div>"
      ],
      "text/plain": [
       "   CROSSDEALRATIOS  PROFITPL  PROFITABILITYY  SIGNALSK  AGTDEV_PRICE  \\\n",
       "0             24.0    2290.0             1.0       3.0           0.0   \n",
       "\n",
       "   AGTDEV_VOL  CROSSTURNOVER2  CROSSVALUE  USERGRADE_ID  DELTA  \n",
       "0         0.0             0.0   1732440.0           4.0   3087  "
      ]
     },
     "execution_count": 27,
     "metadata": {},
     "output_type": "execute_result"
    }
   ],
   "source": [
    "# преобразуем объект в datetime и считаем длительность сигнала\n",
    "X1['TRADEDATE_LAST'] = pd.to_datetime(pd.Series(X1['TRADEDATE_LAST']))\n",
    "X1['TRADEDATE'] = pd.to_datetime(pd.Series(X1['TRADEDATE']))\n",
    "X1['DELTA'] = X1['TRADEDATE_LAST']- X1['TRADEDATE']\n",
    "X1 = X1.drop(['TRADEDATE_LAST','TRADEDATE'], axis=1)\n",
    "X1['DELTA'] = [(X1.loc[i,'DELTA'].seconds) for i in range(len(X1.DELTA))]\n",
    "X1.head(1)"
   ]
  },
  {
   "cell_type": "code",
   "execution_count": 28,
   "metadata": {},
   "outputs": [
    {
     "data": {
      "text/html": [
       "<div>\n",
       "<style scoped>\n",
       "    .dataframe tbody tr th:only-of-type {\n",
       "        vertical-align: middle;\n",
       "    }\n",
       "\n",
       "    .dataframe tbody tr th {\n",
       "        vertical-align: top;\n",
       "    }\n",
       "\n",
       "    .dataframe thead th {\n",
       "        text-align: right;\n",
       "    }\n",
       "</style>\n",
       "<table border=\"1\" class=\"dataframe\">\n",
       "  <thead>\n",
       "    <tr style=\"text-align: right;\">\n",
       "      <th></th>\n",
       "      <th>CROSSDEALRATIOS</th>\n",
       "      <th>PROFITPL</th>\n",
       "      <th>PROFITABILITYY</th>\n",
       "      <th>SIGNALSK</th>\n",
       "      <th>AGTDEV_PRICE</th>\n",
       "      <th>AGTDEV_VOL</th>\n",
       "      <th>CROSSTURNOVER2</th>\n",
       "      <th>CROSSVALUE</th>\n",
       "      <th>DELTA</th>\n",
       "      <th>NOT_NOISE</th>\n",
       "    </tr>\n",
       "  </thead>\n",
       "  <tbody>\n",
       "    <tr>\n",
       "      <td>0</td>\n",
       "      <td>24.0</td>\n",
       "      <td>2290.0</td>\n",
       "      <td>1.0</td>\n",
       "      <td>3.0</td>\n",
       "      <td>0.0</td>\n",
       "      <td>0.0</td>\n",
       "      <td>0.0</td>\n",
       "      <td>1732440.0</td>\n",
       "      <td>3087</td>\n",
       "      <td>0</td>\n",
       "    </tr>\n",
       "  </tbody>\n",
       "</table>\n",
       "</div>"
      ],
      "text/plain": [
       "   CROSSDEALRATIOS  PROFITPL  PROFITABILITYY  SIGNALSK  AGTDEV_PRICE  \\\n",
       "0             24.0    2290.0             1.0       3.0           0.0   \n",
       "\n",
       "   AGTDEV_VOL  CROSSTURNOVER2  CROSSVALUE  DELTA  NOT_NOISE  \n",
       "0         0.0             0.0   1732440.0   3087          0  "
      ]
     },
     "execution_count": 28,
     "metadata": {},
     "output_type": "execute_result"
    }
   ],
   "source": [
    "# создаем бинарную переменную на основании USERGRADE_ID (0 - шум, 1 - не шум)\n",
    "# все, что имеет USERGRADE_ID 2 и 3, превращаем в NOISE = 0 Все, что имеет USERGRADE_ID 4, превращаем в NOISE = 1\n",
    "X1['NOT_NOISE'] = np.where((X1.USERGRADE_ID == 2) | (X1.USERGRADE_ID == 3), 1, 0)\n",
    "X1 = X1.drop(['USERGRADE_ID'], axis=1)\n",
    "X1.head(1)"
   ]
  },
  {
   "cell_type": "markdown",
   "metadata": {},
   "source": [
    "Нормируем переменные в соответствии со следующим преобразованием:   \n",
    "$$\\\\F_i = \\frac{f_i - \\overline{f}} {St.dev(f)}$$"
   ]
  },
  {
   "cell_type": "code",
   "execution_count": 31,
   "metadata": {},
   "outputs": [
    {
     "data": {
      "text/html": [
       "<div>\n",
       "<style scoped>\n",
       "    .dataframe tbody tr th:only-of-type {\n",
       "        vertical-align: middle;\n",
       "    }\n",
       "\n",
       "    .dataframe tbody tr th {\n",
       "        vertical-align: top;\n",
       "    }\n",
       "\n",
       "    .dataframe thead th {\n",
       "        text-align: right;\n",
       "    }\n",
       "</style>\n",
       "<table border=\"1\" class=\"dataframe\">\n",
       "  <thead>\n",
       "    <tr style=\"text-align: right;\">\n",
       "      <th></th>\n",
       "      <th>CROSSDEALRATIOS</th>\n",
       "      <th>PROFITPL</th>\n",
       "      <th>PROFITABILITYY</th>\n",
       "      <th>SIGNALSK</th>\n",
       "      <th>AGTDEV_PRICE</th>\n",
       "      <th>AGTDEV_VOL</th>\n",
       "      <th>CROSSTURNOVER2</th>\n",
       "      <th>CROSSVALUE</th>\n",
       "      <th>DELTA</th>\n",
       "      <th>NOT_NOISE</th>\n",
       "    </tr>\n",
       "  </thead>\n",
       "  <tbody>\n",
       "    <tr>\n",
       "      <td>0</td>\n",
       "      <td>0.448633</td>\n",
       "      <td>-0.019631</td>\n",
       "      <td>-0.368477</td>\n",
       "      <td>-0.502279</td>\n",
       "      <td>-1.15257</td>\n",
       "      <td>-1.14048</td>\n",
       "      <td>-0.290189</td>\n",
       "      <td>-0.056744</td>\n",
       "      <td>-0.710139</td>\n",
       "      <td>0</td>\n",
       "    </tr>\n",
       "    <tr>\n",
       "      <td>1</td>\n",
       "      <td>-0.473516</td>\n",
       "      <td>-0.016409</td>\n",
       "      <td>-0.368477</td>\n",
       "      <td>-0.512488</td>\n",
       "      <td>-1.15257</td>\n",
       "      <td>-1.14048</td>\n",
       "      <td>-0.290189</td>\n",
       "      <td>0.185901</td>\n",
       "      <td>3.524390</td>\n",
       "      <td>0</td>\n",
       "    </tr>\n",
       "    <tr>\n",
       "      <td>2</td>\n",
       "      <td>-0.517427</td>\n",
       "      <td>-0.020362</td>\n",
       "      <td>-0.368477</td>\n",
       "      <td>-0.502279</td>\n",
       "      <td>-1.15257</td>\n",
       "      <td>-1.14048</td>\n",
       "      <td>-0.290189</td>\n",
       "      <td>-0.092792</td>\n",
       "      <td>1.066029</td>\n",
       "      <td>0</td>\n",
       "    </tr>\n",
       "    <tr>\n",
       "      <td>3</td>\n",
       "      <td>-0.473516</td>\n",
       "      <td>-0.020132</td>\n",
       "      <td>-0.368477</td>\n",
       "      <td>-0.502279</td>\n",
       "      <td>-1.15257</td>\n",
       "      <td>-1.14048</td>\n",
       "      <td>-0.290189</td>\n",
       "      <td>-0.072149</td>\n",
       "      <td>2.874730</td>\n",
       "      <td>0</td>\n",
       "    </tr>\n",
       "    <tr>\n",
       "      <td>4</td>\n",
       "      <td>-0.429604</td>\n",
       "      <td>-0.019093</td>\n",
       "      <td>-0.385397</td>\n",
       "      <td>-0.512488</td>\n",
       "      <td>-1.15257</td>\n",
       "      <td>-1.14048</td>\n",
       "      <td>-0.290189</td>\n",
       "      <td>0.338598</td>\n",
       "      <td>-0.984827</td>\n",
       "      <td>1</td>\n",
       "    </tr>\n",
       "  </tbody>\n",
       "</table>\n",
       "</div>"
      ],
      "text/plain": [
       "   CROSSDEALRATIOS  PROFITPL  PROFITABILITYY  SIGNALSK  AGTDEV_PRICE  \\\n",
       "0         0.448633 -0.019631       -0.368477 -0.502279      -1.15257   \n",
       "1        -0.473516 -0.016409       -0.368477 -0.512488      -1.15257   \n",
       "2        -0.517427 -0.020362       -0.368477 -0.502279      -1.15257   \n",
       "3        -0.473516 -0.020132       -0.368477 -0.502279      -1.15257   \n",
       "4        -0.429604 -0.019093       -0.385397 -0.512488      -1.15257   \n",
       "\n",
       "   AGTDEV_VOL  CROSSTURNOVER2  CROSSVALUE     DELTA  NOT_NOISE  \n",
       "0    -1.14048       -0.290189   -0.056744 -0.710139          0  \n",
       "1    -1.14048       -0.290189    0.185901  3.524390          0  \n",
       "2    -1.14048       -0.290189   -0.092792  1.066029          0  \n",
       "3    -1.14048       -0.290189   -0.072149  2.874730          0  \n",
       "4    -1.14048       -0.290189    0.338598 -0.984827          1  "
      ]
     },
     "execution_count": 31,
     "metadata": {},
     "output_type": "execute_result"
    }
   ],
   "source": [
    "# создаем новый датафрейм с нормированными переменными\n",
    "X1_N = pd.DataFrame()\n",
    "X1_N['CROSSDEALRATIOS'] = [(X1.loc[i,'CROSSDEALRATIOS'] - X1['CROSSDEALRATIOS'].mean())/X1['CROSSDEALRATIOS'].std() for i in range(len(X1.CROSSDEALRATIOS))]\n",
    "X1_N['PROFITPL'] = [(X1.loc[i,'PROFITPL'] - X1['PROFITPL'].mean())/X1['PROFITPL'].std() for i in range(len(X1.PROFITPL))]\n",
    "X1_N['PROFITABILITYY'] = [(X1.loc[i,'PROFITABILITYY'] - X1['PROFITABILITYY'].mean())/X1['PROFITABILITYY'].std() for i in range(len(X1.PROFITABILITYY))]\n",
    "X1_N['SIGNALSK'] = [(X1.loc[i,'SIGNALSK'] - X1['SIGNALSK'].mean())/X1['SIGNALSK'].std() for i in range(len(X1.SIGNALSK))]\n",
    "X1_N['AGTDEV_PRICE'] = [(X1.loc[i,'AGTDEV_PRICE'] - X1['AGTDEV_PRICE'].mean())/X1['AGTDEV_PRICE'].std() for i in range(len(X1.AGTDEV_PRICE))]\n",
    "X1_N['AGTDEV_VOL'] = [(X1.loc[i,'AGTDEV_VOL'] - X1['AGTDEV_VOL'].mean())/X1['AGTDEV_VOL'].std() for i in range(len(X1.AGTDEV_VOL))]\n",
    "X1_N['CROSSTURNOVER2'] = [(X1.loc[i,'CROSSTURNOVER2'] - X1['CROSSTURNOVER2'].mean())/X1['CROSSTURNOVER2'].std() for i in range(len(X1.CROSSTURNOVER2))]\n",
    "X1_N['CROSSVALUE'] = [(X1.loc[i,'CROSSVALUE'] - X1['CROSSVALUE'].mean())/X1['CROSSVALUE'].std() for i in range(len(X1.CROSSVALUE))]\n",
    "X1_N['DELTA'] = [(X1.loc[i,'DELTA'] - X1['DELTA'].mean())/X1['DELTA'].std() for i in range(len(X1.DELTA))]\n",
    "X1_N['NOT_NOISE'] = X1['NOT_NOISE']\n",
    "X1_N.head(5)"
   ]
  },
  {
   "cell_type": "code",
   "execution_count": 32,
   "metadata": {},
   "outputs": [
    {
     "data": {
      "text/html": [
       "<div>\n",
       "<style scoped>\n",
       "    .dataframe tbody tr th:only-of-type {\n",
       "        vertical-align: middle;\n",
       "    }\n",
       "\n",
       "    .dataframe tbody tr th {\n",
       "        vertical-align: top;\n",
       "    }\n",
       "\n",
       "    .dataframe thead th {\n",
       "        text-align: right;\n",
       "    }\n",
       "</style>\n",
       "<table border=\"1\" class=\"dataframe\">\n",
       "  <thead>\n",
       "    <tr style=\"text-align: right;\">\n",
       "      <th></th>\n",
       "      <th>CROSSDEALRATIOS</th>\n",
       "      <th>PROFITPL</th>\n",
       "      <th>PROFITABILITYY</th>\n",
       "      <th>SIGNALSK</th>\n",
       "      <th>AGTDEV_PRICE</th>\n",
       "      <th>AGTDEV_VOL</th>\n",
       "      <th>CROSSTURNOVER2</th>\n",
       "      <th>CROSSVALUE</th>\n",
       "      <th>DELTA</th>\n",
       "      <th>NOT_NOISE</th>\n",
       "    </tr>\n",
       "  </thead>\n",
       "  <tbody>\n",
       "    <tr>\n",
       "      <td>count</td>\n",
       "      <td>6.295000e+03</td>\n",
       "      <td>6.295000e+03</td>\n",
       "      <td>6.295000e+03</td>\n",
       "      <td>6.295000e+03</td>\n",
       "      <td>6.295000e+03</td>\n",
       "      <td>6.295000e+03</td>\n",
       "      <td>6.295000e+03</td>\n",
       "      <td>6.295000e+03</td>\n",
       "      <td>6.295000e+03</td>\n",
       "      <td>6295.000000</td>\n",
       "    </tr>\n",
       "    <tr>\n",
       "      <td>mean</td>\n",
       "      <td>4.034289e-15</td>\n",
       "      <td>3.007920e-17</td>\n",
       "      <td>5.138013e-15</td>\n",
       "      <td>-3.563472e-15</td>\n",
       "      <td>-4.187842e-15</td>\n",
       "      <td>1.614669e-15</td>\n",
       "      <td>-3.632308e-15</td>\n",
       "      <td>1.014390e-16</td>\n",
       "      <td>1.246730e-16</td>\n",
       "      <td>0.028118</td>\n",
       "    </tr>\n",
       "    <tr>\n",
       "      <td>std</td>\n",
       "      <td>1.000000e+00</td>\n",
       "      <td>1.000000e+00</td>\n",
       "      <td>1.000000e+00</td>\n",
       "      <td>1.000000e+00</td>\n",
       "      <td>1.000000e+00</td>\n",
       "      <td>1.000000e+00</td>\n",
       "      <td>1.000000e+00</td>\n",
       "      <td>1.000000e+00</td>\n",
       "      <td>1.000000e+00</td>\n",
       "      <td>0.165322</td>\n",
       "    </tr>\n",
       "    <tr>\n",
       "      <td>min</td>\n",
       "      <td>-6.052511e-01</td>\n",
       "      <td>-2.074524e-02</td>\n",
       "      <td>-3.853970e-01</td>\n",
       "      <td>-5.124880e-01</td>\n",
       "      <td>-1.152570e+00</td>\n",
       "      <td>-1.140480e+00</td>\n",
       "      <td>-2.901893e-01</td>\n",
       "      <td>-1.056802e-01</td>\n",
       "      <td>-1.017260e+00</td>\n",
       "      <td>0.000000</td>\n",
       "    </tr>\n",
       "    <tr>\n",
       "      <td>25%</td>\n",
       "      <td>-4.735155e-01</td>\n",
       "      <td>-2.071847e-02</td>\n",
       "      <td>-3.515561e-01</td>\n",
       "      <td>-5.073834e-01</td>\n",
       "      <td>-1.152570e+00</td>\n",
       "      <td>-1.140480e+00</td>\n",
       "      <td>-2.901893e-01</td>\n",
       "      <td>-1.055028e-01</td>\n",
       "      <td>-8.428071e-01</td>\n",
       "      <td>0.000000</td>\n",
       "    </tr>\n",
       "    <tr>\n",
       "      <td>50%</td>\n",
       "      <td>-3.856918e-01</td>\n",
       "      <td>-2.063085e-02</td>\n",
       "      <td>-3.007946e-01</td>\n",
       "      <td>-4.767557e-01</td>\n",
       "      <td>3.483462e-01</td>\n",
       "      <td>2.029559e-01</td>\n",
       "      <td>-2.901893e-01</td>\n",
       "      <td>-1.048257e-01</td>\n",
       "      <td>-3.494934e-01</td>\n",
       "      <td>0.000000</td>\n",
       "    </tr>\n",
       "    <tr>\n",
       "      <td>75%</td>\n",
       "      <td>-7.830889e-02</td>\n",
       "      <td>-2.013095e-02</td>\n",
       "      <td>-1.146695e-01</td>\n",
       "      <td>-9.391018e-02</td>\n",
       "      <td>3.483462e-01</td>\n",
       "      <td>2.029559e-01</td>\n",
       "      <td>-2.901893e-01</td>\n",
       "      <td>-9.930869e-02</td>\n",
       "      <td>6.601656e-01</td>\n",
       "      <td>0.000000</td>\n",
       "    </tr>\n",
       "    <tr>\n",
       "      <td>max</td>\n",
       "      <td>8.177119e+00</td>\n",
       "      <td>7.724810e+01</td>\n",
       "      <td>1.196655e+01</td>\n",
       "      <td>2.785088e+00</td>\n",
       "      <td>1.849263e+00</td>\n",
       "      <td>1.546391e+00</td>\n",
       "      <td>3.445479e+00</td>\n",
       "      <td>3.485233e+01</td>\n",
       "      <td>3.933984e+00</td>\n",
       "      <td>1.000000</td>\n",
       "    </tr>\n",
       "  </tbody>\n",
       "</table>\n",
       "</div>"
      ],
      "text/plain": [
       "       CROSSDEALRATIOS      PROFITPL  PROFITABILITYY      SIGNALSK  \\\n",
       "count     6.295000e+03  6.295000e+03    6.295000e+03  6.295000e+03   \n",
       "mean      4.034289e-15  3.007920e-17    5.138013e-15 -3.563472e-15   \n",
       "std       1.000000e+00  1.000000e+00    1.000000e+00  1.000000e+00   \n",
       "min      -6.052511e-01 -2.074524e-02   -3.853970e-01 -5.124880e-01   \n",
       "25%      -4.735155e-01 -2.071847e-02   -3.515561e-01 -5.073834e-01   \n",
       "50%      -3.856918e-01 -2.063085e-02   -3.007946e-01 -4.767557e-01   \n",
       "75%      -7.830889e-02 -2.013095e-02   -1.146695e-01 -9.391018e-02   \n",
       "max       8.177119e+00  7.724810e+01    1.196655e+01  2.785088e+00   \n",
       "\n",
       "       AGTDEV_PRICE    AGTDEV_VOL  CROSSTURNOVER2    CROSSVALUE         DELTA  \\\n",
       "count  6.295000e+03  6.295000e+03    6.295000e+03  6.295000e+03  6.295000e+03   \n",
       "mean  -4.187842e-15  1.614669e-15   -3.632308e-15  1.014390e-16  1.246730e-16   \n",
       "std    1.000000e+00  1.000000e+00    1.000000e+00  1.000000e+00  1.000000e+00   \n",
       "min   -1.152570e+00 -1.140480e+00   -2.901893e-01 -1.056802e-01 -1.017260e+00   \n",
       "25%   -1.152570e+00 -1.140480e+00   -2.901893e-01 -1.055028e-01 -8.428071e-01   \n",
       "50%    3.483462e-01  2.029559e-01   -2.901893e-01 -1.048257e-01 -3.494934e-01   \n",
       "75%    3.483462e-01  2.029559e-01   -2.901893e-01 -9.930869e-02  6.601656e-01   \n",
       "max    1.849263e+00  1.546391e+00    3.445479e+00  3.485233e+01  3.933984e+00   \n",
       "\n",
       "         NOT_NOISE  \n",
       "count  6295.000000  \n",
       "mean      0.028118  \n",
       "std       0.165322  \n",
       "min       0.000000  \n",
       "25%       0.000000  \n",
       "50%       0.000000  \n",
       "75%       0.000000  \n",
       "max       1.000000  "
      ]
     },
     "execution_count": 32,
     "metadata": {},
     "output_type": "execute_result"
    }
   ],
   "source": [
    "X1_N.describe()"
   ]
  },
  {
   "cell_type": "markdown",
   "metadata": {},
   "source": [
    "# (1.4) Корреляционная матрица"
   ]
  },
  {
   "cell_type": "code",
   "execution_count": 33,
   "metadata": {},
   "outputs": [
    {
     "data": {
      "text/plain": [
       "<matplotlib.axes._subplots.AxesSubplot at 0x1a230a9310>"
      ]
     },
     "execution_count": 33,
     "metadata": {},
     "output_type": "execute_result"
    },
    {
     "data": {
      "image/png": "[encoded data removed]",
      "text/plain": [
       "<Figure size 648x576 with 2 Axes>"
      ]
     },
     "metadata": {
      "needs_background": "light"
     },
     "output_type": "display_data"
    }
   ],
   "source": [
    "# Create correlation matrix\n",
    "corr_matrix = X1_N[{'CROSSDEALRATIOS','PROFITPL','PROFITABILITYY','SIGNALSK',\n",
    "    'AGTDEV_PRICE','AGTDEV_VOL','CROSSTURNOVER2','CROSSVALUE','DELTA'}].corr().abs()\n",
    "\n",
    "# Select upper triangle of correlation matrix\n",
    "#upper = corr_matrix.where(np.triu(np.ones(corr_matrix.shape), k=1).astype(np.bool))\n",
    "# Find features with correlation greater than 0.95\n",
    "#to_drop = [column for column in upper.columns if any(upper[column] > 0.70)]\n",
    "#print(to_drop)\n",
    "#print(corr_matrix)\n",
    "#columns=['SIGNAL_ID', 'TRADEDATE', 'CROSSTURNOVER1', 'CROSSDEALRATIOS', 'EPSILONE', 'PROFITPL','PROFITABILITYY','SIGNALSK', 'RATINGCROSSDEALRATIOS', 'RATINGEPSILONE', 'RATINGPROFITPL', 'RATINGPROFITABILITYY', 'RATINGSIGNALSK', 'RATINGINTEGRAL','AGTDEV_BS', 'AGTDEV_PRICE', 'AGTDEV_VO', 'RATINGDEV', 'TRADEDATE_LAST', 'EVENT_ID','CROSSTURNOVER2','CROSSVALUE','AVGLIFETIME','RATINGAVGLIFETIME','USERGRADE_ID','SHORTNAME','IDENT','DETECTION_ID']\n",
    "f, ax = plt.subplots(figsize =(9, 8))\n",
    "sns.heatmap(corr_matrix, ax = ax, cmap =\"YlGnBu\", linewidths = 0.1)"
   ]
  },
  {
   "cell_type": "code",
   "execution_count": 34,
   "metadata": {},
   "outputs": [],
   "source": [
    "# создаем новый датафрейм (удаляем по одной из переменных из каждой скоррелированной пары):\n",
    "# X1_N_COR - датафрейм с нормированными переменными с удаленными скоррелированными переменными\n",
    "X1_N_COR = X1\n",
    "X1_N_COR = X1_N_COR.drop(['AGTDEV_VOL','CROSSTURNOVER2'], axis=1)"
   ]
  },
  {
   "cell_type": "markdown",
   "metadata": {},
   "source": [
    "# (1.5) Метод главных компонент"
   ]
  },
  {
   "cell_type": "code",
   "execution_count": 35,
   "metadata": {},
   "outputs": [],
   "source": [
    "# создаем новую переменную с помощью метода главных компонент на основании скоррелированных переменных\n",
    "# создаем список на основании скоррелированных переменных\n",
    "x = X1_N.AGTDEV_VOL.values\n",
    "y = X1_N.AGTDEV_PRICE.values\n",
    "a = X1_N.CROSSTURNOVER2.values\n",
    "b = X1_N.CROSSDEALRATIOS.values\n",
    "\n",
    "xy = np.vstack((x,y))\n",
    "ab = np.vstack((a,b))\n",
    "# создаем компонену на основании скоррелированных переменных\n",
    "from sklearn.decomposition import PCA\n",
    "pca = PCA(n_components = 1)\n",
    "XPCAreduced1 = pca.fit_transform(np.transpose(xy))\n",
    "XPCAreduced2 = pca.fit_transform(np.transpose(ab))"
   ]
  },
  {
   "cell_type": "code",
   "execution_count": 36,
   "metadata": {},
   "outputs": [],
   "source": [
    "# создаем новый датафрейм:\n",
    "# X1_N_PCA - датафрейм с нормированными переменными и с новой переменной, созданной на основании скоррелированных переменных\n",
    "X1_N_PCA = X1_N\n",
    "X1_N_PCA['AGTDEV'] = XPCAreduced1\n",
    "X1_N_PCA['CROSS'] = XPCAreduced2\n",
    "X1_N_PCA = X1_N_PCA.drop(['AGTDEV_VOL','CROSSTURNOVER2','AGTDEV_PRICE','CROSSDEALRATIOS'], axis=1)"
   ]
  },
  {
   "cell_type": "code",
   "execution_count": 37,
   "metadata": {},
   "outputs": [
    {
     "data": {
      "text/plain": [
       "<matplotlib.axes._subplots.AxesSubplot at 0x1a216a7790>"
      ]
     },
     "execution_count": 37,
     "metadata": {},
     "output_type": "execute_result"
    },
    {
     "data": {
      "image/png": "[encoded data removed]",
      "text/plain": [
       "<Figure size 648x576 with 2 Axes>"
      ]
     },
     "metadata": {
      "needs_background": "light"
     },
     "output_type": "display_data"
    }
   ],
   "source": [
    "# Create correlation matrix\n",
    "corr_matrix = X1_N_PCA[{'PROFITPL','PROFITABILITYY','SIGNALSK',\n",
    "    'CROSSVALUE','DELTA','AGTDEV','CROSS'}].corr().abs()\n",
    "\n",
    "# Select upper triangle of correlation matrix\n",
    "#upper = corr_matrix.where(np.triu(np.ones(corr_matrix.shape), k=1).astype(np.bool))\n",
    "# Find features with correlation greater than 0.95\n",
    "#to_drop = [column for column in upper.columns if any(upper[column] > 0.70)]\n",
    "#print(to_drop)\n",
    "#print(corr_matrix)\n",
    "#columns=['SIGNAL_ID', 'TRADEDATE', 'CROSSTURNOVER1', 'CROSSDEALRATIOS', 'EPSILONE', 'PROFITPL','PROFITABILITYY','SIGNALSK', 'RATINGCROSSDEALRATIOS', 'RATINGEPSILONE', 'RATINGPROFITPL', 'RATINGPROFITABILITYY', 'RATINGSIGNALSK', 'RATINGINTEGRAL','AGTDEV_BS', 'AGTDEV_PRICE', 'AGTDEV_VO', 'RATINGDEV', 'TRADEDATE_LAST', 'EVENT_ID','CROSSTURNOVER2','CROSSVALUE','AVGLIFETIME','RATINGAVGLIFETIME','USERGRADE_ID','SHORTNAME','IDENT','DETECTION_ID']\n",
    "f, ax = plt.subplots(figsize =(9, 8))\n",
    "sns.heatmap(corr_matrix, ax = ax, cmap =\"YlGnBu\", linewidths = 0.1)"
   ]
  },
  {
   "cell_type": "markdown",
   "metadata": {},
   "source": [
    "# (1.6) Делим выборку на train и test"
   ]
  },
  {
   "cell_type": "code",
   "execution_count": 40,
   "metadata": {},
   "outputs": [
    {
     "ename": "KeyError",
     "evalue": "'NOT_NOISE'",
     "output_type": "error",
     "traceback": [
      "\u001b[0;31m---------------------------------------------------------------------------\u001b[0m",
      "\u001b[0;31mKeyError\u001b[0m                                  Traceback (most recent call last)",
      "\u001b[0;32m~/opt/anaconda3/lib/python3.7/site-packages/pandas/core/indexes/base.py\u001b[0m in \u001b[0;36mget_loc\u001b[0;34m(self, key, method, tolerance)\u001b[0m\n\u001b[1;32m   2896\u001b[0m             \u001b[0;32mtry\u001b[0m\u001b[0;34m:\u001b[0m\u001b[0;34m\u001b[0m\u001b[0;34m\u001b[0m\u001b[0m\n\u001b[0;32m-> 2897\u001b[0;31m                 \u001b[0;32mreturn\u001b[0m \u001b[0mself\u001b[0m\u001b[0;34m.\u001b[0m\u001b[0m_engine\u001b[0m\u001b[0;34m.\u001b[0m\u001b[0mget_loc\u001b[0m\u001b[0;34m(\u001b[0m\u001b[0mkey\u001b[0m\u001b[0;34m)\u001b[0m\u001b[0;34m\u001b[0m\u001b[0;34m\u001b[0m\u001b[0m\n\u001b[0m\u001b[1;32m   2898\u001b[0m             \u001b[0;32mexcept\u001b[0m \u001b[0mKeyError\u001b[0m\u001b[0;34m:\u001b[0m\u001b[0;34m\u001b[0m\u001b[0;34m\u001b[0m\u001b[0m\n",
      "\u001b[0;32mpandas/_libs/index.pyx\u001b[0m in \u001b[0;36mpandas._libs.index.IndexEngine.get_loc\u001b[0;34m()\u001b[0m\n",
      "\u001b[0;32mpandas/_libs/index.pyx\u001b[0m in \u001b[0;36mpandas._libs.index.IndexEngine.get_loc\u001b[0;34m()\u001b[0m\n",
      "\u001b[0;32mpandas/_libs/hashtable_class_helper.pxi\u001b[0m in \u001b[0;36mpandas._libs.hashtable.PyObjectHashTable.get_item\u001b[0;34m()\u001b[0m\n",
      "\u001b[0;32mpandas/_libs/hashtable_class_helper.pxi\u001b[0m in \u001b[0;36mpandas._libs.hashtable.PyObjectHashTable.get_item\u001b[0;34m()\u001b[0m\n",
      "\u001b[0;31mKeyError\u001b[0m: 'NOT_NOISE'",
      "\nDuring handling of the above exception, another exception occurred:\n",
      "\u001b[0;31mKeyError\u001b[0m                                  Traceback (most recent call last)",
      "\u001b[0;32m<ipython-input-40-833abba8fda2>\u001b[0m in \u001b[0;36m<module>\u001b[0;34m\u001b[0m\n\u001b[1;32m      1\u001b[0m \u001b[0;31m# выделяем NOT_NOISE в отдельный датафрейм и удаляем из исходного\u001b[0m\u001b[0;34m\u001b[0m\u001b[0;34m\u001b[0m\u001b[0;34m\u001b[0m\u001b[0m\n\u001b[0;32m----> 2\u001b[0;31m \u001b[0my1_n\u001b[0m \u001b[0;34m=\u001b[0m \u001b[0mpd\u001b[0m\u001b[0;34m.\u001b[0m\u001b[0mDataFrame\u001b[0m\u001b[0;34m(\u001b[0m\u001b[0mX1_N\u001b[0m\u001b[0;34m[\u001b[0m\u001b[0;34m'NOT_NOISE'\u001b[0m\u001b[0;34m]\u001b[0m\u001b[0;34m,\u001b[0m \u001b[0mcolumns\u001b[0m\u001b[0;34m=\u001b[0m\u001b[0;34m[\u001b[0m\u001b[0;34m'NOT_NOISE'\u001b[0m\u001b[0;34m]\u001b[0m\u001b[0;34m)\u001b[0m\u001b[0;34m\u001b[0m\u001b[0;34m\u001b[0m\u001b[0m\n\u001b[0m\u001b[1;32m      3\u001b[0m \u001b[0mX1_N\u001b[0m \u001b[0;34m=\u001b[0m \u001b[0mX1_N\u001b[0m\u001b[0;34m.\u001b[0m\u001b[0mdrop\u001b[0m\u001b[0;34m(\u001b[0m\u001b[0;34m[\u001b[0m\u001b[0;34m'NOT_NOISE'\u001b[0m\u001b[0;34m]\u001b[0m\u001b[0;34m,\u001b[0m \u001b[0maxis\u001b[0m\u001b[0;34m=\u001b[0m\u001b[0;36m1\u001b[0m\u001b[0;34m)\u001b[0m\u001b[0;34m\u001b[0m\u001b[0;34m\u001b[0m\u001b[0m\n\u001b[1;32m      4\u001b[0m \u001b[0mX1_N_PCA\u001b[0m \u001b[0;34m=\u001b[0m \u001b[0mX1_N_PCA\u001b[0m\u001b[0;34m.\u001b[0m\u001b[0mdrop\u001b[0m\u001b[0;34m(\u001b[0m\u001b[0;34m[\u001b[0m\u001b[0;34m'NOT_NOISE'\u001b[0m\u001b[0;34m]\u001b[0m\u001b[0;34m,\u001b[0m \u001b[0maxis\u001b[0m\u001b[0;34m=\u001b[0m\u001b[0;36m1\u001b[0m\u001b[0;34m)\u001b[0m\u001b[0;34m\u001b[0m\u001b[0;34m\u001b[0m\u001b[0m\n\u001b[1;32m      5\u001b[0m \u001b[0mX1_N_COR\u001b[0m \u001b[0;34m=\u001b[0m \u001b[0mX1_N_COR\u001b[0m\u001b[0;34m.\u001b[0m\u001b[0mdrop\u001b[0m\u001b[0;34m(\u001b[0m\u001b[0;34m[\u001b[0m\u001b[0;34m'NOT_NOISE'\u001b[0m\u001b[0;34m]\u001b[0m\u001b[0;34m,\u001b[0m \u001b[0maxis\u001b[0m\u001b[0;34m=\u001b[0m\u001b[0;36m1\u001b[0m\u001b[0;34m)\u001b[0m\u001b[0;34m\u001b[0m\u001b[0;34m\u001b[0m\u001b[0m\n",
      "\u001b[0;32m~/opt/anaconda3/lib/python3.7/site-packages/pandas/core/frame.py\u001b[0m in \u001b[0;36m__getitem__\u001b[0;34m(self, key)\u001b[0m\n\u001b[1;32m   2978\u001b[0m             \u001b[0;32mif\u001b[0m \u001b[0mself\u001b[0m\u001b[0;34m.\u001b[0m\u001b[0mcolumns\u001b[0m\u001b[0;34m.\u001b[0m\u001b[0mnlevels\u001b[0m \u001b[0;34m>\u001b[0m \u001b[0;36m1\u001b[0m\u001b[0;34m:\u001b[0m\u001b[0;34m\u001b[0m\u001b[0;34m\u001b[0m\u001b[0m\n\u001b[1;32m   2979\u001b[0m                 \u001b[0;32mreturn\u001b[0m \u001b[0mself\u001b[0m\u001b[0;34m.\u001b[0m\u001b[0m_getitem_multilevel\u001b[0m\u001b[0;34m(\u001b[0m\u001b[0mkey\u001b[0m\u001b[0;34m)\u001b[0m\u001b[0;34m\u001b[0m\u001b[0;34m\u001b[0m\u001b[0m\n\u001b[0;32m-> 2980\u001b[0;31m             \u001b[0mindexer\u001b[0m \u001b[0;34m=\u001b[0m \u001b[0mself\u001b[0m\u001b[0;34m.\u001b[0m\u001b[0mcolumns\u001b[0m\u001b[0;34m.\u001b[0m\u001b[0mget_loc\u001b[0m\u001b[0;34m(\u001b[0m\u001b[0mkey\u001b[0m\u001b[0;34m)\u001b[0m\u001b[0;34m\u001b[0m\u001b[0;34m\u001b[0m\u001b[0m\n\u001b[0m\u001b[1;32m   2981\u001b[0m             \u001b[0;32mif\u001b[0m \u001b[0mis_integer\u001b[0m\u001b[0;34m(\u001b[0m\u001b[0mindexer\u001b[0m\u001b[0;34m)\u001b[0m\u001b[0;34m:\u001b[0m\u001b[0;34m\u001b[0m\u001b[0;34m\u001b[0m\u001b[0m\n\u001b[1;32m   2982\u001b[0m                 \u001b[0mindexer\u001b[0m \u001b[0;34m=\u001b[0m \u001b[0;34m[\u001b[0m\u001b[0mindexer\u001b[0m\u001b[0;34m]\u001b[0m\u001b[0;34m\u001b[0m\u001b[0;34m\u001b[0m\u001b[0m\n",
      "\u001b[0;32m~/opt/anaconda3/lib/python3.7/site-packages/pandas/core/indexes/base.py\u001b[0m in \u001b[0;36mget_loc\u001b[0;34m(self, key, method, tolerance)\u001b[0m\n\u001b[1;32m   2897\u001b[0m                 \u001b[0;32mreturn\u001b[0m \u001b[0mself\u001b[0m\u001b[0;34m.\u001b[0m\u001b[0m_engine\u001b[0m\u001b[0;34m.\u001b[0m\u001b[0mget_loc\u001b[0m\u001b[0;34m(\u001b[0m\u001b[0mkey\u001b[0m\u001b[0;34m)\u001b[0m\u001b[0;34m\u001b[0m\u001b[0;34m\u001b[0m\u001b[0m\n\u001b[1;32m   2898\u001b[0m             \u001b[0;32mexcept\u001b[0m \u001b[0mKeyError\u001b[0m\u001b[0;34m:\u001b[0m\u001b[0;34m\u001b[0m\u001b[0;34m\u001b[0m\u001b[0m\n\u001b[0;32m-> 2899\u001b[0;31m                 \u001b[0;32mreturn\u001b[0m \u001b[0mself\u001b[0m\u001b[0;34m.\u001b[0m\u001b[0m_engine\u001b[0m\u001b[0;34m.\u001b[0m\u001b[0mget_loc\u001b[0m\u001b[0;34m(\u001b[0m\u001b[0mself\u001b[0m\u001b[0;34m.\u001b[0m\u001b[0m_maybe_cast_indexer\u001b[0m\u001b[0;34m(\u001b[0m\u001b[0mkey\u001b[0m\u001b[0;34m)\u001b[0m\u001b[0;34m)\u001b[0m\u001b[0;34m\u001b[0m\u001b[0;34m\u001b[0m\u001b[0m\n\u001b[0m\u001b[1;32m   2900\u001b[0m         \u001b[0mindexer\u001b[0m \u001b[0;34m=\u001b[0m \u001b[0mself\u001b[0m\u001b[0;34m.\u001b[0m\u001b[0mget_indexer\u001b[0m\u001b[0;34m(\u001b[0m\u001b[0;34m[\u001b[0m\u001b[0mkey\u001b[0m\u001b[0;34m]\u001b[0m\u001b[0;34m,\u001b[0m \u001b[0mmethod\u001b[0m\u001b[0;34m=\u001b[0m\u001b[0mmethod\u001b[0m\u001b[0;34m,\u001b[0m \u001b[0mtolerance\u001b[0m\u001b[0;34m=\u001b[0m\u001b[0mtolerance\u001b[0m\u001b[0;34m)\u001b[0m\u001b[0;34m\u001b[0m\u001b[0;34m\u001b[0m\u001b[0m\n\u001b[1;32m   2901\u001b[0m         \u001b[0;32mif\u001b[0m \u001b[0mindexer\u001b[0m\u001b[0;34m.\u001b[0m\u001b[0mndim\u001b[0m \u001b[0;34m>\u001b[0m \u001b[0;36m1\u001b[0m \u001b[0;32mor\u001b[0m \u001b[0mindexer\u001b[0m\u001b[0;34m.\u001b[0m\u001b[0msize\u001b[0m \u001b[0;34m>\u001b[0m \u001b[0;36m1\u001b[0m\u001b[0;34m:\u001b[0m\u001b[0;34m\u001b[0m\u001b[0;34m\u001b[0m\u001b[0m\n",
      "\u001b[0;32mpandas/_libs/index.pyx\u001b[0m in \u001b[0;36mpandas._libs.index.IndexEngine.get_loc\u001b[0;34m()\u001b[0m\n",
      "\u001b[0;32mpandas/_libs/index.pyx\u001b[0m in \u001b[0;36mpandas._libs.index.IndexEngine.get_loc\u001b[0;34m()\u001b[0m\n",
      "\u001b[0;32mpandas/_libs/hashtable_class_helper.pxi\u001b[0m in \u001b[0;36mpandas._libs.hashtable.PyObjectHashTable.get_item\u001b[0;34m()\u001b[0m\n",
      "\u001b[0;32mpandas/_libs/hashtable_class_helper.pxi\u001b[0m in \u001b[0;36mpandas._libs.hashtable.PyObjectHashTable.get_item\u001b[0;34m()\u001b[0m\n",
      "\u001b[0;31mKeyError\u001b[0m: 'NOT_NOISE'"
     ]
    }
   ],
   "source": [
    "# выделяем NOT_NOISE в отдельный датафрейм и удаляем из исходного\n",
    "y1_n = pd.DataFrame(X1_N['NOT_NOISE'], columns=['NOT_NOISE'])\n",
    "X1_N = X1_N.drop(['NOT_NOISE'], axis=1)\n",
    "X1_N_PCA = X1_N_PCA.drop(['NOT_NOISE'], axis=1)\n",
    "X1_N_COR = X1_N_COR.drop(['NOT_NOISE'], axis=1)"
   ]
  },
  {
   "cell_type": "code",
   "execution_count": 41,
   "metadata": {},
   "outputs": [],
   "source": [
    "# создаем из всех датафреймов тренировочную и тестовую выборку\n",
    "x_n_train, x_n_test, y_n_train, y_n_test = train_test_split(X1_N, y1_n, test_size=0.30, random_state = 123)\n",
    "x_n_pca_train, x_n_pca_test, y_n_train, y_n_test = train_test_split(X1_N_PCA, y1_n, test_size=0.30, random_state = 123)\n",
    "x_n_cor_train, x_n_cor_test, y_n_train, y_n_test = train_test_split(X1_N_COR, y1_n, test_size=0.30, random_state = 123)"
   ]
  },
  {
   "cell_type": "markdown",
   "metadata": {},
   "source": [
    "# (1.7) Logit"
   ]
  },
  {
   "cell_type": "code",
   "execution_count": 131,
   "metadata": {},
   "outputs": [],
   "source": [
    "from sklearn import linear_model as slm, datasets, preprocessing\n",
    "logit = slm.LogisticRegressionCV(cv = 5, n_jobs = -1)\n",
    "roc_auc_log = []"
   ]
  },
  {
   "cell_type": "markdown",
   "metadata": {},
   "source": [
    "### X1_N"
   ]
  },
  {
   "cell_type": "code",
   "execution_count": 132,
   "metadata": {},
   "outputs": [],
   "source": [
    "# логит нельзя считать на данных, где между переменными есть корреляция\n",
    "roc_auc_log.append(0)"
   ]
  },
  {
   "cell_type": "markdown",
   "metadata": {},
   "source": [
    "### X1_N_PCA"
   ]
  },
  {
   "cell_type": "code",
   "execution_count": 133,
   "metadata": {},
   "outputs": [
    {
     "name": "stderr",
     "output_type": "stream",
     "text": [
      "/Users/ekaterina/opt/anaconda3/lib/python3.7/site-packages/sklearn/utils/validation.py:724: DataConversionWarning: A column-vector y was passed when a 1d array was expected. Please change the shape of y to (n_samples, ), for example using ravel().\n",
      "  y = column_or_1d(y, warn=True)\n"
     ]
    },
    {
     "name": "stdout",
     "output_type": "stream",
     "text": [
      "0.6031256497331763\n",
      "CPU times: user 64.3 ms, sys: 5.57 ms, total: 69.9 ms\n",
      "Wall time: 256 ms\n"
     ]
    }
   ],
   "source": [
    "%%time\n",
    "logit.fit(x_n_pca_train, y_n_train)\n",
    "predicted_prob = logit.predict_proba(x_n_pca_test)\n",
    "roc_auc = metrics.roc_auc_score(y_n_test, logit.predict(x_n_pca_test))\n",
    "roc_auc_log.append(roc_auc)\n",
    "print(roc_auc)\n",
    "\n",
    "predicted_results = []\n",
    "for a in range(len(predicted_prob)):\n",
    "    \n",
    "    predicted_results.append(predicted_prob[a][1])\n",
    "    \n",
    "index_list = x_n_pca_test.index.tolist()\n",
    "x1_log = pd.DataFrame(pd.Series(data=predicted_results, index=index_list))\n",
    "\n",
    "# записываем вероятность попадания в класс 1 в новый датафрейм\n",
    "x1_log = pd.DataFrame(pd.Series(data=predicted_results, index=index_list))\n",
    "x1_log = x1_log.rename(columns = {0:'PROB_N_PCA_LOG_CV'})"
   ]
  },
  {
   "cell_type": "markdown",
   "metadata": {},
   "source": [
    "### X1_N_COR"
   ]
  },
  {
   "cell_type": "code",
   "execution_count": 134,
   "metadata": {},
   "outputs": [
    {
     "name": "stderr",
     "output_type": "stream",
     "text": [
      "/Users/ekaterina/opt/anaconda3/lib/python3.7/site-packages/sklearn/utils/validation.py:724: DataConversionWarning: A column-vector y was passed when a 1d array was expected. Please change the shape of y to (n_samples, ), for example using ravel().\n",
      "  y = column_or_1d(y, warn=True)\n"
     ]
    },
    {
     "name": "stdout",
     "output_type": "stream",
     "text": [
      "0.5305576732044263\n",
      "CPU times: user 48.2 ms, sys: 5.31 ms, total: 53.5 ms\n",
      "Wall time: 332 ms\n"
     ]
    }
   ],
   "source": [
    "%%time\n",
    "logit.fit(x_n_cor_train, y_n_train)\n",
    "\n",
    "predicted_prob = logit.predict_proba(x_n_cor_test)\n",
    "roc_auc = metrics.roc_auc_score(y_n_test, logit.predict(x_n_cor_test))\n",
    "roc_auc_log.append(roc_auc)\n",
    "print(roc_auc)\n",
    "\n",
    "predicted_results = []\n",
    "for a in range(len(predicted_prob)):\n",
    "    \n",
    "    predicted_results.append(predicted_prob[a][1])\n",
    "    \n",
    "index_list = x_n_cor_test.index.tolist()\n",
    "# записываем вероятность попадания в класс 1 в новый датафрейм\n",
    "x1_log_cor = pd.DataFrame(pd.Series(data=predicted_results, index=index_list))\n",
    "x1_log_cor = x1_log_cor.rename(columns = {0:'PROB_N_COR_LOG_CV'})\n",
    "\n",
    "x1_log = pd.merge(x1_log, x1_log_cor, how='left', left_index=True, right_index=True)"
   ]
  },
  {
   "cell_type": "code",
   "execution_count": 139,
   "metadata": {},
   "outputs": [
    {
     "data": {
      "text/html": [
       "<div>\n",
       "<style scoped>\n",
       "    .dataframe tbody tr th:only-of-type {\n",
       "        vertical-align: middle;\n",
       "    }\n",
       "\n",
       "    .dataframe tbody tr th {\n",
       "        vertical-align: top;\n",
       "    }\n",
       "\n",
       "    .dataframe thead th {\n",
       "        text-align: right;\n",
       "    }\n",
       "</style>\n",
       "<table border=\"1\" class=\"dataframe\">\n",
       "  <thead>\n",
       "    <tr style=\"text-align: right;\">\n",
       "      <th></th>\n",
       "      <th>LOGIT</th>\n",
       "    </tr>\n",
       "  </thead>\n",
       "  <tbody>\n",
       "    <tr>\n",
       "      <td>X1_N_CV</td>\n",
       "      <td>0.000000</td>\n",
       "    </tr>\n",
       "    <tr>\n",
       "      <td>X1_N_PCA_CV</td>\n",
       "      <td>0.603126</td>\n",
       "    </tr>\n",
       "    <tr>\n",
       "      <td>X1_N_COR_CV</td>\n",
       "      <td>0.530558</td>\n",
       "    </tr>\n",
       "  </tbody>\n",
       "</table>\n",
       "</div>"
      ],
      "text/plain": [
       "                LOGIT\n",
       "X1_N_CV      0.000000\n",
       "X1_N_PCA_CV  0.603126\n",
       "X1_N_COR_CV  0.530558"
      ]
     },
     "execution_count": 139,
     "metadata": {},
     "output_type": "execute_result"
    }
   ],
   "source": [
    "roc_auc_log1 = pd.DataFrame(roc_auc_log, index=['X1_N_CV','X1_N_PCA_CV','X1_N_COR_CV'])\n",
    "roc_auc_log1 = roc_auc_log1.rename(columns = {0:'LOGIT'})\n",
    "roc_auc_log1"
   ]
  },
  {
   "cell_type": "markdown",
   "metadata": {},
   "source": [
    "# (1.8) Random Forest"
   ]
  },
  {
   "cell_type": "code",
   "execution_count": 43,
   "metadata": {},
   "outputs": [],
   "source": [
    "forest = RandomForestClassifier()"
   ]
  },
  {
   "cell_type": "code",
   "execution_count": 48,
   "metadata": {},
   "outputs": [],
   "source": [
    "roc_auc_rf = []"
   ]
  },
  {
   "cell_type": "markdown",
   "metadata": {},
   "source": [
    "### X1_N"
   ]
  },
  {
   "cell_type": "markdown",
   "metadata": {},
   "source": [
    "#### Строим деревья с перебором параметров и кросс-валидацией"
   ]
  },
  {
   "cell_type": "code",
   "execution_count": 49,
   "metadata": {},
   "outputs": [
    {
     "name": "stdout",
     "output_type": "stream",
     "text": [
      "Fitting 5 folds for each of 1 candidates, totalling 5 fits\n"
     ]
    },
    {
     "name": "stderr",
     "output_type": "stream",
     "text": [
      "[Parallel(n_jobs=-1)]: Using backend LokyBackend with 4 concurrent workers.\n",
      "[Parallel(n_jobs=-1)]: Done   5 out of   5 | elapsed:    3.2s finished\n",
      "/Users/ekaterina/opt/anaconda3/lib/python3.7/site-packages/sklearn/model_selection/_search.py:715: DataConversionWarning: A column-vector y was passed when a 1d array was expected. Please change the shape of y to (n_samples,), for example using ravel().\n",
      "  self.best_estimator_.fit(X, y, **fit_params)\n"
     ]
    },
    {
     "name": "stdout",
     "output_type": "stream",
     "text": [
      "0.7119516251992515\n",
      "{'bootstrap': False, 'max_depth': 15, 'max_features': 'sqrt', 'min_samples_leaf': 28, 'min_samples_split': 50, 'n_estimators': 200}\n",
      "CPU times: user 1.31 s, sys: 18.4 ms, total: 1.33 s\n",
      "Wall time: 4.52 s\n"
     ]
    }
   ],
   "source": [
    "%%time\n",
    "# перебор параметров\n",
    "'''parameters = {'n_estimators': [200,400,500],\n",
    "              'min_samples_leaf': [1, 3, 5, 7], \n",
    "              'max_depth': [5,10,15,20],\n",
    "              'max_features': ['sqrt'],\n",
    "              'min_samples_split': [18, 34, 44, 50],\n",
    "              'min_samples_leaf': [12,28,50],\n",
    "              'bootstrap': [True, False]\n",
    "             }'''\n",
    "\n",
    "# результаты поиска по сетке, для ускорения можно использовать сразу их\n",
    "parameters = {'bootstrap': [False],\n",
    "              'max_depth': [15], \n",
    "              'max_features': ['sqrt'], \n",
    "              'min_samples_leaf': [28],\n",
    "              'min_samples_split': [50],\n",
    "              'n_estimators': [200]}\n",
    "\n",
    "forest_best = GridSearchCV(forest, parameters, cv = 5, verbose = 1, n_jobs=-1)\n",
    "forest_best.fit(x_n_train, y_n_train)\n",
    "predicted_prob = forest_best.predict_proba(x_n_test)\n",
    "roc_auc = metrics.roc_auc_score(y_n_test, forest_best.predict(x_n_test))\n",
    "x1_n_rf_best_params = forest_best.best_params_\n",
    "print(roc_auc)\n",
    "print(forest_best.best_params_)\n",
    "\n",
    "roc_auc_rf.append(roc_auc)\n",
    "\n",
    "predicted_results = []\n",
    "\n",
    "for a in range(len(predicted_prob)):\n",
    "    \n",
    "    predicted_results.append(predicted_prob[a][1])\n",
    "    \n",
    "index_list = x_n_test.index.tolist()\n",
    "# записываем вероятность попадания в класс 1 в новый датафрейм\n",
    "x1_rf = pd.DataFrame(pd.Series(data=predicted_results, index=index_list))\n",
    "x1_rf = x1_rf.rename(columns = {0:'PROB_N_RF_CV'})"
   ]
  },
  {
   "cell_type": "markdown",
   "metadata": {},
   "source": [
    "### X1_N_PCA"
   ]
  },
  {
   "cell_type": "markdown",
   "metadata": {},
   "source": [
    "#### Строим деревья с перебором параметров и кросс-валидацией"
   ]
  },
  {
   "cell_type": "code",
   "execution_count": 50,
   "metadata": {},
   "outputs": [
    {
     "name": "stdout",
     "output_type": "stream",
     "text": [
      "Fitting 5 folds for each of 288 candidates, totalling 1440 fits\n"
     ]
    },
    {
     "name": "stderr",
     "output_type": "stream",
     "text": [
      "[Parallel(n_jobs=-1)]: Using backend LokyBackend with 4 concurrent workers.\n",
      "[Parallel(n_jobs=-1)]: Done  42 tasks      | elapsed:   36.2s\n",
      "[Parallel(n_jobs=-1)]: Done 192 tasks      | elapsed:  2.6min\n",
      "[Parallel(n_jobs=-1)]: Done 442 tasks      | elapsed:  6.0min\n",
      "[Parallel(n_jobs=-1)]: Done 792 tasks      | elapsed: 10.7min\n",
      "[Parallel(n_jobs=-1)]: Done 1242 tasks      | elapsed: 17.3min\n",
      "[Parallel(n_jobs=-1)]: Done 1440 out of 1440 | elapsed: 23.8min finished\n",
      "/Users/ekaterina/opt/anaconda3/lib/python3.7/site-packages/sklearn/model_selection/_search.py:715: DataConversionWarning: A column-vector y was passed when a 1d array was expected. Please change the shape of y to (n_samples,), for example using ravel().\n",
      "  self.best_estimator_.fit(X, y, **fit_params)\n"
     ]
    },
    {
     "name": "stdout",
     "output_type": "stream",
     "text": [
      "0.7220470349065539\n",
      "{'bootstrap': False, 'max_depth': 10, 'max_features': 'sqrt', 'min_samples_leaf': 12, 'min_samples_split': 18, 'n_estimators': 400}\n",
      "CPU times: user 12.5 s, sys: 670 ms, total: 13.2 s\n",
      "Wall time: 23min 53s\n"
     ]
    }
   ],
   "source": [
    "%%time\n",
    "# перебор параметров\n",
    "parameters = {'n_estimators': [200,400,500],\n",
    "              'min_samples_leaf': [1, 3, 5, 7], \n",
    "              'max_depth': [5,10,15,20],\n",
    "              'max_features': ['sqrt'],\n",
    "              'min_samples_split': [18, 34, 44, 50],\n",
    "              'min_samples_leaf': [12,28,50],\n",
    "              'bootstrap': [True, False]\n",
    "             }\n",
    "\n",
    "# результаты поиска по сетке, для ускорения можно использовать сразу их\n",
    "'''parameters = {'bootstrap': False, \n",
    "              'max_depth': 10, \n",
    "              'max_features': 'sqrt', \n",
    "              'min_samples_leaf': 12, \n",
    "              'min_samples_split': 18, \n",
    "              'n_estimators': 400}'''\n",
    "\n",
    "forest_best = GridSearchCV(forest, parameters, cv = 5, verbose = 1, n_jobs=-1)\n",
    "forest_best.fit(x_n_pca_train, y_n_train)\n",
    "predicted_prob = forest_best.predict_proba(x_n_pca_test)\n",
    "roc_auc = metrics.roc_auc_score(y_n_test, forest_best.predict(x_n_pca_test))\n",
    "x1_n_pca_rf_best_params = forest_best.best_params_\n",
    "print(roc_auc)\n",
    "print(forest_best.best_params_)\n",
    "\n",
    "roc_auc_rf.append(roc_auc)\n",
    "\n",
    "predicted_results = []\n",
    "\n",
    "for a in range(len(predicted_prob)):\n",
    "    \n",
    "    predicted_results.append(predicted_prob[a][1])\n",
    "    \n",
    "index_list = x_n_pca_test.index.tolist()\n",
    "# записываем вероятность попадания в класс 1 в новый датафрейм\n",
    "x1_rf_cv = pd.DataFrame(pd.Series(data=predicted_results, index=index_list))\n",
    "x1_rf_cv = x1_rf_cv.rename(columns = {0:'PROB_N_PCA_RF_CV'})\n",
    "# сливаем с предыдущим результатом\n",
    "x1_rf = pd.merge(x1_rf, x1_rf_cv, how='left', left_index=True, right_index=True)"
   ]
  },
  {
   "cell_type": "markdown",
   "metadata": {},
   "source": [
    "### X1_N_COR"
   ]
  },
  {
   "cell_type": "markdown",
   "metadata": {},
   "source": [
    "#### Строим деревья с перебором параметров и кросс-валидацией"
   ]
  },
  {
   "cell_type": "code",
   "execution_count": 51,
   "metadata": {},
   "outputs": [
    {
     "name": "stdout",
     "output_type": "stream",
     "text": [
      "Fitting 5 folds for each of 288 candidates, totalling 1440 fits\n"
     ]
    },
    {
     "name": "stderr",
     "output_type": "stream",
     "text": [
      "[Parallel(n_jobs=-1)]: Using backend LokyBackend with 4 concurrent workers.\n",
      "[Parallel(n_jobs=-1)]: Done  42 tasks      | elapsed:   52.4s\n",
      "[Parallel(n_jobs=-1)]: Done 192 tasks      | elapsed:  3.9min\n",
      "[Parallel(n_jobs=-1)]: Done 442 tasks      | elapsed:  9.6min\n",
      "[Parallel(n_jobs=-1)]: Done 792 tasks      | elapsed: 14.5min\n",
      "[Parallel(n_jobs=-1)]: Done 1242 tasks      | elapsed: 19.9min\n",
      "[Parallel(n_jobs=-1)]: Done 1440 out of 1440 | elapsed: 22.4min finished\n",
      "/Users/ekaterina/opt/anaconda3/lib/python3.7/site-packages/sklearn/model_selection/_search.py:715: DataConversionWarning: A column-vector y was passed when a 1d array was expected. Please change the shape of y to (n_samples,), for example using ravel().\n",
      "  self.best_estimator_.fit(X, y, **fit_params)\n"
     ]
    },
    {
     "name": "stdout",
     "output_type": "stream",
     "text": [
      "0.7326853327788944\n",
      "{'bootstrap': False, 'max_depth': 10, 'max_features': 'sqrt', 'min_samples_leaf': 12, 'min_samples_split': 34, 'n_estimators': 200}\n",
      "CPU times: user 10.3 s, sys: 608 ms, total: 10.9 s\n",
      "Wall time: 22min 27s\n"
     ]
    }
   ],
   "source": [
    "%%time\n",
    "parameters = {'n_estimators': [200,400,500],\n",
    "              'min_samples_leaf': [1, 3, 5, 7], \n",
    "              'max_depth': [5,10,15,20],\n",
    "              'max_features': ['sqrt'],\n",
    "              'min_samples_split': [18, 34, 44, 50],\n",
    "              'min_samples_leaf': [12,28,50],\n",
    "              'bootstrap': [True, False]\n",
    "             }\n",
    "\n",
    "# результаты поиска по сетке, для ускорения можно использовать сразу их\n",
    "parameters = {'bootstrap': [False], \n",
    "              'max_depth': [10], \n",
    "              'max_features': ['sqrt'], \n",
    "              'min_samples_leaf': [12], \n",
    "              'min_samples_split': [34], \n",
    "              'n_estimators': [200]}\n",
    "\n",
    "forest_best = GridSearchCV(forest, parameters, cv = 5, verbose = 1, n_jobs=-1)\n",
    "forest_best.fit(x_n_cor_train, y_n_train)\n",
    "predicted_prob = forest_best.predict_proba(x_n_cor_test)\n",
    "roc_auc = metrics.roc_auc_score(y_n_test, forest_best.predict(x_n_cor_test))\n",
    "x1_n_cor_rf_best_params = forest_best.best_params_\n",
    "print(roc_auc)\n",
    "print(forest_best.best_params_)\n",
    "\n",
    "roc_auc_rf.append(roc_auc)\n",
    "\n",
    "predicted_results = []\n",
    "\n",
    "for a in range(len(predicted_prob)):\n",
    "    \n",
    "    predicted_results.append(predicted_prob[a][1])\n",
    "    \n",
    "index_list = x_n_cor_test.index.tolist()\n",
    "# записываем вероятность попадания в класс 1 в новый датафрейм\n",
    "x1_rf_cv = pd.DataFrame(pd.Series(data=predicted_results, index=index_list))\n",
    "x1_rf_cv = x1_rf_cv.rename(columns = {0:'PROB_N_COR_RF_CV'})\n",
    "# сливаем с предыдущим результатом\n",
    "x1_rf = pd.merge(x1_rf, x1_rf_cv, how='left', left_index=True, right_index=True)"
   ]
  },
  {
   "cell_type": "code",
   "execution_count": 140,
   "metadata": {},
   "outputs": [
    {
     "data": {
      "text/html": [
       "<div>\n",
       "<style scoped>\n",
       "    .dataframe tbody tr th:only-of-type {\n",
       "        vertical-align: middle;\n",
       "    }\n",
       "\n",
       "    .dataframe tbody tr th {\n",
       "        vertical-align: top;\n",
       "    }\n",
       "\n",
       "    .dataframe thead th {\n",
       "        text-align: right;\n",
       "    }\n",
       "</style>\n",
       "<table border=\"1\" class=\"dataframe\">\n",
       "  <thead>\n",
       "    <tr style=\"text-align: right;\">\n",
       "      <th></th>\n",
       "      <th>RANDOM_FOREST</th>\n",
       "    </tr>\n",
       "  </thead>\n",
       "  <tbody>\n",
       "    <tr>\n",
       "      <td>X1_N_CV</td>\n",
       "      <td>0.711952</td>\n",
       "    </tr>\n",
       "    <tr>\n",
       "      <td>X1_N_PCA_CV</td>\n",
       "      <td>0.722047</td>\n",
       "    </tr>\n",
       "    <tr>\n",
       "      <td>X1_N_COR_CV</td>\n",
       "      <td>0.732685</td>\n",
       "    </tr>\n",
       "  </tbody>\n",
       "</table>\n",
       "</div>"
      ],
      "text/plain": [
       "             RANDOM_FOREST\n",
       "X1_N_CV           0.711952\n",
       "X1_N_PCA_CV       0.722047\n",
       "X1_N_COR_CV       0.732685"
      ]
     },
     "execution_count": 140,
     "metadata": {},
     "output_type": "execute_result"
    }
   ],
   "source": [
    "# собираем roc_auc в один датафрейм\n",
    "roc_auc_rf1 = pd.DataFrame(roc_auc_rf, index=['X1_N_CV','X1_N_PCA_CV','X1_N_COR_CV'])\n",
    "roc_auc_rf1 = roc_auc_rf1.rename(columns = {0:'RANDOM_FOREST'})\n",
    "roc_auc_rf1"
   ]
  },
  {
   "cell_type": "code",
   "execution_count": 54,
   "metadata": {},
   "outputs": [
    {
     "data": {
      "text/html": [
       "<div>\n",
       "<style scoped>\n",
       "    .dataframe tbody tr th:only-of-type {\n",
       "        vertical-align: middle;\n",
       "    }\n",
       "\n",
       "    .dataframe tbody tr th {\n",
       "        vertical-align: top;\n",
       "    }\n",
       "\n",
       "    .dataframe thead th {\n",
       "        text-align: right;\n",
       "    }\n",
       "</style>\n",
       "<table border=\"1\" class=\"dataframe\">\n",
       "  <thead>\n",
       "    <tr style=\"text-align: right;\">\n",
       "      <th></th>\n",
       "      <th>NOT_NOISE</th>\n",
       "      <th>PROB_N_RF_CV</th>\n",
       "      <th>PROB_N_PCA_RF_CV</th>\n",
       "      <th>PROB_N_COR_RF_CV</th>\n",
       "    </tr>\n",
       "  </thead>\n",
       "  <tbody>\n",
       "    <tr>\n",
       "      <td>4437</td>\n",
       "      <td>1</td>\n",
       "      <td>0.770944</td>\n",
       "      <td>0.880169</td>\n",
       "      <td>0.864014</td>\n",
       "    </tr>\n",
       "    <tr>\n",
       "      <td>1109</td>\n",
       "      <td>0</td>\n",
       "      <td>0.000000</td>\n",
       "      <td>0.000488</td>\n",
       "      <td>0.000047</td>\n",
       "    </tr>\n",
       "    <tr>\n",
       "      <td>1388</td>\n",
       "      <td>0</td>\n",
       "      <td>0.000025</td>\n",
       "      <td>0.000151</td>\n",
       "      <td>0.000148</td>\n",
       "    </tr>\n",
       "    <tr>\n",
       "      <td>5610</td>\n",
       "      <td>0</td>\n",
       "      <td>0.000000</td>\n",
       "      <td>0.000076</td>\n",
       "      <td>0.000228</td>\n",
       "    </tr>\n",
       "    <tr>\n",
       "      <td>5050</td>\n",
       "      <td>0</td>\n",
       "      <td>0.001372</td>\n",
       "      <td>0.000594</td>\n",
       "      <td>0.002387</td>\n",
       "    </tr>\n",
       "    <tr>\n",
       "      <td>...</td>\n",
       "      <td>...</td>\n",
       "      <td>...</td>\n",
       "      <td>...</td>\n",
       "      <td>...</td>\n",
       "    </tr>\n",
       "    <tr>\n",
       "      <td>4251</td>\n",
       "      <td>0</td>\n",
       "      <td>0.025292</td>\n",
       "      <td>0.053909</td>\n",
       "      <td>0.049389</td>\n",
       "    </tr>\n",
       "    <tr>\n",
       "      <td>5563</td>\n",
       "      <td>0</td>\n",
       "      <td>0.029727</td>\n",
       "      <td>0.051441</td>\n",
       "      <td>0.062129</td>\n",
       "    </tr>\n",
       "    <tr>\n",
       "      <td>5425</td>\n",
       "      <td>0</td>\n",
       "      <td>0.143213</td>\n",
       "      <td>0.045739</td>\n",
       "      <td>0.049811</td>\n",
       "    </tr>\n",
       "    <tr>\n",
       "      <td>5386</td>\n",
       "      <td>0</td>\n",
       "      <td>0.417996</td>\n",
       "      <td>0.401885</td>\n",
       "      <td>0.419331</td>\n",
       "    </tr>\n",
       "    <tr>\n",
       "      <td>466</td>\n",
       "      <td>0</td>\n",
       "      <td>0.000172</td>\n",
       "      <td>0.000589</td>\n",
       "      <td>0.001154</td>\n",
       "    </tr>\n",
       "  </tbody>\n",
       "</table>\n",
       "<p>1889 rows × 4 columns</p>\n",
       "</div>"
      ],
      "text/plain": [
       "      NOT_NOISE  PROB_N_RF_CV  PROB_N_PCA_RF_CV  PROB_N_COR_RF_CV\n",
       "4437          1      0.770944          0.880169          0.864014\n",
       "1109          0      0.000000          0.000488          0.000047\n",
       "1388          0      0.000025          0.000151          0.000148\n",
       "5610          0      0.000000          0.000076          0.000228\n",
       "5050          0      0.001372          0.000594          0.002387\n",
       "...         ...           ...               ...               ...\n",
       "4251          0      0.025292          0.053909          0.049389\n",
       "5563          0      0.029727          0.051441          0.062129\n",
       "5425          0      0.143213          0.045739          0.049811\n",
       "5386          0      0.417996          0.401885          0.419331\n",
       "466           0      0.000172          0.000589          0.001154\n",
       "\n",
       "[1889 rows x 4 columns]"
      ]
     },
     "execution_count": 54,
     "metadata": {},
     "output_type": "execute_result"
    }
   ],
   "source": [
    "# добавляем первый столбец с истинными значениями\n",
    "x1_rf = pd.merge(y_n_test, x1_rf, how='left', left_index=True, right_index=True)\n",
    "x1_rf"
   ]
  },
  {
   "cell_type": "markdown",
   "metadata": {},
   "source": [
    "# (1.9) Градиентный бустинг"
   ]
  },
  {
   "cell_type": "code",
   "execution_count": 56,
   "metadata": {},
   "outputs": [],
   "source": [
    "from sklearn.ensemble import GradientBoostingClassifier\n",
    "boosting = GradientBoostingClassifier(random_state=123)\n",
    "roc_auc_bo = []"
   ]
  },
  {
   "cell_type": "markdown",
   "metadata": {},
   "source": [
    "### X1_N"
   ]
  },
  {
   "cell_type": "markdown",
   "metadata": {},
   "source": [
    "#### Строим деревья с перебором параметров и кросс-валидацией"
   ]
  },
  {
   "cell_type": "code",
   "execution_count": 57,
   "metadata": {},
   "outputs": [
    {
     "name": "stdout",
     "output_type": "stream",
     "text": [
      "Fitting 5 folds for each of 1 candidates, totalling 5 fits\n"
     ]
    },
    {
     "name": "stderr",
     "output_type": "stream",
     "text": [
      "[Parallel(n_jobs=-1)]: Using backend LokyBackend with 4 concurrent workers.\n",
      "[Parallel(n_jobs=-1)]: Done   5 out of   5 | elapsed:    1.5s finished\n",
      "/Users/ekaterina/opt/anaconda3/lib/python3.7/site-packages/sklearn/ensemble/gradient_boosting.py:1450: DataConversionWarning: A column-vector y was passed when a 1d array was expected. Please change the shape of y to (n_samples, ), for example using ravel().\n",
      "  y = column_or_1d(y, warn=True)\n"
     ]
    },
    {
     "name": "stdout",
     "output_type": "stream",
     "text": [
      "0.8049818652251254\n",
      "{'max_depth': 5, 'max_features': 'sqrt', 'min_samples_leaf': 12, 'min_samples_split': 50, 'n_estimators': 200}\n",
      "CPU times: user 686 ms, sys: 24.2 ms, total: 710 ms\n",
      "Wall time: 2.19 s\n"
     ]
    }
   ],
   "source": [
    "%%time\n",
    "# перебор параметров\n",
    "'''parameters = {'n_estimators': [100, 150, 200, 300], \n",
    "              'learning_rate': [0.1,0.5,1], \n",
    "              'max_depth': [3,5,7,10], \n",
    "              'min_samples_split': [2,5,7,10,15,20], \n",
    "              'min_samples_leaf': [1,2,5,7,10]}'''\n",
    "\n",
    "# результаты поиска по сетке, для ускорения можно использовать сразу их\n",
    "parameters = {'max_depth': [5], \n",
    "              'max_features': ['sqrt'], \n",
    "              'min_samples_leaf': [12], \n",
    "              'min_samples_split': [50], \n",
    "              'n_estimators': [200]}\n",
    "\n",
    "boosting_best = GridSearchCV(boosting, parameters, cv = 5, verbose = 1, n_jobs=-1)\n",
    "boosting_best.fit(x_n_train, y_n_train)\n",
    "predicted_prob = boosting_best.predict_proba(x_n_test)\n",
    "roc_auc = metrics.roc_auc_score(y_n_test, boosting_best.predict(x_n_test))\n",
    "x1_n_rf_best_params = boosting_best.best_params_\n",
    "print(roc_auc)\n",
    "print(boosting_best.best_params_)\n",
    "\n",
    "roc_auc_bo.append(roc_auc)\n",
    "\n",
    "predicted_results = []\n",
    "\n",
    "for a in range(len(predicted_prob)):\n",
    "    \n",
    "    predicted_results.append(predicted_prob[a][1])\n",
    "    \n",
    "index_list = x_n_test.index.tolist()\n",
    "# записываем вероятность попадания в класс 1 в новый датафрейм\n",
    "x1_bo = pd.DataFrame(pd.Series(data=predicted_results, index=index_list))\n",
    "x1_bo = x1_bo.rename(columns = {0:'PROB_N_BO_CV'})"
   ]
  },
  {
   "cell_type": "markdown",
   "metadata": {},
   "source": [
    "### X1_N_PCA"
   ]
  },
  {
   "cell_type": "markdown",
   "metadata": {},
   "source": [
    "#### Строим деревья с перебором параметров и кросс-валидацией"
   ]
  },
  {
   "cell_type": "code",
   "execution_count": 58,
   "metadata": {},
   "outputs": [
    {
     "name": "stdout",
     "output_type": "stream",
     "text": [
      "Fitting 5 folds for each of 1440 candidates, totalling 7200 fits\n"
     ]
    },
    {
     "name": "stderr",
     "output_type": "stream",
     "text": [
      "[Parallel(n_jobs=-1)]: Using backend LokyBackend with 4 concurrent workers.\n",
      "[Parallel(n_jobs=-1)]: Done  42 tasks      | elapsed:    8.5s\n",
      "[Parallel(n_jobs=-1)]: Done 192 tasks      | elapsed:   40.5s\n",
      "[Parallel(n_jobs=-1)]: Done 442 tasks      | elapsed:  1.5min\n",
      "[Parallel(n_jobs=-1)]: Done 792 tasks      | elapsed:  3.2min\n",
      "[Parallel(n_jobs=-1)]: Done 1242 tasks      | elapsed:  6.1min\n",
      "[Parallel(n_jobs=-1)]: Done 1792 tasks      | elapsed: 11.0min\n",
      "[Parallel(n_jobs=-1)]: Done 2442 tasks      | elapsed: 17.4min\n",
      "[Parallel(n_jobs=-1)]: Done 3192 tasks      | elapsed: 20.5min\n",
      "[Parallel(n_jobs=-1)]: Done 4042 tasks      | elapsed: 24.5min\n",
      "[Parallel(n_jobs=-1)]: Done 4992 tasks      | elapsed: 28.4min\n",
      "[Parallel(n_jobs=-1)]: Done 6042 tasks      | elapsed: 33.4min\n",
      "[Parallel(n_jobs=-1)]: Done 7192 tasks      | elapsed: 41.8min\n",
      "[Parallel(n_jobs=-1)]: Done 7200 out of 7200 | elapsed: 41.9min finished\n",
      "/Users/ekaterina/opt/anaconda3/lib/python3.7/site-packages/sklearn/ensemble/gradient_boosting.py:1450: DataConversionWarning: A column-vector y was passed when a 1d array was expected. Please change the shape of y to (n_samples, ), for example using ravel().\n",
      "  y = column_or_1d(y, warn=True)\n"
     ]
    },
    {
     "name": "stdout",
     "output_type": "stream",
     "text": [
      "0.8047104211426064\n",
      "{'learning_rate': 0.1, 'max_depth': 5, 'min_samples_leaf': 5, 'min_samples_split': 20, 'n_estimators': 200}\n",
      "CPU times: user 43.1 s, sys: 2.84 s, total: 45.9 s\n",
      "Wall time: 41min 56s\n"
     ]
    }
   ],
   "source": [
    "%%time\n",
    "# перебор параметров\n",
    "parameters = {'n_estimators': [100, 150, 200, 300], \n",
    "              'learning_rate': [0.1,0.5,1], \n",
    "              'max_depth': [3,5,7,10], \n",
    "              'min_samples_split': [2,5,7,10,15,20], \n",
    "              'min_samples_leaf': [1,2,5,7,10]}\n",
    "\n",
    "'''# результаты поиска по сетке, для ускорения можно использовать сразу их\n",
    "parameters = {'learning_rate': [0.1], \n",
    "              'max_depth': [5], \n",
    "              'min_samples_leaf': [5], \n",
    "              'min_samples_split': [20], \n",
    "              'n_estimators': [200]}'''\n",
    "\n",
    "boosting_best = GridSearchCV(boosting, parameters, cv = 5, verbose = 1, n_jobs=-1)\n",
    "boosting_best.fit(x_n_pca_train, y_n_train)\n",
    "predicted_prob = boosting_best.predict_proba(x_n_pca_test)\n",
    "roc_auc = metrics.roc_auc_score(y_n_test, boosting_best.predict(x_n_pca_test))\n",
    "x1_n_pca_rf_best_params = boosting_best.best_params_\n",
    "print(roc_auc)\n",
    "print(boosting_best.best_params_)\n",
    "\n",
    "roc_auc_bo.append(roc_auc)\n",
    "\n",
    "predicted_results = []\n",
    "\n",
    "for a in range(len(predicted_prob)):\n",
    "    \n",
    "    predicted_results.append(predicted_prob[a][1])\n",
    "    \n",
    "index_list = x_n_pca_test.index.tolist()\n",
    "# записываем вероятность попадания в класс 1 в новый датафрейм\n",
    "x1_bo_cv = pd.DataFrame(pd.Series(data=predicted_results, index=index_list))\n",
    "x1_bo_cv = x1_rf_cv.rename(columns = {0:'PROB_N_PCA_BO_CV'})\n",
    "# сливаем с предыдущим результатом\n",
    "x1_bo = pd.merge(x1_bo, x1_bo_cv, how='left', left_index=True, right_index=True)"
   ]
  },
  {
   "cell_type": "markdown",
   "metadata": {},
   "source": [
    "### X1_N_COR"
   ]
  },
  {
   "cell_type": "markdown",
   "metadata": {},
   "source": [
    "#### Строим деревья с перебором параметров и кросс-валидацией"
   ]
  },
  {
   "cell_type": "code",
   "execution_count": 62,
   "metadata": {},
   "outputs": [
    {
     "name": "stdout",
     "output_type": "stream",
     "text": [
      "Fitting 5 folds for each of 1440 candidates, totalling 7200 fits\n"
     ]
    },
    {
     "name": "stderr",
     "output_type": "stream",
     "text": [
      "[Parallel(n_jobs=-1)]: Using backend LokyBackend with 4 concurrent workers.\n",
      "[Parallel(n_jobs=-1)]: Done  42 tasks      | elapsed:    9.4s\n",
      "[Parallel(n_jobs=-1)]: Done 192 tasks      | elapsed:   44.0s\n",
      "[Parallel(n_jobs=-1)]: Done 442 tasks      | elapsed:  1.5min\n",
      "[Parallel(n_jobs=-1)]: Done 792 tasks      | elapsed:  3.2min\n",
      "[Parallel(n_jobs=-1)]: Done 1242 tasks      | elapsed:  6.3min\n",
      "[Parallel(n_jobs=-1)]: Done 1792 tasks      | elapsed: 10.8min\n",
      "[Parallel(n_jobs=-1)]: Done 2442 tasks      | elapsed: 16.7min\n",
      "[Parallel(n_jobs=-1)]: Done 3192 tasks      | elapsed: 19.6min\n",
      "[Parallel(n_jobs=-1)]: Done 4042 tasks      | elapsed: 23.8min\n",
      "[Parallel(n_jobs=-1)]: Done 4992 tasks      | elapsed: 27.5min\n",
      "[Parallel(n_jobs=-1)]: Done 6042 tasks      | elapsed: 32.7min\n",
      "[Parallel(n_jobs=-1)]: Done 7192 tasks      | elapsed: 43.9min\n",
      "[Parallel(n_jobs=-1)]: Done 7200 out of 7200 | elapsed: 44.0min finished\n",
      "/Users/ekaterina/opt/anaconda3/lib/python3.7/site-packages/sklearn/ensemble/gradient_boosting.py:1450: DataConversionWarning: A column-vector y was passed when a 1d array was expected. Please change the shape of y to (n_samples, ), for example using ravel().\n",
      "  y = column_or_1d(y, warn=True)\n"
     ]
    },
    {
     "name": "stdout",
     "output_type": "stream",
     "text": [
      "0.7845196017280015\n",
      "{'learning_rate': 0.1, 'max_depth': 3, 'min_samples_leaf': 5, 'min_samples_split': 15, 'n_estimators': 300}\n",
      "CPU times: user 46.1 s, sys: 3.16 s, total: 49.2 s\n",
      "Wall time: 44min 2s\n"
     ]
    }
   ],
   "source": [
    "%%time\n",
    "parameters = {'n_estimators': [100, 150, 200, 300], \n",
    "              'learning_rate': [0.1,0.5,1], \n",
    "              'max_depth': [3,5,7,10], \n",
    "              'min_samples_split': [2,5,7,10,15,20], \n",
    "              'min_samples_leaf': [1,2,5,7,10]}\n",
    "\n",
    "'''# результаты поиска по сетке, для ускорения можно использовать сразу их\n",
    "parameters = {'learning_rate': 0.1, \n",
    "              'max_depth': 3, \n",
    "              'min_samples_leaf': 5, \n",
    "              'min_samples_split': 15, \n",
    "              'n_estimators': 300}\n",
    "'''\n",
    "boosting_best = GridSearchCV(boosting, parameters, cv = 5, verbose = 1, n_jobs=-1)\n",
    "boosting_best.fit(x_n_cor_train, y_n_train)\n",
    "predicted_prob = boosting_best.predict_proba(x_n_cor_test)\n",
    "roc_auc = metrics.roc_auc_score(y_n_test, boosting_best.predict(x_n_cor_test))\n",
    "x1_n_cor_rf_best_params = boosting_best.best_params_\n",
    "print(roc_auc)\n",
    "print(boosting_best.best_params_)\n",
    "\n",
    "roc_auc_bo.append(roc_auc)\n",
    "\n",
    "predicted_results = []\n",
    "\n",
    "for a in range(len(predicted_prob)):\n",
    "    \n",
    "    predicted_results.append(predicted_prob[a][1])\n",
    "    \n",
    "index_list = x_n_cor_test.index.tolist()\n",
    "# записываем вероятность попадания в класс 1 в новый датафрейм\n",
    "x1_bo_cv = pd.DataFrame(pd.Series(data=predicted_results, index=index_list))\n",
    "x1_bo_cv = x1_bo_cv.rename(columns = {0:'PROB_N_COR_BO_CV'})\n",
    "# сливаем с предыдущим результатом\n",
    "x1_bo = pd.merge(x1_bo, x1_bo_cv, how='left', left_index=True, right_index=True)"
   ]
  },
  {
   "cell_type": "code",
   "execution_count": 141,
   "metadata": {},
   "outputs": [
    {
     "data": {
      "text/html": [
       "<div>\n",
       "<style scoped>\n",
       "    .dataframe tbody tr th:only-of-type {\n",
       "        vertical-align: middle;\n",
       "    }\n",
       "\n",
       "    .dataframe tbody tr th {\n",
       "        vertical-align: top;\n",
       "    }\n",
       "\n",
       "    .dataframe thead th {\n",
       "        text-align: right;\n",
       "    }\n",
       "</style>\n",
       "<table border=\"1\" class=\"dataframe\">\n",
       "  <thead>\n",
       "    <tr style=\"text-align: right;\">\n",
       "      <th></th>\n",
       "      <th>RANDOM_FOREST</th>\n",
       "      <th>BOOSTING</th>\n",
       "      <th>LOGIT</th>\n",
       "    </tr>\n",
       "  </thead>\n",
       "  <tbody>\n",
       "    <tr>\n",
       "      <td>X1_N_CV</td>\n",
       "      <td>0.711952</td>\n",
       "      <td>0.804982</td>\n",
       "      <td>0.000000</td>\n",
       "    </tr>\n",
       "    <tr>\n",
       "      <td>X1_N_PCA_CV</td>\n",
       "      <td>0.722047</td>\n",
       "      <td>0.804710</td>\n",
       "      <td>0.603126</td>\n",
       "    </tr>\n",
       "    <tr>\n",
       "      <td>X1_N_COR_CV</td>\n",
       "      <td>0.732685</td>\n",
       "      <td>0.784520</td>\n",
       "      <td>0.530558</td>\n",
       "    </tr>\n",
       "  </tbody>\n",
       "</table>\n",
       "</div>"
      ],
      "text/plain": [
       "             RANDOM_FOREST  BOOSTING     LOGIT\n",
       "X1_N_CV           0.711952  0.804982  0.000000\n",
       "X1_N_PCA_CV       0.722047  0.804710  0.603126\n",
       "X1_N_COR_CV       0.732685  0.784520  0.530558"
      ]
     },
     "execution_count": 141,
     "metadata": {},
     "output_type": "execute_result"
    }
   ],
   "source": [
    "# собираем roc_auc в один датафрейм\n",
    "roc_auc_bo1 = pd.DataFrame(roc_auc_bo, index=['X1_N_CV','X1_N_PCA_CV','X1_N_COR_CV'])\n",
    "roc_auc_bo1 = roc_auc_bo1.rename(columns = {0:'BOOSTING'})\n",
    "roc_auc_1 = pd.merge(roc_auc_rf1,roc_auc_bo1, how='left', left_index=True, right_index=True)\n",
    "roc_auc_1 = pd.merge(roc_auc_rf1,roc_auc_bo1, how='left', left_index=True, right_index=True)\n",
    "roc_auc_1 = pd.merge(roc_auc_1,roc_auc_log1, how='left', left_index=True, right_index=True)\n",
    "roc_auc_1"
   ]
  },
  {
   "cell_type": "code",
   "execution_count": 143,
   "metadata": {},
   "outputs": [
    {
     "data": {
      "text/html": [
       "<div>\n",
       "<style scoped>\n",
       "    .dataframe tbody tr th:only-of-type {\n",
       "        vertical-align: middle;\n",
       "    }\n",
       "\n",
       "    .dataframe tbody tr th {\n",
       "        vertical-align: top;\n",
       "    }\n",
       "\n",
       "    .dataframe thead th {\n",
       "        text-align: right;\n",
       "    }\n",
       "</style>\n",
       "<table border=\"1\" class=\"dataframe\">\n",
       "  <thead>\n",
       "    <tr style=\"text-align: right;\">\n",
       "      <th></th>\n",
       "      <th>PROB_N_PCA_LOG_CV</th>\n",
       "      <th>PROB_N_COR_LOG_CV</th>\n",
       "      <th>NOT_NOISE</th>\n",
       "      <th>PROB_N_RF_CV</th>\n",
       "      <th>PROB_N_PCA_RF_CV</th>\n",
       "      <th>PROB_N_COR_RF_CV_x</th>\n",
       "      <th>PROB_N_BO_CV</th>\n",
       "      <th>PROB_N_COR_RF_CV_y</th>\n",
       "      <th>PROB_N_COR_BO_CV</th>\n",
       "    </tr>\n",
       "  </thead>\n",
       "  <tbody>\n",
       "    <tr>\n",
       "      <td>4437</td>\n",
       "      <td>0.499838</td>\n",
       "      <td>2.481693e-01</td>\n",
       "      <td>1</td>\n",
       "      <td>0.770944</td>\n",
       "      <td>0.880169</td>\n",
       "      <td>0.864014</td>\n",
       "      <td>0.998547</td>\n",
       "      <td>0.864014</td>\n",
       "      <td>0.999739</td>\n",
       "    </tr>\n",
       "    <tr>\n",
       "      <td>1109</td>\n",
       "      <td>0.005364</td>\n",
       "      <td>2.845065e-04</td>\n",
       "      <td>0</td>\n",
       "      <td>0.000000</td>\n",
       "      <td>0.000488</td>\n",
       "      <td>0.000047</td>\n",
       "      <td>0.000096</td>\n",
       "      <td>0.000047</td>\n",
       "      <td>0.000215</td>\n",
       "    </tr>\n",
       "    <tr>\n",
       "      <td>1388</td>\n",
       "      <td>0.007379</td>\n",
       "      <td>1.823415e-02</td>\n",
       "      <td>0</td>\n",
       "      <td>0.000025</td>\n",
       "      <td>0.000151</td>\n",
       "      <td>0.000148</td>\n",
       "      <td>0.000226</td>\n",
       "      <td>0.000148</td>\n",
       "      <td>0.000345</td>\n",
       "    </tr>\n",
       "    <tr>\n",
       "      <td>5610</td>\n",
       "      <td>0.004351</td>\n",
       "      <td>3.096742e-03</td>\n",
       "      <td>0</td>\n",
       "      <td>0.000000</td>\n",
       "      <td>0.000076</td>\n",
       "      <td>0.000228</td>\n",
       "      <td>0.000148</td>\n",
       "      <td>0.000228</td>\n",
       "      <td>0.000253</td>\n",
       "    </tr>\n",
       "    <tr>\n",
       "      <td>5050</td>\n",
       "      <td>0.004207</td>\n",
       "      <td>8.434460e-03</td>\n",
       "      <td>0</td>\n",
       "      <td>0.001372</td>\n",
       "      <td>0.000594</td>\n",
       "      <td>0.002387</td>\n",
       "      <td>0.000393</td>\n",
       "      <td>0.002387</td>\n",
       "      <td>0.000593</td>\n",
       "    </tr>\n",
       "    <tr>\n",
       "      <td>...</td>\n",
       "      <td>...</td>\n",
       "      <td>...</td>\n",
       "      <td>...</td>\n",
       "      <td>...</td>\n",
       "      <td>...</td>\n",
       "      <td>...</td>\n",
       "      <td>...</td>\n",
       "      <td>...</td>\n",
       "      <td>...</td>\n",
       "    </tr>\n",
       "    <tr>\n",
       "      <td>4251</td>\n",
       "      <td>0.006461</td>\n",
       "      <td>2.270219e-07</td>\n",
       "      <td>0</td>\n",
       "      <td>0.025292</td>\n",
       "      <td>0.053909</td>\n",
       "      <td>0.049389</td>\n",
       "      <td>0.001923</td>\n",
       "      <td>0.049389</td>\n",
       "      <td>0.005288</td>\n",
       "    </tr>\n",
       "    <tr>\n",
       "      <td>5563</td>\n",
       "      <td>0.015023</td>\n",
       "      <td>8.865294e-03</td>\n",
       "      <td>0</td>\n",
       "      <td>0.029727</td>\n",
       "      <td>0.051441</td>\n",
       "      <td>0.062129</td>\n",
       "      <td>0.002154</td>\n",
       "      <td>0.062129</td>\n",
       "      <td>0.005875</td>\n",
       "    </tr>\n",
       "    <tr>\n",
       "      <td>5425</td>\n",
       "      <td>0.137971</td>\n",
       "      <td>1.242565e-02</td>\n",
       "      <td>0</td>\n",
       "      <td>0.143213</td>\n",
       "      <td>0.045739</td>\n",
       "      <td>0.049811</td>\n",
       "      <td>0.002176</td>\n",
       "      <td>0.049811</td>\n",
       "      <td>0.001594</td>\n",
       "    </tr>\n",
       "    <tr>\n",
       "      <td>5386</td>\n",
       "      <td>0.468912</td>\n",
       "      <td>4.033665e-01</td>\n",
       "      <td>0</td>\n",
       "      <td>0.417996</td>\n",
       "      <td>0.401885</td>\n",
       "      <td>0.419331</td>\n",
       "      <td>0.478047</td>\n",
       "      <td>0.419331</td>\n",
       "      <td>0.745965</td>\n",
       "    </tr>\n",
       "    <tr>\n",
       "      <td>466</td>\n",
       "      <td>0.003260</td>\n",
       "      <td>1.812547e-01</td>\n",
       "      <td>0</td>\n",
       "      <td>0.000172</td>\n",
       "      <td>0.000589</td>\n",
       "      <td>0.001154</td>\n",
       "      <td>0.000055</td>\n",
       "      <td>0.001154</td>\n",
       "      <td>0.000175</td>\n",
       "    </tr>\n",
       "  </tbody>\n",
       "</table>\n",
       "<p>1889 rows × 9 columns</p>\n",
       "</div>"
      ],
      "text/plain": [
       "      PROB_N_PCA_LOG_CV  PROB_N_COR_LOG_CV  NOT_NOISE  PROB_N_RF_CV  \\\n",
       "4437           0.499838       2.481693e-01          1      0.770944   \n",
       "1109           0.005364       2.845065e-04          0      0.000000   \n",
       "1388           0.007379       1.823415e-02          0      0.000025   \n",
       "5610           0.004351       3.096742e-03          0      0.000000   \n",
       "5050           0.004207       8.434460e-03          0      0.001372   \n",
       "...                 ...                ...        ...           ...   \n",
       "4251           0.006461       2.270219e-07          0      0.025292   \n",
       "5563           0.015023       8.865294e-03          0      0.029727   \n",
       "5425           0.137971       1.242565e-02          0      0.143213   \n",
       "5386           0.468912       4.033665e-01          0      0.417996   \n",
       "466            0.003260       1.812547e-01          0      0.000172   \n",
       "\n",
       "      PROB_N_PCA_RF_CV  PROB_N_COR_RF_CV_x  PROB_N_BO_CV  PROB_N_COR_RF_CV_y  \\\n",
       "4437          0.880169            0.864014      0.998547            0.864014   \n",
       "1109          0.000488            0.000047      0.000096            0.000047   \n",
       "1388          0.000151            0.000148      0.000226            0.000148   \n",
       "5610          0.000076            0.000228      0.000148            0.000228   \n",
       "5050          0.000594            0.002387      0.000393            0.002387   \n",
       "...                ...                 ...           ...                 ...   \n",
       "4251          0.053909            0.049389      0.001923            0.049389   \n",
       "5563          0.051441            0.062129      0.002154            0.062129   \n",
       "5425          0.045739            0.049811      0.002176            0.049811   \n",
       "5386          0.401885            0.419331      0.478047            0.419331   \n",
       "466           0.000589            0.001154      0.000055            0.001154   \n",
       "\n",
       "      PROB_N_COR_BO_CV  \n",
       "4437          0.999739  \n",
       "1109          0.000215  \n",
       "1388          0.000345  \n",
       "5610          0.000253  \n",
       "5050          0.000593  \n",
       "...                ...  \n",
       "4251          0.005288  \n",
       "5563          0.005875  \n",
       "5425          0.001594  \n",
       "5386          0.745965  \n",
       "466           0.000175  \n",
       "\n",
       "[1889 rows x 9 columns]"
      ]
     },
     "execution_count": 143,
     "metadata": {},
     "output_type": "execute_result"
    }
   ],
   "source": [
    "x1_results = pd.merge(x1_log, x1_rf, how='left', left_index=True, right_index=True)\n",
    "x1_results = pd.merge(x1_results, x1_bo, how='left', left_index=True, right_index=True)\n",
    "x1_results"
   ]
  },
  {
   "cell_type": "code",
   "execution_count": null,
   "metadata": {},
   "outputs": [],
   "source": []
  }
 ],
 "metadata": {
  "kernelspec": {
   "display_name": "Python 3",
   "language": "python",
   "name": "python3"
  },
  "language_info": {
   "codemirror_mode": {
    "name": "ipython",
    "version": 3
   },
   "file_extension": ".py",
   "mimetype": "text/x-python",
   "name": "python",
   "nbconvert_exporter": "python",
   "pygments_lexer": "ipython3",
   "version": "3.7.4"
  }
 },
 "nbformat": 4,
 "nbformat_minor": 2
}
