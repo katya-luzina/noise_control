{
 "cells": [
  {
   "cell_type": "markdown",
   "metadata": {},
   "source": [
    "# (1.0) Установка пакетов"
   ]
  },
  {
   "cell_type": "code",
   "execution_count": 1,
   "metadata": {},
   "outputs": [],
   "source": [
    "import numpy as np\n",
    "import pandas as pd"
   ]
  },
  {
   "cell_type": "markdown",
   "metadata": {},
   "source": [
    "# (1.1) Список датафреймов"
   ]
  },
  {
   "cell_type": "markdown",
   "metadata": {},
   "source": [
    "X1 - исходный датафрейм  \n",
    "X1_N - датафрейм с нормированными переменными  \n",
    "X1_PCA - исходный датафрейм с новой переменной, созданной на основании скоррелированных переменных  \n",
    "X1_N_PCA - датафрейм с нормированными переменными и с новой переменной, созданной на основании скоррелированных переменных  \n",
    "X1_COR - исходный датафрейм с удаленными скоррелированными переменными  \n",
    "X1_N_COR - датафрейм с нормированными переменными с удаленными скоррелированными переменными"
   ]
  },
  {
   "cell_type": "markdown",
   "metadata": {},
   "source": [
    "# (1.1) Загрузка данных"
   ]
  },
  {
   "cell_type": "code",
   "execution_count": 41,
   "metadata": {},
   "outputs": [
    {
     "data": {
      "text/html": [
       "<div>\n",
       "<style scoped>\n",
       "    .dataframe tbody tr th:only-of-type {\n",
       "        vertical-align: middle;\n",
       "    }\n",
       "\n",
       "    .dataframe tbody tr th {\n",
       "        vertical-align: top;\n",
       "    }\n",
       "\n",
       "    .dataframe thead th {\n",
       "        text-align: right;\n",
       "    }\n",
       "</style>\n",
       "<table border=\"1\" class=\"dataframe\">\n",
       "  <thead>\n",
       "    <tr style=\"text-align: right;\">\n",
       "      <th></th>\n",
       "      <th>SIGNAL_ID</th>\n",
       "      <th>TRADEDATE</th>\n",
       "      <th>CROSSTURNOVER1</th>\n",
       "      <th>CROSSDEALRATIOS</th>\n",
       "      <th>EPSILONE</th>\n",
       "      <th>PROFITPL</th>\n",
       "      <th>PROFITABILITYY</th>\n",
       "      <th>SIGNALSK</th>\n",
       "      <th>RATINGCROSSDEALRATIOS</th>\n",
       "      <th>RATINGEPSILONE</th>\n",
       "      <th>...</th>\n",
       "      <th>RATINGAVGLIFETIME</th>\n",
       "      <th>RATINGAGTDEVPRICE</th>\n",
       "      <th>RATINGAGTDEVVOL</th>\n",
       "      <th>RATINGCROSSTURNOVER1</th>\n",
       "      <th>RATINGCROSSTURNOVER2</th>\n",
       "      <th>RATINGCROSSVALUE</th>\n",
       "      <th>USERGRADE_ID</th>\n",
       "      <th>SHORTNAME</th>\n",
       "      <th>IDENT</th>\n",
       "      <th>DETECTION_ID</th>\n",
       "    </tr>\n",
       "  </thead>\n",
       "  <tbody>\n",
       "    <tr>\n",
       "      <td>0</td>\n",
       "      <td>2.183220e+11</td>\n",
       "      <td>03.18.2019 15:01:21</td>\n",
       "      <td>1.0</td>\n",
       "      <td>24.0</td>\n",
       "      <td>0.0</td>\n",
       "      <td>2290.0</td>\n",
       "      <td>1.0</td>\n",
       "      <td>3.0</td>\n",
       "      <td>24.0</td>\n",
       "      <td>0.0</td>\n",
       "      <td>...</td>\n",
       "      <td>100.0</td>\n",
       "      <td>NaN</td>\n",
       "      <td>NaN</td>\n",
       "      <td>NaN</td>\n",
       "      <td>NaN</td>\n",
       "      <td>NaN</td>\n",
       "      <td>4.0</td>\n",
       "      <td>TRNF-3.19</td>\n",
       "      <td>FORTS</td>\n",
       "      <td>238 944</td>\n",
       "    </tr>\n",
       "  </tbody>\n",
       "</table>\n",
       "<p>1 rows × 33 columns</p>\n",
       "</div>"
      ],
      "text/plain": [
       "      SIGNAL_ID            TRADEDATE  CROSSTURNOVER1  CROSSDEALRATIOS  \\\n",
       "0  2.183220e+11  03.18.2019 15:01:21             1.0             24.0   \n",
       "\n",
       "   EPSILONE  PROFITPL  PROFITABILITYY  SIGNALSK  RATINGCROSSDEALRATIOS  \\\n",
       "0       0.0    2290.0             1.0       3.0                   24.0   \n",
       "\n",
       "   RATINGEPSILONE  ...  RATINGAVGLIFETIME  RATINGAGTDEVPRICE  RATINGAGTDEVVOL  \\\n",
       "0             0.0  ...              100.0                NaN              NaN   \n",
       "\n",
       "   RATINGCROSSTURNOVER1  RATINGCROSSTURNOVER2  RATINGCROSSVALUE  USERGRADE_ID  \\\n",
       "0                   NaN                   NaN               NaN           4.0   \n",
       "\n",
       "   SHORTNAME  IDENT  DETECTION_ID  \n",
       "0  TRNF-3.19  FORTS       238 944  \n",
       "\n",
       "[1 rows x 33 columns]"
      ]
     },
     "execution_count": 41,
     "metadata": {},
     "output_type": "execute_result"
    }
   ],
   "source": [
    "X1 = pd.read_csv('ML.csv', sep=\";\")\n",
    "X1.head(1)"
   ]
  },
  {
   "cell_type": "markdown",
   "metadata": {},
   "source": [
    "# (1.2) Удаление лишних переменных"
   ]
  },
  {
   "cell_type": "code",
   "execution_count": 42,
   "metadata": {},
   "outputs": [
    {
     "data": {
      "text/html": [
       "<div>\n",
       "<style scoped>\n",
       "    .dataframe tbody tr th:only-of-type {\n",
       "        vertical-align: middle;\n",
       "    }\n",
       "\n",
       "    .dataframe tbody tr th {\n",
       "        vertical-align: top;\n",
       "    }\n",
       "\n",
       "    .dataframe thead th {\n",
       "        text-align: right;\n",
       "    }\n",
       "</style>\n",
       "<table border=\"1\" class=\"dataframe\">\n",
       "  <thead>\n",
       "    <tr style=\"text-align: right;\">\n",
       "      <th></th>\n",
       "      <th>SIGNAL_ID</th>\n",
       "      <th>TRADEDATE</th>\n",
       "      <th>CROSSTURNOVER1</th>\n",
       "      <th>CROSSDEALRATIOS</th>\n",
       "      <th>EPSILONE</th>\n",
       "      <th>PROFITPL</th>\n",
       "      <th>PROFITABILITYY</th>\n",
       "      <th>SIGNALSK</th>\n",
       "      <th>AGTDEV_BS</th>\n",
       "      <th>AGTDEV_PRICE</th>\n",
       "      <th>AGTDEV_VOL</th>\n",
       "      <th>TRADEDATE_LAST</th>\n",
       "      <th>EVENT_ID</th>\n",
       "      <th>CROSSTURNOVER2</th>\n",
       "      <th>CROSSVALUE</th>\n",
       "      <th>AVGLIFETIME</th>\n",
       "      <th>USERGRADE_ID</th>\n",
       "      <th>SHORTNAME</th>\n",
       "      <th>IDENT</th>\n",
       "      <th>DETECTION_ID</th>\n",
       "    </tr>\n",
       "  </thead>\n",
       "  <tbody>\n",
       "    <tr>\n",
       "      <td>0</td>\n",
       "      <td>2.183220e+11</td>\n",
       "      <td>03.18.2019 15:01:21</td>\n",
       "      <td>1.0</td>\n",
       "      <td>24.0</td>\n",
       "      <td>0.0</td>\n",
       "      <td>2290.0</td>\n",
       "      <td>1.0</td>\n",
       "      <td>3.0</td>\n",
       "      <td>0.0</td>\n",
       "      <td>0.0</td>\n",
       "      <td>0.0</td>\n",
       "      <td>03.18.2019 15:52:48</td>\n",
       "      <td>NaN</td>\n",
       "      <td>0.0</td>\n",
       "      <td>1732440.0</td>\n",
       "      <td>NaN</td>\n",
       "      <td>4.0</td>\n",
       "      <td>TRNF-3.19</td>\n",
       "      <td>FORTS</td>\n",
       "      <td>238 944</td>\n",
       "    </tr>\n",
       "  </tbody>\n",
       "</table>\n",
       "</div>"
      ],
      "text/plain": [
       "      SIGNAL_ID            TRADEDATE  CROSSTURNOVER1  CROSSDEALRATIOS  \\\n",
       "0  2.183220e+11  03.18.2019 15:01:21             1.0             24.0   \n",
       "\n",
       "   EPSILONE  PROFITPL  PROFITABILITYY  SIGNALSK  AGTDEV_BS  AGTDEV_PRICE  \\\n",
       "0       0.0    2290.0             1.0       3.0        0.0           0.0   \n",
       "\n",
       "   AGTDEV_VOL       TRADEDATE_LAST  EVENT_ID  CROSSTURNOVER2  CROSSVALUE  \\\n",
       "0         0.0  03.18.2019 15:52:48       NaN             0.0   1732440.0   \n",
       "\n",
       "   AVGLIFETIME  USERGRADE_ID  SHORTNAME  IDENT DETECTION_ID  \n",
       "0          NaN           4.0  TRNF-3.19  FORTS      238 944  "
      ]
     },
     "execution_count": 42,
     "metadata": {},
     "output_type": "execute_result"
    }
   ],
   "source": [
    "# удаляем рейтинги\n",
    "X1 = X1.drop(['RATINGCROSSDEALRATIOS','RATINGEPSILONE','RATINGPROFITPL','RATINGPROFITABILITYY',\n",
    "              'RATINGSIGNALSK','RATINGINTEGRAL','RATINGDEV','RATINGAVGLIFETIME','RATINGAGTDEVPRICE',\n",
    "              'RATINGAGTDEVVOL','RATINGCROSSTURNOVER1','RATINGCROSSTURNOVER2','RATINGCROSSVALUE'], axis=1)\n",
    "X1.head(1)"
   ]
  },
  {
   "cell_type": "code",
   "execution_count": 43,
   "metadata": {},
   "outputs": [
    {
     "data": {
      "text/html": [
       "<div>\n",
       "<style scoped>\n",
       "    .dataframe tbody tr th:only-of-type {\n",
       "        vertical-align: middle;\n",
       "    }\n",
       "\n",
       "    .dataframe tbody tr th {\n",
       "        vertical-align: top;\n",
       "    }\n",
       "\n",
       "    .dataframe thead th {\n",
       "        text-align: right;\n",
       "    }\n",
       "</style>\n",
       "<table border=\"1\" class=\"dataframe\">\n",
       "  <thead>\n",
       "    <tr style=\"text-align: right;\">\n",
       "      <th></th>\n",
       "      <th>SIGNAL_ID</th>\n",
       "      <th>TRADEDATE</th>\n",
       "      <th>CROSSTURNOVER1</th>\n",
       "      <th>CROSSDEALRATIOS</th>\n",
       "      <th>EPSILONE</th>\n",
       "      <th>PROFITPL</th>\n",
       "      <th>PROFITABILITYY</th>\n",
       "      <th>SIGNALSK</th>\n",
       "      <th>AGTDEV_BS</th>\n",
       "      <th>AGTDEV_PRICE</th>\n",
       "      <th>AGTDEV_VOL</th>\n",
       "      <th>TRADEDATE_LAST</th>\n",
       "      <th>EVENT_ID</th>\n",
       "      <th>CROSSTURNOVER2</th>\n",
       "      <th>CROSSVALUE</th>\n",
       "      <th>AVGLIFETIME</th>\n",
       "      <th>USERGRADE_ID</th>\n",
       "      <th>DETECTION_ID</th>\n",
       "    </tr>\n",
       "  </thead>\n",
       "  <tbody>\n",
       "    <tr>\n",
       "      <td>0</td>\n",
       "      <td>2.183220e+11</td>\n",
       "      <td>03.18.2019 15:01:21</td>\n",
       "      <td>1.0</td>\n",
       "      <td>24.0</td>\n",
       "      <td>0.0</td>\n",
       "      <td>2290.0</td>\n",
       "      <td>1.0</td>\n",
       "      <td>3.0</td>\n",
       "      <td>0.0</td>\n",
       "      <td>0.0</td>\n",
       "      <td>0.0</td>\n",
       "      <td>03.18.2019 15:52:48</td>\n",
       "      <td>NaN</td>\n",
       "      <td>0.0</td>\n",
       "      <td>1732440.0</td>\n",
       "      <td>NaN</td>\n",
       "      <td>4.0</td>\n",
       "      <td>238 944</td>\n",
       "    </tr>\n",
       "  </tbody>\n",
       "</table>\n",
       "</div>"
      ],
      "text/plain": [
       "      SIGNAL_ID            TRADEDATE  CROSSTURNOVER1  CROSSDEALRATIOS  \\\n",
       "0  2.183220e+11  03.18.2019 15:01:21             1.0             24.0   \n",
       "\n",
       "   EPSILONE  PROFITPL  PROFITABILITYY  SIGNALSK  AGTDEV_BS  AGTDEV_PRICE  \\\n",
       "0       0.0    2290.0             1.0       3.0        0.0           0.0   \n",
       "\n",
       "   AGTDEV_VOL       TRADEDATE_LAST  EVENT_ID  CROSSTURNOVER2  CROSSVALUE  \\\n",
       "0         0.0  03.18.2019 15:52:48       NaN             0.0   1732440.0   \n",
       "\n",
       "   AVGLIFETIME  USERGRADE_ID DETECTION_ID  \n",
       "0          NaN           4.0      238 944  "
      ]
     },
     "execution_count": 43,
     "metadata": {},
     "output_type": "execute_result"
    }
   ],
   "source": [
    "# удаляем указание инструмента\n",
    "X1 = X1.drop(['IDENT','SHORTNAME'], axis=1)\n",
    "X1.head(1)"
   ]
  },
  {
   "cell_type": "code",
   "execution_count": 44,
   "metadata": {},
   "outputs": [
    {
     "data": {
      "text/html": [
       "<div>\n",
       "<style scoped>\n",
       "    .dataframe tbody tr th:only-of-type {\n",
       "        vertical-align: middle;\n",
       "    }\n",
       "\n",
       "    .dataframe tbody tr th {\n",
       "        vertical-align: top;\n",
       "    }\n",
       "\n",
       "    .dataframe thead th {\n",
       "        text-align: right;\n",
       "    }\n",
       "</style>\n",
       "<table border=\"1\" class=\"dataframe\">\n",
       "  <thead>\n",
       "    <tr style=\"text-align: right;\">\n",
       "      <th></th>\n",
       "      <th>TRADEDATE</th>\n",
       "      <th>CROSSTURNOVER1</th>\n",
       "      <th>CROSSDEALRATIOS</th>\n",
       "      <th>EPSILONE</th>\n",
       "      <th>PROFITPL</th>\n",
       "      <th>PROFITABILITYY</th>\n",
       "      <th>SIGNALSK</th>\n",
       "      <th>AGTDEV_BS</th>\n",
       "      <th>AGTDEV_PRICE</th>\n",
       "      <th>AGTDEV_VOL</th>\n",
       "      <th>TRADEDATE_LAST</th>\n",
       "      <th>CROSSTURNOVER2</th>\n",
       "      <th>CROSSVALUE</th>\n",
       "      <th>AVGLIFETIME</th>\n",
       "      <th>USERGRADE_ID</th>\n",
       "    </tr>\n",
       "  </thead>\n",
       "  <tbody>\n",
       "    <tr>\n",
       "      <td>0</td>\n",
       "      <td>03.18.2019 15:01:21</td>\n",
       "      <td>1.0</td>\n",
       "      <td>24.0</td>\n",
       "      <td>0.0</td>\n",
       "      <td>2290.0</td>\n",
       "      <td>1.0</td>\n",
       "      <td>3.0</td>\n",
       "      <td>0.0</td>\n",
       "      <td>0.0</td>\n",
       "      <td>0.0</td>\n",
       "      <td>03.18.2019 15:52:48</td>\n",
       "      <td>0.0</td>\n",
       "      <td>1732440.0</td>\n",
       "      <td>NaN</td>\n",
       "      <td>4.0</td>\n",
       "    </tr>\n",
       "  </tbody>\n",
       "</table>\n",
       "</div>"
      ],
      "text/plain": [
       "             TRADEDATE  CROSSTURNOVER1  CROSSDEALRATIOS  EPSILONE  PROFITPL  \\\n",
       "0  03.18.2019 15:01:21             1.0             24.0       0.0    2290.0   \n",
       "\n",
       "   PROFITABILITYY  SIGNALSK  AGTDEV_BS  AGTDEV_PRICE  AGTDEV_VOL  \\\n",
       "0             1.0       3.0        0.0           0.0         0.0   \n",
       "\n",
       "        TRADEDATE_LAST  CROSSTURNOVER2  CROSSVALUE  AVGLIFETIME  USERGRADE_ID  \n",
       "0  03.18.2019 15:52:48             0.0   1732440.0          NaN           4.0  "
      ]
     },
     "execution_count": 44,
     "metadata": {},
     "output_type": "execute_result"
    }
   ],
   "source": [
    "# удаляем лишние переменные\n",
    "X1 = X1.drop(['DETECTION_ID','EVENT_ID','SIGNAL_ID'], axis=1)\n",
    "X1.head(1)"
   ]
  },
  {
   "cell_type": "code",
   "execution_count": 6,
   "metadata": {},
   "outputs": [
    {
     "name": "stdout",
     "output_type": "stream",
     "text": [
      "TRADEDATE ['03.18.2019 15:01:21' '03.19.2019 10:00:07' '03.07.2019 16:31' ...\n",
      " '01.22.2019 21:10:08' '10.31.2018 16:03:07' '10.26.2018 14:26:38']\n",
      "\n",
      "CROSSTURNOVER1 [1.]\n",
      "\n",
      "CROSSDEALRATIOS [ 24.   3.   2.   4.   6.   1.  18.  40.  15.   5.   8.  59.   9.   7.\n",
      "  23.  19. 100.  17.  16.  10.  11.  22.  12.  13.   0.  57.  14.  50.\n",
      "  67.  28.  95.  31.  33.  21.  20.  41.  92.  74.  73.  25.  45.  29.\n",
      "  36.  26.  51.  60.  52.  43.  30.  69.  77.  34.  75.  53.  37.  38.\n",
      "  44.  32.  65.  27.  35.  89.  80.  46.  86.  42.  87.  47.  71.  70.\n",
      "  66.  99.  79.  48.  63.  62.  84.  98.  72.  76.  49.  55.  97. 200.\n",
      "  88.  56.  82.  93.  54. 115.  39.  90.  78.  91.  81.  58.  94.  96.\n",
      "  68.  61.]\n",
      "\n",
      "EPSILONE [0.]\n",
      "\n",
      "PROFITPL [ 2290.  8909.   788. ... 43622. 23929.  4300.]\n",
      "\n",
      "PROFITABILITYY [  1.   0.   4.   2.  11.   3.  49.  18.   5.  24.  12.  13.  15.   6.\n",
      "  20.  16.   8.   9.  14.   7.  26.  32.  30.  22.  10.  76.  37.  17.\n",
      "  43.  21.  29.  28.  41.  25.  19.  27.  36.  45.  35.  23.  50.  63.\n",
      "  48.  33.  70.  38.  62.  44.  53.  80.  64.  97.  46.  57.  34.  72.\n",
      " 195.  40.  31.  42.  52.  69.  39.  65.  51.  55.  60.  66.  56.  83.\n",
      " 130. 107. 215. 115.  59. 110. 113. 168.  87.  54.  81. 196. 507. 169.\n",
      " 343. 681. 301. 321. 279. 278.  88. 133. 388. 393. 300. 499. 413. 122.\n",
      " 102.  61. 125. 178.  94.  92.  47. 159.  89.  79. 181.  95. 730. 709.\n",
      " 708. 728. 308. 243. 716.  73.  84. 145. 424. 180. 235. 449. 162. 119.\n",
      " 141. 104.  67. 117.  68.  58. 118. 292. 394. 183. 105.  82. 348. 146.\n",
      " 241. 174. 250.  78. 106. 166. 182. 112. 171.  93. 151. 164. 142.  77.\n",
      " 193.  74. 227. 414.  71.  86. 114. 132.  99.  85. 124. 163. 131. 392.\n",
      " 223. 140. 158.  75. 160. 194. 109. 229. 232. 209. 186. 100. 365. 293.\n",
      "  91. 417. 103. 282.  90. 247. 137. 144. 143. 138. 128. 263. 116. 212.\n",
      " 173. 150. 287. 265. 239. 323. 121. 313. 139. 306. 129. 191. 237. 152.\n",
      " 487. 485. 120. 258. 208. 438. 496. 161. 165. 149. 147. 197. 238. 185.\n",
      " 248. 398.  98. 233. 221. 222. 204. 111. 154. 240. 464. 381. 101. 199.\n",
      " 269. 319. 155. 344. 577. 126. 360. 459. 127. 296. 236. 718. 406. 595.\n",
      " 346.]\n",
      "\n",
      "SIGNALSK [  3.   1.   2.   4.   5. 152.  23. 253.  10.  11.   9.   7.  75.  20.\n",
      "  19.  22.  28.  61.  13.  16.  37.  40.   8.  35.  26.   6.  14.  83.\n",
      "  15.  12.  50.  47.  27.  18.  43.  17.  29.  58.  38. 156. 208. 647.\n",
      "  25.]\n",
      "\n",
      "AGTDEV_BS [0.]\n",
      "\n",
      "AGTDEV_PRICE [0. 1. 2.]\n",
      "\n",
      "AGTDEV_VOL [0. 2. 1.]\n",
      "\n",
      "TRADEDATE_LAST ['03.18.2019 15:52:48' '03.19.2019 22:40:57' '03.07.2019 22:20' ...\n",
      " '01.22.2019 21:12:58' '10.31.2018 16:47:09' '10.26.2018 14:30:30']\n",
      "\n",
      "CROSSTURNOVER2 [0. 1.]\n",
      "\n",
      "CROSSVALUE [1.7324400e+06 1.0322523e+07 4.5627400e+05 ... 5.0000000e+00 1.9150000e+03\n",
      " 1.8100000e+02]\n",
      "\n",
      "AVGLIFETIME [nan]\n",
      "\n",
      "USERGRADE_ID [4. 3. 2.]\n",
      "\n"
     ]
    }
   ],
   "source": [
    "# ищем переменные с нулевой вариацией\n",
    "for col in list(X1.columns):\n",
    "        print(col, X1[col].unique())\n",
    "        print()"
   ]
  },
  {
   "cell_type": "code",
   "execution_count": 45,
   "metadata": {},
   "outputs": [
    {
     "data": {
      "text/html": [
       "<div>\n",
       "<style scoped>\n",
       "    .dataframe tbody tr th:only-of-type {\n",
       "        vertical-align: middle;\n",
       "    }\n",
       "\n",
       "    .dataframe tbody tr th {\n",
       "        vertical-align: top;\n",
       "    }\n",
       "\n",
       "    .dataframe thead th {\n",
       "        text-align: right;\n",
       "    }\n",
       "</style>\n",
       "<table border=\"1\" class=\"dataframe\">\n",
       "  <thead>\n",
       "    <tr style=\"text-align: right;\">\n",
       "      <th></th>\n",
       "      <th>TRADEDATE</th>\n",
       "      <th>CROSSDEALRATIOS</th>\n",
       "      <th>PROFITPL</th>\n",
       "      <th>PROFITABILITYY</th>\n",
       "      <th>SIGNALSK</th>\n",
       "      <th>AGTDEV_PRICE</th>\n",
       "      <th>AGTDEV_VOL</th>\n",
       "      <th>TRADEDATE_LAST</th>\n",
       "      <th>CROSSTURNOVER2</th>\n",
       "      <th>CROSSVALUE</th>\n",
       "      <th>USERGRADE_ID</th>\n",
       "    </tr>\n",
       "  </thead>\n",
       "  <tbody>\n",
       "    <tr>\n",
       "      <td>0</td>\n",
       "      <td>03.18.2019 15:01:21</td>\n",
       "      <td>24.0</td>\n",
       "      <td>2290.0</td>\n",
       "      <td>1.0</td>\n",
       "      <td>3.0</td>\n",
       "      <td>0.0</td>\n",
       "      <td>0.0</td>\n",
       "      <td>03.18.2019 15:52:48</td>\n",
       "      <td>0.0</td>\n",
       "      <td>1732440.0</td>\n",
       "      <td>4.0</td>\n",
       "    </tr>\n",
       "  </tbody>\n",
       "</table>\n",
       "</div>"
      ],
      "text/plain": [
       "             TRADEDATE  CROSSDEALRATIOS  PROFITPL  PROFITABILITYY  SIGNALSK  \\\n",
       "0  03.18.2019 15:01:21             24.0    2290.0             1.0       3.0   \n",
       "\n",
       "   AGTDEV_PRICE  AGTDEV_VOL       TRADEDATE_LAST  CROSSTURNOVER2  CROSSVALUE  \\\n",
       "0           0.0         0.0  03.18.2019 15:52:48             0.0   1732440.0   \n",
       "\n",
       "   USERGRADE_ID  \n",
       "0           4.0  "
      ]
     },
     "execution_count": 45,
     "metadata": {},
     "output_type": "execute_result"
    }
   ],
   "source": [
    "# удаляем переменные с нулевой вариацией\n",
    "X1 = X1.drop(['CROSSTURNOVER1','EPSILONE','AGTDEV_BS','AVGLIFETIME'], axis=1)\n",
    "X1.head(1)"
   ]
  },
  {
   "cell_type": "markdown",
   "metadata": {},
   "source": [
    "# (1.3) Преобразование переменных"
   ]
  },
  {
   "cell_type": "code",
   "execution_count": 46,
   "metadata": {},
   "outputs": [
    {
     "data": {
      "text/html": [
       "<div>\n",
       "<style scoped>\n",
       "    .dataframe tbody tr th:only-of-type {\n",
       "        vertical-align: middle;\n",
       "    }\n",
       "\n",
       "    .dataframe tbody tr th {\n",
       "        vertical-align: top;\n",
       "    }\n",
       "\n",
       "    .dataframe thead th {\n",
       "        text-align: right;\n",
       "    }\n",
       "</style>\n",
       "<table border=\"1\" class=\"dataframe\">\n",
       "  <thead>\n",
       "    <tr style=\"text-align: right;\">\n",
       "      <th></th>\n",
       "      <th>CROSSDEALRATIOS</th>\n",
       "      <th>PROFITPL</th>\n",
       "      <th>PROFITABILITYY</th>\n",
       "      <th>SIGNALSK</th>\n",
       "      <th>AGTDEV_PRICE</th>\n",
       "      <th>AGTDEV_VOL</th>\n",
       "      <th>CROSSTURNOVER2</th>\n",
       "      <th>CROSSVALUE</th>\n",
       "      <th>USERGRADE_ID</th>\n",
       "      <th>DELTA</th>\n",
       "    </tr>\n",
       "  </thead>\n",
       "  <tbody>\n",
       "    <tr>\n",
       "      <td>0</td>\n",
       "      <td>24.0</td>\n",
       "      <td>2290.0</td>\n",
       "      <td>1.0</td>\n",
       "      <td>3.0</td>\n",
       "      <td>0.0</td>\n",
       "      <td>0.0</td>\n",
       "      <td>0.0</td>\n",
       "      <td>1732440.0</td>\n",
       "      <td>4.0</td>\n",
       "      <td>3087</td>\n",
       "    </tr>\n",
       "  </tbody>\n",
       "</table>\n",
       "</div>"
      ],
      "text/plain": [
       "   CROSSDEALRATIOS  PROFITPL  PROFITABILITYY  SIGNALSK  AGTDEV_PRICE  \\\n",
       "0             24.0    2290.0             1.0       3.0           0.0   \n",
       "\n",
       "   AGTDEV_VOL  CROSSTURNOVER2  CROSSVALUE  USERGRADE_ID  DELTA  \n",
       "0         0.0             0.0   1732440.0           4.0   3087  "
      ]
     },
     "execution_count": 46,
     "metadata": {},
     "output_type": "execute_result"
    }
   ],
   "source": [
    "# преобразуем объект в datetime и считаем длительность сигнала\n",
    "X1['TRADEDATE_LAST'] = pd.to_datetime(pd.Series(X1['TRADEDATE_LAST']))\n",
    "X1['TRADEDATE'] = pd.to_datetime(pd.Series(X1['TRADEDATE']))\n",
    "X1['DELTA'] = X1['TRADEDATE_LAST']- X1['TRADEDATE']\n",
    "X1 = X1.drop(['TRADEDATE_LAST','TRADEDATE'], axis=1)\n",
    "X1['DELTA'] = [(X1.loc[i,'DELTA'].seconds) for i in range(len(X1.DELTA))]\n",
    "X1.head(1)"
   ]
  },
  {
   "cell_type": "code",
   "execution_count": 47,
   "metadata": {},
   "outputs": [
    {
     "data": {
      "text/html": [
       "<div>\n",
       "<style scoped>\n",
       "    .dataframe tbody tr th:only-of-type {\n",
       "        vertical-align: middle;\n",
       "    }\n",
       "\n",
       "    .dataframe tbody tr th {\n",
       "        vertical-align: top;\n",
       "    }\n",
       "\n",
       "    .dataframe thead th {\n",
       "        text-align: right;\n",
       "    }\n",
       "</style>\n",
       "<table border=\"1\" class=\"dataframe\">\n",
       "  <thead>\n",
       "    <tr style=\"text-align: right;\">\n",
       "      <th></th>\n",
       "      <th>CROSSDEALRATIOS</th>\n",
       "      <th>PROFITPL</th>\n",
       "      <th>PROFITABILITYY</th>\n",
       "      <th>SIGNALSK</th>\n",
       "      <th>AGTDEV_PRICE</th>\n",
       "      <th>AGTDEV_VOL</th>\n",
       "      <th>CROSSTURNOVER2</th>\n",
       "      <th>CROSSVALUE</th>\n",
       "      <th>DELTA</th>\n",
       "      <th>NOT_NOISE</th>\n",
       "    </tr>\n",
       "  </thead>\n",
       "  <tbody>\n",
       "    <tr>\n",
       "      <td>0</td>\n",
       "      <td>24.0</td>\n",
       "      <td>2290.0</td>\n",
       "      <td>1.0</td>\n",
       "      <td>3.0</td>\n",
       "      <td>0.0</td>\n",
       "      <td>0.0</td>\n",
       "      <td>0.0</td>\n",
       "      <td>1732440.0</td>\n",
       "      <td>3087</td>\n",
       "      <td>1</td>\n",
       "    </tr>\n",
       "  </tbody>\n",
       "</table>\n",
       "</div>"
      ],
      "text/plain": [
       "   CROSSDEALRATIOS  PROFITPL  PROFITABILITYY  SIGNALSK  AGTDEV_PRICE  \\\n",
       "0             24.0    2290.0             1.0       3.0           0.0   \n",
       "\n",
       "   AGTDEV_VOL  CROSSTURNOVER2  CROSSVALUE  DELTA  NOT_NOISE  \n",
       "0         0.0             0.0   1732440.0   3087          1  "
      ]
     },
     "execution_count": 47,
     "metadata": {},
     "output_type": "execute_result"
    }
   ],
   "source": [
    "# создаем бинарную переменную на основании USERGRADE_ID (0 - шум, 1 - не шум)\n",
    "# все, что имеет USERGRADE_ID 2 и 3, превращаем в NOISE = 0 Все, что имеет USERGRADE_ID 4, превращаем в NOISE = 1\n",
    "X1['NOT_NOISE'] = np.where((X1.USERGRADE_ID == 2) | (X1.USERGRADE_ID == 3), 0, 1)\n",
    "X1 = X1.drop(['USERGRADE_ID'], axis=1)\n",
    "X1.head(1)"
   ]
  },
  {
   "cell_type": "markdown",
   "metadata": {},
   "source": [
    "Нормируем переменные в соответствии со следующим преобразованием:   \n",
    "$$\\\\F_i = \\frac{f_i - \\overline{f}} {St.dev(f)}$$"
   ]
  },
  {
   "cell_type": "code",
   "execution_count": 49,
   "metadata": {},
   "outputs": [
    {
     "data": {
      "text/html": [
       "<div>\n",
       "<style scoped>\n",
       "    .dataframe tbody tr th:only-of-type {\n",
       "        vertical-align: middle;\n",
       "    }\n",
       "\n",
       "    .dataframe tbody tr th {\n",
       "        vertical-align: top;\n",
       "    }\n",
       "\n",
       "    .dataframe thead th {\n",
       "        text-align: right;\n",
       "    }\n",
       "</style>\n",
       "<table border=\"1\" class=\"dataframe\">\n",
       "  <thead>\n",
       "    <tr style=\"text-align: right;\">\n",
       "      <th></th>\n",
       "      <th>CROSSDEALRATIOS</th>\n",
       "      <th>PROFITPL</th>\n",
       "      <th>PROFITABILITYY</th>\n",
       "      <th>SIGNALSK</th>\n",
       "      <th>AGTDEV_PRICE</th>\n",
       "      <th>AGTDEV_VOL</th>\n",
       "      <th>CROSSTURNOVER2</th>\n",
       "      <th>CROSSVALUE</th>\n",
       "      <th>DELTA</th>\n",
       "      <th>NOT_NOISE</th>\n",
       "    </tr>\n",
       "  </thead>\n",
       "  <tbody>\n",
       "    <tr>\n",
       "      <td>0</td>\n",
       "      <td>0.448633</td>\n",
       "      <td>-0.019631</td>\n",
       "      <td>-0.368477</td>\n",
       "      <td>-0.502279</td>\n",
       "      <td>-1.15257</td>\n",
       "      <td>-1.14048</td>\n",
       "      <td>-0.290189</td>\n",
       "      <td>-0.056744</td>\n",
       "      <td>-0.710139</td>\n",
       "      <td>0.170078</td>\n",
       "    </tr>\n",
       "    <tr>\n",
       "      <td>1</td>\n",
       "      <td>-0.473516</td>\n",
       "      <td>-0.016409</td>\n",
       "      <td>-0.368477</td>\n",
       "      <td>-0.512488</td>\n",
       "      <td>-1.15257</td>\n",
       "      <td>-1.14048</td>\n",
       "      <td>-0.290189</td>\n",
       "      <td>0.185901</td>\n",
       "      <td>3.524390</td>\n",
       "      <td>0.170078</td>\n",
       "    </tr>\n",
       "    <tr>\n",
       "      <td>2</td>\n",
       "      <td>-0.517427</td>\n",
       "      <td>-0.020362</td>\n",
       "      <td>-0.368477</td>\n",
       "      <td>-0.502279</td>\n",
       "      <td>-1.15257</td>\n",
       "      <td>-1.14048</td>\n",
       "      <td>-0.290189</td>\n",
       "      <td>-0.092792</td>\n",
       "      <td>1.066029</td>\n",
       "      <td>0.170078</td>\n",
       "    </tr>\n",
       "    <tr>\n",
       "      <td>3</td>\n",
       "      <td>-0.473516</td>\n",
       "      <td>-0.020132</td>\n",
       "      <td>-0.368477</td>\n",
       "      <td>-0.502279</td>\n",
       "      <td>-1.15257</td>\n",
       "      <td>-1.14048</td>\n",
       "      <td>-0.290189</td>\n",
       "      <td>-0.072149</td>\n",
       "      <td>2.874730</td>\n",
       "      <td>0.170078</td>\n",
       "    </tr>\n",
       "    <tr>\n",
       "      <td>4</td>\n",
       "      <td>-0.429604</td>\n",
       "      <td>-0.019093</td>\n",
       "      <td>-0.385397</td>\n",
       "      <td>-0.512488</td>\n",
       "      <td>-1.15257</td>\n",
       "      <td>-1.14048</td>\n",
       "      <td>-0.290189</td>\n",
       "      <td>0.338598</td>\n",
       "      <td>-0.984827</td>\n",
       "      <td>-5.878731</td>\n",
       "    </tr>\n",
       "  </tbody>\n",
       "</table>\n",
       "</div>"
      ],
      "text/plain": [
       "   CROSSDEALRATIOS  PROFITPL  PROFITABILITYY  SIGNALSK  AGTDEV_PRICE  \\\n",
       "0         0.448633 -0.019631       -0.368477 -0.502279      -1.15257   \n",
       "1        -0.473516 -0.016409       -0.368477 -0.512488      -1.15257   \n",
       "2        -0.517427 -0.020362       -0.368477 -0.502279      -1.15257   \n",
       "3        -0.473516 -0.020132       -0.368477 -0.502279      -1.15257   \n",
       "4        -0.429604 -0.019093       -0.385397 -0.512488      -1.15257   \n",
       "\n",
       "   AGTDEV_VOL  CROSSTURNOVER2  CROSSVALUE     DELTA  NOT_NOISE  \n",
       "0    -1.14048       -0.290189   -0.056744 -0.710139   0.170078  \n",
       "1    -1.14048       -0.290189    0.185901  3.524390   0.170078  \n",
       "2    -1.14048       -0.290189   -0.092792  1.066029   0.170078  \n",
       "3    -1.14048       -0.290189   -0.072149  2.874730   0.170078  \n",
       "4    -1.14048       -0.290189    0.338598 -0.984827  -5.878731  "
      ]
     },
     "execution_count": 49,
     "metadata": {},
     "output_type": "execute_result"
    }
   ],
   "source": [
    "# создаем новый датафрейм с нормированными переменными\n",
    "X1_N = pd.DataFrame()\n",
    "X1_N['CROSSDEALRATIOS'] = [(X1.loc[i,'CROSSDEALRATIOS'] - X1['CROSSDEALRATIOS'].mean())/X1['CROSSDEALRATIOS'].std() for i in range(len(X1.CROSSDEALRATIOS))]\n",
    "X1_N['PROFITPL'] = [(X1.loc[i,'PROFITPL'] - X1['PROFITPL'].mean())/X1['PROFITPL'].std() for i in range(len(X1.PROFITPL))]\n",
    "X1_N['PROFITABILITYY'] = [(X1.loc[i,'PROFITABILITYY'] - X1['PROFITABILITYY'].mean())/X1['PROFITABILITYY'].std() for i in range(len(X1.PROFITABILITYY))]\n",
    "X1_N['SIGNALSK'] = [(X1.loc[i,'SIGNALSK'] - X1['SIGNALSK'].mean())/X1['SIGNALSK'].std() for i in range(len(X1.SIGNALSK))]\n",
    "X1_N['AGTDEV_PRICE'] = [(X1.loc[i,'AGTDEV_PRICE'] - X1['AGTDEV_PRICE'].mean())/X1['AGTDEV_PRICE'].std() for i in range(len(X1.AGTDEV_PRICE))]\n",
    "X1_N['AGTDEV_VOL'] = [(X1.loc[i,'AGTDEV_VOL'] - X1['AGTDEV_VOL'].mean())/X1['AGTDEV_VOL'].std() for i in range(len(X1.AGTDEV_VOL))]\n",
    "X1_N['CROSSTURNOVER2'] = [(X1.loc[i,'CROSSTURNOVER2'] - X1['CROSSTURNOVER2'].mean())/X1['CROSSTURNOVER2'].std() for i in range(len(X1.CROSSTURNOVER2))]\n",
    "X1_N['CROSSVALUE'] = [(X1.loc[i,'CROSSVALUE'] - X1['CROSSVALUE'].mean())/X1['CROSSVALUE'].std() for i in range(len(X1.CROSSVALUE))]\n",
    "X1_N['DELTA'] = [(X1.loc[i,'DELTA'] - X1['DELTA'].mean())/X1['DELTA'].std() for i in range(len(X1.DELTA))]\n",
    "X1_N['NOT_NOISE'] = [(X1.loc[i,'NOT_NOISE'] - X1['NOT_NOISE'].mean())/X1['NOT_NOISE'].std() for i in range(len(X1.NOT_NOISE))]\n",
    "X1_N.head(5)"
   ]
  },
  {
   "cell_type": "code",
   "execution_count": 50,
   "metadata": {},
   "outputs": [
    {
     "data": {
      "text/html": [
       "<div>\n",
       "<style scoped>\n",
       "    .dataframe tbody tr th:only-of-type {\n",
       "        vertical-align: middle;\n",
       "    }\n",
       "\n",
       "    .dataframe tbody tr th {\n",
       "        vertical-align: top;\n",
       "    }\n",
       "\n",
       "    .dataframe thead th {\n",
       "        text-align: right;\n",
       "    }\n",
       "</style>\n",
       "<table border=\"1\" class=\"dataframe\">\n",
       "  <thead>\n",
       "    <tr style=\"text-align: right;\">\n",
       "      <th></th>\n",
       "      <th>CROSSDEALRATIOS</th>\n",
       "      <th>PROFITPL</th>\n",
       "      <th>PROFITABILITYY</th>\n",
       "      <th>SIGNALSK</th>\n",
       "      <th>AGTDEV_PRICE</th>\n",
       "      <th>AGTDEV_VOL</th>\n",
       "      <th>CROSSTURNOVER2</th>\n",
       "      <th>CROSSVALUE</th>\n",
       "      <th>DELTA</th>\n",
       "      <th>NOT_NOISE</th>\n",
       "    </tr>\n",
       "  </thead>\n",
       "  <tbody>\n",
       "    <tr>\n",
       "      <td>count</td>\n",
       "      <td>6.295000e+03</td>\n",
       "      <td>6.295000e+03</td>\n",
       "      <td>6.295000e+03</td>\n",
       "      <td>6.295000e+03</td>\n",
       "      <td>6.295000e+03</td>\n",
       "      <td>6.295000e+03</td>\n",
       "      <td>6.295000e+03</td>\n",
       "      <td>6.295000e+03</td>\n",
       "      <td>6.295000e+03</td>\n",
       "      <td>6.295000e+03</td>\n",
       "    </tr>\n",
       "    <tr>\n",
       "      <td>mean</td>\n",
       "      <td>4.034289e-15</td>\n",
       "      <td>3.007920e-17</td>\n",
       "      <td>5.138013e-15</td>\n",
       "      <td>-3.563472e-15</td>\n",
       "      <td>-4.187842e-15</td>\n",
       "      <td>1.614669e-15</td>\n",
       "      <td>-3.632308e-15</td>\n",
       "      <td>1.014390e-16</td>\n",
       "      <td>1.246730e-16</td>\n",
       "      <td>-3.450854e-15</td>\n",
       "    </tr>\n",
       "    <tr>\n",
       "      <td>std</td>\n",
       "      <td>1.000000e+00</td>\n",
       "      <td>1.000000e+00</td>\n",
       "      <td>1.000000e+00</td>\n",
       "      <td>1.000000e+00</td>\n",
       "      <td>1.000000e+00</td>\n",
       "      <td>1.000000e+00</td>\n",
       "      <td>1.000000e+00</td>\n",
       "      <td>1.000000e+00</td>\n",
       "      <td>1.000000e+00</td>\n",
       "      <td>1.000000e+00</td>\n",
       "    </tr>\n",
       "    <tr>\n",
       "      <td>min</td>\n",
       "      <td>-6.052511e-01</td>\n",
       "      <td>-2.074524e-02</td>\n",
       "      <td>-3.853970e-01</td>\n",
       "      <td>-5.124880e-01</td>\n",
       "      <td>-1.152570e+00</td>\n",
       "      <td>-1.140480e+00</td>\n",
       "      <td>-2.901893e-01</td>\n",
       "      <td>-1.056802e-01</td>\n",
       "      <td>-1.017260e+00</td>\n",
       "      <td>-5.878731e+00</td>\n",
       "    </tr>\n",
       "    <tr>\n",
       "      <td>25%</td>\n",
       "      <td>-4.735155e-01</td>\n",
       "      <td>-2.071847e-02</td>\n",
       "      <td>-3.515561e-01</td>\n",
       "      <td>-5.073834e-01</td>\n",
       "      <td>-1.152570e+00</td>\n",
       "      <td>-1.140480e+00</td>\n",
       "      <td>-2.901893e-01</td>\n",
       "      <td>-1.055028e-01</td>\n",
       "      <td>-8.428071e-01</td>\n",
       "      <td>1.700777e-01</td>\n",
       "    </tr>\n",
       "    <tr>\n",
       "      <td>50%</td>\n",
       "      <td>-3.856918e-01</td>\n",
       "      <td>-2.063085e-02</td>\n",
       "      <td>-3.007946e-01</td>\n",
       "      <td>-4.767557e-01</td>\n",
       "      <td>3.483462e-01</td>\n",
       "      <td>2.029559e-01</td>\n",
       "      <td>-2.901893e-01</td>\n",
       "      <td>-1.048257e-01</td>\n",
       "      <td>-3.494934e-01</td>\n",
       "      <td>1.700777e-01</td>\n",
       "    </tr>\n",
       "    <tr>\n",
       "      <td>75%</td>\n",
       "      <td>-7.830889e-02</td>\n",
       "      <td>-2.013095e-02</td>\n",
       "      <td>-1.146695e-01</td>\n",
       "      <td>-9.391018e-02</td>\n",
       "      <td>3.483462e-01</td>\n",
       "      <td>2.029559e-01</td>\n",
       "      <td>-2.901893e-01</td>\n",
       "      <td>-9.930869e-02</td>\n",
       "      <td>6.601656e-01</td>\n",
       "      <td>1.700777e-01</td>\n",
       "    </tr>\n",
       "    <tr>\n",
       "      <td>max</td>\n",
       "      <td>8.177119e+00</td>\n",
       "      <td>7.724810e+01</td>\n",
       "      <td>1.196655e+01</td>\n",
       "      <td>2.785088e+00</td>\n",
       "      <td>1.849263e+00</td>\n",
       "      <td>1.546391e+00</td>\n",
       "      <td>3.445479e+00</td>\n",
       "      <td>3.485233e+01</td>\n",
       "      <td>3.933984e+00</td>\n",
       "      <td>1.700777e-01</td>\n",
       "    </tr>\n",
       "  </tbody>\n",
       "</table>\n",
       "</div>"
      ],
      "text/plain": [
       "       CROSSDEALRATIOS      PROFITPL  PROFITABILITYY      SIGNALSK  \\\n",
       "count     6.295000e+03  6.295000e+03    6.295000e+03  6.295000e+03   \n",
       "mean      4.034289e-15  3.007920e-17    5.138013e-15 -3.563472e-15   \n",
       "std       1.000000e+00  1.000000e+00    1.000000e+00  1.000000e+00   \n",
       "min      -6.052511e-01 -2.074524e-02   -3.853970e-01 -5.124880e-01   \n",
       "25%      -4.735155e-01 -2.071847e-02   -3.515561e-01 -5.073834e-01   \n",
       "50%      -3.856918e-01 -2.063085e-02   -3.007946e-01 -4.767557e-01   \n",
       "75%      -7.830889e-02 -2.013095e-02   -1.146695e-01 -9.391018e-02   \n",
       "max       8.177119e+00  7.724810e+01    1.196655e+01  2.785088e+00   \n",
       "\n",
       "       AGTDEV_PRICE    AGTDEV_VOL  CROSSTURNOVER2    CROSSVALUE         DELTA  \\\n",
       "count  6.295000e+03  6.295000e+03    6.295000e+03  6.295000e+03  6.295000e+03   \n",
       "mean  -4.187842e-15  1.614669e-15   -3.632308e-15  1.014390e-16  1.246730e-16   \n",
       "std    1.000000e+00  1.000000e+00    1.000000e+00  1.000000e+00  1.000000e+00   \n",
       "min   -1.152570e+00 -1.140480e+00   -2.901893e-01 -1.056802e-01 -1.017260e+00   \n",
       "25%   -1.152570e+00 -1.140480e+00   -2.901893e-01 -1.055028e-01 -8.428071e-01   \n",
       "50%    3.483462e-01  2.029559e-01   -2.901893e-01 -1.048257e-01 -3.494934e-01   \n",
       "75%    3.483462e-01  2.029559e-01   -2.901893e-01 -9.930869e-02  6.601656e-01   \n",
       "max    1.849263e+00  1.546391e+00    3.445479e+00  3.485233e+01  3.933984e+00   \n",
       "\n",
       "          NOT_NOISE  \n",
       "count  6.295000e+03  \n",
       "mean  -3.450854e-15  \n",
       "std    1.000000e+00  \n",
       "min   -5.878731e+00  \n",
       "25%    1.700777e-01  \n",
       "50%    1.700777e-01  \n",
       "75%    1.700777e-01  \n",
       "max    1.700777e-01  "
      ]
     },
     "execution_count": 50,
     "metadata": {},
     "output_type": "execute_result"
    }
   ],
   "source": [
    "X1_N.describe()"
   ]
  },
  {
   "cell_type": "markdown",
   "metadata": {},
   "source": [
    "# (1.4) Корреляционная матрица"
   ]
  },
  {
   "cell_type": "code",
   "execution_count": 51,
   "metadata": {},
   "outputs": [
    {
     "data": {
      "text/plain": [
       "<matplotlib.axes._subplots.AxesSubplot at 0x1a274a9c50>"
      ]
     },
     "execution_count": 51,
     "metadata": {},
     "output_type": "execute_result"
    },
    {
     "data": {
      "image/png": "[encoded data removed]",
      "text/plain": [
       "<Figure size 648x576 with 2 Axes>"
      ]
     },
     "metadata": {
      "needs_background": "light"
     },
     "output_type": "display_data"
    }
   ],
   "source": [
    "# Create correlation matrix\n",
    "corr_matrix = X1_N[{'CROSSDEALRATIOS','PROFITPL','PROFITABILITYY','SIGNALSK',\n",
    "    'AGTDEV_PRICE','AGTDEV_VOL','CROSSTURNOVER2','CROSSVALUE','DELTA'}].corr().abs()\n",
    "\n",
    "# Select upper triangle of correlation matrix\n",
    "#upper = corr_matrix.where(np.triu(np.ones(corr_matrix.shape), k=1).astype(np.bool))\n",
    "# Find features with correlation greater than 0.95\n",
    "#to_drop = [column for column in upper.columns if any(upper[column] > 0.70)]\n",
    "#print(to_drop)\n",
    "#print(corr_matrix)\n",
    "from matplotlib import pyplot as plt\n",
    "import seaborn as sns\n",
    "#columns=['SIGNAL_ID', 'TRADEDATE', 'CROSSTURNOVER1', 'CROSSDEALRATIOS', 'EPSILONE', 'PROFITPL','PROFITABILITYY','SIGNALSK', 'RATINGCROSSDEALRATIOS', 'RATINGEPSILONE', 'RATINGPROFITPL', 'RATINGPROFITABILITYY', 'RATINGSIGNALSK', 'RATINGINTEGRAL','AGTDEV_BS', 'AGTDEV_PRICE', 'AGTDEV_VO', 'RATINGDEV', 'TRADEDATE_LAST', 'EVENT_ID','CROSSTURNOVER2','CROSSVALUE','AVGLIFETIME','RATINGAVGLIFETIME','USERGRADE_ID','SHORTNAME','IDENT','DETECTION_ID']\n",
    "f, ax = plt.subplots(figsize =(9, 8))\n",
    "sns.heatmap(corr_matrix, ax = ax, cmap =\"YlGnBu\", linewidths = 0.1)"
   ]
  },
  {
   "cell_type": "code",
   "execution_count": 52,
   "metadata": {},
   "outputs": [],
   "source": [
    "# создаем новые датафреймы:\n",
    "# X1_COR - исходный датафрейм с удаленными скоррелированными переменными\n",
    "# X1_N_COR - датафрейм с нормированными переменными с удаленными скоррелированными переменными\n",
    "X1_COR = X1\n",
    "X1_COR = X1_COR.drop(['AGTDEV_VOL','CROSSTURNOVER2','AGTDEV_PRICE'], axis=1)\n",
    "X1_N_COR = X1\n",
    "X1_N_COR = X1_N_COR.drop(['AGTDEV_VOL','CROSSTURNOVER2','AGTDEV_PRICE'], axis=1)"
   ]
  },
  {
   "cell_type": "markdown",
   "metadata": {},
   "source": [
    "# (1.5) Метод главных компонент"
   ]
  },
  {
   "cell_type": "code",
   "execution_count": 53,
   "metadata": {},
   "outputs": [],
   "source": [
    "# создаем новую переменную с помощью метода главных компонент на основании скоррелированных переменных\n",
    "# создаем список на основании скоррелированных переменных\n",
    "x = X1.AGTDEV_VOL.values\n",
    "y = X1.CROSSTURNOVER2.values\n",
    "z = X1.AGTDEV_PRICE.values\n",
    "yz = np.vstack((x,y,z))\n",
    "# создаем компонену на основании скоррелированных переменных\n",
    "from sklearn.decomposition import PCA\n",
    "pca = PCA(n_components = 1)\n",
    "XPCAreduced = pca.fit_transform(np.transpose(yz))"
   ]
  },
  {
   "cell_type": "code",
   "execution_count": 54,
   "metadata": {},
   "outputs": [],
   "source": [
    "# создаем новые датафреймы:\n",
    "# X1_PCA - исходный датафрейм с новой переменной, созданной на основании скоррелированных переменных  \n",
    "# X1_N_PCA - датафрейм с нормированными переменными и с новой переменной, созданной на основании скоррелированных переменных\n",
    "X1_PCA = X1\n",
    "X1_PCA['PCA'] = XPCAreduced\n",
    "X1_PCA = X1_PCA.drop(['AGTDEV_VOL','CROSSTURNOVER2','AGTDEV_PRICE'], axis=1)\n",
    "X1_N_PCA = X1_N\n",
    "X1_N_PCA['PCA'] = XPCAreduced\n",
    "X1_N_PCA = X1_N_PCA.drop(['AGTDEV_VOL','CROSSTURNOVER2','AGTDEV_PRICE'], axis=1)"
   ]
  },
  {
   "cell_type": "code",
   "execution_count": 55,
   "metadata": {},
   "outputs": [
    {
     "data": {
      "text/plain": [
       "<matplotlib.axes._subplots.AxesSubplot at 0x1a2811d8d0>"
      ]
     },
     "execution_count": 55,
     "metadata": {},
     "output_type": "execute_result"
    },
    {
     "data": {
      "image/png": "[encoded data removed]",
      "text/plain": [
       "<Figure size 648x576 with 2 Axes>"
      ]
     },
     "metadata": {
      "needs_background": "light"
     },
     "output_type": "display_data"
    }
   ],
   "source": [
    "# Create correlation matrix\n",
    "corr_matrix = X1_N_PCA[{'CROSSDEALRATIOS','PROFITPL','PROFITABILITYY','SIGNALSK',\n",
    "    'CROSSVALUE','DELTA'}].corr().abs()\n",
    "\n",
    "# Select upper triangle of correlation matrix\n",
    "#upper = corr_matrix.where(np.triu(np.ones(corr_matrix.shape), k=1).astype(np.bool))\n",
    "# Find features with correlation greater than 0.95\n",
    "#to_drop = [column for column in upper.columns if any(upper[column] > 0.70)]\n",
    "#print(to_drop)\n",
    "#print(corr_matrix)\n",
    "from matplotlib import pyplot as plt\n",
    "import seaborn as sns\n",
    "#columns=['SIGNAL_ID', 'TRADEDATE', 'CROSSTURNOVER1', 'CROSSDEALRATIOS', 'EPSILONE', 'PROFITPL','PROFITABILITYY','SIGNALSK', 'RATINGCROSSDEALRATIOS', 'RATINGEPSILONE', 'RATINGPROFITPL', 'RATINGPROFITABILITYY', 'RATINGSIGNALSK', 'RATINGINTEGRAL','AGTDEV_BS', 'AGTDEV_PRICE', 'AGTDEV_VO', 'RATINGDEV', 'TRADEDATE_LAST', 'EVENT_ID','CROSSTURNOVER2','CROSSVALUE','AVGLIFETIME','RATINGAVGLIFETIME','USERGRADE_ID','SHORTNAME','IDENT','DETECTION_ID']\n",
    "f, ax = plt.subplots(figsize =(9, 8))\n",
    "sns.heatmap(corr_matrix, ax = ax, cmap =\"YlGnBu\", linewidths = 0.1)"
   ]
  },
  {
   "cell_type": "markdown",
   "metadata": {},
   "source": [
    "# (1.6) Делим выборку на train и test"
   ]
  },
  {
   "cell_type": "code",
   "execution_count": 56,
   "metadata": {},
   "outputs": [],
   "source": [
    "# выделяем NOT_NOISE в отдельный датафрейм и удаляем из исходного\n",
    "y1 = pd.DataFrame(X1['NOT_NOISE'], columns=['NOT_NOISE'])\n",
    "y1_n = pd.DataFrame(X1_N['NOT_NOISE'], columns=['NOT_NOISE'])\n",
    "X1 = X1.drop(['NOT_NOISE'], axis=1)\n",
    "X1_N = X1_N.drop(['NOT_NOISE'], axis=1)\n",
    "X1_PCA = X1_PCA.drop(['NOT_NOISE'], axis=1)\n",
    "X1_N_PCA = X1_N_PCA.drop(['NOT_NOISE'], axis=1)\n",
    "X1_COR = X1_COR.drop(['NOT_NOISE'], axis=1)\n",
    "X1_N_COR = X1_N_COR.drop(['NOT_NOISE'], axis=1)"
   ]
  },
  {
   "cell_type": "code",
   "execution_count": 57,
   "metadata": {},
   "outputs": [],
   "source": [
    "# создаем из всех датафреймов тренировочную и тестовую выборку\n",
    "from sklearn.model_selection import train_test_split\n",
    "\n",
    "x_train, x_test, y_train, y_test = train_test_split(X1, y1, test_size=0.30, random_state = 123)\n",
    "x_n_train, x_n_test, y_n_train, y_n_test = train_test_split(X1_N, y1, test_size=0.30, random_state = 123)\n",
    "x_pca_train, x_pca_test, y_train, y_test = train_test_split(X1_PCA, y1, test_size=0.30, random_state = 123)\n",
    "x_n_pca_train, x_n_pca_test, y_n_train, y_n_test = train_test_split(X1_N_PCA, y1, test_size=0.30, random_state = 123)\n",
    "x_cor_train, x_cor_test, y_train, y_test = train_test_split(X1_COR, y1, test_size=0.30, random_state = 123)\n",
    "x_n_cor_train, x_n_cor_test, y_n_train, y_n_test = train_test_split(X1_N_COR, y1, test_size=0.30, random_state = 123)"
   ]
  },
  {
   "cell_type": "markdown",
   "metadata": {},
   "source": [
    "# (1.7) Logit"
   ]
  },
  {
   "cell_type": "markdown",
   "metadata": {},
   "source": [
    "### X1"
   ]
  },
  {
   "cell_type": "code",
   "execution_count": 72,
   "metadata": {},
   "outputs": [
    {
     "ename": "ValueError",
     "evalue": "The truth value of a Series is ambiguous. Use a.empty, a.bool(), a.item(), a.any() or a.all().",
     "output_type": "error",
     "traceback": [
      "\u001b[0;31m---------------------------------------------------------------------------\u001b[0m",
      "\u001b[0;31mValueError\u001b[0m                                Traceback (most recent call last)",
      "\u001b[0;32m<ipython-input-72-29345e504c7e>\u001b[0m in \u001b[0;36m<module>\u001b[0;34m\u001b[0m\n\u001b[1;32m      4\u001b[0m \u001b[0mmodel\u001b[0m \u001b[0;34m=\u001b[0m \u001b[0mmord\u001b[0m\u001b[0;34m.\u001b[0m\u001b[0mLogisticAT\u001b[0m\u001b[0;34m(\u001b[0m\u001b[0malpha\u001b[0m\u001b[0;34m=\u001b[0m\u001b[0;36m1\u001b[0m\u001b[0;34m)\u001b[0m\u001b[0;34m\u001b[0m\u001b[0;34m\u001b[0m\u001b[0m\n\u001b[1;32m      5\u001b[0m \u001b[0;34m\u001b[0m\u001b[0m\n\u001b[0;32m----> 6\u001b[0;31m \u001b[0mmodel\u001b[0m\u001b[0;34m.\u001b[0m\u001b[0mfit\u001b[0m\u001b[0;34m(\u001b[0m\u001b[0mx_train\u001b[0m\u001b[0;34m,\u001b[0m \u001b[0my_train\u001b[0m\u001b[0;34m)\u001b[0m\u001b[0;34m\u001b[0m\u001b[0;34m\u001b[0m\u001b[0m\n\u001b[0m\u001b[1;32m      7\u001b[0m \u001b[0;34m\u001b[0m\u001b[0m\n\u001b[1;32m      8\u001b[0m \u001b[0mmodel\u001b[0m\u001b[0;34m.\u001b[0m\u001b[0mpredict\u001b[0m\u001b[0;34m(\u001b[0m\u001b[0mx_test\u001b[0m\u001b[0;34m)\u001b[0m\u001b[0;34m\u001b[0m\u001b[0;34m\u001b[0m\u001b[0m\n",
      "\u001b[0;32m~/opt/anaconda3/lib/python3.7/site-packages/mord/threshold_based.py\u001b[0m in \u001b[0;36mfit\u001b[0;34m(self, X, y, sample_weight)\u001b[0m\n\u001b[1;32m    188\u001b[0m     \u001b[0;32mdef\u001b[0m \u001b[0mfit\u001b[0m\u001b[0;34m(\u001b[0m\u001b[0mself\u001b[0m\u001b[0;34m,\u001b[0m \u001b[0mX\u001b[0m\u001b[0;34m,\u001b[0m \u001b[0my\u001b[0m\u001b[0;34m,\u001b[0m \u001b[0msample_weight\u001b[0m\u001b[0;34m=\u001b[0m\u001b[0;32mNone\u001b[0m\u001b[0;34m)\u001b[0m\u001b[0;34m:\u001b[0m\u001b[0;34m\u001b[0m\u001b[0;34m\u001b[0m\u001b[0m\n\u001b[1;32m    189\u001b[0m         \u001b[0m_y\u001b[0m \u001b[0;34m=\u001b[0m \u001b[0mnp\u001b[0m\u001b[0;34m.\u001b[0m\u001b[0marray\u001b[0m\u001b[0;34m(\u001b[0m\u001b[0my\u001b[0m\u001b[0;34m)\u001b[0m\u001b[0;34m.\u001b[0m\u001b[0mastype\u001b[0m\u001b[0;34m(\u001b[0m\u001b[0mnp\u001b[0m\u001b[0;34m.\u001b[0m\u001b[0mint\u001b[0m\u001b[0;34m)\u001b[0m\u001b[0;34m\u001b[0m\u001b[0;34m\u001b[0m\u001b[0m\n\u001b[0;32m--> 190\u001b[0;31m         \u001b[0;32mif\u001b[0m \u001b[0mnp\u001b[0m\u001b[0;34m.\u001b[0m\u001b[0mabs\u001b[0m\u001b[0;34m(\u001b[0m\u001b[0m_y\u001b[0m \u001b[0;34m-\u001b[0m \u001b[0my\u001b[0m\u001b[0;34m)\u001b[0m\u001b[0;34m.\u001b[0m\u001b[0msum\u001b[0m\u001b[0;34m(\u001b[0m\u001b[0;34m)\u001b[0m \u001b[0;34m>\u001b[0m \u001b[0;36m0.1\u001b[0m\u001b[0;34m:\u001b[0m\u001b[0;34m\u001b[0m\u001b[0;34m\u001b[0m\u001b[0m\n\u001b[0m\u001b[1;32m    191\u001b[0m             \u001b[0;32mraise\u001b[0m \u001b[0mValueError\u001b[0m\u001b[0;34m(\u001b[0m\u001b[0;34m'y must only contain integer values'\u001b[0m\u001b[0;34m)\u001b[0m\u001b[0;34m\u001b[0m\u001b[0;34m\u001b[0m\u001b[0m\n\u001b[1;32m    192\u001b[0m         \u001b[0mself\u001b[0m\u001b[0;34m.\u001b[0m\u001b[0mclasses_\u001b[0m \u001b[0;34m=\u001b[0m \u001b[0mnp\u001b[0m\u001b[0;34m.\u001b[0m\u001b[0munique\u001b[0m\u001b[0;34m(\u001b[0m\u001b[0my\u001b[0m\u001b[0;34m)\u001b[0m\u001b[0;34m\u001b[0m\u001b[0;34m\u001b[0m\u001b[0m\n",
      "\u001b[0;32m~/opt/anaconda3/lib/python3.7/site-packages/pandas/core/generic.py\u001b[0m in \u001b[0;36m__nonzero__\u001b[0;34m(self)\u001b[0m\n\u001b[1;32m   1553\u001b[0m             \u001b[0;34m\"The truth value of a {0} is ambiguous. \"\u001b[0m\u001b[0;34m\u001b[0m\u001b[0;34m\u001b[0m\u001b[0m\n\u001b[1;32m   1554\u001b[0m             \"Use a.empty, a.bool(), a.item(), a.any() or a.all().\".format(\n\u001b[0;32m-> 1555\u001b[0;31m                 \u001b[0mself\u001b[0m\u001b[0;34m.\u001b[0m\u001b[0m__class__\u001b[0m\u001b[0;34m.\u001b[0m\u001b[0m__name__\u001b[0m\u001b[0;34m\u001b[0m\u001b[0;34m\u001b[0m\u001b[0m\n\u001b[0m\u001b[1;32m   1556\u001b[0m             )\n\u001b[1;32m   1557\u001b[0m         )\n",
      "\u001b[0;31mValueError\u001b[0m: The truth value of a Series is ambiguous. Use a.empty, a.bool(), a.item(), a.any() or a.all()."
     ]
    }
   ],
   "source": [
    "# pip install mord\n",
    "import mord\n",
    "\n",
    "model = mord.LogisticAT(alpha=1)\n",
    "\n",
    "model.fit(x_train, y_train)\n",
    "\n",
    "model.predict(x_test)"
   ]
  },
  {
   "cell_type": "code",
   "execution_count": 71,
   "metadata": {},
   "outputs": [
    {
     "data": {
      "text/html": [
       "<div>\n",
       "<style scoped>\n",
       "    .dataframe tbody tr th:only-of-type {\n",
       "        vertical-align: middle;\n",
       "    }\n",
       "\n",
       "    .dataframe tbody tr th {\n",
       "        vertical-align: top;\n",
       "    }\n",
       "\n",
       "    .dataframe thead th {\n",
       "        text-align: right;\n",
       "    }\n",
       "</style>\n",
       "<table border=\"1\" class=\"dataframe\">\n",
       "  <thead>\n",
       "    <tr style=\"text-align: right;\">\n",
       "      <th></th>\n",
       "      <th>CROSSDEALRATIOS</th>\n",
       "      <th>PROFITPL</th>\n",
       "      <th>PROFITABILITYY</th>\n",
       "      <th>SIGNALSK</th>\n",
       "      <th>AGTDEV_PRICE</th>\n",
       "      <th>AGTDEV_VOL</th>\n",
       "      <th>CROSSTURNOVER2</th>\n",
       "      <th>CROSSVALUE</th>\n",
       "      <th>DELTA</th>\n",
       "      <th>PCA</th>\n",
       "    </tr>\n",
       "  </thead>\n",
       "  <tbody>\n",
       "    <tr>\n",
       "      <td>count</td>\n",
       "      <td>4406.000000</td>\n",
       "      <td>4.406000e+03</td>\n",
       "      <td>4406.000000</td>\n",
       "      <td>4406.000000</td>\n",
       "      <td>4406.000000</td>\n",
       "      <td>4406.000000</td>\n",
       "      <td>4406.000000</td>\n",
       "      <td>4.406000e+03</td>\n",
       "      <td>4406.000000</td>\n",
       "      <td>4406.000000</td>\n",
       "    </tr>\n",
       "    <tr>\n",
       "      <td>mean</td>\n",
       "      <td>13.429641</td>\n",
       "      <td>4.962702e+04</td>\n",
       "      <td>22.495234</td>\n",
       "      <td>100.250794</td>\n",
       "      <td>0.764412</td>\n",
       "      <td>0.848389</td>\n",
       "      <td>0.074898</td>\n",
       "      <td>3.952204e+06</td>\n",
       "      <td>10075.771675</td>\n",
       "      <td>-0.002663</td>\n",
       "    </tr>\n",
       "    <tr>\n",
       "      <td>std</td>\n",
       "      <td>22.371691</td>\n",
       "      <td>2.411930e+06</td>\n",
       "      <td>57.951225</td>\n",
       "      <td>194.682079</td>\n",
       "      <td>0.660798</td>\n",
       "      <td>0.742228</td>\n",
       "      <td>0.263256</td>\n",
       "      <td>3.774318e+07</td>\n",
       "      <td>9983.688373</td>\n",
       "      <td>0.976104</td>\n",
       "    </tr>\n",
       "    <tr>\n",
       "      <td>min</td>\n",
       "      <td>0.000000</td>\n",
       "      <td>0.000000e+00</td>\n",
       "      <td>0.000000</td>\n",
       "      <td>1.000000</td>\n",
       "      <td>0.000000</td>\n",
       "      <td>0.000000</td>\n",
       "      <td>0.000000</td>\n",
       "      <td>1.000000e+00</td>\n",
       "      <td>0.000000</td>\n",
       "      <td>-1.165094</td>\n",
       "    </tr>\n",
       "    <tr>\n",
       "      <td>25%</td>\n",
       "      <td>3.000000</td>\n",
       "      <td>5.300000e+01</td>\n",
       "      <td>2.000000</td>\n",
       "      <td>2.000000</td>\n",
       "      <td>0.000000</td>\n",
       "      <td>0.000000</td>\n",
       "      <td>0.000000</td>\n",
       "      <td>6.277500e+03</td>\n",
       "      <td>1725.000000</td>\n",
       "      <td>-1.142627</td>\n",
       "    </tr>\n",
       "    <tr>\n",
       "      <td>50%</td>\n",
       "      <td>4.000000</td>\n",
       "      <td>2.400000e+02</td>\n",
       "      <td>5.000000</td>\n",
       "      <td>7.000000</td>\n",
       "      <td>1.000000</td>\n",
       "      <td>1.000000</td>\n",
       "      <td>0.000000</td>\n",
       "      <td>2.994150e+04</td>\n",
       "      <td>6545.000000</td>\n",
       "      <td>0.268731</td>\n",
       "    </tr>\n",
       "    <tr>\n",
       "      <td>75%</td>\n",
       "      <td>11.000000</td>\n",
       "      <td>1.277500e+03</td>\n",
       "      <td>16.000000</td>\n",
       "      <td>75.000000</td>\n",
       "      <td>1.000000</td>\n",
       "      <td>1.000000</td>\n",
       "      <td>0.000000</td>\n",
       "      <td>2.225840e+05</td>\n",
       "      <td>16675.000000</td>\n",
       "      <td>0.268731</td>\n",
       "    </tr>\n",
       "    <tr>\n",
       "      <td>max</td>\n",
       "      <td>200.000000</td>\n",
       "      <td>1.587408e+08</td>\n",
       "      <td>730.000000</td>\n",
       "      <td>647.000000</td>\n",
       "      <td>2.000000</td>\n",
       "      <td>2.000000</td>\n",
       "      <td>1.000000</td>\n",
       "      <td>1.237580e+09</td>\n",
       "      <td>49767.000000</td>\n",
       "      <td>1.680089</td>\n",
       "    </tr>\n",
       "  </tbody>\n",
       "</table>\n",
       "</div>"
      ],
      "text/plain": [
       "       CROSSDEALRATIOS      PROFITPL  PROFITABILITYY     SIGNALSK  \\\n",
       "count      4406.000000  4.406000e+03     4406.000000  4406.000000   \n",
       "mean         13.429641  4.962702e+04       22.495234   100.250794   \n",
       "std          22.371691  2.411930e+06       57.951225   194.682079   \n",
       "min           0.000000  0.000000e+00        0.000000     1.000000   \n",
       "25%           3.000000  5.300000e+01        2.000000     2.000000   \n",
       "50%           4.000000  2.400000e+02        5.000000     7.000000   \n",
       "75%          11.000000  1.277500e+03       16.000000    75.000000   \n",
       "max         200.000000  1.587408e+08      730.000000   647.000000   \n",
       "\n",
       "       AGTDEV_PRICE   AGTDEV_VOL  CROSSTURNOVER2    CROSSVALUE         DELTA  \\\n",
       "count   4406.000000  4406.000000     4406.000000  4.406000e+03   4406.000000   \n",
       "mean       0.764412     0.848389        0.074898  3.952204e+06  10075.771675   \n",
       "std        0.660798     0.742228        0.263256  3.774318e+07   9983.688373   \n",
       "min        0.000000     0.000000        0.000000  1.000000e+00      0.000000   \n",
       "25%        0.000000     0.000000        0.000000  6.277500e+03   1725.000000   \n",
       "50%        1.000000     1.000000        0.000000  2.994150e+04   6545.000000   \n",
       "75%        1.000000     1.000000        0.000000  2.225840e+05  16675.000000   \n",
       "max        2.000000     2.000000        1.000000  1.237580e+09  49767.000000   \n",
       "\n",
       "               PCA  \n",
       "count  4406.000000  \n",
       "mean     -0.002663  \n",
       "std       0.976104  \n",
       "min      -1.165094  \n",
       "25%      -1.142627  \n",
       "50%       0.268731  \n",
       "75%       0.268731  \n",
       "max       1.680089  "
      ]
     },
     "execution_count": 71,
     "metadata": {},
     "output_type": "execute_result"
    }
   ],
   "source": [
    "x_train.describe()"
   ]
  },
  {
   "cell_type": "markdown",
   "metadata": {},
   "source": [
    "### X1_N"
   ]
  },
  {
   "cell_type": "code",
   "execution_count": null,
   "metadata": {},
   "outputs": [],
   "source": []
  },
  {
   "cell_type": "markdown",
   "metadata": {},
   "source": [
    "### X1_PCA"
   ]
  },
  {
   "cell_type": "code",
   "execution_count": null,
   "metadata": {},
   "outputs": [],
   "source": []
  },
  {
   "cell_type": "markdown",
   "metadata": {},
   "source": [
    "### X1_N_PCA"
   ]
  },
  {
   "cell_type": "code",
   "execution_count": null,
   "metadata": {},
   "outputs": [],
   "source": []
  },
  {
   "cell_type": "markdown",
   "metadata": {},
   "source": [
    "### X1_COR"
   ]
  },
  {
   "cell_type": "code",
   "execution_count": null,
   "metadata": {},
   "outputs": [],
   "source": []
  },
  {
   "cell_type": "markdown",
   "metadata": {},
   "source": [
    "### X1_N_COR"
   ]
  },
  {
   "cell_type": "code",
   "execution_count": null,
   "metadata": {},
   "outputs": [],
   "source": []
  },
  {
   "cell_type": "markdown",
   "metadata": {},
   "source": [
    "# (1.8) Random Forest"
   ]
  },
  {
   "cell_type": "code",
   "execution_count": 138,
   "metadata": {},
   "outputs": [],
   "source": [
    "from sklearn.ensemble import RandomForestClassifier\n",
    "from sklearn.model_selection import RandomizedSearchCV\n",
    "from sklearn.model_selection import GridSearchCV\n",
    "import sklearn.metrics as metrics"
   ]
  },
  {
   "cell_type": "markdown",
   "metadata": {},
   "source": [
    "### X1"
   ]
  },
  {
   "cell_type": "code",
   "execution_count": 139,
   "metadata": {},
   "outputs": [
    {
     "name": "stdout",
     "output_type": "stream",
     "text": [
      "0.826801349134844\n"
     ]
    },
    {
     "name": "stderr",
     "output_type": "stream",
     "text": [
      "/Users/ekaterina/opt/anaconda3/lib/python3.7/site-packages/sklearn/ensemble/forest.py:245: FutureWarning: The default value of n_estimators will change from 10 in version 0.20 to 100 in 0.22.\n",
      "  \"10 in version 0.20 to 100 in 0.22.\", FutureWarning)\n",
      "/Users/ekaterina/opt/anaconda3/lib/python3.7/site-packages/ipykernel_launcher.py:2: DataConversionWarning: A column-vector y was passed when a 1d array was expected. Please change the shape of y to (n_samples,), for example using ravel().\n",
      "  \n"
     ]
    }
   ],
   "source": [
    "forest = RandomForestClassifier()\n",
    "forest.fit(x_train, y_train)\n",
    "predicted_prob = forest.predict_proba(x_test)\n",
    "predicted_class = forest.predict(x_test)\n",
    "roc_auc = metrics.roc_auc_score(y_test, forest.predict(x_test))\n",
    "print(roc_auc)"
   ]
  },
  {
   "cell_type": "code",
   "execution_count": 141,
   "metadata": {},
   "outputs": [],
   "source": [
    "# создаем список из элементов вероятности попадания в класс NOT_NOISE = 1\n",
    "# predicted_prob - весь список\n",
    "# predicted_prob[0] - первая пара элементов\n",
    "# predicted_prob[0][0] - первый элемент в первой паре\n",
    "predicted_results = []\n",
    "\n",
    "for a in range(len(predicted_prob)):\n",
    "    \n",
    "    predicted_results.append(predicted_prob[a][1])\n",
    "    \n",
    "index_list = x_test.index.tolist()\n",
    "# записываем вероятность попадания в класс 1 в новый датафрейм\n",
    "x1_rf = pd.DataFrame(pd.Series(data=predicted_results, index=index_list))\n",
    "x1_rf = x1_rf.rename(columns = {0:'PROB'})"
   ]
  },
  {
   "cell_type": "code",
   "execution_count": 142,
   "metadata": {},
   "outputs": [
    {
     "name": "stdout",
     "output_type": "stream",
     "text": [
      "Fitting 5 folds for each of 288 candidates, totalling 1440 fits\n"
     ]
    },
    {
     "name": "stderr",
     "output_type": "stream",
     "text": [
      "[Parallel(n_jobs=-1)]: Using backend LokyBackend with 4 concurrent workers.\n",
      "[Parallel(n_jobs=-1)]: Done  42 tasks      | elapsed:   35.8s\n",
      "[Parallel(n_jobs=-1)]: Done 192 tasks      | elapsed:  2.4min\n",
      "[Parallel(n_jobs=-1)]: Done 442 tasks      | elapsed:  5.6min\n",
      "[Parallel(n_jobs=-1)]: Done 792 tasks      | elapsed:  9.9min\n",
      "[Parallel(n_jobs=-1)]: Done 1242 tasks      | elapsed: 16.2min\n",
      "[Parallel(n_jobs=-1)]: Done 1440 out of 1440 | elapsed: 19.0min finished\n",
      "/Users/ekaterina/opt/anaconda3/lib/python3.7/site-packages/sklearn/model_selection/_search.py:715: DataConversionWarning: A column-vector y was passed when a 1d array was expected. Please change the shape of y to (n_samples,), for example using ravel().\n",
      "  self.best_estimator_.fit(X, y, **fit_params)\n"
     ]
    },
    {
     "name": "stdout",
     "output_type": "stream",
     "text": [
      "0.7119516251992515\n",
      "CPU times: user 11.3 s, sys: 805 ms, total: 12.1 s\n",
      "Wall time: 19min\n"
     ]
    }
   ],
   "source": [
    "%%time\n",
    "# Сделаем инициализацию параметров, по которым хотим сделать полный перебор\n",
    "# n_estimators — число деревьев в \"лесу\"\n",
    "# criterion — критерий для разбиения выборки в вершине\n",
    "# max_features — число признаков, по которым ищется разбиение # для задачи классификации лучше взять sqrt(n)\n",
    "# min_samples_leaf — минимальное число объектов в листе # можно не перебирать и оставить 1 по умолчанию\n",
    "# max_depth — максимальная глубина дерева\n",
    "# n_jobs=-1 - чтобы расчет производился одновременно на нескольких процессорах\n",
    "\n",
    "parameters = {'n_estimators': [200,400,500],\n",
    "              'min_samples_leaf': [1, 3, 5, 7], \n",
    "              'max_depth': [5,10,15,20],\n",
    "              'max_features': ['sqrt'],\n",
    "              'min_samples_split': [18, 34, 44, 50],\n",
    "              'min_samples_leaf': [12,28,50],\n",
    "              'bootstrap': [True, False]\n",
    "             }\n",
    "\n",
    "forest_best = GridSearchCV(forest, parameters, cv = 5, verbose = 1, n_jobs=-1)\n",
    "forest_best.fit(x_train, y_train)\n",
    "predicted_prob = forest_best.predict_proba(x_test)\n",
    "predicted_class = forest_best.predict(x_test)\n",
    "roc_auc = metrics.roc_auc_score(y_test, forest_best.predict(x_test))\n",
    "print(roc_auc)"
   ]
  },
  {
   "cell_type": "code",
   "execution_count": null,
   "metadata": {},
   "outputs": [],
   "source": []
  },
  {
   "cell_type": "markdown",
   "metadata": {},
   "source": [
    "### X1_N"
   ]
  },
  {
   "cell_type": "code",
   "execution_count": null,
   "metadata": {},
   "outputs": [],
   "source": []
  },
  {
   "cell_type": "markdown",
   "metadata": {},
   "source": [
    "### X1_PCA"
   ]
  },
  {
   "cell_type": "code",
   "execution_count": null,
   "metadata": {},
   "outputs": [],
   "source": []
  },
  {
   "cell_type": "markdown",
   "metadata": {},
   "source": [
    "### X1_N_PCA"
   ]
  },
  {
   "cell_type": "code",
   "execution_count": null,
   "metadata": {},
   "outputs": [],
   "source": []
  },
  {
   "cell_type": "markdown",
   "metadata": {},
   "source": [
    "### X1_COR"
   ]
  },
  {
   "cell_type": "code",
   "execution_count": null,
   "metadata": {},
   "outputs": [],
   "source": []
  },
  {
   "cell_type": "markdown",
   "metadata": {},
   "source": [
    "### X1_N_PCA"
   ]
  },
  {
   "cell_type": "code",
   "execution_count": 58,
   "metadata": {},
   "outputs": [],
   "source": []
  },
  {
   "cell_type": "code",
   "execution_count": null,
   "metadata": {},
   "outputs": [],
   "source": []
  },
  {
   "cell_type": "code",
   "execution_count": null,
   "metadata": {},
   "outputs": [],
   "source": []
  }
 ],
 "metadata": {
  "kernelspec": {
   "display_name": "Python 3",
   "language": "python",
   "name": "python3"
  },
  "language_info": {
   "codemirror_mode": {
    "name": "ipython",
    "version": 3
   },
   "file_extension": ".py",
   "mimetype": "text/x-python",
   "name": "python",
   "nbconvert_exporter": "python",
   "pygments_lexer": "ipython3",
   "version": "3.7.4"
  }
 },
 "nbformat": 4,
 "nbformat_minor": 2
}
